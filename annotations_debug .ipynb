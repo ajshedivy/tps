{
 "cells": [
  {
   "cell_type": "code",
   "execution_count": 1,
   "metadata": {},
   "outputs": [],
   "source": [
    "import yaml\n",
    "import pprint\n",
    "import sys\n",
    "import subprocess\n",
    "import os\n",
    "import csv\n",
    "import time\n",
    "import pandas as pd\n",
    "from workflow.table_generation import PrepTemporalCytoscapeTPS\n",
    "from workflow.table_refactor import refactor_col_delim\n",
    "from workflow.visualization_utilities import vis, find_path, process_exists\n",
    "from workflow.parser import Parser\n",
    "from workflow.visualization import Visualization\n",
    "from requests.exceptions import ConnectionError as CE\n",
    "from requests.exceptions import HTTPError\n",
    "from json.decoder import JSONDecodeError\n"
   ]
  },
  {
   "cell_type": "code",
   "execution_count": 14,
   "metadata": {},
   "outputs": [
    {
     "data": {
      "text/plain": [
       "[{'Cytoscape': {'path': 'C:\\\\Users\\\\ajshe\\\\OneDrive\\\\Documents\\\\Comp_bio\\\\Cytoscape_v3.7.1',\n",
       "   'session': 'tps_session_test.cys'}},\n",
       " {'TPS': [{'required': {'network': 'data/networks/input-network.tsv',\n",
       "     'timeseries': 'data/timeseries/median-time-series.tsv',\n",
       "     'firstscores': 'data/timeseries/p-values-first.tsv',\n",
       "     'prevscores': 'data/timeseries/p-values-prev.tsv',\n",
       "     'source': 'EGF_HUMAN',\n",
       "     'threshold': 0.01,\n",
       "     'outlabel': 'test-annot'}},\n",
       "   {'optional': {'partialmodel': 'data/resources/kinase-substrate-interactions.sif',\n",
       "     'peptidemap': 'data/timeseries/peptide-mapping.tsv',\n",
       "     'outfolder': '',\n",
       "     'solver': '',\n",
       "     'slack': '',\n",
       "     'bitvect': '',\n",
       "     'no-connectivity': '',\n",
       "     'no-temporality': '',\n",
       "     'no-monotonicity': ''}}]},\n",
       " {'Annotations': {'peptideMapFile': 'data/timeseries/peptide-mapping.tsv',\n",
       "   'timeSeriesFile': 'data/timeseries/log2-fold-change.txt',\n",
       "   'peptideFirstScores': 'data/timeseries/p-values-first.tsv',\n",
       "   'peptidePrevScoreFile': 'data/timeseries/p-values-prev.tsv',\n",
       "   'windowsFile': 'output_placeholder',\n",
       "   'networkFile': 'output_placeholder',\n",
       "   'goldStandardFile': 'data/resources/eight-egfr-reference-all.txt',\n",
       "   'pvalThresh': 0.01,\n",
       "   'logTransform': False,\n",
       "   'styleTemplateFile': 'data/templates/tps_style_template.xml',\n",
       "   'outAnnotFile': 'annotations_test',\n",
       "   'outStyleFile': 'style_output.xml',\n",
       "   'addZero': True,\n",
       "   'logDefault': -1.0,\n",
       "   'repairMissing': False}}]"
      ]
     },
     "execution_count": 14,
     "metadata": {},
     "output_type": "execute_result"
    }
   ],
   "source": [
    "config = os.path.abspath('test.yml')\n",
    "\n",
    "with open(config) as c:\n",
    "    params = yaml.load(c, Loader = yaml.FullLoader)\n",
    "params\n",
    "\n",
    "\n",
    "parser = Parser()\n",
    "viz_engine  = Visualization()\n",
    "outputs, out_folder, label = parser.parse(config, params)\n",
    "annot, style = viz_engine.generate_annotations(outputs, params, out_folder)"
   ]
  },
  {
   "cell_type": "code",
   "execution_count": 13,
   "metadata": {},
   "outputs": [
    {
     "name": "stdout",
     "output_type": "stream",
     "text": [
      "Loaded protein id map for 2917 peptides\n",
      "Loaded 1068 peptides and 7 scores in the first and previous score files\n",
      "Loaded prizes for 1068 peptides\n",
      "263 peptides with significant prizes (>= 2)\n",
      "timeseries min inf\n",
      "timeseries max -inf\n",
      "Loaded time series for 701 proteins (and pseudonodes)\n",
      "Added 0 to the start of every time series\n",
      "Min value in time series: -2.622233\n",
      "Max value in time series: 5.646644\n",
      "Loaded activity windows for 316 proteins\n",
      "Loaded 324 gold standard reference pathway proteins\n",
      "Loaded 311 proteins on the synthesized pathway\n",
      "Wrote attributes for 38 Steiner nodes in the TPS pathway\n",
      "Wrote attributes for 168 prize nodes in the TPS pathway with a significant peptide\n",
      "Wrote attributes for 105 prize nodes in the TPS pathway with no significant peptides\n",
      "Wrote attributes for 428 proteins excluded by PCSF or TPS\n"
     ]
    }
   ],
   "source": [
    "windowsFile = os.path.join(out_folder, outputs[-1]+'-activity-windows.tsv')\n",
    "networkFile = os.path.join(out_folder, outputs[-1]+'-output.sif')\n",
    "outFile = os.path.join(out_folder, 'test.txt')\n",
    "styleFile = os.path.join(out_folder, params[2][\"Annotations\"][\"outStyleFile\"])\n",
    "\n",
    "pepsPerProt = PrepTemporalCytoscapeTPS(params[2][\"Annotations\"][\"peptideMapFile\"], \n",
    "                                    params[2][\"Annotations\"][\"timeSeriesFile\"], \n",
    "                                    params[2][\"Annotations\"][\"peptideFirstScores\"],\n",
    "                                    params[2][\"Annotations\"][\"peptidePrevScoreFile\"], \n",
    "                                    windowsFile, \n",
    "                                    networkFile,\n",
    "                                    params[2][\"Annotations\"][\"goldStandardFile\"], \n",
    "                                    params[2][\"Annotations\"][\"pvalThresh\"], \n",
    "                                    params[2][\"Annotations\"][\"logTransform\"], \n",
    "                                    params[2][\"Annotations\"][\"styleTemplateFile\"],\n",
    "                                    outFile,\n",
    "                                    styleFile,\n",
    "                                    params[2][\"Annotations\"][\"addZero\"],\n",
    "                                    addZero=True) # don't provide logDefault"
   ]
  },
  {
   "cell_type": "code",
   "execution_count": null,
   "metadata": {},
   "outputs": [],
   "source": []
  }
 ],
 "metadata": {
  "kernelspec": {
   "display_name": "py2cyto_environment",
   "language": "python",
   "name": "py2cyto_environment"
  },
  "language_info": {
   "codemirror_mode": {
    "name": "ipython",
    "version": 3
   },
   "file_extension": ".py",
   "mimetype": "text/x-python",
   "name": "python",
   "nbconvert_exporter": "python",
   "pygments_lexer": "ipython3",
   "version": "3.6.11"
  },
  "toc": {
   "base_numbering": 1,
   "nav_menu": {},
   "number_sections": true,
   "sideBar": true,
   "skip_h1_title": false,
   "title_cell": "Table of Contents",
   "title_sidebar": "Contents",
   "toc_cell": false,
   "toc_position": {},
   "toc_section_display": true,
   "toc_window_display": false
  }
 },
 "nbformat": 4,
 "nbformat_minor": 4
}
