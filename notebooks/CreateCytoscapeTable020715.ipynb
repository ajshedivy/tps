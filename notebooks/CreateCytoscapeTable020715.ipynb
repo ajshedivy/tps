{
 "metadata": {
  "name": "",
  "signature": "sha256:18753b287a2c2a487e6a813a965c65dfaf676e4d0224a011eb9f0731b8026256"
 },
 "nbformat": 3,
 "nbformat_minor": 0,
 "worksheets": [
  {
   "cells": [
    {
     "cell_type": "heading",
     "level": 1,
     "metadata": {},
     "source": [
      "Combine multiple protein and peptide annotations to create a single annotation for Cytoscape - February 7, 2015"
     ]
    },
    {
     "cell_type": "markdown",
     "metadata": {},
     "source": [
      "Updates CreateCytoscapeTable011215.ipynb by ading a new attribute for the time point at which a protein is first active.  Proteins without any activity windows are annotated as 'Not active'.  Also corrected an error in the node type labels.  Not all nodes that are in the activity windows file are in the network, so use the Refiner edge list to filter."
     ]
    },
    {
     "cell_type": "heading",
     "level": 2,
     "metadata": {},
     "source": [
      "Set up file locations"
     ]
    },
    {
     "cell_type": "code",
     "collapsed": false,
     "input": [
      "%cd ../python\n",
      "\n",
      "import os\n",
      "import EGFRUtil\n",
      "\n",
      "baseDir = os.path.join('..','..')\n",
      "pepMapFile = os.path.join(baseDir, 'phosphorylation-data-sets', 'McKenna2014', 'McKenna2014_aggregated_replicateABC_peptideMapping_firstProtein.txt')\n",
      "pepPrizeFile = os.path.join(baseDir, 'phosphorylation-data-sets', 'McKenna2014', 'McKenna2014_aggregated_replicateABC_tukey_firstprev_peptidePrizes.txt')\n",
      "goldStandardFile = os.path.join(baseDir, 'evaluation', '2014-10-03', 'eight-egfr-reference-all.txt')\n",
      "workingDir = os.path.join(baseDir, 'synthesis072614')\n",
      "timeSeriesFile = os.path.join(workingDir, 'log2FoldChange011215.txt')\n",
      "windowsFile = os.path.join(workingDir, 'all-activity-windows-reformatted-010515.txt')\n",
      "networkFile = os.path.join(workingDir, 'p-0.01_202dir_cytoscape.txt')\n",
      "outFile = os.path.join(workingDir, 'cytoscapeAnnotations020715.txt')"
     ],
     "language": "python",
     "metadata": {},
     "outputs": [
      {
       "output_type": "stream",
       "stream": "stdout",
       "text": [
        "C:\\Users\\agitter\\Desktop\\postdocToSave\\egfr\\src\\python\n"
       ]
      }
     ],
     "prompt_number": 1
    },
    {
     "cell_type": "heading",
     "level": 2,
     "metadata": {},
     "source": [
      "Call the function to load the temporal and EGFR gold standard annotations and merge them into a Cytoscape-readable format\n"
     ]
    },
    {
     "cell_type": "code",
     "collapsed": false,
     "input": [
      "pepsPerProt = EGFRUtil.PrepTemporalCytoscape(pepMapFile, timeSeriesFile, pepPrizeFile, windowsFile, goldStandardFile, networkFile, outFile)"
     ],
     "language": "python",
     "metadata": {},
     "outputs": [
      {
       "output_type": "stream",
       "stream": "stdout",
       "text": [
        "Loaded protein id map for 1068 peptides\n",
        "Loaded prizes for 1068 peptides\n",
        "263 peptides with significant prizes (>= 2)\n",
        "Loaded time series for 701 proteins (and pseudonodes)\n",
        "Mean peptides per protein: 1.523538\n",
        "Max peptides per protein: 12\n",
        "Max significant peptides per protein: 6\n",
        "Max insignificant peptides per protein: 10\n",
        "Loaded activity windows for 316 proteins\n",
        "Loaded 324 gold standard EGFR reference pathway proteins\n",
        "Loaded 311 proteins on the synthesized pathway\n",
        "Wrote attributes for 38 Steiner nodes in the synthesized pathway\n",
        "Wrote attributes for 168 prize nodes in the synthesized pathway with a significant peptide\n",
        "Wrote attributes for 105 prize nodes in the synthesized pathway with no significant peptides\n",
        "Wrote attributes for 428 proteins excluded by PCSF or synthesis\n"
       ]
      }
     ],
     "prompt_number": 2
    },
    {
     "cell_type": "heading",
     "level": 2,
     "metadata": {},
     "source": [
      "Test the FirstActive function"
     ]
    },
    {
     "cell_type": "code",
     "collapsed": false,
     "input": [
      "statesList = [[\"0\", \"1\", \"-1\"],\n",
      "              [\"\", \"\", \"0\"],\n",
      "              [\"0\", \"0\", \"0\"],\n",
      "              [\"-1\", \"1\", \"1\"]]\n",
      "for states in statesList:\n",
      "    print \"%s\\t%s\" % (EGFRUtil.FirstActive(states), str(states))"
     ],
     "language": "python",
     "metadata": {},
     "outputs": [
      {
       "output_type": "stream",
       "stream": "stdout",
       "text": [
        "4\t['0', '1', '-1']\n",
        "2\t['', '', '0']\n",
        "Not active\t['0', '0', '0']\n",
        "2\t['-1', '1', '1']\n"
       ]
      }
     ],
     "prompt_number": 3
    }
   ],
   "metadata": {}
  }
 ]
}