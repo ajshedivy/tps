{
 "cells": [
  {
   "cell_type": "markdown",
   "metadata": {},
   "source": [
    "# open cytoscape session from notebook with unique style file \n",
    "\n",
    "#### Requirements:\n",
    "\n",
    "- python 3.5.4 (tested on)\n",
    "- Cytoscape 3.7.1 (tested version)\n",
    "- py2cytoscape 0.7.1 (tested version)\n",
    "- Java 8\n",
    "- cyREST 1.1.0+\n",
    "\n",
    "#### TODO:\n",
    "- implement automated script to activate enviornment\n",
    "- render widget to jupyter notebook\n",
    "- create subgraphs of areas of interest \n",
    "- fine tune style file layout "
   ]
  },
  {
   "cell_type": "code",
   "execution_count": 1,
   "metadata": {
    "scrolled": true
   },
   "outputs": [],
   "source": [
    "# check version to python \n",
    "!python --version"
   ]
  },
  {
   "cell_type": "code",
   "execution_count": 2,
   "metadata": {},
   "outputs": [
    {
     "name": "stdout",
     "output_type": "stream",
     "text": [
      "\n",
      "Please wait a moment while I gather a list of all available modules...\n",
      "\n"
     ]
    },
    {
     "name": "stderr",
     "output_type": "stream",
     "text": [
      "C:\\Users\\ajshe\\AppData\\Roaming\\Python\\Python35\\site-packages\\IPython\\kernel\\__init__.py:13: ShimWarning: The `IPython.kernel` package has been deprecated since IPython 4.0.You should import from ipykernel or jupyter_client instead.\n",
      "  \"You should import from ipykernel or jupyter_client instead.\", ShimWarning)\n",
      "C:\\Users\\ajshe\\Anaconda3\\envs\\py2cyto\\lib\\pkgutil.py:104: VisibleDeprecationWarning: zmq.eventloop.minitornado is deprecated in pyzmq 14.0 and will be removed.\n",
      "    Install tornado itself to use zmq with the tornado IOLoop.\n",
      "    \n",
      "  yield from walk_packages(path, name+'.', onerror)\n"
     ]
    },
    {
     "data": {
      "application/javascript": [
       "if (window['cytoscape'] === undefined) {\n",
       "    var paths = {\n",
       "        cytoscape: 'https://raw.githubusercontent.com/cytoscape/cytoscape.js/master/dist/cytoscape.min.js'\n",
       "    };\n",
       "\n",
       "    require.config({\n",
       "        paths: paths\n",
       "    });\n",
       "\n",
       "    require(['cytoscape'], function (cytoscape) {\n",
       "        console.log('Loading Cytoscape.js Module...');\n",
       "        window['cytoscape'] = cytoscape;\n",
       "\n",
       "        var event = document.createEvent(\"HTMLEvents\");\n",
       "        event.initEvent(\"load_cytoscape\", true, false);\n",
       "        window.dispatchEvent(event);\n",
       "    });\n",
       "}\n"
      ],
      "text/plain": [
       "<IPython.core.display.Javascript object>"
      ]
     },
     "metadata": {},
     "output_type": "display_data"
    },
    {
     "name": "stdout",
     "output_type": "stream",
     "text": [
      "IPython             codecs              netrc               sysconfig\n",
      "PyQt5               codeop              networkx            tabnanny\n",
      "TBB                 collections         nntplib             tarfile\n",
      "__future__          colorama            notebook            tbb\n",
      "_ast                colorsys            nt                  telnetlib\n",
      "_bisect             commctrl            ntpath              tempfile\n",
      "_bootlocale         compileall          ntsecuritycon       terminado\n",
      "_bz2                concurrent          nturl2path          test\n",
      "_codecs             configparser        numbers             testpath\n",
      "_codecs_cn          contextlib          numpy               tests\n",
      "_codecs_hk          copy                odbc                textwrap\n",
      "_codecs_iso2022     copyreg             opcode              this\n",
      "_codecs_jp          crypt               operator            threading\n",
      "_codecs_kr          csv                 optparse            time\n",
      "_codecs_tw          ctypes              os                  timeit\n",
      "_collections        curses              pandas              timer\n",
      "_collections_abc    cythonmagic         pandocfilters       tkinter\n",
      "_compat_pickle      datetime            parser              token\n",
      "_compression        dateutil            parso               tokenize\n",
      "_csv                dbi                 pathlib             tornado\n",
      "_ctypes             dbm                 pdb                 trace\n",
      "_ctypes_test        dde                 perfmon             traceback\n",
      "_datetime           decimal             pickle              tracemalloc\n",
      "_decimal            decorator           pickleshare         traitlets\n",
      "_dummy_thread       defusedxml          pickletools         tty\n",
      "_elementtree        difflib             pip                 turtle\n",
      "_functools          dis                 pipes               turtledemo\n",
      "_hashlib            distutils           pkg_resources       types\n",
      "_heapq              doctest             pkgutil             typing\n",
      "_imp                dot_parser          platform            unicodedata\n",
      "_io                 dummy_threading     plistlib            unittest\n",
      "_json               easy_install        poplib              urllib\n",
      "_locale             email               posixpath           urllib3\n",
      "_lsprof             encodings           pprint              uu\n",
      "_lzma               ensurepip           profile             uuid\n",
      "_markupbase         entrypoints         prometheus_client   venv\n",
      "_md5                enum                prompt_toolkit      warnings\n",
      "_msi                errno               pstats              wave\n",
      "_multibytecodec     faulthandler        pty                 wcwidth\n",
      "_multiprocessing    filecmp             py2cytoscape        weakref\n",
      "_opcode             fileinput           py_compile          webbrowser\n",
      "_operator           fnmatch             pyclbr              webencodings\n",
      "_osx_support        formatter           pydoc               wheel\n",
      "_overlapped         fractions           pydoc_data          widgetsnbextension\n",
      "_pickle             ftplib              pydot               win2kras\n",
      "_pydecimal          functools           pydotplus           win32api\n",
      "_pyio               gc                  pyexpat             win32clipboard\n",
      "_random             genericpath         pygments            win32com\n",
      "_sha1               getopt              pyparsing           win32con\n",
      "_sha256             getpass             pythoncom           win32console\n",
      "_sha512             gettext             pytz                win32cred\n",
      "_signal             glob                pywin               win32crypt\n",
      "_sitebuiltins       gzip                pywin32_testutil    win32cryptcon\n",
      "_socket             hashlib             pywintypes          win32event\n",
      "_sqlite3            heapq               qtconsole           win32evtlog\n",
      "_sre                hmac                queue               win32evtlogutil\n",
      "_ssl                html                quopri              win32file\n",
      "_stat               http                random              win32gui\n",
      "_string             idlelib             rasutil             win32gui_struct\n",
      "_strptime           idna                re                  win32help\n",
      "_struct             igraph              regcheck            win32inet\n",
      "_symtable           imaplib             regutil             win32inetcon\n",
      "_testbuffer         imghdr              reprlib             win32job\n",
      "_testcapi           imp                 requests            win32lz\n",
      "_testimportmultiple importlib           rlcompleter         win32net\n",
      "_testmultiphase     inspect             rmagic              win32netcon\n",
      "_thread             io                  run                 win32pdh\n",
      "_threading_local    ipaddress           runpy               win32pdhquery\n",
      "_tkinter            ipykernel           sched               win32pdhutil\n",
      "_tracemalloc        ipykernel_launcher  scipy               win32pipe\n",
      "_warnings           ipython_genutils    select              win32print\n",
      "_weakref            ipywidgets          selectors           win32process\n",
      "_weakrefset         isapi               send2trash          win32profile\n",
      "_win32sysloader     itertools           servicemanager      win32ras\n",
      "_winapi             jedi                setuptools          win32rcparser\n",
      "_winxptheme         jinja2              shelve              win32security\n",
      "abc                 json                shlex               win32service\n",
      "adodbapi            jsonschema          shutil              win32serviceutil\n",
      "afxres              jupyter             signal              win32timezone\n",
      "aifc                jupyter_client      simplegeneric       win32trace\n",
      "antigravity         jupyter_console     sip                 win32traceutil\n",
      "argparse            jupyter_core        sipconfig           win32transaction\n",
      "array               keyword             sipdistutils        win32ts\n",
      "ast                 lib2to3             site                win32ui\n",
      "asynchat            linecache           six                 win32uiole\n",
      "asyncio             locale              smtpd               win32verstamp\n",
      "asyncore            logging             smtplib             win32wnet\n",
      "atexit              lzma                sndhdr              win_unicode_console\n",
      "audioop             macpath             socket              wincertstore\n",
      "autoreload          macurl2path         socketserver        winerror\n",
      "backcall            mailbox             sqlite3             winioctlcon\n",
      "base64              mailcap             sre_compile         winnt\n",
      "bdb                 markupsafe          sre_constants       winperf\n",
      "binascii            marshal             sre_parse           winpty\n",
      "binhex              math                ssl                 winreg\n",
      "bisect              mimetypes           sspi                winsound\n",
      "bleach              mistune             sspicon             winxpgui\n",
      "builtins            mkl_fft             stat                winxptheme\n",
      "bz2                 mkl_random          statistics          wsgiref\n",
      "cProfile            mmap                storemagic          xdrlib\n",
      "calendar            mmapfile            string              xml\n",
      "certifi             mmsystem            stringprep          xmlrpc\n",
      "cgi                 modulefinder        struct              xxlimited\n",
      "cgitb               msilib              subprocess          xxsubtype\n",
      "chardet             msvcrt              sunau               zipapp\n",
      "chunk               multiprocessing     symbol              zipfile\n",
      "cmath               nbconvert           sympyprinting       zipimport\n",
      "cmd                 nbformat            symtable            zlib\n",
      "code                netbios             sys                 zmq\n",
      "\n",
      "Enter any module name to get more help.  Or, type \"modules spam\" to search\n",
      "for modules whose name or summary contain the string \"spam\".\n",
      "\n"
     ]
    }
   ],
   "source": [
    "# check installed modules \n",
    "# make sure py2cytoscape in in this list\n",
    "help('modules')"
   ]
  },
  {
   "cell_type": "code",
   "execution_count": 1,
   "metadata": {},
   "outputs": [
    {
     "data": {
      "application/javascript": [
       "if (window['cytoscape'] === undefined) {\n",
       "    var paths = {\n",
       "        cytoscape: 'https://raw.githubusercontent.com/cytoscape/cytoscape.js/master/dist/cytoscape.min.js'\n",
       "    };\n",
       "\n",
       "    require.config({\n",
       "        paths: paths\n",
       "    });\n",
       "\n",
       "    require(['cytoscape'], function (cytoscape) {\n",
       "        console.log('Loading Cytoscape.js Module...');\n",
       "        window['cytoscape'] = cytoscape;\n",
       "\n",
       "        var event = document.createEvent(\"HTMLEvents\");\n",
       "        event.initEvent(\"load_cytoscape\", true, false);\n",
       "        window.dispatchEvent(event);\n",
       "    });\n",
       "}\n"
      ],
      "text/plain": [
       "<IPython.core.display.Javascript object>"
      ]
     },
     "metadata": {},
     "output_type": "display_data"
    }
   ],
   "source": [
    "# imports \n",
    "\n",
    "from py2cytoscape.data.cynetwork import CyNetwork\n",
    "from py2cytoscape.data.cyrest_client import CyRestClient\n",
    "from py2cytoscape.data.style import StyleUtil\n",
    "import py2cytoscape.util.cytoscapejs as cyjs\n",
    "import py2cytoscape.cytoscapejs as renderer\n",
    "\n",
    "import networkx as nx\n",
    "import pandas as pd\n",
    "import json\n",
    "\n",
    "# client used for vizmap functions \n",
    "from py2cytoscape import cyrest"
   ]
  },
  {
   "cell_type": "code",
   "execution_count": 2,
   "metadata": {},
   "outputs": [
    {
     "name": "stdout",
     "output_type": "stream",
     "text": [
      "CyREST online!\n"
     ]
    }
   ],
   "source": [
    "cyy = cyrest.cyclient()\n",
    "cyy.status()"
   ]
  },
  {
   "cell_type": "code",
   "execution_count": 9,
   "metadata": {},
   "outputs": [],
   "source": [
    "# Step 1: Create py2cytoscape client\n",
    "cy = CyRestClient()\n",
    "\n",
    "# Reset\n",
    "cy.session.delete()\n",
    "\n",
    "# Step 2: Load network from somewhere\n",
    "tps_net = cy.network.create_from('output.sif')\n",
    "\n"
   ]
  },
  {
   "cell_type": "code",
   "execution_count": 10,
   "metadata": {},
   "outputs": [
    {
     "data": {
      "text/plain": [
       "{'views': [11118]}"
      ]
     },
     "execution_count": 10,
     "metadata": {},
     "output_type": "execute_result"
    }
   ],
   "source": [
    "# Step 3: Apply layout\n",
    "# name = default_0\n",
    "s= cyy.vizmap.load_file('style.xml')\n",
    "#print(s)\n",
    "cyy.vizmap.apply('default_0')\n",
    "\n",
    "# save session to local machine\n",
    "# **TODO: put this somewhere in tps workspace \n",
    "# cyy.session.save_as(r\"C:\\Users\\ajshe\\Anaconda3\\envs\\py2cyto\\cytoscape_sessions\\first_session\")\n",
    "\n",
    "# open interactive cytoscape session with specified tps style \n",
    "# cyy.session.open(r\"C:\\Users\\ajshe\\Anaconda3\\envs\\py2cyto\\cytoscape_sessions\\first_session.cys\")\n",
    "\n"
   ]
  },
  {
   "cell_type": "code",
   "execution_count": 8,
   "metadata": {},
   "outputs": [
    {
     "name": "stdout",
     "output_type": "stream",
     "text": [
      "<class 'str'>\n"
     ]
    }
   ],
   "source": [
    "print(type('output.sif'))"
   ]
  },
  {
   "cell_type": "code",
   "execution_count": 12,
   "metadata": {},
   "outputs": [
    {
     "name": "stdout",
     "output_type": "stream",
     "text": [
      "<class 'list'>\n"
     ]
    }
   ],
   "source": [
    "print(type(s))"
   ]
  },
  {
   "cell_type": "code",
   "execution_count": 14,
   "metadata": {},
   "outputs": [
    {
     "name": "stdout",
     "output_type": "stream",
     "text": [
      "this should work:  ['default_0']\n"
     ]
    }
   ],
   "source": [
    "print(\"this should work: \",s)"
   ]
  },
  {
   "cell_type": "code",
   "execution_count": null,
   "metadata": {},
   "outputs": [],
   "source": []
  }
 ],
 "metadata": {
  "kernelspec": {
   "display_name": "py2cyto",
   "language": "python",
   "name": "py2cyto"
  },
  "language_info": {
   "codemirror_mode": {
    "name": "ipython",
    "version": 3
   },
   "file_extension": ".py",
   "mimetype": "text/x-python",
   "name": "python",
   "nbconvert_exporter": "python",
   "pygments_lexer": "ipython3",
   "version": "3.5.4"
  }
 },
 "nbformat": 4,
 "nbformat_minor": 2
}
