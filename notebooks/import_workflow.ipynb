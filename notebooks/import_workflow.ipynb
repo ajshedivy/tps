{
 "cells": [
  {
   "cell_type": "markdown",
   "metadata": {},
   "source": [
    "*before running notebook, start Cytoscape (v 3.7.1)*"
   ]
  },
  {
   "cell_type": "code",
   "execution_count": 1,
   "metadata": {
    "ExecuteTime": {
     "end_time": "2020-05-19T21:07:21.369877Z",
     "start_time": "2020-05-19T21:07:18.908281Z"
    }
   },
   "outputs": [
    {
     "name": "stderr",
     "output_type": "stream",
     "text": [
      "C:\\Users\\ajshe\\Anaconda3\\envs\\py2cyto_sandbox\\lib\\site-packages\\py2cytoscape\\util\\util_networkx.py:11: UserWarning: \n",
      "\n",
      "\n",
      "**** util.util_networkx will be deprecated in the next py2cytoscape release. ****\n",
      "\n",
      "\n",
      "\n",
      "  warnings.warn('\\n\\n\\n**** util.util_networkx will be deprecated in the next py2cytoscape release. ****\\n\\n\\n')\n",
      "C:\\Users\\ajshe\\Anaconda3\\envs\\py2cyto_sandbox\\lib\\site-packages\\py2cytoscape\\util\\util_graphlab.py:2: UserWarning: \n",
      "\n",
      "\n",
      "**** util.util_graphlab will be deprecated in the next py2cytoscape release. ****\n",
      "\n",
      "\n",
      "\n",
      "  warnings.warn('\\n\\n\\n**** util.util_graphlab will be deprecated in the next py2cytoscape release. ****\\n\\n\\n')\n",
      "C:\\Users\\ajshe\\Anaconda3\\envs\\py2cyto_sandbox\\lib\\site-packages\\py2cytoscape\\util\\util_igraph.py:9: UserWarning: \n",
      "\n",
      "\n",
      "**** util.util_igraph will be deprecated in the next py2cytoscape release. ****\n",
      "\n",
      "\n",
      "\n",
      "  warnings.warn('\\n\\n\\n**** util.util_igraph will be deprecated in the next py2cytoscape release. ****\\n\\n\\n')\n",
      "C:\\Users\\ajshe\\Anaconda3\\envs\\py2cyto_sandbox\\lib\\site-packages\\py2cytoscape\\util\\__init__.py:14: UserWarning: \n",
      "\n",
      "\n",
      "**** util will be deprecated in the next py2cytoscape release. ****\n",
      "\n",
      "\n",
      "\n",
      "  warnings.warn('\\n\\n\\n**** util will be deprecated in the next py2cytoscape release. ****\\n\\n\\n')\n",
      "C:\\Users\\ajshe\\Anaconda3\\envs\\py2cyto_sandbox\\lib\\site-packages\\py2cytoscape\\util\\cytoscapejs.py:5: UserWarning: \n",
      "\n",
      "\n",
      "**** util.cytoscapejs will be deprecated in the next py2cytoscape release. ****\n",
      "\n",
      "\n",
      "\n",
      "  warnings.warn('\\n\\n\\n**** util.cytoscapejs will be deprecated in the next py2cytoscape release. ****\\n\\n\\n')\n",
      "C:\\Users\\ajshe\\Anaconda3\\envs\\py2cyto_sandbox\\lib\\site-packages\\py2cytoscape\\util\\util_dataframe.py:6: UserWarning: \n",
      "\n",
      "\n",
      "**** util.util_dataframe will be deprecated in the next py2cytoscape release. ****\n",
      "\n",
      "\n",
      "\n",
      "  warnings.warn('\\n\\n\\n**** util.util_dataframe will be deprecated in the next py2cytoscape release. ****\\n\\n\\n')\n",
      "C:\\Users\\ajshe\\Anaconda3\\envs\\py2cyto_sandbox\\lib\\site-packages\\py2cytoscape\\util\\util_numpy.py:4: UserWarning: \n",
      "\n",
      "\n",
      "**** util.util_numpy will be deprecated in the next py2cytoscape release. ****\n",
      "\n",
      "\n",
      "\n",
      "  warnings.warn('\\n\\n\\n**** util.util_numpy will be deprecated in the next py2cytoscape release. ****\\n\\n\\n')\n",
      "C:\\Users\\ajshe\\Anaconda3\\envs\\py2cyto_sandbox\\lib\\site-packages\\py2cytoscape\\data\\base_view.py:8: UserWarning: \n",
      "\n",
      "\n",
      "**** data.base_view will be deprecated in the next py2cytoscape release. ****\n",
      "\n",
      "\n",
      "\n",
      "  warnings.warn('\\n\\n\\n**** data.base_view will be deprecated in the next py2cytoscape release. ****\\n\\n\\n')\n",
      "C:\\Users\\ajshe\\Anaconda3\\envs\\py2cyto_sandbox\\lib\\site-packages\\py2cytoscape\\data\\edge_view.py:8: UserWarning: \n",
      "\n",
      "\n",
      "**** data.edge_view will be deprecated in the next py2cytoscape release. ****\n",
      "\n",
      "\n",
      "\n",
      "  warnings.warn('\\n\\n\\n**** data.edge_view will be deprecated in the next py2cytoscape release. ****\\n\\n\\n')\n",
      "C:\\Users\\ajshe\\Anaconda3\\envs\\py2cyto_sandbox\\lib\\site-packages\\py2cytoscape\\data\\node_view.py:10: UserWarning: \n",
      "\n",
      "\n",
      "**** data.node_view will be deprecated in the next py2cytoscape release. ****\n",
      "\n",
      "\n",
      "\n",
      "  warnings.warn('\\n\\n\\n**** data.node_view will be deprecated in the next py2cytoscape release. ****\\n\\n\\n')\n",
      "C:\\Users\\ajshe\\Anaconda3\\envs\\py2cyto_sandbox\\lib\\site-packages\\py2cytoscape\\data\\util_network.py:4: UserWarning: \n",
      "\n",
      "\n",
      "**** data.util_network will be deprecated in the next py2cytoscape release. ****\n",
      "\n",
      "\n",
      "\n",
      "  warnings.warn('\\n\\n\\n**** data.util_network will be deprecated in the next py2cytoscape release. ****\\n\\n\\n')\n",
      "C:\\Users\\ajshe\\Anaconda3\\envs\\py2cyto_sandbox\\lib\\site-packages\\py2cytoscape\\data\\util_http.py:4: UserWarning: \n",
      "\n",
      "\n",
      "**** data.util_http will be deprecated in the next py2cytoscape release. ****\n",
      "\n",
      "\n",
      "\n",
      "  warnings.warn('\\n\\n\\n**** data.util_http will be deprecated in the next py2cytoscape release. ****\\n\\n\\n')\n",
      "C:\\Users\\ajshe\\Anaconda3\\envs\\py2cyto_sandbox\\lib\\site-packages\\py2cytoscape\\data\\network_view.py:17: UserWarning: \n",
      "\n",
      "\n",
      "**** data.network_view will be deprecated in the next py2cytoscape release. ****\n",
      "\n",
      "\n",
      "\n",
      "  warnings.warn('\\n\\n\\n**** data.network_view will be deprecated in the next py2cytoscape release. ****\\n\\n\\n')\n",
      "C:\\Users\\ajshe\\Anaconda3\\envs\\py2cyto_sandbox\\lib\\site-packages\\py2cytoscape\\data\\cynetwork.py:14: UserWarning: \n",
      "\n",
      "\n",
      "**** data.cynetwork will be deprecated in the next py2cytoscape release. ****\n",
      "\n",
      "\n",
      "\n",
      "  warnings.warn('\\n\\n\\n**** data.cynetwork will be deprecated in the next py2cytoscape release. ****\\n\\n\\n')\n",
      "C:\\Users\\ajshe\\Anaconda3\\envs\\py2cyto_sandbox\\lib\\site-packages\\py2cytoscape\\data\\network_client.py:20: UserWarning: \n",
      "\n",
      "\n",
      "**** data.network_client will be deprecated in the next py2cytoscape release. ****\n",
      "\n",
      "\n",
      "\n",
      "  warnings.warn('\\n\\n\\n**** data.network_client will be deprecated in the next py2cytoscape release. ****\\n\\n\\n')\n",
      "C:\\Users\\ajshe\\Anaconda3\\envs\\py2cyto_sandbox\\lib\\site-packages\\py2cytoscape\\data\\style.py:7: UserWarning: \n",
      "\n",
      "\n",
      "**** data.style will be deprecated in the next py2cytoscape release. ****\n",
      "\n",
      "\n",
      "\n",
      "  warnings.warn('\\n\\n\\n**** data.style will be deprecated in the next py2cytoscape release. ****\\n\\n\\n')\n",
      "C:\\Users\\ajshe\\Anaconda3\\envs\\py2cyto_sandbox\\lib\\site-packages\\py2cytoscape\\data\\style_client.py:10: UserWarning: \n",
      "\n",
      "\n",
      "**** data.style_client will be deprecated in the next py2cytoscape release. ****\n",
      "\n",
      "\n",
      "\n",
      "  warnings.warn('\\n\\n\\n**** data.style_client will be deprecated in the next py2cytoscape release. ****\\n\\n\\n')\n",
      "C:\\Users\\ajshe\\Anaconda3\\envs\\py2cyto_sandbox\\lib\\site-packages\\py2cytoscape\\data\\algorithm_client.py:4: UserWarning: \n",
      "\n",
      "\n",
      "**** data.algorithm_client will be deprecated in the next py2cytoscape release. ****\n",
      "\n",
      "\n",
      "\n",
      "  warnings.warn('\\n\\n\\n**** data.algorithm_client will be deprecated in the next py2cytoscape release. ****\\n\\n\\n')\n",
      "C:\\Users\\ajshe\\Anaconda3\\envs\\py2cyto_sandbox\\lib\\site-packages\\py2cytoscape\\data\\session_client.py:4: UserWarning: \n",
      "\n",
      "\n",
      "**** data.session_client will be deprecated in the next py2cytoscape release. ****\n",
      "\n",
      "\n",
      "\n",
      "  warnings.warn('\\n\\n\\n**** data.session_client will be deprecated in the next py2cytoscape release. ****\\n\\n\\n')\n",
      "C:\\Users\\ajshe\\Anaconda3\\envs\\py2cyto_sandbox\\lib\\site-packages\\py2cytoscape\\data\\cyrest_client.py:13: UserWarning: \n",
      "\n",
      "\n",
      "**** data.cyrest_client will be deprecated in the next py2cytoscape release. ****\n",
      "\n",
      "\n",
      "\n",
      "  warnings.warn('\\n\\n\\n**** data.cyrest_client will be deprecated in the next py2cytoscape release. ****\\n\\n\\n')\n"
     ]
    }
   ],
   "source": [
    "import os\n",
    "import sys\n",
    "import time\n",
    "import pandas as pd\n",
    "import numpy as np\n",
    "import matplotlib\n",
    "import matplotlib.pyplot as plt\n",
    "from py2cytoscape import cyrest\n",
    "from py2cytoscape.data.cyrest_client import CyRestClient\n",
    "from IPython.display import Image\n",
    "\n",
    "baseDir = os.path.abspath(os.path.join('..'))\n",
    "visualization_scripts = os.path.join(baseDir, 'visualization_scripts')\n",
    "sys.path.insert(1, visualization_scripts)\n",
    "import run_visualization as cyto\n",
    "%matplotlib inline"
   ]
  },
  {
   "cell_type": "markdown",
   "metadata": {
    "ExecuteTime": {
     "end_time": "2020-05-18T20:50:33.105303Z",
     "start_time": "2020-05-18T20:50:33.096330Z"
    }
   },
   "source": [
    "# import files \n",
    "\n",
    "* cytoscape style file\n",
    "* annotations file\n",
    "* graph (.sif) file"
   ]
  },
  {
   "cell_type": "code",
   "execution_count": 14,
   "metadata": {
    "ExecuteTime": {
     "end_time": "2020-05-19T21:23:14.736470Z",
     "start_time": "2020-05-19T21:23:14.720514Z"
    },
    "scrolled": true
   },
   "outputs": [
    {
     "name": "stdout",
     "output_type": "stream",
     "text": [
      "C:\\Users\\ajshe\\Anaconda3\\envs\\py2cyto\\tps\n",
      "C:\\Users\\ajshe\\Anaconda3\\envs\\py2cyto\\tps\\htcondor_results\\results_reproduce_egfr_tps_051320\\output.sif\n",
      "C:\\Users\\ajshe\\Anaconda3\\envs\\py2cyto\\tps\\visualization_scripts\\tps_style.xml\n",
      "C:\\Users\\ajshe\\Anaconda3\\envs\\py2cyto\\tps\\evaluation\\2020-05-12-and-wolf-yadlin-TPS-cytoscape\\2020-05-12-and-wolf-yadlin-TPS-cytoscape\\refactored_annotations.txt\n"
     ]
    }
   ],
   "source": [
    "print(baseDir)\n",
    "\n",
    "output = os.path.join(baseDir, 'htcondor_results', 'results_reproduce_egfr_tps_051320', 'output.sif')\n",
    "\n",
    "style = os.path.join(baseDir, 'visualization_scripts', 'tps_style.xml')\n",
    "\n",
    "annotations = r\"C:\\Users\\ajshe\\Anaconda3\\envs\\py2cyto\\tps\\evaluation\\2020-05-12-and-wolf-yadlin-TPS-cytoscape\\2020-05-12-and-wolf-yadlin-TPS-cytoscape\\refactored_annotations.txt\"\n",
    "\n",
    "print(output)\n",
    "print(style)\n",
    "print(annotations)"
   ]
  },
  {
   "cell_type": "code",
   "execution_count": 15,
   "metadata": {
    "ExecuteTime": {
     "end_time": "2020-05-19T21:23:15.779715Z",
     "start_time": "2020-05-19T21:23:15.734836Z"
    }
   },
   "outputs": [],
   "source": [
    "['Protein',\n",
    " 'NodeType',\n",
    " 'ReferencePathway',\n",
    " 'SigPeptide1',\n",
    " 'SigPeptide2',\n",
    " 'SigPeptide3',\n",
    " 'SigPeptide4',\n",
    " 'SigPeptide5',\n",
    " 'SigPeptide6',\n",
    " 'InsigPeptide1',\n",
    " 'InsigPeptide2',\n",
    " 'InsigPeptide3',\n",
    " 'InsigPeptide4',\n",
    " 'InsigPeptide5',\n",
    " 'InsigPeptide6',\n",
    " 'InsigPeptide7',\n",
    " 'InsigPeptide8',\n",
    " 'InsigPeptide9',\n",
    " 'InsigPeptide10',\n",
    " 'ActivitySummary2min',\n",
    " 'ActivitySummary4min',\n",
    " 'ActivitySummary8min',\n",
    " 'ActivitySummary16min',\n",
    " 'ActivitySummary32min',\n",
    " 'ActivitySummary64min',\n",
    " 'ActivitySummary128min',\n",
    " 'FirstActive',\n",
    " 'HeatMapBg1',\n",
    " 'HeatMapBg2',\n",
    " 'HeatMapBg3',\n",
    " 'HeatMapBg4',\n",
    " 'HeatMapBg5',\n",
    " 'HeatMapBg6']\n",
    "\n",
    "dList = \"s,s,b,dl,dl,dl,dl,dl,dl,dl,dl,dl,dl,dl,dl,dl,dl,dl,dl,il,il,il,il,il,il,il,il,il,il,il,il,il,il,\""
   ]
  },
  {
   "cell_type": "markdown",
   "metadata": {},
   "source": [
    " # Run py2cytoscape workflow"
   ]
  },
  {
   "cell_type": "code",
   "execution_count": 16,
   "metadata": {
    "ExecuteTime": {
     "end_time": "2020-05-19T21:23:24.452210Z",
     "start_time": "2020-05-19T21:23:16.943603Z"
    }
   },
   "outputs": [
    {
     "name": "stdout",
     "output_type": "stream",
     "text": [
      "---session reset\n",
      "---loading network file\n",
      "---Done\n",
      "---apply style file\n",
      "---style name:  ['TPS']\n",
      "Done! open up cytoscape session\n"
     ]
    }
   ],
   "source": [
    "\n",
    "# create cyrest client\n",
    "cyy = cyrest.cyclient()\n",
    "\n",
    "# Step 1: Create py2cytoscape client\n",
    "cy = CyRestClient()\n",
    "\n",
    "# Reset\n",
    "cy.session.delete()\n",
    "print(\"---session reset\")\n",
    "\n",
    "# Step 2: Load network from somewhere\n",
    "print(\"---loading network file\")\n",
    "cy.network.create_from(output)\n",
    "print(\"---Done\")\n",
    "time.sleep(2)\n",
    "\n",
    "# Step 3: Apply layout\n",
    "# list of styles to apply\n",
    "# only contains the one style loaded from style file\n",
    "print(\"---apply style file\")\n",
    "style = cyy.vizmap.load_file(style)\n",
    "print(\"---style name: \", style)\n",
    "cyy.vizmap.apply(style[0])\n",
    "\n",
    "# add annotaions\n",
    "#cyy.table.loadTableData(bp_data, table_key_column='Protein')\n",
    "\n",
    "\n",
    "print(\"Done! open up cytoscape session\")"
   ]
  },
  {
   "cell_type": "markdown",
   "metadata": {},
   "source": [
    "## import annotations"
   ]
  },
  {
   "cell_type": "code",
   "execution_count": 11,
   "metadata": {
    "ExecuteTime": {
     "end_time": "2020-05-19T21:22:04.617113Z",
     "start_time": "2020-05-19T21:21:43.741096Z"
    }
   },
   "outputs": [
    {
     "ename": "ConnectionError",
     "evalue": "('Connection aborted.', ConnectionResetError(10054, 'An existing connection was forcibly closed by the remote host', None, 10054, None))",
     "output_type": "error",
     "traceback": [
      "\u001b[1;31m---------------------------------------------------------------------------\u001b[0m",
      "\u001b[1;31mConnectionResetError\u001b[0m                      Traceback (most recent call last)",
      "\u001b[1;32m~\\Anaconda3\\envs\\py2cyto_sandbox\\lib\\site-packages\\urllib3\\connectionpool.py\u001b[0m in \u001b[0;36murlopen\u001b[1;34m(self, method, url, body, headers, retries, redirect, assert_same_host, timeout, pool_timeout, release_conn, chunked, body_pos, **response_kw)\u001b[0m\n\u001b[0;32m    671\u001b[0m                 \u001b[0mheaders\u001b[0m\u001b[1;33m=\u001b[0m\u001b[0mheaders\u001b[0m\u001b[1;33m,\u001b[0m\u001b[1;33m\u001b[0m\u001b[0m\n\u001b[1;32m--> 672\u001b[1;33m                 \u001b[0mchunked\u001b[0m\u001b[1;33m=\u001b[0m\u001b[0mchunked\u001b[0m\u001b[1;33m,\u001b[0m\u001b[1;33m\u001b[0m\u001b[0m\n\u001b[0m\u001b[0;32m    673\u001b[0m             )\n",
      "\u001b[1;32m~\\Anaconda3\\envs\\py2cyto_sandbox\\lib\\site-packages\\urllib3\\connectionpool.py\u001b[0m in \u001b[0;36m_make_request\u001b[1;34m(self, conn, method, url, timeout, chunked, **httplib_request_kw)\u001b[0m\n\u001b[0;32m    420\u001b[0m                     \u001b[1;31m# Otherwise it looks like a bug in the code.\u001b[0m\u001b[1;33m\u001b[0m\u001b[1;33m\u001b[0m\u001b[0m\n\u001b[1;32m--> 421\u001b[1;33m                     \u001b[0msix\u001b[0m\u001b[1;33m.\u001b[0m\u001b[0mraise_from\u001b[0m\u001b[1;33m(\u001b[0m\u001b[0me\u001b[0m\u001b[1;33m,\u001b[0m \u001b[1;32mNone\u001b[0m\u001b[1;33m)\u001b[0m\u001b[1;33m\u001b[0m\u001b[0m\n\u001b[0m\u001b[0;32m    422\u001b[0m         \u001b[1;32mexcept\u001b[0m \u001b[1;33m(\u001b[0m\u001b[0mSocketTimeout\u001b[0m\u001b[1;33m,\u001b[0m \u001b[0mBaseSSLError\u001b[0m\u001b[1;33m,\u001b[0m \u001b[0mSocketError\u001b[0m\u001b[1;33m)\u001b[0m \u001b[1;32mas\u001b[0m \u001b[0me\u001b[0m\u001b[1;33m:\u001b[0m\u001b[1;33m\u001b[0m\u001b[0m\n",
      "\u001b[1;32m~\\Anaconda3\\envs\\py2cyto_sandbox\\lib\\site-packages\\urllib3\\packages\\six.py\u001b[0m in \u001b[0;36mraise_from\u001b[1;34m(value, from_value)\u001b[0m\n",
      "\u001b[1;32m~\\Anaconda3\\envs\\py2cyto_sandbox\\lib\\site-packages\\urllib3\\connectionpool.py\u001b[0m in \u001b[0;36m_make_request\u001b[1;34m(self, conn, method, url, timeout, chunked, **httplib_request_kw)\u001b[0m\n\u001b[0;32m    415\u001b[0m                 \u001b[1;32mtry\u001b[0m\u001b[1;33m:\u001b[0m\u001b[1;33m\u001b[0m\u001b[0m\n\u001b[1;32m--> 416\u001b[1;33m                     \u001b[0mhttplib_response\u001b[0m \u001b[1;33m=\u001b[0m \u001b[0mconn\u001b[0m\u001b[1;33m.\u001b[0m\u001b[0mgetresponse\u001b[0m\u001b[1;33m(\u001b[0m\u001b[1;33m)\u001b[0m\u001b[1;33m\u001b[0m\u001b[0m\n\u001b[0m\u001b[0;32m    417\u001b[0m                 \u001b[1;32mexcept\u001b[0m \u001b[0mBaseException\u001b[0m \u001b[1;32mas\u001b[0m \u001b[0me\u001b[0m\u001b[1;33m:\u001b[0m\u001b[1;33m\u001b[0m\u001b[0m\n",
      "\u001b[1;32m~\\Anaconda3\\envs\\py2cyto_sandbox\\lib\\http\\client.py\u001b[0m in \u001b[0;36mgetresponse\u001b[1;34m(self)\u001b[0m\n\u001b[0;32m   1197\u001b[0m             \u001b[1;32mtry\u001b[0m\u001b[1;33m:\u001b[0m\u001b[1;33m\u001b[0m\u001b[0m\n\u001b[1;32m-> 1198\u001b[1;33m                 \u001b[0mresponse\u001b[0m\u001b[1;33m.\u001b[0m\u001b[0mbegin\u001b[0m\u001b[1;33m(\u001b[0m\u001b[1;33m)\u001b[0m\u001b[1;33m\u001b[0m\u001b[0m\n\u001b[0m\u001b[0;32m   1199\u001b[0m             \u001b[1;32mexcept\u001b[0m \u001b[0mConnectionError\u001b[0m\u001b[1;33m:\u001b[0m\u001b[1;33m\u001b[0m\u001b[0m\n",
      "\u001b[1;32m~\\Anaconda3\\envs\\py2cyto_sandbox\\lib\\http\\client.py\u001b[0m in \u001b[0;36mbegin\u001b[1;34m(self)\u001b[0m\n\u001b[0;32m    296\u001b[0m         \u001b[1;32mwhile\u001b[0m \u001b[1;32mTrue\u001b[0m\u001b[1;33m:\u001b[0m\u001b[1;33m\u001b[0m\u001b[0m\n\u001b[1;32m--> 297\u001b[1;33m             \u001b[0mversion\u001b[0m\u001b[1;33m,\u001b[0m \u001b[0mstatus\u001b[0m\u001b[1;33m,\u001b[0m \u001b[0mreason\u001b[0m \u001b[1;33m=\u001b[0m \u001b[0mself\u001b[0m\u001b[1;33m.\u001b[0m\u001b[0m_read_status\u001b[0m\u001b[1;33m(\u001b[0m\u001b[1;33m)\u001b[0m\u001b[1;33m\u001b[0m\u001b[0m\n\u001b[0m\u001b[0;32m    298\u001b[0m             \u001b[1;32mif\u001b[0m \u001b[0mstatus\u001b[0m \u001b[1;33m!=\u001b[0m \u001b[0mCONTINUE\u001b[0m\u001b[1;33m:\u001b[0m\u001b[1;33m\u001b[0m\u001b[0m\n",
      "\u001b[1;32m~\\Anaconda3\\envs\\py2cyto_sandbox\\lib\\http\\client.py\u001b[0m in \u001b[0;36m_read_status\u001b[1;34m(self)\u001b[0m\n\u001b[0;32m    257\u001b[0m     \u001b[1;32mdef\u001b[0m \u001b[0m_read_status\u001b[0m\u001b[1;33m(\u001b[0m\u001b[0mself\u001b[0m\u001b[1;33m)\u001b[0m\u001b[1;33m:\u001b[0m\u001b[1;33m\u001b[0m\u001b[0m\n\u001b[1;32m--> 258\u001b[1;33m         \u001b[0mline\u001b[0m \u001b[1;33m=\u001b[0m \u001b[0mstr\u001b[0m\u001b[1;33m(\u001b[0m\u001b[0mself\u001b[0m\u001b[1;33m.\u001b[0m\u001b[0mfp\u001b[0m\u001b[1;33m.\u001b[0m\u001b[0mreadline\u001b[0m\u001b[1;33m(\u001b[0m\u001b[0m_MAXLINE\u001b[0m \u001b[1;33m+\u001b[0m \u001b[1;36m1\u001b[0m\u001b[1;33m)\u001b[0m\u001b[1;33m,\u001b[0m \u001b[1;34m\"iso-8859-1\"\u001b[0m\u001b[1;33m)\u001b[0m\u001b[1;33m\u001b[0m\u001b[0m\n\u001b[0m\u001b[0;32m    259\u001b[0m         \u001b[1;32mif\u001b[0m \u001b[0mlen\u001b[0m\u001b[1;33m(\u001b[0m\u001b[0mline\u001b[0m\u001b[1;33m)\u001b[0m \u001b[1;33m>\u001b[0m \u001b[0m_MAXLINE\u001b[0m\u001b[1;33m:\u001b[0m\u001b[1;33m\u001b[0m\u001b[0m\n",
      "\u001b[1;32m~\\Anaconda3\\envs\\py2cyto_sandbox\\lib\\socket.py\u001b[0m in \u001b[0;36mreadinto\u001b[1;34m(self, b)\u001b[0m\n\u001b[0;32m    575\u001b[0m             \u001b[1;32mtry\u001b[0m\u001b[1;33m:\u001b[0m\u001b[1;33m\u001b[0m\u001b[0m\n\u001b[1;32m--> 576\u001b[1;33m                 \u001b[1;32mreturn\u001b[0m \u001b[0mself\u001b[0m\u001b[1;33m.\u001b[0m\u001b[0m_sock\u001b[0m\u001b[1;33m.\u001b[0m\u001b[0mrecv_into\u001b[0m\u001b[1;33m(\u001b[0m\u001b[0mb\u001b[0m\u001b[1;33m)\u001b[0m\u001b[1;33m\u001b[0m\u001b[0m\n\u001b[0m\u001b[0;32m    577\u001b[0m             \u001b[1;32mexcept\u001b[0m \u001b[0mtimeout\u001b[0m\u001b[1;33m:\u001b[0m\u001b[1;33m\u001b[0m\u001b[0m\n",
      "\u001b[1;31mConnectionResetError\u001b[0m: [WinError 10054] An existing connection was forcibly closed by the remote host",
      "\nDuring handling of the above exception, another exception occurred:\n",
      "\u001b[1;31mProtocolError\u001b[0m                             Traceback (most recent call last)",
      "\u001b[1;32m~\\Anaconda3\\envs\\py2cyto_sandbox\\lib\\site-packages\\requests\\adapters.py\u001b[0m in \u001b[0;36msend\u001b[1;34m(self, request, stream, timeout, verify, cert, proxies)\u001b[0m\n\u001b[0;32m    448\u001b[0m                     \u001b[0mretries\u001b[0m\u001b[1;33m=\u001b[0m\u001b[0mself\u001b[0m\u001b[1;33m.\u001b[0m\u001b[0mmax_retries\u001b[0m\u001b[1;33m,\u001b[0m\u001b[1;33m\u001b[0m\u001b[0m\n\u001b[1;32m--> 449\u001b[1;33m                     \u001b[0mtimeout\u001b[0m\u001b[1;33m=\u001b[0m\u001b[0mtimeout\u001b[0m\u001b[1;33m\u001b[0m\u001b[0m\n\u001b[0m\u001b[0;32m    450\u001b[0m                 )\n",
      "\u001b[1;32m~\\Anaconda3\\envs\\py2cyto_sandbox\\lib\\site-packages\\urllib3\\connectionpool.py\u001b[0m in \u001b[0;36murlopen\u001b[1;34m(self, method, url, body, headers, retries, redirect, assert_same_host, timeout, pool_timeout, release_conn, chunked, body_pos, **response_kw)\u001b[0m\n\u001b[0;32m    719\u001b[0m             retries = retries.increment(\n\u001b[1;32m--> 720\u001b[1;33m                 \u001b[0mmethod\u001b[0m\u001b[1;33m,\u001b[0m \u001b[0murl\u001b[0m\u001b[1;33m,\u001b[0m \u001b[0merror\u001b[0m\u001b[1;33m=\u001b[0m\u001b[0me\u001b[0m\u001b[1;33m,\u001b[0m \u001b[0m_pool\u001b[0m\u001b[1;33m=\u001b[0m\u001b[0mself\u001b[0m\u001b[1;33m,\u001b[0m \u001b[0m_stacktrace\u001b[0m\u001b[1;33m=\u001b[0m\u001b[0msys\u001b[0m\u001b[1;33m.\u001b[0m\u001b[0mexc_info\u001b[0m\u001b[1;33m(\u001b[0m\u001b[1;33m)\u001b[0m\u001b[1;33m[\u001b[0m\u001b[1;36m2\u001b[0m\u001b[1;33m]\u001b[0m\u001b[1;33m\u001b[0m\u001b[0m\n\u001b[0m\u001b[0;32m    721\u001b[0m             )\n",
      "\u001b[1;32m~\\Anaconda3\\envs\\py2cyto_sandbox\\lib\\site-packages\\urllib3\\util\\retry.py\u001b[0m in \u001b[0;36mincrement\u001b[1;34m(self, method, url, response, error, _pool, _stacktrace)\u001b[0m\n\u001b[0;32m    399\u001b[0m             \u001b[1;32mif\u001b[0m \u001b[0mread\u001b[0m \u001b[1;32mis\u001b[0m \u001b[1;32mFalse\u001b[0m \u001b[1;32mor\u001b[0m \u001b[1;32mnot\u001b[0m \u001b[0mself\u001b[0m\u001b[1;33m.\u001b[0m\u001b[0m_is_method_retryable\u001b[0m\u001b[1;33m(\u001b[0m\u001b[0mmethod\u001b[0m\u001b[1;33m)\u001b[0m\u001b[1;33m:\u001b[0m\u001b[1;33m\u001b[0m\u001b[0m\n\u001b[1;32m--> 400\u001b[1;33m                 \u001b[1;32mraise\u001b[0m \u001b[0msix\u001b[0m\u001b[1;33m.\u001b[0m\u001b[0mreraise\u001b[0m\u001b[1;33m(\u001b[0m\u001b[0mtype\u001b[0m\u001b[1;33m(\u001b[0m\u001b[0merror\u001b[0m\u001b[1;33m)\u001b[0m\u001b[1;33m,\u001b[0m \u001b[0merror\u001b[0m\u001b[1;33m,\u001b[0m \u001b[0m_stacktrace\u001b[0m\u001b[1;33m)\u001b[0m\u001b[1;33m\u001b[0m\u001b[0m\n\u001b[0m\u001b[0;32m    401\u001b[0m             \u001b[1;32melif\u001b[0m \u001b[0mread\u001b[0m \u001b[1;32mis\u001b[0m \u001b[1;32mnot\u001b[0m \u001b[1;32mNone\u001b[0m\u001b[1;33m:\u001b[0m\u001b[1;33m\u001b[0m\u001b[0m\n",
      "\u001b[1;32m~\\Anaconda3\\envs\\py2cyto_sandbox\\lib\\site-packages\\urllib3\\packages\\six.py\u001b[0m in \u001b[0;36mreraise\u001b[1;34m(tp, value, tb)\u001b[0m\n\u001b[0;32m    733\u001b[0m             \u001b[1;32mif\u001b[0m \u001b[0mvalue\u001b[0m\u001b[1;33m.\u001b[0m\u001b[0m__traceback__\u001b[0m \u001b[1;32mis\u001b[0m \u001b[1;32mnot\u001b[0m \u001b[0mtb\u001b[0m\u001b[1;33m:\u001b[0m\u001b[1;33m\u001b[0m\u001b[0m\n\u001b[1;32m--> 734\u001b[1;33m                 \u001b[1;32mraise\u001b[0m \u001b[0mvalue\u001b[0m\u001b[1;33m.\u001b[0m\u001b[0mwith_traceback\u001b[0m\u001b[1;33m(\u001b[0m\u001b[0mtb\u001b[0m\u001b[1;33m)\u001b[0m\u001b[1;33m\u001b[0m\u001b[0m\n\u001b[0m\u001b[0;32m    735\u001b[0m             \u001b[1;32mraise\u001b[0m \u001b[0mvalue\u001b[0m\u001b[1;33m\u001b[0m\u001b[0m\n",
      "\u001b[1;32m~\\Anaconda3\\envs\\py2cyto_sandbox\\lib\\site-packages\\urllib3\\connectionpool.py\u001b[0m in \u001b[0;36murlopen\u001b[1;34m(self, method, url, body, headers, retries, redirect, assert_same_host, timeout, pool_timeout, release_conn, chunked, body_pos, **response_kw)\u001b[0m\n\u001b[0;32m    671\u001b[0m                 \u001b[0mheaders\u001b[0m\u001b[1;33m=\u001b[0m\u001b[0mheaders\u001b[0m\u001b[1;33m,\u001b[0m\u001b[1;33m\u001b[0m\u001b[0m\n\u001b[1;32m--> 672\u001b[1;33m                 \u001b[0mchunked\u001b[0m\u001b[1;33m=\u001b[0m\u001b[0mchunked\u001b[0m\u001b[1;33m,\u001b[0m\u001b[1;33m\u001b[0m\u001b[0m\n\u001b[0m\u001b[0;32m    673\u001b[0m             )\n",
      "\u001b[1;32m~\\Anaconda3\\envs\\py2cyto_sandbox\\lib\\site-packages\\urllib3\\connectionpool.py\u001b[0m in \u001b[0;36m_make_request\u001b[1;34m(self, conn, method, url, timeout, chunked, **httplib_request_kw)\u001b[0m\n\u001b[0;32m    420\u001b[0m                     \u001b[1;31m# Otherwise it looks like a bug in the code.\u001b[0m\u001b[1;33m\u001b[0m\u001b[1;33m\u001b[0m\u001b[0m\n\u001b[1;32m--> 421\u001b[1;33m                     \u001b[0msix\u001b[0m\u001b[1;33m.\u001b[0m\u001b[0mraise_from\u001b[0m\u001b[1;33m(\u001b[0m\u001b[0me\u001b[0m\u001b[1;33m,\u001b[0m \u001b[1;32mNone\u001b[0m\u001b[1;33m)\u001b[0m\u001b[1;33m\u001b[0m\u001b[0m\n\u001b[0m\u001b[0;32m    422\u001b[0m         \u001b[1;32mexcept\u001b[0m \u001b[1;33m(\u001b[0m\u001b[0mSocketTimeout\u001b[0m\u001b[1;33m,\u001b[0m \u001b[0mBaseSSLError\u001b[0m\u001b[1;33m,\u001b[0m \u001b[0mSocketError\u001b[0m\u001b[1;33m)\u001b[0m \u001b[1;32mas\u001b[0m \u001b[0me\u001b[0m\u001b[1;33m:\u001b[0m\u001b[1;33m\u001b[0m\u001b[0m\n",
      "\u001b[1;32m~\\Anaconda3\\envs\\py2cyto_sandbox\\lib\\site-packages\\urllib3\\packages\\six.py\u001b[0m in \u001b[0;36mraise_from\u001b[1;34m(value, from_value)\u001b[0m\n",
      "\u001b[1;32m~\\Anaconda3\\envs\\py2cyto_sandbox\\lib\\site-packages\\urllib3\\connectionpool.py\u001b[0m in \u001b[0;36m_make_request\u001b[1;34m(self, conn, method, url, timeout, chunked, **httplib_request_kw)\u001b[0m\n\u001b[0;32m    415\u001b[0m                 \u001b[1;32mtry\u001b[0m\u001b[1;33m:\u001b[0m\u001b[1;33m\u001b[0m\u001b[0m\n\u001b[1;32m--> 416\u001b[1;33m                     \u001b[0mhttplib_response\u001b[0m \u001b[1;33m=\u001b[0m \u001b[0mconn\u001b[0m\u001b[1;33m.\u001b[0m\u001b[0mgetresponse\u001b[0m\u001b[1;33m(\u001b[0m\u001b[1;33m)\u001b[0m\u001b[1;33m\u001b[0m\u001b[0m\n\u001b[0m\u001b[0;32m    417\u001b[0m                 \u001b[1;32mexcept\u001b[0m \u001b[0mBaseException\u001b[0m \u001b[1;32mas\u001b[0m \u001b[0me\u001b[0m\u001b[1;33m:\u001b[0m\u001b[1;33m\u001b[0m\u001b[0m\n",
      "\u001b[1;32m~\\Anaconda3\\envs\\py2cyto_sandbox\\lib\\http\\client.py\u001b[0m in \u001b[0;36mgetresponse\u001b[1;34m(self)\u001b[0m\n\u001b[0;32m   1197\u001b[0m             \u001b[1;32mtry\u001b[0m\u001b[1;33m:\u001b[0m\u001b[1;33m\u001b[0m\u001b[0m\n\u001b[1;32m-> 1198\u001b[1;33m                 \u001b[0mresponse\u001b[0m\u001b[1;33m.\u001b[0m\u001b[0mbegin\u001b[0m\u001b[1;33m(\u001b[0m\u001b[1;33m)\u001b[0m\u001b[1;33m\u001b[0m\u001b[0m\n\u001b[0m\u001b[0;32m   1199\u001b[0m             \u001b[1;32mexcept\u001b[0m \u001b[0mConnectionError\u001b[0m\u001b[1;33m:\u001b[0m\u001b[1;33m\u001b[0m\u001b[0m\n",
      "\u001b[1;32m~\\Anaconda3\\envs\\py2cyto_sandbox\\lib\\http\\client.py\u001b[0m in \u001b[0;36mbegin\u001b[1;34m(self)\u001b[0m\n\u001b[0;32m    296\u001b[0m         \u001b[1;32mwhile\u001b[0m \u001b[1;32mTrue\u001b[0m\u001b[1;33m:\u001b[0m\u001b[1;33m\u001b[0m\u001b[0m\n\u001b[1;32m--> 297\u001b[1;33m             \u001b[0mversion\u001b[0m\u001b[1;33m,\u001b[0m \u001b[0mstatus\u001b[0m\u001b[1;33m,\u001b[0m \u001b[0mreason\u001b[0m \u001b[1;33m=\u001b[0m \u001b[0mself\u001b[0m\u001b[1;33m.\u001b[0m\u001b[0m_read_status\u001b[0m\u001b[1;33m(\u001b[0m\u001b[1;33m)\u001b[0m\u001b[1;33m\u001b[0m\u001b[0m\n\u001b[0m\u001b[0;32m    298\u001b[0m             \u001b[1;32mif\u001b[0m \u001b[0mstatus\u001b[0m \u001b[1;33m!=\u001b[0m \u001b[0mCONTINUE\u001b[0m\u001b[1;33m:\u001b[0m\u001b[1;33m\u001b[0m\u001b[0m\n",
      "\u001b[1;32m~\\Anaconda3\\envs\\py2cyto_sandbox\\lib\\http\\client.py\u001b[0m in \u001b[0;36m_read_status\u001b[1;34m(self)\u001b[0m\n\u001b[0;32m    257\u001b[0m     \u001b[1;32mdef\u001b[0m \u001b[0m_read_status\u001b[0m\u001b[1;33m(\u001b[0m\u001b[0mself\u001b[0m\u001b[1;33m)\u001b[0m\u001b[1;33m:\u001b[0m\u001b[1;33m\u001b[0m\u001b[0m\n\u001b[1;32m--> 258\u001b[1;33m         \u001b[0mline\u001b[0m \u001b[1;33m=\u001b[0m \u001b[0mstr\u001b[0m\u001b[1;33m(\u001b[0m\u001b[0mself\u001b[0m\u001b[1;33m.\u001b[0m\u001b[0mfp\u001b[0m\u001b[1;33m.\u001b[0m\u001b[0mreadline\u001b[0m\u001b[1;33m(\u001b[0m\u001b[0m_MAXLINE\u001b[0m \u001b[1;33m+\u001b[0m \u001b[1;36m1\u001b[0m\u001b[1;33m)\u001b[0m\u001b[1;33m,\u001b[0m \u001b[1;34m\"iso-8859-1\"\u001b[0m\u001b[1;33m)\u001b[0m\u001b[1;33m\u001b[0m\u001b[0m\n\u001b[0m\u001b[0;32m    259\u001b[0m         \u001b[1;32mif\u001b[0m \u001b[0mlen\u001b[0m\u001b[1;33m(\u001b[0m\u001b[0mline\u001b[0m\u001b[1;33m)\u001b[0m \u001b[1;33m>\u001b[0m \u001b[0m_MAXLINE\u001b[0m\u001b[1;33m:\u001b[0m\u001b[1;33m\u001b[0m\u001b[0m\n",
      "\u001b[1;32m~\\Anaconda3\\envs\\py2cyto_sandbox\\lib\\socket.py\u001b[0m in \u001b[0;36mreadinto\u001b[1;34m(self, b)\u001b[0m\n\u001b[0;32m    575\u001b[0m             \u001b[1;32mtry\u001b[0m\u001b[1;33m:\u001b[0m\u001b[1;33m\u001b[0m\u001b[0m\n\u001b[1;32m--> 576\u001b[1;33m                 \u001b[1;32mreturn\u001b[0m \u001b[0mself\u001b[0m\u001b[1;33m.\u001b[0m\u001b[0m_sock\u001b[0m\u001b[1;33m.\u001b[0m\u001b[0mrecv_into\u001b[0m\u001b[1;33m(\u001b[0m\u001b[0mb\u001b[0m\u001b[1;33m)\u001b[0m\u001b[1;33m\u001b[0m\u001b[0m\n\u001b[0m\u001b[0;32m    577\u001b[0m             \u001b[1;32mexcept\u001b[0m \u001b[0mtimeout\u001b[0m\u001b[1;33m:\u001b[0m\u001b[1;33m\u001b[0m\u001b[0m\n",
      "\u001b[1;31mProtocolError\u001b[0m: ('Connection aborted.', ConnectionResetError(10054, 'An existing connection was forcibly closed by the remote host', None, 10054, None))",
      "\nDuring handling of the above exception, another exception occurred:\n",
      "\u001b[1;31mConnectionError\u001b[0m                           Traceback (most recent call last)",
      "\u001b[1;32m<ipython-input-11-b80ec2507bd0>\u001b[0m in \u001b[0;36m<module>\u001b[1;34m\u001b[0m\n\u001b[0;32m      3\u001b[0m                       \u001b[0mkeyColumnIndex\u001b[0m\u001b[1;33m=\u001b[0m\u001b[1;34m'1'\u001b[0m\u001b[1;33m,\u001b[0m\u001b[1;33m\u001b[0m\u001b[0m\n\u001b[0;32m      4\u001b[0m                       \u001b[0mstartLoadRow\u001b[0m\u001b[1;33m=\u001b[0m\u001b[1;34m'0'\u001b[0m\u001b[1;33m,\u001b[0m\u001b[1;33m\u001b[0m\u001b[0m\n\u001b[1;32m----> 5\u001b[1;33m                     \u001b[0mdataTypeList\u001b[0m\u001b[1;33m=\u001b[0m\u001b[1;34m\"s,s,b,dl,dl,dl,dl,dl,dl,dl,dl,dl,dl,dl,dl,dl,dl,dl,dl,il,il,il,il,il,il,il,il,il,il,il,il,il,il,\"\u001b[0m\u001b[1;33m\u001b[0m\u001b[0m\n\u001b[0m\u001b[0;32m      6\u001b[0m                      )\n",
      "\u001b[1;32m~\\Anaconda3\\envs\\py2cyto_sandbox\\lib\\site-packages\\py2cytoscape\\cyrest\\table.py\u001b[0m in \u001b[0;36mimport_file\u001b[1;34m(self, caseSensitiveNetworkCollectionKeys, caseSensitiveNetworkKeys, dataTypeList, DataTypeTargetForNetworkCollection, DataTypeTargetForNetworkList, delimiters, delimitersForDataList, afile, firstRowAsColumnNames, KeyColumnForMapping, KeyColumnForMappingNetworkList, keyColumnIndex, newTableName, startLoadRow, TargetNetworkCollection, TargetNetworkList, WhereImportTable, verbose)\u001b[0m\n\u001b[0;32m    240\u001b[0m         \u001b[0mkeyColumnIndex\u001b[0m\u001b[1;33m,\u001b[0m\u001b[0mnewTableName\u001b[0m\u001b[1;33m,\u001b[0m\u001b[0mstartLoadRow\u001b[0m\u001b[1;33m,\u001b[0m\u001b[0mTargetNetworkCollection\u001b[0m\u001b[1;33m,\u001b[0m\u001b[0;31m\\\u001b[0m\u001b[1;33m\u001b[0m\u001b[0m\n\u001b[0;32m    241\u001b[0m         TargetNetworkList,WhereImportTable])\n\u001b[1;32m--> 242\u001b[1;33m         \u001b[0mresponse\u001b[0m\u001b[1;33m=\u001b[0m\u001b[0mapi\u001b[0m\u001b[1;33m(\u001b[0m\u001b[0murl\u001b[0m\u001b[1;33m=\u001b[0m\u001b[0mself\u001b[0m\u001b[1;33m.\u001b[0m\u001b[0m__url\u001b[0m\u001b[1;33m+\u001b[0m\u001b[1;34m\"/import file\"\u001b[0m\u001b[1;33m,\u001b[0m \u001b[0mPARAMS\u001b[0m\u001b[1;33m=\u001b[0m\u001b[0mPARAMS\u001b[0m\u001b[1;33m,\u001b[0m \u001b[0mmethod\u001b[0m\u001b[1;33m=\u001b[0m\u001b[1;34m\"POST\"\u001b[0m\u001b[1;33m,\u001b[0m \u001b[0mverbose\u001b[0m\u001b[1;33m=\u001b[0m\u001b[0mverbose\u001b[0m\u001b[1;33m)\u001b[0m\u001b[1;33m\u001b[0m\u001b[0m\n\u001b[0m\u001b[0;32m    243\u001b[0m         \u001b[1;32mreturn\u001b[0m \u001b[0mresponse\u001b[0m\u001b[1;33m\u001b[0m\u001b[0m\n\u001b[0;32m    244\u001b[0m \u001b[1;33m\u001b[0m\u001b[0m\n",
      "\u001b[1;32m~\\Anaconda3\\envs\\py2cyto_sandbox\\lib\\site-packages\\py2cytoscape\\cyrest\\base.py\u001b[0m in \u001b[0;36mapi\u001b[1;34m(namespace, command, PARAMS, body, host, port, version, method, verbose, url, parse_params)\u001b[0m\n\u001b[0;32m    138\u001b[0m             \u001b[0mprint\u001b[0m\u001b[1;33m(\u001b[0m\u001b[1;34m\"'\"\u001b[0m\u001b[1;33m+\u001b[0m\u001b[0mbaseurl\u001b[0m\u001b[1;33m+\u001b[0m\u001b[1;34m\"'\"\u001b[0m\u001b[1;33m)\u001b[0m\u001b[1;33m\u001b[0m\u001b[0m\n\u001b[0;32m    139\u001b[0m             \u001b[0msys\u001b[0m\u001b[1;33m.\u001b[0m\u001b[0mstdout\u001b[0m\u001b[1;33m.\u001b[0m\u001b[0mflush\u001b[0m\u001b[1;33m(\u001b[0m\u001b[1;33m)\u001b[0m\u001b[1;33m\u001b[0m\u001b[0m\n\u001b[1;32m--> 140\u001b[1;33m         \u001b[0mr\u001b[0m \u001b[1;33m=\u001b[0m \u001b[0mrequests\u001b[0m\u001b[1;33m.\u001b[0m\u001b[0mpost\u001b[0m\u001b[1;33m(\u001b[0m\u001b[0murl\u001b[0m \u001b[1;33m=\u001b[0m \u001b[0mbaseurl\u001b[0m\u001b[1;33m,\u001b[0m \u001b[0mjson\u001b[0m \u001b[1;33m=\u001b[0m \u001b[0mPARAMS\u001b[0m\u001b[1;33m)\u001b[0m\u001b[1;33m\u001b[0m\u001b[0m\n\u001b[0m\u001b[0;32m    141\u001b[0m         \u001b[0mverbose_\u001b[0m\u001b[1;33m=\u001b[0m\u001b[0mcheckresponse\u001b[0m\u001b[1;33m(\u001b[0m\u001b[0mr\u001b[0m\u001b[1;33m,\u001b[0m \u001b[0mverbose\u001b[0m\u001b[1;33m=\u001b[0m\u001b[0mverbose\u001b[0m\u001b[1;33m)\u001b[0m\u001b[1;33m\u001b[0m\u001b[0m\n\u001b[0;32m    142\u001b[0m         \u001b[1;32mif\u001b[0m \u001b[1;33m(\u001b[0m\u001b[0mverbose\u001b[0m\u001b[1;33m)\u001b[0m \u001b[1;32mor\u001b[0m \u001b[1;33m(\u001b[0m\u001b[0mverbose_\u001b[0m\u001b[1;33m)\u001b[0m\u001b[1;33m:\u001b[0m\u001b[1;33m\u001b[0m\u001b[0m\n",
      "\u001b[1;32m~\\Anaconda3\\envs\\py2cyto_sandbox\\lib\\site-packages\\requests\\api.py\u001b[0m in \u001b[0;36mpost\u001b[1;34m(url, data, json, **kwargs)\u001b[0m\n\u001b[0;32m    114\u001b[0m     \"\"\"\n\u001b[0;32m    115\u001b[0m \u001b[1;33m\u001b[0m\u001b[0m\n\u001b[1;32m--> 116\u001b[1;33m     \u001b[1;32mreturn\u001b[0m \u001b[0mrequest\u001b[0m\u001b[1;33m(\u001b[0m\u001b[1;34m'post'\u001b[0m\u001b[1;33m,\u001b[0m \u001b[0murl\u001b[0m\u001b[1;33m,\u001b[0m \u001b[0mdata\u001b[0m\u001b[1;33m=\u001b[0m\u001b[0mdata\u001b[0m\u001b[1;33m,\u001b[0m \u001b[0mjson\u001b[0m\u001b[1;33m=\u001b[0m\u001b[0mjson\u001b[0m\u001b[1;33m,\u001b[0m \u001b[1;33m**\u001b[0m\u001b[0mkwargs\u001b[0m\u001b[1;33m)\u001b[0m\u001b[1;33m\u001b[0m\u001b[0m\n\u001b[0m\u001b[0;32m    117\u001b[0m \u001b[1;33m\u001b[0m\u001b[0m\n\u001b[0;32m    118\u001b[0m \u001b[1;33m\u001b[0m\u001b[0m\n",
      "\u001b[1;32m~\\Anaconda3\\envs\\py2cyto_sandbox\\lib\\site-packages\\requests\\api.py\u001b[0m in \u001b[0;36mrequest\u001b[1;34m(method, url, **kwargs)\u001b[0m\n\u001b[0;32m     58\u001b[0m     \u001b[1;31m# cases, and look like a memory leak in others.\u001b[0m\u001b[1;33m\u001b[0m\u001b[1;33m\u001b[0m\u001b[0m\n\u001b[0;32m     59\u001b[0m     \u001b[1;32mwith\u001b[0m \u001b[0msessions\u001b[0m\u001b[1;33m.\u001b[0m\u001b[0mSession\u001b[0m\u001b[1;33m(\u001b[0m\u001b[1;33m)\u001b[0m \u001b[1;32mas\u001b[0m \u001b[0msession\u001b[0m\u001b[1;33m:\u001b[0m\u001b[1;33m\u001b[0m\u001b[0m\n\u001b[1;32m---> 60\u001b[1;33m         \u001b[1;32mreturn\u001b[0m \u001b[0msession\u001b[0m\u001b[1;33m.\u001b[0m\u001b[0mrequest\u001b[0m\u001b[1;33m(\u001b[0m\u001b[0mmethod\u001b[0m\u001b[1;33m=\u001b[0m\u001b[0mmethod\u001b[0m\u001b[1;33m,\u001b[0m \u001b[0murl\u001b[0m\u001b[1;33m=\u001b[0m\u001b[0murl\u001b[0m\u001b[1;33m,\u001b[0m \u001b[1;33m**\u001b[0m\u001b[0mkwargs\u001b[0m\u001b[1;33m)\u001b[0m\u001b[1;33m\u001b[0m\u001b[0m\n\u001b[0m\u001b[0;32m     61\u001b[0m \u001b[1;33m\u001b[0m\u001b[0m\n\u001b[0;32m     62\u001b[0m \u001b[1;33m\u001b[0m\u001b[0m\n",
      "\u001b[1;32m~\\Anaconda3\\envs\\py2cyto_sandbox\\lib\\site-packages\\requests\\sessions.py\u001b[0m in \u001b[0;36mrequest\u001b[1;34m(self, method, url, params, data, headers, cookies, files, auth, timeout, allow_redirects, proxies, hooks, stream, verify, cert, json)\u001b[0m\n\u001b[0;32m    531\u001b[0m         }\n\u001b[0;32m    532\u001b[0m         \u001b[0msend_kwargs\u001b[0m\u001b[1;33m.\u001b[0m\u001b[0mupdate\u001b[0m\u001b[1;33m(\u001b[0m\u001b[0msettings\u001b[0m\u001b[1;33m)\u001b[0m\u001b[1;33m\u001b[0m\u001b[0m\n\u001b[1;32m--> 533\u001b[1;33m         \u001b[0mresp\u001b[0m \u001b[1;33m=\u001b[0m \u001b[0mself\u001b[0m\u001b[1;33m.\u001b[0m\u001b[0msend\u001b[0m\u001b[1;33m(\u001b[0m\u001b[0mprep\u001b[0m\u001b[1;33m,\u001b[0m \u001b[1;33m**\u001b[0m\u001b[0msend_kwargs\u001b[0m\u001b[1;33m)\u001b[0m\u001b[1;33m\u001b[0m\u001b[0m\n\u001b[0m\u001b[0;32m    534\u001b[0m \u001b[1;33m\u001b[0m\u001b[0m\n\u001b[0;32m    535\u001b[0m         \u001b[1;32mreturn\u001b[0m \u001b[0mresp\u001b[0m\u001b[1;33m\u001b[0m\u001b[0m\n",
      "\u001b[1;32m~\\Anaconda3\\envs\\py2cyto_sandbox\\lib\\site-packages\\requests\\sessions.py\u001b[0m in \u001b[0;36msend\u001b[1;34m(self, request, **kwargs)\u001b[0m\n\u001b[0;32m    644\u001b[0m \u001b[1;33m\u001b[0m\u001b[0m\n\u001b[0;32m    645\u001b[0m         \u001b[1;31m# Send the request\u001b[0m\u001b[1;33m\u001b[0m\u001b[1;33m\u001b[0m\u001b[0m\n\u001b[1;32m--> 646\u001b[1;33m         \u001b[0mr\u001b[0m \u001b[1;33m=\u001b[0m \u001b[0madapter\u001b[0m\u001b[1;33m.\u001b[0m\u001b[0msend\u001b[0m\u001b[1;33m(\u001b[0m\u001b[0mrequest\u001b[0m\u001b[1;33m,\u001b[0m \u001b[1;33m**\u001b[0m\u001b[0mkwargs\u001b[0m\u001b[1;33m)\u001b[0m\u001b[1;33m\u001b[0m\u001b[0m\n\u001b[0m\u001b[0;32m    647\u001b[0m \u001b[1;33m\u001b[0m\u001b[0m\n\u001b[0;32m    648\u001b[0m         \u001b[1;31m# Total elapsed time of the request (approximately)\u001b[0m\u001b[1;33m\u001b[0m\u001b[1;33m\u001b[0m\u001b[0m\n",
      "\u001b[1;32m~\\Anaconda3\\envs\\py2cyto_sandbox\\lib\\site-packages\\requests\\adapters.py\u001b[0m in \u001b[0;36msend\u001b[1;34m(self, request, stream, timeout, verify, cert, proxies)\u001b[0m\n\u001b[0;32m    496\u001b[0m \u001b[1;33m\u001b[0m\u001b[0m\n\u001b[0;32m    497\u001b[0m         \u001b[1;32mexcept\u001b[0m \u001b[1;33m(\u001b[0m\u001b[0mProtocolError\u001b[0m\u001b[1;33m,\u001b[0m \u001b[0msocket\u001b[0m\u001b[1;33m.\u001b[0m\u001b[0merror\u001b[0m\u001b[1;33m)\u001b[0m \u001b[1;32mas\u001b[0m \u001b[0merr\u001b[0m\u001b[1;33m:\u001b[0m\u001b[1;33m\u001b[0m\u001b[0m\n\u001b[1;32m--> 498\u001b[1;33m             \u001b[1;32mraise\u001b[0m \u001b[0mConnectionError\u001b[0m\u001b[1;33m(\u001b[0m\u001b[0merr\u001b[0m\u001b[1;33m,\u001b[0m \u001b[0mrequest\u001b[0m\u001b[1;33m=\u001b[0m\u001b[0mrequest\u001b[0m\u001b[1;33m)\u001b[0m\u001b[1;33m\u001b[0m\u001b[0m\n\u001b[0m\u001b[0;32m    499\u001b[0m \u001b[1;33m\u001b[0m\u001b[0m\n\u001b[0;32m    500\u001b[0m         \u001b[1;32mexcept\u001b[0m \u001b[0mMaxRetryError\u001b[0m \u001b[1;32mas\u001b[0m \u001b[0me\u001b[0m\u001b[1;33m:\u001b[0m\u001b[1;33m\u001b[0m\u001b[0m\n",
      "\u001b[1;31mConnectionError\u001b[0m: ('Connection aborted.', ConnectionResetError(10054, 'An existing connection was forcibly closed by the remote host', None, 10054, None))"
     ]
    }
   ],
   "source": [
    "cyy.table.import_file(afile=annotations,\n",
    "                     firstRowAsColumnNames=True,\n",
    "                      keyColumnIndex='1',\n",
    "                      startLoadRow='0',\n",
    "                    dataTypeList=\"s,s,b,dl,dl,dl,dl,dl,dl,dl,dl,dl,dl,dl,dl,dl,dl,dl,dl,il,il,il,il,il,il,il,il,il,il,il,il,il,il,\"\n",
    "                     )\n"
   ]
  },
  {
   "cell_type": "code",
   "execution_count": null,
   "metadata": {},
   "outputs": [],
   "source": []
  }
 ],
 "metadata": {
  "kernelspec": {
   "display_name": "py2cyto-sandbox",
   "language": "python",
   "name": "py2cyto-sandbox"
  },
  "language_info": {
   "codemirror_mode": {
    "name": "ipython",
    "version": 3
   },
   "file_extension": ".py",
   "mimetype": "text/x-python",
   "name": "python",
   "nbconvert_exporter": "python",
   "pygments_lexer": "ipython3",
   "version": "3.5.4"
  },
  "toc": {
   "base_numbering": 1,
   "nav_menu": {},
   "number_sections": true,
   "sideBar": true,
   "skip_h1_title": false,
   "title_cell": "Table of Contents",
   "title_sidebar": "Contents",
   "toc_cell": false,
   "toc_position": {},
   "toc_section_display": true,
   "toc_window_display": true
  }
 },
 "nbformat": 4,
 "nbformat_minor": 2
}
