{
 "metadata": {
  "name": "",
  "signature": "sha256:e87c6f5d8eb7aa36bb16b55d9374e55928783f33a2bb1a4960802d5899ad1bbe"
 },
 "nbformat": 3,
 "nbformat_minor": 0,
 "worksheets": [
  {
   "cells": [
    {
     "cell_type": "heading",
     "level": 1,
     "metadata": {},
     "source": [
      "Combine multiple protein and peptide annotations to create a single annotation for Cytoscape"
     ]
    },
    {
     "cell_type": "heading",
     "level": 2,
     "metadata": {},
     "source": [
      "Set up file locations"
     ]
    },
    {
     "cell_type": "code",
     "collapsed": false,
     "input": [
      "%cd ../python\n",
      "\n",
      "import os\n",
      "import EGFRUtil\n",
      "\n",
      "baseDir = os.path.join('..','..')\n",
      "pepMapFile = os.path.join(baseDir, 'phosphorylation-data-sets', 'McKenna2014', 'McKenna2014_aggregated_replicateABC_peptideMapping_firstProtein.txt')\n",
      "pepPrizeFile = os.path.join(baseDir, 'phosphorylation-data-sets', 'McKenna2014', 'McKenna2014_aggregated_replicateABC_tukey_firstprev_peptidePrizes.txt')\n",
      "goldStandardFile = os.path.join(baseDir, 'evaluation', '2014-10-03', 'eight-egfr-reference-all.txt')\n",
      "workingDir = os.path.join(baseDir, 'synthesis072614')\n",
      "timeSeriesFile = os.path.join(workingDir, 'log2FoldChange011215.txt')\n",
      "windowsFile = os.path.join(workingDir, 'all-activity-windows-reformatted-010515.txt')\n",
      "outFile = os.path.join(workingDir, 'cytoscapeAnnotations011215.txt')"
     ],
     "language": "python",
     "metadata": {},
     "outputs": [
      {
       "output_type": "stream",
       "stream": "stdout",
       "text": [
        "C:\\Users\\agitter\\Desktop\\postdocToSave\\egfr\\src\\python\n"
       ]
      }
     ],
     "prompt_number": 5
    },
    {
     "cell_type": "heading",
     "level": 2,
     "metadata": {},
     "source": [
      "Call the function to load the temporal and EGFR gold standard annotations and merge them into a Cytoscape-readable format\n"
     ]
    },
    {
     "cell_type": "code",
     "collapsed": false,
     "input": [
      "pepsPerProt = EGFRUtil.PrepTemporalCytoscape(pepMapFile, timeSeriesFile, pepPrizeFile, windowsFile, goldStandardFile, outFile)"
     ],
     "language": "python",
     "metadata": {},
     "outputs": [
      {
       "output_type": "stream",
       "stream": "stdout",
       "text": [
        "Loaded protein id map for 1068 peptides\n",
        "Loaded prizes for 1068 peptides\n",
        "263 peptides with significant prizes (>= 2)\n",
        "Loaded time series for 701 proteins (and pseudonodes)\n",
        "Mean peptides per protein: 1.523538\n",
        "Max peptides per protein: 12\n",
        "Max significant peptides per protein: 6\n",
        "Max insignificant peptides per protein: 10\n",
        "Loaded activity windows for 316 proteins\n",
        "Loaded 324 gold standard EGFR reference pathway proteins\n",
        "Wrote attributes for 38 Steiner nodes in the synthesized pathway\n",
        "Wrote attributes for 173 prize nodes in the synthesized pathway with a significant peptide\n",
        "Wrote attributes for 105 prize nodes in the synthesized pathway with no significant peptides\n",
        "Wrote attributes for 423 proteins excluded by PCSF or synthesis\n"
       ]
      }
     ],
     "prompt_number": 6
    },
    {
     "cell_type": "heading",
     "level": 2,
     "metadata": {},
     "source": [
      "Plot the number of peptides per protein"
     ]
    },
    {
     "cell_type": "code",
     "collapsed": false,
     "input": [
      "% pylab inline\n",
      "hist(pepsPerProt)\n",
      "for count in range(1,max(pepsPerProt)+1):\n",
      "    print \"%d proteins with %d peptide(s)\" % (sum([x == count for x in pepsPerProt]), count)"
     ],
     "language": "python",
     "metadata": {},
     "outputs": [
      {
       "output_type": "stream",
       "stream": "stdout",
       "text": [
        "Populating the interactive namespace from numpy and matplotlib\n",
        "492 proteins with 1 peptide(s)"
       ]
      },
      {
       "output_type": "stream",
       "stream": "stdout",
       "text": [
        "\n",
        "135 proteins with 2 peptide(s)\n",
        "37 proteins with 3 peptide(s)\n",
        "18 proteins with 4 peptide(s)\n",
        "10 proteins with 5 peptide(s)\n",
        "4 proteins with 6 peptide(s)\n",
        "0 proteins with 7 peptide(s)\n",
        "2 proteins with 8 peptide(s)\n",
        "0 proteins with 9 peptide(s)\n",
        "1 proteins with 10 peptide(s)\n",
        "1 proteins with 11 peptide(s)\n",
        "1 proteins with 12 peptide(s)\n"
       ]
      },
      {
       "metadata": {},
       "output_type": "display_data",
       "png": "[encoded data removed]",
       "text": [
        "<matplotlib.figure.Figure at 0x3934940>"
       ]
      }
     ],
     "prompt_number": 7
    },
    {
     "cell_type": "heading",
     "level": 2,
     "metadata": {},
     "source": [
      "Test the summarization of temporal activity windows"
     ]
    },
    {
     "cell_type": "markdown",
     "metadata": {},
     "source": [
      "Test with lists and sets even though only sets are used when creating the Cytoscape annotations.  The last test case will raise an error."
     ]
    },
    {
     "cell_type": "code",
     "collapsed": false,
     "input": [
      "statesList = [[\"ambiguous\", \"activation\"],\n",
      "              [\"activation\", \"activation\"],\n",
      "              [\"inhibition\", \"inhibition\"],\n",
      "              [\"inhibition\", \"activation\"],\n",
      "              [\"inhibition\", \"activation\", \"inactive\"],\n",
      "              [\"inhibition\", \"activation\", \"ambiguous\"],\n",
      "              [\"inhibition\", \"inactive\", \"inactive\"],\n",
      "              [\"inactive\", \"inactive\", \"inactive\"],\n",
      "              [\"inactive\", \"activation\"]]\n",
      "for states in statesList:\n",
      "    print \"%s\\t%s\" % (EGFRUtil.SummarizeWindow(states), str(states))\n",
      "for states in statesList:\n",
      "    print \"%s\\t%s\" % (EGFRUtil.SummarizeWindow(set(states)), str(set(states)))\n",
      "EGFRUtil.SummarizeWindow([\"test\"])"
     ],
     "language": "python",
     "metadata": {},
     "outputs": [
      {
       "output_type": "stream",
       "stream": "stdout",
       "text": [
        "ambiguous\t['ambiguous', 'activation']\n",
        "activation\t['activation', 'activation']\n",
        "inhibition\t['inhibition', 'inhibition']\n",
        "ambiguous\t['inhibition', 'activation']\n",
        "ambiguous\t['inhibition', 'activation', 'inactive']\n",
        "ambiguous\t['inhibition', 'activation', 'ambiguous']\n",
        "inhibition\t['inhibition', 'inactive', 'inactive']\n",
        "inactive\t['inactive', 'inactive', 'inactive']\n",
        "activation\t['inactive', 'activation']\n",
        "ambiguous\tset(['ambiguous', 'activation'])\n",
        "activation\tset(['activation'])\n",
        "inhibition\tset(['inhibition'])\n",
        "ambiguous\tset(['activation', 'inhibition'])\n",
        "ambiguous\tset(['inactive', 'activation', 'inhibition'])\n",
        "ambiguous\tset(['ambiguous', 'activation', 'inhibition'])\n",
        "inhibition\tset(['inactive', 'inhibition'])\n",
        "inactive\tset(['inactive'])\n",
        "activation\tset(['activation', 'inactive'])\n"
       ]
      },
      {
       "ename": "RuntimeError",
       "evalue": "Invalid temporal activity state: test",
       "output_type": "pyerr",
       "traceback": [
        "\u001b[1;31m---------------------------------------------------------------------------\u001b[0m\n\u001b[1;31mRuntimeError\u001b[0m                              Traceback (most recent call last)",
        "\u001b[1;32m<ipython-input-8-f444d5f9d2bf>\u001b[0m in \u001b[0;36m<module>\u001b[1;34m()\u001b[0m\n\u001b[0;32m     12\u001b[0m \u001b[1;32mfor\u001b[0m \u001b[0mstates\u001b[0m \u001b[1;32min\u001b[0m \u001b[0mstatesList\u001b[0m\u001b[1;33m:\u001b[0m\u001b[1;33m\u001b[0m\u001b[0m\n\u001b[0;32m     13\u001b[0m     \u001b[1;32mprint\u001b[0m \u001b[1;34m\"%s\\t%s\"\u001b[0m \u001b[1;33m%\u001b[0m \u001b[1;33m(\u001b[0m\u001b[0mEGFRUtil\u001b[0m\u001b[1;33m.\u001b[0m\u001b[0mSummarizeWindow\u001b[0m\u001b[1;33m(\u001b[0m\u001b[0mset\u001b[0m\u001b[1;33m(\u001b[0m\u001b[0mstates\u001b[0m\u001b[1;33m)\u001b[0m\u001b[1;33m)\u001b[0m\u001b[1;33m,\u001b[0m \u001b[0mstr\u001b[0m\u001b[1;33m(\u001b[0m\u001b[0mset\u001b[0m\u001b[1;33m(\u001b[0m\u001b[0mstates\u001b[0m\u001b[1;33m)\u001b[0m\u001b[1;33m)\u001b[0m\u001b[1;33m)\u001b[0m\u001b[1;33m\u001b[0m\u001b[0m\n\u001b[1;32m---> 14\u001b[1;33m \u001b[0mEGFRUtil\u001b[0m\u001b[1;33m.\u001b[0m\u001b[0mSummarizeWindow\u001b[0m\u001b[1;33m(\u001b[0m\u001b[1;33m[\u001b[0m\u001b[1;34m\"test\"\u001b[0m\u001b[1;33m]\u001b[0m\u001b[1;33m)\u001b[0m\u001b[1;33m\u001b[0m\u001b[0m\n\u001b[0m",
        "\u001b[1;32mC:\\Users\\agitter\\Desktop\\postdocToSave\\egfr\\src\\python\\EGFRUtil.py\u001b[0m in \u001b[0;36mSummarizeWindow\u001b[1;34m(states)\u001b[0m\n\u001b[0;32m    224\u001b[0m     \u001b[1;32mfor\u001b[0m \u001b[0mstate\u001b[0m \u001b[1;32min\u001b[0m \u001b[0mstates\u001b[0m\u001b[1;33m:\u001b[0m\u001b[1;33m\u001b[0m\u001b[0m\n\u001b[0;32m    225\u001b[0m         \u001b[1;32mif\u001b[0m \u001b[0mstate\u001b[0m \u001b[1;32mnot\u001b[0m \u001b[1;32min\u001b[0m \u001b[0mvalidStates\u001b[0m\u001b[1;33m:\u001b[0m\u001b[1;33m\u001b[0m\u001b[0m\n\u001b[1;32m--> 226\u001b[1;33m             \u001b[1;32mraise\u001b[0m \u001b[0mRuntimeError\u001b[0m\u001b[1;33m(\u001b[0m\u001b[1;34m\"Invalid temporal activity state: %s\"\u001b[0m \u001b[1;33m%\u001b[0m \u001b[0mstate\u001b[0m\u001b[1;33m)\u001b[0m\u001b[1;33m\u001b[0m\u001b[0m\n\u001b[0m\u001b[0;32m    227\u001b[0m \u001b[1;33m\u001b[0m\u001b[0m\n\u001b[0;32m    228\u001b[0m     \u001b[1;31m# If any are ambiguous, the entire window is ambiguous\u001b[0m\u001b[1;33m\u001b[0m\u001b[1;33m\u001b[0m\u001b[0m\n",
        "\u001b[1;31mRuntimeError\u001b[0m: Invalid temporal activity state: test"
       ]
      }
     ],
     "prompt_number": 8
    }
   ],
   "metadata": {}
  }
 ]
}