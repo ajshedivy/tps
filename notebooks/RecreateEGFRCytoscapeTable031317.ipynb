{
 "cells": [
  {
   "cell_type": "markdown",
   "metadata": {},
   "source": [
    "# Combine multiple protein and peptide annotations to create a single annotation for Cytoscape - March 31, 2017"
   ]
  },
  {
   "cell_type": "markdown",
   "metadata": {},
   "source": [
    "Use the Wolf-Yadlin lab input data and TPS output.  Reproduce the earlier verison of the network figure to assess that the sytle file generation is working."
   ]
  },
  {
   "cell_type": "markdown",
   "metadata": {},
   "source": [
    "## Set up file locations"
   ]
  },
  {
   "cell_type": "code",
   "execution_count": 23,
   "metadata": {
    "ExecuteTime": {
     "end_time": "2020-05-13T17:56:58.576802Z",
     "start_time": "2020-05-13T17:56:58.502035Z"
    }
   },
   "outputs": [
    {
     "name": "stderr",
     "output_type": "stream",
     "text": [
      "'matplotlib' is not recognized as an internal or external command,\n",
      "operable program or batch file.\n"
     ]
    },
    {
     "name": "stdout",
     "output_type": "stream",
     "text": [
      "C:\\Users\\ajshe\\Anaconda3\\envs\\py2cyto\\tps\n",
      "C:\\Users\\ajshe\\Anaconda3\\envs\\py2cyto\\tps\\data\\timeseries\n",
      "C:\\Users\\ajshe\\Anaconda3\\envs\\py2cyto\\tps\\htcondor_results\\results_reproduce_egfr_tps_051320\n",
      "C:\\Users\\ajshe\\Anaconda3\\envs\\py2cyto\\tps\\data\\timeseries\\peptide-mapping.tsv\n",
      "C:\\Users\\ajshe\\Anaconda3\\envs\\py2cyto\\tps\\data\\timeseries\\p-values-first.tsv\n",
      "C:\\Users\\ajshe\\Anaconda3\\envs\\py2cyto\\tps\\data\\timeseries\\p-values-prev.tsv\n",
      "C:\\Users\\ajshe\\Anaconda3\\envs\\py2cyto\\tps\\data\\timeseries\\log2FoldChange011215.txt\n",
      "C:\\Users\\ajshe\\Anaconda3\\envs\\py2cyto\\tps\\htcondor_results\\results_reproduce_egfr_tps_051320\\activity-windows.tsv\n",
      "C:\\Users\\ajshe\\Anaconda3\\envs\\py2cyto\\tps\\htcondor_results\\results_reproduce_egfr_tps_051320\\output.sif\n"
     ]
    },
    {
     "name": "stderr",
     "output_type": "stream",
     "text": [
      "The system cannot find the path specified.\n"
     ]
    }
   ],
   "source": [
    "!matplotlib inline\n",
    "!cd ../python\n",
    "\n",
    "import os\n",
    "import EGFRUtil\n",
    "import pandas as pd\n",
    "\n",
    "baseDir = os.path.abspath(os.path.join('..'))\n",
    "tps_in_dir = os.path.join(baseDir, 'data', 'timeseries')\n",
    "tps_out_dir = os.path.join(baseDir, 'htcondor_results', 'results_reproduce_egfr_tps_051320')\n",
    "if not os.path.exists(tps_out_dir):\n",
    "    os.makedirs(tps_out_dir)\n",
    "    print('Created {}'.format(tps_out_dir))\n",
    "print(baseDir)\n",
    "print(tps_in_dir)\n",
    "print(tps_out_dir)\n",
    "\n",
    "# Use the version with the header line\n",
    "pepMapFile = os.path.join(tps_in_dir, 'peptide-mapping.tsv')\n",
    "pepFirstFile = os.path.join(tps_in_dir, 'p-values-first.tsv')\n",
    "pepPrevFile = os.path.join(tps_in_dir, 'p-values-prev.tsv')\n",
    "print(pepMapFile)\n",
    "print(pepFirstFile)\n",
    "print(pepPrevFile)\n",
    "\n",
    "\n",
    "# Use the version for which log2 fold change has been precomputed\n",
    "timeSeriesFile = os.path.join(baseDir,'data', 'timeseries', 'log2FoldChange011215.txt')\n",
    "#timeSeriesFile = r\"C:\\\\Users\\\\ajshe\\\\Anaconda3\\\\envs\\\\py2cyto\\\\tps\\\\data\\\\timeseries\\\\log2FoldChange011215.txt\"\n",
    "print(timeSeriesFile)\n",
    "\n",
    "windowsFile = os.path.join(tps_out_dir, 'activity-windows.tsv')\n",
    "networkFile = os.path.join(tps_out_dir, 'output.sif')\n",
    "print(windowsFile)\n",
    "print(networkFile)\n",
    "\n",
    "# Use the same EGFR gold standard for Olsen 2006 and Ale's data\n",
    "goldStandardFile = os.path.join(baseDir, 'evaluation', '2014-10-03', 'eight-egfr-reference-all.txt')\n",
    "\n",
    "styleTemplateFile = os.path.join(baseDir,'notebooks', 'tps_style_template.xml')\n",
    "\n",
    "out_dir = os.path.join(baseDir, 'evaluation', '2020-05-12-and-wolf-yadlin-TPS-cytoscape')\n",
    "if not os.path.exists(out_dir):\n",
    "    os.makedirs(out_dir)\n",
    "    print('Created {}'.format(out_dir))\n",
    "outFile = os.path.join(out_dir, 'wolf-yadlin-cytoscape-annotations-03317.txt')\n",
    "outStyleFile = os.path.join(out_dir, 'tps_style.xml')"
   ]
  },
  {
   "cell_type": "markdown",
   "metadata": {},
   "source": [
    "## Call the function to load the temporal and EGFR gold standard annotations and merge them into a Cytoscape-readable format\n",
    "Add a 0 to the beginning of every time series"
   ]
  },
  {
   "cell_type": "code",
   "execution_count": 27,
   "metadata": {
    "ExecuteTime": {
     "end_time": "2020-05-13T18:01:14.225624Z",
     "start_time": "2020-05-13T18:01:14.172765Z"
    }
   },
   "outputs": [
    {
     "name": "stdout",
     "output_type": "stream",
     "text": [
      "Loaded protein id map for 2917 peptides\n",
      "Loaded 1068 peptides and 7 scores in the first and previous score files\n",
      "Loaded prizes for 1068 peptides\n",
      "263 peptides with significant prizes (>= 2)\n"
     ]
    },
    {
     "ename": "ValueError",
     "evalue": "max() arg is an empty sequence",
     "output_type": "error",
     "traceback": [
      "\u001b[1;31m---------------------------------------------------------------------------\u001b[0m",
      "\u001b[1;31mValueError\u001b[0m                                Traceback (most recent call last)",
      "\u001b[1;32m<ipython-input-27-b6669b714b68>\u001b[0m in \u001b[0;36m<module>\u001b[1;34m\u001b[0m\n\u001b[0;32m      5\u001b[0m                                                 \u001b[0mgoldStandardFile\u001b[0m\u001b[1;33m,\u001b[0m \u001b[0mpvalThresh\u001b[0m\u001b[1;33m,\u001b[0m \u001b[0mlogTransform\u001b[0m\u001b[1;33m,\u001b[0m \u001b[0mstyleTemplateFile\u001b[0m\u001b[1;33m,\u001b[0m\u001b[1;33m\u001b[0m\u001b[1;33m\u001b[0m\u001b[0m\n\u001b[0;32m      6\u001b[0m                                                 \u001b[0moutFile\u001b[0m\u001b[1;33m,\u001b[0m\u001b[1;33m\u001b[0m\u001b[1;33m\u001b[0m\u001b[0m\n\u001b[1;32m----> 7\u001b[1;33m                                                 \u001b[0moutStyleFile\u001b[0m\u001b[1;33m\u001b[0m\u001b[1;33m\u001b[0m\u001b[0m\n\u001b[0m\u001b[0;32m      8\u001b[0m                                                 )  # don't provide logDefault\n",
      "\u001b[1;32m~\\Anaconda3\\envs\\py2cyto\\tps\\notebooks\\EGFRUtil.py\u001b[0m in \u001b[0;36mPrepTemporalCytoscapeTPS\u001b[1;34m(peptideMapFile, timeSeriesFile, peptideFirstScoreFile, peptidePrevScoreFile, windowsFile, networkFile, goldStandardFile, pvalThresh, logTransform, styleTemplateFile, outAnnotFile, outStyleFile, logDefault, addZero, repairMissing)\u001b[0m\n\u001b[0;32m    129\u001b[0m                 \u001b[0mtimeSeries\u001b[0m \u001b[1;33m=\u001b[0m \u001b[0mmap\u001b[0m\u001b[1;33m(\u001b[0m\u001b[0mfloat\u001b[0m\u001b[1;33m,\u001b[0m \u001b[0mtimeSeries\u001b[0m\u001b[1;33m)\u001b[0m\u001b[1;33m\u001b[0m\u001b[1;33m\u001b[0m\u001b[0m\n\u001b[0;32m    130\u001b[0m             \u001b[0mtimeSeriesMin\u001b[0m \u001b[1;33m=\u001b[0m \u001b[0mmin\u001b[0m\u001b[1;33m(\u001b[0m\u001b[0mtimeSeriesMin\u001b[0m\u001b[1;33m,\u001b[0m \u001b[0mmin\u001b[0m\u001b[1;33m(\u001b[0m\u001b[0mtimeSeries\u001b[0m\u001b[1;33m)\u001b[0m\u001b[1;33m)\u001b[0m\u001b[1;33m\u001b[0m\u001b[1;33m\u001b[0m\u001b[0m\n\u001b[1;32m--> 131\u001b[1;33m             \u001b[0mtimeSeriesMax\u001b[0m \u001b[1;33m=\u001b[0m \u001b[0mmax\u001b[0m\u001b[1;33m(\u001b[0m\u001b[0mtimeSeriesMax\u001b[0m\u001b[1;33m,\u001b[0m \u001b[0mmax\u001b[0m\u001b[1;33m(\u001b[0m\u001b[0mtimeSeries\u001b[0m\u001b[1;33m)\u001b[0m\u001b[1;33m)\u001b[0m\u001b[1;33m\u001b[0m\u001b[1;33m\u001b[0m\u001b[0m\n\u001b[0m\u001b[0;32m    132\u001b[0m             \u001b[0mtimeSeries\u001b[0m \u001b[1;33m=\u001b[0m \u001b[1;34m\", \"\u001b[0m\u001b[1;33m.\u001b[0m\u001b[0mjoin\u001b[0m\u001b[1;33m(\u001b[0m\u001b[0mmap\u001b[0m\u001b[1;33m(\u001b[0m\u001b[0mstr\u001b[0m\u001b[1;33m,\u001b[0m \u001b[0mtimeSeries\u001b[0m\u001b[1;33m)\u001b[0m\u001b[1;33m)\u001b[0m\u001b[1;33m\u001b[0m\u001b[1;33m\u001b[0m\u001b[0m\n\u001b[0;32m    133\u001b[0m \u001b[1;33m\u001b[0m\u001b[0m\n",
      "\u001b[1;31mValueError\u001b[0m: max() arg is an empty sequence"
     ]
    }
   ],
   "source": [
    "pvalThresh = 0.01  # Same threhsold used in TPS\n",
    "logTransform = False\n",
    "pepsPerProt = EGFRUtil.PrepTemporalCytoscapeTPS(pepMapFile, timeSeriesFile, pepFirstFile,\n",
    "                                                pepPrevFile, windowsFile, networkFile,\n",
    "                                                goldStandardFile, pvalThresh, logTransform, styleTemplateFile,\n",
    "                                                outFile,\n",
    "                                                outStyleFile,\n",
    "                                                addZero=True)  # don't provide logDefault"
   ]
  },
  {
   "cell_type": "markdown",
   "metadata": {},
   "source": [
    "## Plot the number of peptides per protein"
   ]
  },
  {
   "cell_type": "code",
   "execution_count": 3,
   "metadata": {},
   "outputs": [
    {
     "name": "stdout",
     "output_type": "stream",
     "text": [
      "492 proteins with 1 peptide(s)\n",
      "135 proteins with 2 peptide(s)\n",
      "37 proteins with 3 peptide(s)\n",
      "18 proteins with 4 peptide(s)\n",
      "10 proteins with 5 peptide(s)\n",
      "4 proteins with 6 peptide(s)\n",
      "0 proteins with 7 peptide(s)\n",
      "2 proteins with 8 peptide(s)\n",
      "0 proteins with 9 peptide(s)\n",
      "1 proteins with 10 peptide(s)\n",
      "1 proteins with 11 peptide(s)\n",
      "1 proteins with 12 peptide(s)\n"
     ]
    },
    {
     "data": {
      "image/png": "[encoded data removed]",
      "text/plain": [
       "<matplotlib.figure.Figure at 0x3c1a630>"
      ]
     },
     "metadata": {},
     "output_type": "display_data"
    }
   ],
   "source": [
    "hist(pepsPerProt)\n",
    "for count in range(1,max(pepsPerProt)+1):\n",
    "    print \"%d proteins with %d peptide(s)\" % (sum([x == count for x in pepsPerProt]), count)"
   ]
  },
  {
   "cell_type": "markdown",
   "metadata": {
    "collapsed": true
   },
   "source": [
    "## Test parts of the Cytoscape table"
   ]
  },
  {
   "cell_type": "code",
   "execution_count": 4,
   "metadata": {},
   "outputs": [
    {
     "data": {
      "text/html": [
       "<div>\n",
       "<table border=\"1\" class=\"dataframe\">\n",
       "  <thead>\n",
       "    <tr style=\"text-align: right;\">\n",
       "      <th></th>\n",
       "      <th>Protein</th>\n",
       "      <th>NodeType</th>\n",
       "      <th>ReferencePathway</th>\n",
       "      <th>SigPeptide1</th>\n",
       "      <th>SigPeptide2</th>\n",
       "      <th>SigPeptide3</th>\n",
       "      <th>SigPeptide4</th>\n",
       "      <th>SigPeptide5</th>\n",
       "      <th>SigPeptide6</th>\n",
       "      <th>InsigPeptide1</th>\n",
       "      <th>...</th>\n",
       "      <th>ActivitySummary32min</th>\n",
       "      <th>ActivitySummary64min</th>\n",
       "      <th>ActivitySummary128min</th>\n",
       "      <th>FirstActive</th>\n",
       "      <th>HeatMapBg1</th>\n",
       "      <th>HeatMapBg2</th>\n",
       "      <th>HeatMapBg3</th>\n",
       "      <th>HeatMapBg4</th>\n",
       "      <th>HeatMapBg5</th>\n",
       "      <th>HeatMapBg6</th>\n",
       "    </tr>\n",
       "  </thead>\n",
       "  <tbody>\n",
       "    <tr>\n",
       "      <th>0</th>\n",
       "      <td>1433G_HUMAN</td>\n",
       "      <td>Steiner</td>\n",
       "      <td>False</td>\n",
       "      <td>NaN</td>\n",
       "      <td>NaN</td>\n",
       "      <td>NaN</td>\n",
       "      <td>NaN</td>\n",
       "      <td>NaN</td>\n",
       "      <td>NaN</td>\n",
       "      <td>NaN</td>\n",
       "      <td>...</td>\n",
       "      <td>NaN</td>\n",
       "      <td>NaN</td>\n",
       "      <td>NaN</td>\n",
       "      <td>2min</td>\n",
       "      <td>0, 0, 0, 0, 0, 0, 0</td>\n",
       "      <td>0, 0, 0, 0, 0, 0, 0</td>\n",
       "      <td>0, 0, 0, 0, 0, 0, 0</td>\n",
       "      <td>0, 0, 0, 0, 0, 0, 0</td>\n",
       "      <td>0, 0, 0, 0, 0, 0, 0</td>\n",
       "      <td>0, 0, 0, 0, 0, 0, 0</td>\n",
       "    </tr>\n",
       "    <tr>\n",
       "      <th>1</th>\n",
       "      <td>1433Z_HUMAN</td>\n",
       "      <td>InsigPrize</td>\n",
       "      <td>False</td>\n",
       "      <td>NaN</td>\n",
       "      <td>NaN</td>\n",
       "      <td>NaN</td>\n",
       "      <td>NaN</td>\n",
       "      <td>NaN</td>\n",
       "      <td>NaN</td>\n",
       "      <td>0, 0.023497, 0.027113, -0.015028, -0.119385, 0...</td>\n",
       "      <td>...</td>\n",
       "      <td>NaN</td>\n",
       "      <td>NaN</td>\n",
       "      <td>NaN</td>\n",
       "      <td>2min</td>\n",
       "      <td>0, 0, 0, 0, 0, 0, 0</td>\n",
       "      <td>0, 0, 0, 0, 0, 0, 0</td>\n",
       "      <td>0, 0, 0, 0, 0, 0, 0</td>\n",
       "      <td>0, 0, 0, 0, 0, 0, 0</td>\n",
       "      <td>0, 0, 0, 0, 0, 0, 0</td>\n",
       "      <td>0, 0, 0, 0, 0, 0, 0</td>\n",
       "    </tr>\n",
       "    <tr>\n",
       "      <th>2</th>\n",
       "      <td>41_HUMAN</td>\n",
       "      <td>SigPrize</td>\n",
       "      <td>False</td>\n",
       "      <td>0, 0.36918, -0.088325, -0.493456, -0.706793, -...</td>\n",
       "      <td>NaN</td>\n",
       "      <td>NaN</td>\n",
       "      <td>NaN</td>\n",
       "      <td>NaN</td>\n",
       "      <td>NaN</td>\n",
       "      <td>0, 0.525056, 0.405297, 0.060709, 0.327423, 0.3...</td>\n",
       "      <td>...</td>\n",
       "      <td>0.0</td>\n",
       "      <td>0.0</td>\n",
       "      <td>0.0</td>\n",
       "      <td>2min</td>\n",
       "      <td>0, 0, 0, 0, 0, 0, 0</td>\n",
       "      <td>0, 0, 0, 0, 0, 0, 0</td>\n",
       "      <td>0, 0, 0, 0, 0, 0, 0</td>\n",
       "      <td>0, 0, 0, 0, 0, 0, 0</td>\n",
       "      <td>0, 0, 0, 0, 0, 0, 0</td>\n",
       "      <td>0, 0, 0, 0, 0, 0, 0</td>\n",
       "    </tr>\n",
       "    <tr>\n",
       "      <th>3</th>\n",
       "      <td>4ET_HUMAN</td>\n",
       "      <td>Excluded</td>\n",
       "      <td>False</td>\n",
       "      <td>0, 0.106206, 0.314831, 1.052917, 1.225798, 1.3...</td>\n",
       "      <td>NaN</td>\n",
       "      <td>NaN</td>\n",
       "      <td>NaN</td>\n",
       "      <td>NaN</td>\n",
       "      <td>NaN</td>\n",
       "      <td>NaN</td>\n",
       "      <td>...</td>\n",
       "      <td>NaN</td>\n",
       "      <td>NaN</td>\n",
       "      <td>NaN</td>\n",
       "      <td>Not active</td>\n",
       "      <td>0, 0, 0, 0, 0, 0, 0</td>\n",
       "      <td>0, 0, 0, 0, 0, 0, 0</td>\n",
       "      <td>0, 0, 0, 0, 0, 0, 0</td>\n",
       "      <td>0, 0, 0, 0, 0, 0, 0</td>\n",
       "      <td>0, 0, 0, 0, 0, 0, 0</td>\n",
       "      <td>0, 0, 0, 0, 0, 0, 0</td>\n",
       "    </tr>\n",
       "    <tr>\n",
       "      <th>4</th>\n",
       "      <td>A8K031_HUMAN</td>\n",
       "      <td>Steiner</td>\n",
       "      <td>False</td>\n",
       "      <td>NaN</td>\n",
       "      <td>NaN</td>\n",
       "      <td>NaN</td>\n",
       "      <td>NaN</td>\n",
       "      <td>NaN</td>\n",
       "      <td>NaN</td>\n",
       "      <td>NaN</td>\n",
       "      <td>...</td>\n",
       "      <td>NaN</td>\n",
       "      <td>NaN</td>\n",
       "      <td>NaN</td>\n",
       "      <td>2min</td>\n",
       "      <td>0, 0, 0, 0, 0, 0, 0</td>\n",
       "      <td>0, 0, 0, 0, 0, 0, 0</td>\n",
       "      <td>0, 0, 0, 0, 0, 0, 0</td>\n",
       "      <td>0, 0, 0, 0, 0, 0, 0</td>\n",
       "      <td>0, 0, 0, 0, 0, 0, 0</td>\n",
       "      <td>0, 0, 0, 0, 0, 0, 0</td>\n",
       "    </tr>\n",
       "  </tbody>\n",
       "</table>\n",
       "<p>5 rows × 33 columns</p>\n",
       "</div>"
      ],
      "text/plain": [
       "        Protein    NodeType ReferencePathway  \\\n",
       "0   1433G_HUMAN     Steiner            False   \n",
       "1   1433Z_HUMAN  InsigPrize            False   \n",
       "2      41_HUMAN    SigPrize            False   \n",
       "3     4ET_HUMAN    Excluded            False   \n",
       "4  A8K031_HUMAN     Steiner            False   \n",
       "\n",
       "                                         SigPeptide1 SigPeptide2 SigPeptide3  \\\n",
       "0                                                NaN         NaN         NaN   \n",
       "1                                                NaN         NaN         NaN   \n",
       "2  0, 0.36918, -0.088325, -0.493456, -0.706793, -...         NaN         NaN   \n",
       "3  0, 0.106206, 0.314831, 1.052917, 1.225798, 1.3...         NaN         NaN   \n",
       "4                                                NaN         NaN         NaN   \n",
       "\n",
       "  SigPeptide4 SigPeptide5 SigPeptide6  \\\n",
       "0         NaN         NaN         NaN   \n",
       "1         NaN         NaN         NaN   \n",
       "2         NaN         NaN         NaN   \n",
       "3         NaN         NaN         NaN   \n",
       "4         NaN         NaN         NaN   \n",
       "\n",
       "                                       InsigPeptide1         ...           \\\n",
       "0                                                NaN         ...            \n",
       "1  0, 0.023497, 0.027113, -0.015028, -0.119385, 0...         ...            \n",
       "2  0, 0.525056, 0.405297, 0.060709, 0.327423, 0.3...         ...            \n",
       "3                                                NaN         ...            \n",
       "4                                                NaN         ...            \n",
       "\n",
       "  ActivitySummary32min ActivitySummary64min ActivitySummary128min FirstActive  \\\n",
       "0                  NaN                  NaN                   NaN        2min   \n",
       "1                  NaN                  NaN                   NaN        2min   \n",
       "2                  0.0                  0.0                   0.0        2min   \n",
       "3                  NaN                  NaN                   NaN  Not active   \n",
       "4                  NaN                  NaN                   NaN        2min   \n",
       "\n",
       "            HeatMapBg1           HeatMapBg2           HeatMapBg3  \\\n",
       "0  0, 0, 0, 0, 0, 0, 0  0, 0, 0, 0, 0, 0, 0  0, 0, 0, 0, 0, 0, 0   \n",
       "1  0, 0, 0, 0, 0, 0, 0  0, 0, 0, 0, 0, 0, 0  0, 0, 0, 0, 0, 0, 0   \n",
       "2  0, 0, 0, 0, 0, 0, 0  0, 0, 0, 0, 0, 0, 0  0, 0, 0, 0, 0, 0, 0   \n",
       "3  0, 0, 0, 0, 0, 0, 0  0, 0, 0, 0, 0, 0, 0  0, 0, 0, 0, 0, 0, 0   \n",
       "4  0, 0, 0, 0, 0, 0, 0  0, 0, 0, 0, 0, 0, 0  0, 0, 0, 0, 0, 0, 0   \n",
       "\n",
       "            HeatMapBg4           HeatMapBg5           HeatMapBg6  \n",
       "0  0, 0, 0, 0, 0, 0, 0  0, 0, 0, 0, 0, 0, 0  0, 0, 0, 0, 0, 0, 0  \n",
       "1  0, 0, 0, 0, 0, 0, 0  0, 0, 0, 0, 0, 0, 0  0, 0, 0, 0, 0, 0, 0  \n",
       "2  0, 0, 0, 0, 0, 0, 0  0, 0, 0, 0, 0, 0, 0  0, 0, 0, 0, 0, 0, 0  \n",
       "3  0, 0, 0, 0, 0, 0, 0  0, 0, 0, 0, 0, 0, 0  0, 0, 0, 0, 0, 0, 0  \n",
       "4  0, 0, 0, 0, 0, 0, 0  0, 0, 0, 0, 0, 0, 0  0, 0, 0, 0, 0, 0, 0  \n",
       "\n",
       "[5 rows x 33 columns]"
      ]
     },
     "execution_count": 4,
     "metadata": {},
     "output_type": "execute_result"
    }
   ],
   "source": [
    "cytoDf = pd.read_csv(outFile, sep='\\t')\n",
    "cytoDf.head()"
   ]
  },
  {
   "cell_type": "code",
   "execution_count": 5,
   "metadata": {},
   "outputs": [
    {
     "name": "stdout",
     "output_type": "stream",
     "text": [
      "All TPS nodes are in the annotation file\n",
      "All annotation file proteins are in the peptide mapping file\n",
      "All nodes in the annotation file are from TPS or the prize nodes\n",
      "All nodes in the TPS pathway and EGFR reference pathways are in the annotation file\n",
      "Nodes in annotation file have expected first activity time\n",
      "All excluded nodes have no activity time and vice versa\n",
      "Proteins have expected number of peptides\n",
      "Protein has expected min log2 fold change\n",
      "Removed placeholders from style file\n"
     ]
    }
   ],
   "source": [
    "# Verify that all TPS nodes are in the annotation file\n",
    "tpsNodes = set()\n",
    "with open(networkFile) as net_f:\n",
    "    for line in net_f:\n",
    "        parts = line.strip().split('\\t')\n",
    "        tpsNodes.add(parts[0])\n",
    "        tpsNodes.add(parts[2])\n",
    "\n",
    "subsetDf = cytoDf[cytoDf['NodeType'] != 'Excluded']\n",
    "subsetNodes = set(subsetDf['Protein'].values)\n",
    "assert tpsNodes == subsetNodes\n",
    "print 'All TPS nodes are in the annotation file'\n",
    "\n",
    "# Verify all proteins that have peptides listed in the annotation file\n",
    "# are in the peptide-protein mapping.  The peptide-protein mapping\n",
    "# contains proteins from any of the three replicates though, whereas the\n",
    "# annotation file only contains those in all three.\n",
    "prizeNodes = set()\n",
    "with open(pepMapFile) as prize_f:\n",
    "    # Skip the header\n",
    "    prize_f.next()\n",
    "    for line in prize_f:\n",
    "        parts = line.strip().split('\\t')\n",
    "        prizeNodes.add(parts[1])\n",
    "# All proteins in the annotation file with a significant or insignificant peptide\n",
    "subsetNodes = set(cytoDf.loc[cytoDf['SigPeptide1'].notnull() | cytoDf['InsigPeptide1'].notnull(), 'Protein'].values)\n",
    "assert len(subsetNodes) == 701\n",
    "assert subsetNodes.issubset(prizeNodes)\n",
    "print 'All annotation file proteins are in the peptide mapping file'\n",
    "\n",
    "# Verify all nodes in the annotation file are from the TPS network or the prize nodes\n",
    "allNodes = set()\n",
    "allNodes.update(tpsNodes)\n",
    "allNodes.update(prizeNodes)\n",
    "subsetNodes = set(cytoDf['Protein'].values)\n",
    "assert subsetNodes.issubset(allNodes)\n",
    "print 'All nodes in the annotation file are from TPS or the prize nodes'\n",
    "\n",
    "# Verify the reference pathway overlap matches what was observed previously\n",
    "assert len(cytoDf[cytoDf['ReferencePathway'] & (cytoDf['NodeType'] != 'Excluded')]) == 34\n",
    "print 'All nodes in the TPS pathway and EGFR reference pathways are in the annotation file'\n",
    "\n",
    "# Verify first activity times\n",
    "assert cytoDf.loc[cytoDf['Protein'] == 'DYR1B_HUMAN', 'FirstActive'].values == '128min'\n",
    "assert cytoDf.loc[cytoDf['Protein'] == 'ARHG7_HUMAN', 'FirstActive'].values == '32min'\n",
    "assert len(cytoDf[cytoDf['FirstActive'] == '2min']) == 189\n",
    "assert len(cytoDf[cytoDf['FirstActive'] == '64min']) == 8\n",
    "assert len(cytoDf[cytoDf['FirstActive'] == 'Not active']) == 428\n",
    "print 'Nodes in annotation file have expected first activity time'\n",
    "\n",
    "# Verify all excluded nodes have no first activity time\n",
    "assert np.all((cytoDf['NodeType'] == 'Excluded') == (cytoDf['FirstActive'] == 'Not active'))\n",
    "print 'All excluded nodes have no activity time and vice versa'\n",
    "\n",
    "# Verify that these proteins have the expected number of significant and insignificant peptides\n",
    "assert sum(cytoDf.loc[cytoDf['Protein'] == 'EGFR_HUMAN', 'SigPeptide1':'SigPeptide6'].notnull().values) == 6\n",
    "assert sum(cytoDf.loc[cytoDf['Protein'] == 'EGFR_HUMAN', 'InsigPeptide1':'InsigPeptide10'].notnull().values) == 2\n",
    "\n",
    "assert sum(cytoDf.loc[cytoDf['Protein'] == 'NUCKS_HUMAN', 'SigPeptide1':'SigPeptide6'].notnull().values) == 2\n",
    "assert sum(cytoDf.loc[cytoDf['Protein'] == 'NUCKS_HUMAN', 'InsigPeptide1':'InsigPeptide10'].notnull().values) == 10\n",
    "\n",
    "assert sum(cytoDf.loc[cytoDf['Protein'] == 'CBL_HUMAN', 'SigPeptide1':'SigPeptide6'].notnull().values) == 3\n",
    "assert sum(cytoDf.loc[cytoDf['Protein'] == 'CBL_HUMAN', 'InsigPeptide1':'InsigPeptide10'].notnull().values) == 2\n",
    "print 'Proteins have expected number of peptides'\n",
    "\n",
    "def MinLogFC(row):\n",
    "    fcs = []\n",
    "    for timeSeries in row:\n",
    "        if not str(timeSeries) == 'nan':\n",
    "            fcs.extend(map(float, timeSeries.split(', ')))\n",
    "    return min(fcs)\n",
    "\n",
    "# Verify min fold change of another protein\n",
    "assert np.isclose(MinLogFC(cytoDf.loc[cytoDf['Protein'] == 'GSK3A_HUMAN', 'SigPeptide1':'InsigPeptide10'].values[0]),-1.051833)\n",
    "print 'Protein has expected min log2 fold change'\n",
    "\n",
    "with open(outStyleFile) as f:\n",
    "    styleContent = f.read()\n",
    "    assert '$$$' not in styleContent\n",
    "print 'Removed placeholders from style file'"
   ]
  }
 ],
 "metadata": {
  "kernelspec": {
   "display_name": "Python 3",
   "language": "python",
   "name": "python3"
  },
  "language_info": {
   "codemirror_mode": {
    "name": "ipython",
    "version": 3
   },
   "file_extension": ".py",
   "mimetype": "text/x-python",
   "name": "python",
   "nbconvert_exporter": "python",
   "pygments_lexer": "ipython3",
   "version": "3.7.3"
  },
  "toc": {
   "base_numbering": 1,
   "nav_menu": {},
   "number_sections": true,
   "sideBar": true,
   "skip_h1_title": false,
   "title_cell": "Table of Contents",
   "title_sidebar": "Contents",
   "toc_cell": false,
   "toc_position": {},
   "toc_section_display": true,
   "toc_window_display": false
  }
 },
 "nbformat": 4,
 "nbformat_minor": 1
}
