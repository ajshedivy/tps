{
 "cells": [
  {
   "cell_type": "code",
   "execution_count": 28,
   "metadata": {},
   "outputs": [],
   "source": [
    "import yaml\n",
    "import pprint\n",
    "import sys\n",
    "import subprocess\n",
    "import os\n",
    "import csv\n",
    "import time\n",
    "\n",
    "\n",
    "config = os.path.abspath('test.yml')\n",
    "\n",
    "with open(config) as c:\n",
    "    params = yaml.load(c, Loader = yaml.FullLoader)"
   ]
  },
  {
   "cell_type": "code",
   "execution_count": 30,
   "metadata": {},
   "outputs": [
    {
     "data": {
      "text/plain": [
       "{'TPS': [{'required': {'network': 'data/networks/input-network.tsv',\n",
       "    'timeseries': 'data/timeseries/median-time-series.tsv',\n",
       "    'firstscores': 'data/timeseries/p-values-first.tsv',\n",
       "    'prevscores': 'data/timeseries/p-values-prev.tsv',\n",
       "    'source': 'EGF_HUMAN',\n",
       "    'threshold': 0.01,\n",
       "    'outlabel': 'update-table-gen'}},\n",
       "  {'optional': {'partialmodel': 'data/resources/kinase-substrate-interactions.sif',\n",
       "    'peptidemap': 'data/timeseries/peptide-mapping.tsv',\n",
       "    'outfolder': 'None',\n",
       "    'solver': 'None',\n",
       "    'slack': 'None',\n",
       "    'bitvect': 'None',\n",
       "    'no-connectivity': 'None',\n",
       "    'no-temporality': 'None',\n",
       "    'no-monotonicity': 'None'}}]}"
      ]
     },
     "execution_count": 30,
     "metadata": {},
     "output_type": "execute_result"
    }
   ],
   "source": [
    "params[1]"
   ]
  },
  {
   "cell_type": "code",
   "execution_count": 18,
   "metadata": {},
   "outputs": [
    {
     "data": {
      "text/plain": [
       "{'network': 'data/networks/input-network.tsv',\n",
       " 'timeseries': 'data/timeseries/median-time-series.tsv',\n",
       " 'firstscores': 'data/timeseries/p-values-first.tsv',\n",
       " 'prevscores': 'data/timeseries/p-values-prev.tsv',\n",
       " 'source': 'EGF_HUMAN',\n",
       " 'threshold': 0.01,\n",
       " 'outlabel': 'update-table-gen',\n",
       " 'partialmodel': 'data/resources/kinase-substrate-interactions.sif',\n",
       " 'peptidemap': 'data/timeseries/peptide-mapping.tsv'}"
      ]
     },
     "execution_count": 18,
     "metadata": {},
     "output_type": "execute_result"
    }
   ],
   "source": [
    "# grab self.params from config\n",
    "req = params[1][\"TPS\"][0][\"required\"]\n",
    "op = params[1][\"TPS\"][1][\"optional\"]\n",
    "\n",
    "# filter given args\n",
    "filtered = {**req, **op}\n",
    "args = {key:val for key, val in filtered.items() \n",
    "        if filtered[key] != \"None\"}\n",
    "args"
   ]
  },
  {
   "cell_type": "code",
   "execution_count": 19,
   "metadata": {},
   "outputs": [
    {
     "name": "stdout",
     "output_type": "stream",
     "text": [
      "update-table-gen\n",
      "[]\n",
      "C:\\Users\\ajshe\\OneDrive\\Documents\\GitterLab\\tps\n"
     ]
    }
   ],
   "source": [
    "OUT_LABEL = [str(val) for key, val in args.items() if key == \"outlabel\"][0]\n",
    "print(OUT_LABEL)\n",
    "OUT_FOLDER = [str(val) for key, val in args.items() if key == \"outfolder\"]\n",
    "print(OUT_FOLDER)\n",
    "if OUT_FOLDER == []:\n",
    "    OUT_FOLDER = os.path.dirname(os.path.abspath('run_tps.sh'))\n",
    "else:\n",
    "    OUT_FOLDER = os.path.abspath(OUT_FOLDER[0])\n",
    "    \n",
    "print(OUT_FOLDER)"
   ]
  },
  {
   "cell_type": "code",
   "execution_count": null,
   "metadata": {},
   "outputs": [],
   "source": []
  }
 ],
 "metadata": {
  "kernelspec": {
   "display_name": "Python 3",
   "language": "python",
   "name": "python3"
  },
  "language_info": {
   "codemirror_mode": {
    "name": "ipython",
    "version": 3
   },
   "file_extension": ".py",
   "mimetype": "text/x-python",
   "name": "python",
   "nbconvert_exporter": "python",
   "pygments_lexer": "ipython3",
   "version": "3.8.3"
  },
  "toc": {
   "base_numbering": 1,
   "nav_menu": {},
   "number_sections": true,
   "sideBar": true,
   "skip_h1_title": false,
   "title_cell": "Table of Contents",
   "title_sidebar": "Contents",
   "toc_cell": false,
   "toc_position": {},
   "toc_section_display": true,
   "toc_window_display": false
  }
 },
 "nbformat": 4,
 "nbformat_minor": 4
}
