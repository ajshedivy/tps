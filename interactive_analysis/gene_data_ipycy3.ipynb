{
 "cells": [
  {
   "cell_type": "code",
   "execution_count": 1,
   "metadata": {
    "ExecuteTime": {
     "end_time": "2020-05-29T19:36:58.113414Z",
     "start_time": "2020-05-29T19:36:58.060554Z"
    }
   },
   "outputs": [],
   "source": [
    "import ipycytoscape"
   ]
  },
  {
   "cell_type": "code",
   "execution_count": 2,
   "metadata": {
    "ExecuteTime": {
     "end_time": "2020-05-29T19:36:59.660274Z",
     "start_time": "2020-05-29T19:36:59.633345Z"
    }
   },
   "outputs": [],
   "source": [
    "import json\n",
    "with open(\"geneData.json\") as fi:\n",
    "    json_file = json.load(fi)\n",
    "with open(\"geneStyle.json\") as fi:\n",
    "    s = json.load(fi)"
   ]
  },
  {
   "cell_type": "code",
   "execution_count": 3,
   "metadata": {
    "ExecuteTime": {
     "end_time": "2020-05-29T19:37:07.493943Z",
     "start_time": "2020-05-29T19:37:02.083791Z"
    }
   },
   "outputs": [],
   "source": [
    "cytoscapeobj = ipycytoscape.CytoscapeWidget()\n",
    "cytoscapeobj.graph.add_graph_from_json(json_file)\n",
    "cytoscapeobj.set_style(s)"
   ]
  },
  {
   "cell_type": "code",
   "execution_count": 4,
   "metadata": {
    "ExecuteTime": {
     "end_time": "2020-05-29T19:37:07.506908Z",
     "start_time": "2020-05-29T19:37:07.498931Z"
    }
   },
   "outputs": [],
   "source": [
    "cytoscapeobj.set_layout(name = 'cola',\n",
    "                      nodeSpacing = 5,\n",
    "                      edgeLengthVal = 45,\n",
    "                      animate = True,\n",
    "                      randomize = False,\n",
    "                      maxSimulationTime = 1500)"
   ]
  },
  {
   "cell_type": "code",
   "execution_count": 6,
   "metadata": {
    "ExecuteTime": {
     "end_time": "2020-05-29T19:37:17.218649Z",
     "start_time": "2020-05-29T19:37:17.089993Z"
    }
   },
   "outputs": [
    {
     "data": {
      "application/vnd.jupyter.widget-view+json": {
       "model_id": "64f40c98781d4cb4b447bd33a2f340c8",
       "version_major": 2,
       "version_minor": 0
      },
      "text/plain": [
       "CytoscapeWidget(cytoscape_layout={'name': 'cola', 'nodeSpacing': 5, 'edgeLengthVal': 45, 'animate': True, 'ran…"
      ]
     },
     "metadata": {},
     "output_type": "display_data"
    }
   ],
   "source": [
    "cytoscapeobj"
   ]
  },
  {
   "cell_type": "code",
   "execution_count": 7,
   "metadata": {
    "ExecuteTime": {
     "end_time": "2020-05-29T19:37:20.964633Z",
     "start_time": "2020-05-29T19:37:20.947672Z"
    }
   },
   "outputs": [
    {
     "data": {
      "text/plain": [
       "{'name': 'cola',\n",
       " 'nodeSpacing': 100,\n",
       " 'edgeLengthVal': 45,\n",
       " 'animate': True,\n",
       " 'randomize': False,\n",
       " 'maxSimulationTime': 1500}"
      ]
     },
     "execution_count": 7,
     "metadata": {},
     "output_type": "execute_result"
    }
   ],
   "source": [
    "\n",
    "# edits graph directly \n",
    "\n",
    "cytoscapeobj.set_layout(nodeSpacing=100)\n",
    "cytoscapeobj.get_layout()"
   ]
  },
  {
   "cell_type": "code",
   "execution_count": 8,
   "metadata": {
    "ExecuteTime": {
     "end_time": "2020-05-29T19:37:25.036777Z",
     "start_time": "2020-05-29T19:37:25.003826Z"
    }
   },
   "outputs": [
    {
     "data": {
      "application/vnd.jupyter.widget-view+json": {
       "model_id": "bc543de8a6764891985478510c8a3396",
       "version_major": 2,
       "version_minor": 0
      },
      "text/plain": [
       "IntSlider(value=0)"
      ]
     },
     "metadata": {},
     "output_type": "display_data"
    },
    {
     "data": {
      "application/vnd.jupyter.widget-view+json": {
       "model_id": "9423c23773104b47b75eb3d3186cabfb",
       "version_major": 2,
       "version_minor": 0
      },
      "text/plain": [
       "Output()"
      ]
     },
     "metadata": {},
     "output_type": "display_data"
    }
   ],
   "source": [
    "# connects a slider to the nodeSpacing of the graph\n",
    "\n",
    "import ipywidgets as widgets\n",
    "\n",
    "node_range = widgets.IntSlider()\n",
    "output = widgets.Output()\n",
    "display(node_range, output)\n",
    "\n",
    "def on_value_change(change):\n",
    "    with output:\n",
    "        cytoscapeobj.set_layout(nodeSpacing = node_range.value)\n",
    "        cytoscapeobj.get_layout()\n",
    "\n",
    "node_range.observe(on_value_change)"
   ]
  },
  {
   "cell_type": "code",
   "execution_count": 13,
   "metadata": {
    "ExecuteTime": {
     "end_time": "2020-05-29T19:38:40.971276Z",
     "start_time": "2020-05-29T19:38:40.844591Z"
    }
   },
   "outputs": [
    {
     "data": {
      "text/html": [
       "<div>\n",
       "<style scoped>\n",
       "    .dataframe tbody tr th:only-of-type {\n",
       "        vertical-align: middle;\n",
       "    }\n",
       "\n",
       "    .dataframe tbody tr th {\n",
       "        vertical-align: top;\n",
       "    }\n",
       "\n",
       "    .dataframe thead th {\n",
       "        text-align: right;\n",
       "    }\n",
       "</style>\n",
       "<table border=\"1\" class=\"dataframe\">\n",
       "  <thead>\n",
       "    <tr style=\"text-align: right;\">\n",
       "      <th></th>\n",
       "      <th>source</th>\n",
       "      <th>interaction</th>\n",
       "      <th>target</th>\n",
       "    </tr>\n",
       "  </thead>\n",
       "  <tbody>\n",
       "    <tr>\n",
       "      <th>0</th>\n",
       "      <td>EFNA5_HUMAN</td>\n",
       "      <td>N</td>\n",
       "      <td>EPHA7_HUMAN</td>\n",
       "    </tr>\n",
       "    <tr>\n",
       "      <th>1</th>\n",
       "      <td>HIPK2_HUMAN</td>\n",
       "      <td>A</td>\n",
       "      <td>DYR1B_HUMAN</td>\n",
       "    </tr>\n",
       "    <tr>\n",
       "      <th>2</th>\n",
       "      <td>NUCL_HUMAN</td>\n",
       "      <td>U</td>\n",
       "      <td>SUMO2_HUMAN</td>\n",
       "    </tr>\n",
       "    <tr>\n",
       "      <th>3</th>\n",
       "      <td>Q6FIE9_HUMAN</td>\n",
       "      <td>U</td>\n",
       "      <td>TM1L1_HUMAN</td>\n",
       "    </tr>\n",
       "    <tr>\n",
       "      <th>4</th>\n",
       "      <td>I2BP1_HUMAN</td>\n",
       "      <td>U</td>\n",
       "      <td>IRF2_HUMAN</td>\n",
       "    </tr>\n",
       "    <tr>\n",
       "      <th>5</th>\n",
       "      <td>GAB1_HUMAN</td>\n",
       "      <td>U</td>\n",
       "      <td>PTN11_HUMAN</td>\n",
       "    </tr>\n",
       "    <tr>\n",
       "      <th>6</th>\n",
       "      <td>IWS1_HUMAN</td>\n",
       "      <td>U</td>\n",
       "      <td>SUMO2_HUMAN</td>\n",
       "    </tr>\n",
       "    <tr>\n",
       "      <th>7</th>\n",
       "      <td>ACTB_HUMAN</td>\n",
       "      <td>U</td>\n",
       "      <td>MIPT3_HUMAN</td>\n",
       "    </tr>\n",
       "    <tr>\n",
       "      <th>8</th>\n",
       "      <td>ELF2_HUMAN</td>\n",
       "      <td>U</td>\n",
       "      <td>SUMO2_HUMAN</td>\n",
       "    </tr>\n",
       "    <tr>\n",
       "      <th>9</th>\n",
       "      <td>T22D4_HUMAN</td>\n",
       "      <td>N</td>\n",
       "      <td>ABLM1_HUMAN</td>\n",
       "    </tr>\n",
       "    <tr>\n",
       "      <th>10</th>\n",
       "      <td>CDK1_HUMAN</td>\n",
       "      <td>N</td>\n",
       "      <td>NUP98_HUMAN</td>\n",
       "    </tr>\n",
       "    <tr>\n",
       "      <th>11</th>\n",
       "      <td>SMC3_HUMAN</td>\n",
       "      <td>N</td>\n",
       "      <td>NEK6_HUMAN</td>\n",
       "    </tr>\n",
       "    <tr>\n",
       "      <th>12</th>\n",
       "      <td>PININ_HUMAN</td>\n",
       "      <td>U</td>\n",
       "      <td>SRSF4_HUMAN</td>\n",
       "    </tr>\n",
       "    <tr>\n",
       "      <th>13</th>\n",
       "      <td>CEBPZ_HUMAN</td>\n",
       "      <td>U</td>\n",
       "      <td>SUMO2_HUMAN</td>\n",
       "    </tr>\n",
       "    <tr>\n",
       "      <th>14</th>\n",
       "      <td>1433G_HUMAN</td>\n",
       "      <td>N</td>\n",
       "      <td>ANS1A_HUMAN</td>\n",
       "    </tr>\n",
       "    <tr>\n",
       "      <th>15</th>\n",
       "      <td>SAT1_HUMAN</td>\n",
       "      <td>N</td>\n",
       "      <td>CH10_HUMAN</td>\n",
       "    </tr>\n",
       "    <tr>\n",
       "      <th>16</th>\n",
       "      <td>SUMO2_HUMAN</td>\n",
       "      <td>N</td>\n",
       "      <td>POGZ_HUMAN</td>\n",
       "    </tr>\n",
       "    <tr>\n",
       "      <th>17</th>\n",
       "      <td>RBM8A_HUMAN</td>\n",
       "      <td>U</td>\n",
       "      <td>SRRM2_HUMAN</td>\n",
       "    </tr>\n",
       "    <tr>\n",
       "      <th>18</th>\n",
       "      <td>MECP2_HUMAN</td>\n",
       "      <td>N</td>\n",
       "      <td>CDKL5_HUMAN</td>\n",
       "    </tr>\n",
       "    <tr>\n",
       "      <th>19</th>\n",
       "      <td>SAT1_HUMAN</td>\n",
       "      <td>U</td>\n",
       "      <td>SPB1_HUMAN</td>\n",
       "    </tr>\n",
       "    <tr>\n",
       "      <th>20</th>\n",
       "      <td>RNF31_HUMAN</td>\n",
       "      <td>N</td>\n",
       "      <td>HOIL1_HUMAN</td>\n",
       "    </tr>\n",
       "    <tr>\n",
       "      <th>21</th>\n",
       "      <td>HDAC2_HUMAN</td>\n",
       "      <td>U</td>\n",
       "      <td>ZN318_HUMAN</td>\n",
       "    </tr>\n",
       "    <tr>\n",
       "      <th>22</th>\n",
       "      <td>H2AY_HUMAN</td>\n",
       "      <td>U</td>\n",
       "      <td>HDAC2_HUMAN</td>\n",
       "    </tr>\n",
       "    <tr>\n",
       "      <th>23</th>\n",
       "      <td>AFAD_HUMAN</td>\n",
       "      <td>N</td>\n",
       "      <td>DREB_HUMAN</td>\n",
       "    </tr>\n",
       "    <tr>\n",
       "      <th>24</th>\n",
       "      <td>1433G_HUMAN</td>\n",
       "      <td>U</td>\n",
       "      <td>GSK3A_HUMAN</td>\n",
       "    </tr>\n",
       "    <tr>\n",
       "      <th>25</th>\n",
       "      <td>NEK6_HUMAN</td>\n",
       "      <td>N</td>\n",
       "      <td>EMAL4_HUMAN</td>\n",
       "    </tr>\n",
       "    <tr>\n",
       "      <th>26</th>\n",
       "      <td>ADNP_HUMAN</td>\n",
       "      <td>U</td>\n",
       "      <td>PLCG1_HUMAN</td>\n",
       "    </tr>\n",
       "    <tr>\n",
       "      <th>27</th>\n",
       "      <td>PRP4B_HUMAN</td>\n",
       "      <td>U</td>\n",
       "      <td>SNUT2_HUMAN</td>\n",
       "    </tr>\n",
       "    <tr>\n",
       "      <th>28</th>\n",
       "      <td>1433G_HUMAN</td>\n",
       "      <td>U</td>\n",
       "      <td>MARK2_HUMAN</td>\n",
       "    </tr>\n",
       "    <tr>\n",
       "      <th>29</th>\n",
       "      <td>SUMO2_HUMAN</td>\n",
       "      <td>N</td>\n",
       "      <td>ZMYM4_HUMAN</td>\n",
       "    </tr>\n",
       "    <tr>\n",
       "      <th>...</th>\n",
       "      <td>...</td>\n",
       "      <td>...</td>\n",
       "      <td>...</td>\n",
       "    </tr>\n",
       "    <tr>\n",
       "      <th>383</th>\n",
       "      <td>DESP_HUMAN</td>\n",
       "      <td>U</td>\n",
       "      <td>PKP4_HUMAN</td>\n",
       "    </tr>\n",
       "    <tr>\n",
       "      <th>384</th>\n",
       "      <td>WDR48_HUMAN</td>\n",
       "      <td>A</td>\n",
       "      <td>WDR70_HUMAN</td>\n",
       "    </tr>\n",
       "    <tr>\n",
       "      <th>385</th>\n",
       "      <td>EGFR_HUMAN</td>\n",
       "      <td>A</td>\n",
       "      <td>CCD50_HUMAN</td>\n",
       "    </tr>\n",
       "    <tr>\n",
       "      <th>386</th>\n",
       "      <td>CDK1_HUMAN</td>\n",
       "      <td>N</td>\n",
       "      <td>TCOF_HUMAN</td>\n",
       "    </tr>\n",
       "    <tr>\n",
       "      <th>387</th>\n",
       "      <td>1433G_HUMAN</td>\n",
       "      <td>U</td>\n",
       "      <td>SRRM2_HUMAN</td>\n",
       "    </tr>\n",
       "    <tr>\n",
       "      <th>388</th>\n",
       "      <td>HNRL1_HUMAN</td>\n",
       "      <td>U</td>\n",
       "      <td>NUP98_HUMAN</td>\n",
       "    </tr>\n",
       "    <tr>\n",
       "      <th>389</th>\n",
       "      <td>CSK21_HUMAN</td>\n",
       "      <td>N</td>\n",
       "      <td>DNLI1_HUMAN</td>\n",
       "    </tr>\n",
       "    <tr>\n",
       "      <th>390</th>\n",
       "      <td>ABL2_HUMAN</td>\n",
       "      <td>U</td>\n",
       "      <td>PLCG1_HUMAN</td>\n",
       "    </tr>\n",
       "    <tr>\n",
       "      <th>391</th>\n",
       "      <td>LMNA_HUMAN</td>\n",
       "      <td>U</td>\n",
       "      <td>Z280C_HUMAN</td>\n",
       "    </tr>\n",
       "    <tr>\n",
       "      <th>392</th>\n",
       "      <td>CCD53_HUMAN</td>\n",
       "      <td>U</td>\n",
       "      <td>NUP62_HUMAN</td>\n",
       "    </tr>\n",
       "    <tr>\n",
       "      <th>393</th>\n",
       "      <td>TM1L1_HUMAN</td>\n",
       "      <td>N</td>\n",
       "      <td>F208A_HUMAN</td>\n",
       "    </tr>\n",
       "    <tr>\n",
       "      <th>394</th>\n",
       "      <td>A8K031_HUMAN</td>\n",
       "      <td>U</td>\n",
       "      <td>CCD53_HUMAN</td>\n",
       "    </tr>\n",
       "    <tr>\n",
       "      <th>395</th>\n",
       "      <td>CDK1_HUMAN</td>\n",
       "      <td>N</td>\n",
       "      <td>APC1_HUMAN</td>\n",
       "    </tr>\n",
       "    <tr>\n",
       "      <th>396</th>\n",
       "      <td>KAP2_HUMAN</td>\n",
       "      <td>N</td>\n",
       "      <td>AKAP1_HUMAN</td>\n",
       "    </tr>\n",
       "    <tr>\n",
       "      <th>397</th>\n",
       "      <td>DDX21_HUMAN</td>\n",
       "      <td>U</td>\n",
       "      <td>SUMO2_HUMAN</td>\n",
       "    </tr>\n",
       "    <tr>\n",
       "      <th>398</th>\n",
       "      <td>SUMO2_HUMAN</td>\n",
       "      <td>U</td>\n",
       "      <td>TOP2B_HUMAN</td>\n",
       "    </tr>\n",
       "    <tr>\n",
       "      <th>399</th>\n",
       "      <td>1433G_HUMAN</td>\n",
       "      <td>U</td>\n",
       "      <td>YAP1_HUMAN</td>\n",
       "    </tr>\n",
       "    <tr>\n",
       "      <th>400</th>\n",
       "      <td>SIN3A_HUMAN</td>\n",
       "      <td>N</td>\n",
       "      <td>MKX_HUMAN</td>\n",
       "    </tr>\n",
       "    <tr>\n",
       "      <th>401</th>\n",
       "      <td>Q6FIE9_HUMAN</td>\n",
       "      <td>U</td>\n",
       "      <td>TOM1_HUMAN</td>\n",
       "    </tr>\n",
       "    <tr>\n",
       "      <th>402</th>\n",
       "      <td>CBL_HUMAN</td>\n",
       "      <td>N</td>\n",
       "      <td>ACTB_HUMAN</td>\n",
       "    </tr>\n",
       "    <tr>\n",
       "      <th>403</th>\n",
       "      <td>CBL_HUMAN</td>\n",
       "      <td>U</td>\n",
       "      <td>CRKL_HUMAN</td>\n",
       "    </tr>\n",
       "    <tr>\n",
       "      <th>404</th>\n",
       "      <td>C2TA_HUMAN</td>\n",
       "      <td>U</td>\n",
       "      <td>IRF2_HUMAN</td>\n",
       "    </tr>\n",
       "    <tr>\n",
       "      <th>405</th>\n",
       "      <td>GRB2_HUMAN</td>\n",
       "      <td>I</td>\n",
       "      <td>WASL_HUMAN</td>\n",
       "    </tr>\n",
       "    <tr>\n",
       "      <th>406</th>\n",
       "      <td>AKA12_HUMAN</td>\n",
       "      <td>N</td>\n",
       "      <td>KAP2_HUMAN</td>\n",
       "    </tr>\n",
       "    <tr>\n",
       "      <th>407</th>\n",
       "      <td>CSK21_HUMAN</td>\n",
       "      <td>N</td>\n",
       "      <td>PDIA6_HUMAN</td>\n",
       "    </tr>\n",
       "    <tr>\n",
       "      <th>408</th>\n",
       "      <td>CSK21_HUMAN</td>\n",
       "      <td>U</td>\n",
       "      <td>IWS1_HUMAN</td>\n",
       "    </tr>\n",
       "    <tr>\n",
       "      <th>409</th>\n",
       "      <td>SUMO2_HUMAN</td>\n",
       "      <td>N</td>\n",
       "      <td>PHIP_HUMAN</td>\n",
       "    </tr>\n",
       "    <tr>\n",
       "      <th>410</th>\n",
       "      <td>MK01_HUMAN</td>\n",
       "      <td>I</td>\n",
       "      <td>ICK_HUMAN</td>\n",
       "    </tr>\n",
       "    <tr>\n",
       "      <th>411</th>\n",
       "      <td>PNKP_HUMAN</td>\n",
       "      <td>U</td>\n",
       "      <td>UBE2O_HUMAN</td>\n",
       "    </tr>\n",
       "    <tr>\n",
       "      <th>412</th>\n",
       "      <td>ATX2_HUMAN</td>\n",
       "      <td>U</td>\n",
       "      <td>EGFR_HUMAN</td>\n",
       "    </tr>\n",
       "  </tbody>\n",
       "</table>\n",
       "<p>413 rows × 3 columns</p>\n",
       "</div>"
      ],
      "text/plain": [
       "           source interaction       target\n",
       "0     EFNA5_HUMAN           N  EPHA7_HUMAN\n",
       "1     HIPK2_HUMAN           A  DYR1B_HUMAN\n",
       "2      NUCL_HUMAN           U  SUMO2_HUMAN\n",
       "3    Q6FIE9_HUMAN           U  TM1L1_HUMAN\n",
       "4     I2BP1_HUMAN           U   IRF2_HUMAN\n",
       "5      GAB1_HUMAN           U  PTN11_HUMAN\n",
       "6      IWS1_HUMAN           U  SUMO2_HUMAN\n",
       "7      ACTB_HUMAN           U  MIPT3_HUMAN\n",
       "8      ELF2_HUMAN           U  SUMO2_HUMAN\n",
       "9     T22D4_HUMAN           N  ABLM1_HUMAN\n",
       "10     CDK1_HUMAN           N  NUP98_HUMAN\n",
       "11     SMC3_HUMAN           N   NEK6_HUMAN\n",
       "12    PININ_HUMAN           U  SRSF4_HUMAN\n",
       "13    CEBPZ_HUMAN           U  SUMO2_HUMAN\n",
       "14    1433G_HUMAN           N  ANS1A_HUMAN\n",
       "15     SAT1_HUMAN           N   CH10_HUMAN\n",
       "16    SUMO2_HUMAN           N   POGZ_HUMAN\n",
       "17    RBM8A_HUMAN           U  SRRM2_HUMAN\n",
       "18    MECP2_HUMAN           N  CDKL5_HUMAN\n",
       "19     SAT1_HUMAN           U   SPB1_HUMAN\n",
       "20    RNF31_HUMAN           N  HOIL1_HUMAN\n",
       "21    HDAC2_HUMAN           U  ZN318_HUMAN\n",
       "22     H2AY_HUMAN           U  HDAC2_HUMAN\n",
       "23     AFAD_HUMAN           N   DREB_HUMAN\n",
       "24    1433G_HUMAN           U  GSK3A_HUMAN\n",
       "25     NEK6_HUMAN           N  EMAL4_HUMAN\n",
       "26     ADNP_HUMAN           U  PLCG1_HUMAN\n",
       "27    PRP4B_HUMAN           U  SNUT2_HUMAN\n",
       "28    1433G_HUMAN           U  MARK2_HUMAN\n",
       "29    SUMO2_HUMAN           N  ZMYM4_HUMAN\n",
       "..            ...         ...          ...\n",
       "383    DESP_HUMAN           U   PKP4_HUMAN\n",
       "384   WDR48_HUMAN           A  WDR70_HUMAN\n",
       "385    EGFR_HUMAN           A  CCD50_HUMAN\n",
       "386    CDK1_HUMAN           N   TCOF_HUMAN\n",
       "387   1433G_HUMAN           U  SRRM2_HUMAN\n",
       "388   HNRL1_HUMAN           U  NUP98_HUMAN\n",
       "389   CSK21_HUMAN           N  DNLI1_HUMAN\n",
       "390    ABL2_HUMAN           U  PLCG1_HUMAN\n",
       "391    LMNA_HUMAN           U  Z280C_HUMAN\n",
       "392   CCD53_HUMAN           U  NUP62_HUMAN\n",
       "393   TM1L1_HUMAN           N  F208A_HUMAN\n",
       "394  A8K031_HUMAN           U  CCD53_HUMAN\n",
       "395    CDK1_HUMAN           N   APC1_HUMAN\n",
       "396    KAP2_HUMAN           N  AKAP1_HUMAN\n",
       "397   DDX21_HUMAN           U  SUMO2_HUMAN\n",
       "398   SUMO2_HUMAN           U  TOP2B_HUMAN\n",
       "399   1433G_HUMAN           U   YAP1_HUMAN\n",
       "400   SIN3A_HUMAN           N    MKX_HUMAN\n",
       "401  Q6FIE9_HUMAN           U   TOM1_HUMAN\n",
       "402     CBL_HUMAN           N   ACTB_HUMAN\n",
       "403     CBL_HUMAN           U   CRKL_HUMAN\n",
       "404    C2TA_HUMAN           U   IRF2_HUMAN\n",
       "405    GRB2_HUMAN           I   WASL_HUMAN\n",
       "406   AKA12_HUMAN           N   KAP2_HUMAN\n",
       "407   CSK21_HUMAN           N  PDIA6_HUMAN\n",
       "408   CSK21_HUMAN           U   IWS1_HUMAN\n",
       "409   SUMO2_HUMAN           N   PHIP_HUMAN\n",
       "410    MK01_HUMAN           I    ICK_HUMAN\n",
       "411    PNKP_HUMAN           U  UBE2O_HUMAN\n",
       "412    ATX2_HUMAN           U   EGFR_HUMAN\n",
       "\n",
       "[413 rows x 3 columns]"
      ]
     },
     "execution_count": 13,
     "metadata": {},
     "output_type": "execute_result"
    }
   ],
   "source": [
    "import pandas as pd\n",
    "data = pd.read_csv(r\"C:\\Users\\ajshe\\Anaconda3\\envs\\py2cyto\\tps\\interactive_analysis\\output.sif\", names=['source', 'interaction','target'], delimiter=\"\\t\")\n",
    "data"
   ]
  },
  {
   "cell_type": "code",
   "execution_count": 16,
   "metadata": {
    "ExecuteTime": {
     "end_time": "2020-05-29T19:39:27.724080Z",
     "start_time": "2020-05-29T19:39:24.314160Z"
    }
   },
   "outputs": [],
   "source": [
    "import networkx as nx\n",
    "g = nx.from_pandas_edgelist(data, 'source', 'target')\n"
   ]
  },
  {
   "cell_type": "code",
   "execution_count": 24,
   "metadata": {
    "ExecuteTime": {
     "end_time": "2020-05-29T19:45:25.553165Z",
     "start_time": "2020-05-29T19:45:21.008321Z"
    }
   },
   "outputs": [],
   "source": [
    "cytoscapeobj2 = ipycytoscape.CytoscapeWidget()\n",
    "cytoscapeobj2.graph.add_graph_from_df(data, ['source', 'interaction', 'target'])\n",
    "cytoscapeobj2.set_style(s)"
   ]
  },
  {
   "cell_type": "code",
   "execution_count": 25,
   "metadata": {
    "ExecuteTime": {
     "end_time": "2020-05-29T19:45:25.811475Z",
     "start_time": "2020-05-29T19:45:25.557155Z"
    }
   },
   "outputs": [
    {
     "data": {
      "application/vnd.jupyter.widget-view+json": {
       "model_id": "8fa27cc8011e4574b203e71ea1a8655c",
       "version_major": 2,
       "version_minor": 0
      },
      "text/plain": [
       "CytoscapeWidget(cytoscape_layout={'name': 'cola'}, cytoscape_style=[{'selector': 'core', 'style': {'selection-…"
      ]
     },
     "metadata": {},
     "output_type": "display_data"
    }
   ],
   "source": [
    "cytoscapeobj2"
   ]
  },
  {
   "cell_type": "code",
   "execution_count": null,
   "metadata": {},
   "outputs": [],
   "source": []
  }
 ],
 "metadata": {
  "kernelspec": {
   "display_name": "ipycy3",
   "language": "python",
   "name": "ipycy3"
  },
  "language_info": {
   "codemirror_mode": {
    "name": "ipython",
    "version": 3
   },
   "file_extension": ".py",
   "mimetype": "text/x-python",
   "name": "python",
   "nbconvert_exporter": "python",
   "pygments_lexer": "ipython3",
   "version": "3.7.3"
  },
  "toc": {
   "base_numbering": 1,
   "nav_menu": {},
   "number_sections": true,
   "sideBar": true,
   "skip_h1_title": false,
   "title_cell": "Table of Contents",
   "title_sidebar": "Contents",
   "toc_cell": false,
   "toc_position": {},
   "toc_section_display": true,
   "toc_window_display": false
  },
  "widgets": {
   "application/vnd.jupyter.widget-state+json": {
    "state": {
     "0020f997e5df4c19813e9cc80c8159a8": {
      "model_module": "jupyter-cytoscape",
      "model_module_version": "^0.2.2",
      "model_name": "EdgeModel",
      "state": {
       "_model_module_version": "^0.2.2",
       "_view_module": "jupyter-cytoscape",
       "_view_module_version": "^0.2.2",
       "data": {
        "group": "coexp",
        "id": "e10",
        "intn": true,
        "networkGroupId": 18,
        "networkId": 1133,
        "rIntnId": 12,
        "source": "600535",
        "target": "600585",
        "weight": 0.008661902
       }
      }
     },
     "004322f9e9cf4403a9472c84405f1945": {
      "model_module": "jupyter-cytoscape",
      "model_module_version": "^0.2.2",
      "model_name": "EdgeModel",
      "state": {
       "_model_module_version": "^0.2.2",
       "_view_module": "jupyter-cytoscape",
       "_view_module_version": "^0.2.2",
       "data": {
        "group": "pi",
        "id": "e437",
        "intn": true,
        "networkGroupId": 22,
        "networkId": 909,
        "rIntnId": 439,
        "source": "605846",
        "target": "610236",
        "weight": 0.036437046
       }
      }
     },
     "0045456fdd4f4540a22a68cc7c3b5f78": {
      "model_module": "jupyter-cytoscape",
      "model_module_version": "^0.2.2",
      "model_name": "EdgeModel",
      "state": {
       "_model_module_version": "^0.2.2",
       "_view_module": "jupyter-cytoscape",
       "_view_module_version": "^0.2.2",
       "data": {
        "group": "predict",
        "id": "e496",
        "intn": true,
        "networkGroupId": 23,
        "networkId": 746,
        "rIntnId": 498,
        "source": "599724",
        "target": "603070",
        "weight": 0.085989736
       }
      }
     },
     "0078741390d34553a02277bb21a55363": {
      "model_module": "jupyter-cytoscape",
      "model_module_version": "^0.2.2",
      "model_name": "NodeModel",
      "state": {
       "_model_module_version": "^0.2.2",
       "_view_module_version": "^0.2.2",
       "data": {
        "gene": true,
        "id": "608473",
        "idInt": 608473,
        "name": "RAD9B",
        "query": false,
        "score": 0.0026928704785200708
       }
      }
     },
     "014b6d0fc6af43138222fac321a569e6": {
      "model_module": "jupyter-cytoscape",
      "model_module_version": "^0.2.2",
      "model_name": "EdgeModel",
      "state": {
       "_model_module_version": "^0.2.2",
       "_view_module": "jupyter-cytoscape",
       "_view_module_version": "^0.2.2",
       "data": {
        "group": "predict",
        "id": "e551",
        "intn": true,
        "networkGroupId": 23,
        "networkId": 741,
        "rIntnId": 553,
        "source": "599724",
        "target": "603070",
        "weight": 0.2350908
       }
      }
     },
     "0189526fcfdd49fab9d5cdb0286dbf79": {
      "model_module": "jupyter-cytoscape",
      "model_module_version": "^0.2.2",
      "model_name": "EdgeModel",
      "state": {
       "_model_module_version": "^0.2.2",
       "_view_module": "jupyter-cytoscape",
       "_view_module_version": "^0.2.2",
       "data": {
        "group": "coexp",
        "id": "e152",
        "intn": true,
        "networkGroupId": 18,
        "networkId": 1112,
        "rIntnId": 154,
        "source": "603070",
        "target": "605755",
        "weight": 0.011469932
       }
      }
     },
     "01a22600fda94937bad0cf63f7892932": {
      "model_module": "jupyter-cytoscape",
      "model_module_version": "^0.2.2",
      "model_name": "EdgeModel",
      "state": {
       "_model_module_version": "^0.2.2",
       "_view_module": "jupyter-cytoscape",
       "_view_module_version": "^0.2.2",
       "data": {
        "group": "coexp",
        "id": "e63",
        "intn": true,
        "networkGroupId": 18,
        "networkId": 1103,
        "rIntnId": 65,
        "source": "603070",
        "target": "605755",
        "weight": 0.0065989364
       }
      }
     },
     "022743dba0664ec2a65afa944ff509f6": {
      "model_module": "jupyter-cytoscape",
      "model_module_version": "^0.2.2",
      "model_name": "EdgeModel",
      "state": {
       "_model_module_version": "^0.2.2",
       "_view_module": "jupyter-cytoscape",
       "_view_module_version": "^0.2.2",
       "data": {
        "group": "pi",
        "id": "e421",
        "intn": true,
        "networkGroupId": 22,
        "networkId": 909,
        "rIntnId": 423,
        "source": "611408",
        "target": "605755",
        "weight": 0.01199196
       }
      }
     },
     "02b72ee5cea94d7ea1f61dced3b48a44": {
      "model_module": "jupyter-cytoscape",
      "model_module_version": "^0.2.2",
      "model_name": "EdgeModel",
      "state": {
       "_model_module_version": "^0.2.2",
       "_view_module": "jupyter-cytoscape",
       "_view_module_version": "^0.2.2",
       "data": {
        "group": "pi",
        "id": "e385",
        "intn": true,
        "networkGroupId": 22,
        "networkId": 665,
        "rIntnId": 387,
        "source": "610236",
        "target": "603070",
        "weight": 0.11628905
       }
      }
     },
     "0301337a79584a37831f74403e6c6c67": {
      "model_module": "jupyter-cytoscape",
      "model_module_version": "^0.2.2",
      "model_name": "EdgeModel",
      "state": {
       "_model_module_version": "^0.2.2",
       "_view_module": "jupyter-cytoscape",
       "_view_module_version": "^0.2.2",
       "data": {
        "group": "predict",
        "id": "e484",
        "intn": true,
        "networkGroupId": 23,
        "networkId": 746,
        "rIntnId": 486,
        "source": "611560",
        "target": "605755",
        "weight": 0.3450272
       }
      }
     },
     "0308257a8b6e4121954b8067e5031338": {
      "model_module": "jupyter-cytoscape",
      "model_module_version": "^0.2.2",
      "model_name": "EdgeModel",
      "state": {
       "_model_module_version": "^0.2.2",
       "_view_module": "jupyter-cytoscape",
       "_view_module_version": "^0.2.2",
       "data": {
        "group": "coexp",
        "id": "e100",
        "intn": true,
        "networkGroupId": 18,
        "networkId": 991,
        "rIntnId": 102,
        "source": "599863",
        "target": "610236",
        "weight": 0.011486805
       }
      }
     },
     "03baca7bf85f4af18d861a3c7003d194": {
      "model_module": "jupyter-cytoscape",
      "model_module_version": "^0.2.2",
      "model_name": "EdgeModel",
      "state": {
       "_model_module_version": "^0.2.2",
       "_view_module": "jupyter-cytoscape",
       "_view_module_version": "^0.2.2",
       "data": {
        "group": "coexp",
        "id": "e206",
        "intn": true,
        "networkGroupId": 18,
        "networkId": 987,
        "rIntnId": 208,
        "source": "605846",
        "target": "611408",
        "weight": 0.011980566
       }
      }
     },
     "0463244d32b04ca1a1c5f84d43895365": {
      "model_module": "jupyter-cytoscape",
      "model_module_version": "^0.2.2",
      "model_name": "EdgeModel",
      "state": {
       "_model_module_version": "^0.2.2",
       "_view_module": "jupyter-cytoscape",
       "_view_module_version": "^0.2.2",
       "data": {
        "group": "pi",
        "id": "e429",
        "intn": true,
        "networkGroupId": 22,
        "networkId": 909,
        "rIntnId": 431,
        "source": "610236",
        "target": "603070",
        "weight": 0.029229729
       }
      }
     },
     "058600ccdcf24635bbbd2abea9621cea": {
      "model_module": "jupyter-cytoscape",
      "model_module_version": "^0.2.2",
      "model_name": "EdgeModel",
      "state": {
       "_model_module_version": "^0.2.2",
       "_view_module": "jupyter-cytoscape",
       "_view_module_version": "^0.2.2",
       "data": {
        "group": "predict",
        "id": "e515",
        "intn": true,
        "networkGroupId": 23,
        "networkId": 765,
        "rIntnId": 517,
        "source": "605846",
        "target": "610236",
        "weight": 0.42062962
       }
      }
     },
     "0665b5900f274ead8bbe45fcbdfc0598": {
      "model_module": "jupyter-cytoscape",
      "model_module_version": "^0.2.2",
      "model_name": "EdgeModel",
      "state": {
       "_model_module_version": "^0.2.2",
       "_view_module": "jupyter-cytoscape",
       "_view_module_version": "^0.2.2",
       "data": {
        "group": "coexp",
        "id": "e24",
        "intn": true,
        "networkGroupId": 18,
        "networkId": 1094,
        "rIntnId": 26,
        "source": "611408",
        "target": "605755",
        "weight": 0.011872302
       }
      }
     },
     "0692ca13c41c4628a18bf454a998baab": {
      "model_module": "jupyter-cytoscape",
      "model_module_version": "^0.2.2",
      "model_name": "EdgeModel",
      "state": {
       "_model_module_version": "^0.2.2",
       "_view_module": "jupyter-cytoscape",
       "_view_module_version": "^0.2.2",
       "data": {
        "group": "coexp",
        "id": "e78",
        "intn": true,
        "networkGroupId": 18,
        "networkId": 1103,
        "rIntnId": 80,
        "source": "612326",
        "target": "602279",
        "weight": 0.0054105376
       }
      }
     },
     "073504681ff94995b85bb177e618eb0d": {
      "model_module": "jupyter-cytoscape",
      "model_module_version": "^0.2.2",
      "model_name": "EdgeModel",
      "state": {
       "_model_module_version": "^0.2.2",
       "_view_module": "jupyter-cytoscape",
       "_view_module_version": "^0.2.2",
       "data": {
        "group": "coexp",
        "id": "e231",
        "intn": true,
        "networkGroupId": 18,
        "networkId": 1141,
        "rIntnId": 233,
        "source": "600046",
        "target": "605755",
        "weight": 0.020293837
       }
      }
     },
     "0792022ba22c45b0b5fb9ad1bea54e9d": {
      "model_module": "jupyter-cytoscape",
      "model_module_version": "^0.2.2",
      "model_name": "EdgeModel",
      "state": {
       "_model_module_version": "^0.2.2",
       "_view_module": "jupyter-cytoscape",
       "_view_module_version": "^0.2.2",
       "data": {
        "group": "pi",
        "id": "e449",
        "intn": true,
        "networkGroupId": 22,
        "networkId": 799,
        "rIntnId": 451,
        "source": "612341",
        "target": "605755",
        "weight": 0.024844587
       }
      }
     },
     "0818e13b79134f578684dc7881591ad5": {
      "model_module": "jupyter-cytoscape",
      "model_module_version": "^0.2.2",
      "model_name": "EdgeModel",
      "state": {
       "_model_module_version": "^0.2.2",
       "_view_module": "jupyter-cytoscape",
       "_view_module_version": "^0.2.2",
       "data": {
        "group": "pi",
        "id": "e415",
        "intn": true,
        "networkGroupId": 22,
        "networkId": 906,
        "rIntnId": 417,
        "source": "600585",
        "target": "605755",
        "weight": 0.14387716
       }
      }
     },
     "08428c554fe04a0d80e95f7c47562120": {
      "model_module": "jupyter-cytoscape",
      "model_module_version": "^0.2.2",
      "model_name": "NodeModel",
      "state": {
       "_model_module_version": "^0.2.2",
       "_view_module_version": "^0.2.2",
       "data": {
        "gene": true,
        "id": "599863",
        "idInt": 599863,
        "name": "RFC2",
        "query": false,
        "score": 0.001982524582665901
       }
      }
     },
     "08bdb1104996410784a27c16f017d82a": {
      "model_module": "jupyter-cytoscape",
      "model_module_version": "^0.2.2",
      "model_name": "EdgeModel",
      "state": {
       "_model_module_version": "^0.2.2",
       "_view_module": "jupyter-cytoscape",
       "_view_module_version": "^0.2.2",
       "data": {
        "group": "pi",
        "id": "e469",
        "intn": true,
        "networkGroupId": 22,
        "networkId": 799,
        "rIntnId": 471,
        "source": "606768",
        "target": "611408",
        "weight": 0.07442771
       }
      }
     },
     "0943d8bfa7ac41f99e23a8eaa9b71043": {
      "model_module": "jupyter-cytoscape",
      "model_module_version": "^0.2.2",
      "model_name": "EdgeModel",
      "state": {
       "_model_module_version": "^0.2.2",
       "_view_module": "jupyter-cytoscape",
       "_view_module_version": "^0.2.2",
       "data": {
        "group": "coexp",
        "id": "e97",
        "intn": true,
        "networkGroupId": 18,
        "networkId": 991,
        "rIntnId": 99,
        "source": "603070",
        "target": "611408",
        "weight": 0.00802425
       }
      }
     },
     "094c33fa011a42018da9942675a47895": {
      "model_module": "jupyter-cytoscape",
      "model_module_version": "^0.2.2",
      "model_name": "EdgeModel",
      "state": {
       "_model_module_version": "^0.2.2",
       "_view_module": "jupyter-cytoscape",
       "_view_module_version": "^0.2.2",
       "data": {
        "group": "coexp",
        "id": "e112",
        "intn": true,
        "networkGroupId": 18,
        "networkId": 948,
        "rIntnId": 114,
        "source": "599863",
        "target": "611408",
        "weight": 0.02715506
       }
      }
     },
     "09c729b46ee04609b5c9b6b0ac7e1c8e": {
      "model_module": "jupyter-cytoscape",
      "model_module_version": "^0.2.2",
      "model_name": "EdgeModel",
      "state": {
       "_model_module_version": "^0.2.2",
       "_view_module": "jupyter-cytoscape",
       "_view_module_version": "^0.2.2",
       "data": {
        "group": "coexp",
        "id": "e19",
        "intn": true,
        "networkGroupId": 18,
        "networkId": 1133,
        "rIntnId": 21,
        "source": "606768",
        "target": "610236",
        "weight": 0.006453997
       }
      }
     },
     "0a68c7c3f601443a932e5de437e8a332": {
      "model_module": "jupyter-cytoscape",
      "model_module_version": "^0.2.2",
      "model_name": "EdgeModel",
      "state": {
       "_model_module_version": "^0.2.2",
       "_view_module": "jupyter-cytoscape",
       "_view_module_version": "^0.2.2",
       "data": {
        "group": "path",
        "id": "e312",
        "intn": true,
        "networkGroupId": 21,
        "networkId": 920,
        "rIntnId": 314,
        "source": "600046",
        "target": "611408",
        "weight": 0.07366316
       }
      }
     },
     "0b0d6952244f4b199afa6f947241c2d5": {
      "model_module": "jupyter-cytoscape",
      "model_module_version": "^0.2.2",
      "model_name": "EdgeModel",
      "state": {
       "_model_module_version": "^0.2.2",
       "_view_module": "jupyter-cytoscape",
       "_view_module_version": "^0.2.2",
       "data": {
        "group": "path",
        "id": "e357",
        "intn": true,
        "networkGroupId": 21,
        "networkId": 916,
        "rIntnId": 359,
        "source": "605846",
        "target": "599863",
        "weight": 0.029156813
       }
      }
     },
     "0b0dfbb14c1f4d899cef730949ce5e3f": {
      "model_module": "jupyter-cytoscape",
      "model_module_version": "^0.2.2",
      "model_name": "EdgeModel",
      "state": {
       "_model_module_version": "^0.2.2",
       "_view_module": "jupyter-cytoscape",
       "_view_module_version": "^0.2.2",
       "data": {
        "group": "coexp",
        "id": "e248",
        "intn": true,
        "networkGroupId": 18,
        "networkId": 1213,
        "rIntnId": 250,
        "source": "600046",
        "target": "605755",
        "weight": 0.0067177215
       }
      }
     },
     "0b23c71ee8c045cbb793e99bcfcb33d4": {
      "model_module": "jupyter-cytoscape",
      "model_module_version": "^0.2.2",
      "model_name": "EdgeModel",
      "state": {
       "_model_module_version": "^0.2.2",
       "_view_module": "jupyter-cytoscape",
       "_view_module_version": "^0.2.2",
       "data": {
        "group": "path",
        "id": "e279",
        "intn": true,
        "networkGroupId": 21,
        "networkId": 920,
        "rIntnId": 281,
        "source": "599889",
        "target": "605755",
        "weight": 0.07026827
       }
      }
     },
     "0b4c20d235db4799a83126a2783962c1": {
      "model_module": "jupyter-cytoscape",
      "model_module_version": "^0.2.2",
      "model_name": "EdgeModel",
      "state": {
       "_model_module_version": "^0.2.2",
       "_view_module": "jupyter-cytoscape",
       "_view_module_version": "^0.2.2",
       "data": {
        "group": "path",
        "id": "e304",
        "intn": true,
        "networkGroupId": 21,
        "networkId": 920,
        "rIntnId": 306,
        "source": "605846",
        "target": "599863",
        "weight": 0.046432484
       }
      }
     },
     "0c216d0b75d04602ae9533d81b362a07": {
      "model_module": "jupyter-cytoscape",
      "model_module_version": "^0.2.2",
      "model_name": "EdgeModel",
      "state": {
       "_model_module_version": "^0.2.2",
       "_view_module": "jupyter-cytoscape",
       "_view_module_version": "^0.2.2",
       "data": {
        "group": "coexp",
        "id": "e46",
        "intn": true,
        "networkGroupId": 18,
        "networkId": 1205,
        "rIntnId": 48,
        "source": "610236",
        "target": "602299",
        "weight": 0.009479035
       }
      }
     },
     "0c8d66aed99e4f3a96282c669d6ef3ec": {
      "model_module": "jupyter-cytoscape",
      "model_module_version": "^0.2.2",
      "model_name": "EdgeModel",
      "state": {
       "_model_module_version": "^0.2.2",
       "_view_module": "jupyter-cytoscape",
       "_view_module_version": "^0.2.2",
       "data": {
        "group": "path",
        "id": "e310",
        "intn": true,
        "networkGroupId": 21,
        "networkId": 920,
        "rIntnId": 312,
        "source": "599724",
        "target": "605846",
        "weight": 0.057087615
       }
      }
     },
     "0d1aacb8c9c547748e7d81c6f3fdadbc": {
      "model_module": "jupyter-cytoscape",
      "model_module_version": "^0.2.2",
      "model_name": "EdgeModel",
      "state": {
       "_model_module_version": "^0.2.2",
       "_view_module": "jupyter-cytoscape",
       "_view_module_version": "^0.2.2",
       "data": {
        "group": "spd",
        "id": "e566",
        "intn": true,
        "networkGroupId": 24,
        "networkId": 1229,
        "rIntnId": 568,
        "source": "612341",
        "target": "605755",
        "weight": 0.43164432
       }
      }
     },
     "0d61662bdff040eba99e3ba4f7575000": {
      "model_module": "jupyter-cytoscape",
      "model_module_version": "^0.2.2",
      "model_name": "EdgeModel",
      "state": {
       "_model_module_version": "^0.2.2",
       "_view_module": "jupyter-cytoscape",
       "_view_module_version": "^0.2.2",
       "data": {
        "group": "coexp",
        "id": "e224",
        "intn": true,
        "networkGroupId": 18,
        "networkId": 1221,
        "rIntnId": 226,
        "source": "600046",
        "target": "610236",
        "weight": 0.006708223
       }
      }
     },
     "0dce12229c4a43878a7bcc098b5ddea4": {
      "model_module": "jupyter-cytoscape",
      "model_module_version": "^0.2.2",
      "model_name": "EdgeModel",
      "state": {
       "_model_module_version": "^0.2.2",
       "_view_module": "jupyter-cytoscape",
       "_view_module_version": "^0.2.2",
       "data": {
        "group": "predict",
        "id": "e527",
        "intn": true,
        "networkGroupId": 23,
        "networkId": 918,
        "rIntnId": 529,
        "source": "611408",
        "target": "605755",
        "weight": 0.05655634
       }
      }
     },
     "0e5dc023f5c2415eb2c4ac1ec135480e": {
      "model_module": "jupyter-cytoscape",
      "model_module_version": "^0.2.2",
      "model_name": "EdgeModel",
      "state": {
       "_model_module_version": "^0.2.2",
       "_view_module": "jupyter-cytoscape",
       "_view_module_version": "^0.2.2",
       "data": {
        "group": "spd",
        "id": "e572",
        "intn": true,
        "networkGroupId": 24,
        "networkId": 1229,
        "rIntnId": 574,
        "source": "605846",
        "target": "603070",
        "weight": 0.0287298
       }
      }
     },
     "0eb479d656844e5cb3561fb15c3795be": {
      "model_module": "jupyter-cytoscape",
      "model_module_version": "^0.2.2",
      "model_name": "NodeModel",
      "state": {
       "_model_module_version": "^0.2.2",
       "_view_module_version": "^0.2.2",
       "data": {
        "gene": true,
        "id": "602299",
        "idInt": 602299,
        "name": "LIG1",
        "query": false,
        "score": 0.0023873089881679688
       }
      }
     },
     "0f3fbc8555414c3a8925ed4ef774e7f1": {
      "model_module": "jupyter-cytoscape",
      "model_module_version": "^0.2.2",
      "model_name": "EdgeModel",
      "state": {
       "_model_module_version": "^0.2.2",
       "_view_module": "jupyter-cytoscape",
       "_view_module_version": "^0.2.2",
       "data": {
        "group": "predict",
        "id": "e531",
        "intn": true,
        "networkGroupId": 23,
        "networkId": 918,
        "rIntnId": 533,
        "source": "610236",
        "target": "603070",
        "weight": 0.12218573
       }
      }
     },
     "0f50b65a434b4e7b9c40bf25a89cfdfa": {
      "model_module": "jupyter-cytoscape",
      "model_module_version": "^0.2.2",
      "model_name": "NodeModel",
      "state": {
       "_model_module_version": "^0.2.2",
       "_view_module_version": "^0.2.2",
       "data": {
        "gene": true,
        "id": "600535",
        "idInt": 600535,
        "name": "UNG",
        "query": false,
        "score": 0.0018134484466597045
       }
      }
     },
     "0fba31f700014f2d88f336271596dec5": {
      "model_module": "jupyter-cytoscape",
      "model_module_version": "^0.2.2",
      "model_name": "EdgeModel",
      "state": {
       "_model_module_version": "^0.2.2",
       "_view_module": "jupyter-cytoscape",
       "_view_module_version": "^0.2.2",
       "data": {
        "group": "pi",
        "id": "e388",
        "intn": true,
        "networkGroupId": 22,
        "networkId": 665,
        "rIntnId": 390,
        "source": "599863",
        "target": "603070",
        "weight": 0.11001559
       }
      }
     },
     "0fbfb704d6ad40888b6940d5a52cae9d": {
      "model_module": "jupyter-cytoscape",
      "model_module_version": "^0.2.2",
      "model_name": "EdgeModel",
      "state": {
       "_model_module_version": "^0.2.2",
       "_view_module": "jupyter-cytoscape",
       "_view_module_version": "^0.2.2",
       "data": {
        "group": "coexp",
        "id": "e195",
        "intn": true,
        "networkGroupId": 18,
        "networkId": 987,
        "rIntnId": 197,
        "source": "610236",
        "target": "605755",
        "weight": 0.005761585
       }
      }
     },
     "100f86277e6440b2ab4b433ab5066b7e": {
      "model_module": "jupyter-cytoscape",
      "model_module_version": "^0.2.2",
      "model_name": "EdgeModel",
      "state": {
       "_model_module_version": "^0.2.2",
       "_view_module": "jupyter-cytoscape",
       "_view_module_version": "^0.2.2",
       "data": {
        "group": "coexp",
        "id": "e154",
        "intn": true,
        "networkGroupId": 18,
        "networkId": 1112,
        "rIntnId": 156,
        "source": "610236",
        "target": "602299",
        "weight": 0.008945865
       }
      }
     },
     "1199c01efb0f4f74a1316161bd1d17cb": {
      "model_module": "jupyter-cytoscape",
      "model_module_version": "^0.2.2",
      "model_name": "EdgeModel",
      "state": {
       "_model_module_version": "^0.2.2",
       "_view_module": "jupyter-cytoscape",
       "_view_module_version": "^0.2.2",
       "data": {
        "group": "coexp",
        "id": "e142",
        "intn": true,
        "networkGroupId": 18,
        "networkId": 1160,
        "rIntnId": 144,
        "source": "605846",
        "target": "602299",
        "weight": 0.0077429856
       }
      }
     },
     "12ba54d1e8434b99b3fd9f8ec6e32a95": {
      "model_module": "jupyter-cytoscape",
      "model_module_version": "^0.2.2",
      "model_name": "EdgeModel",
      "state": {
       "_model_module_version": "^0.2.2",
       "_view_module": "jupyter-cytoscape",
       "_view_module_version": "^0.2.2",
       "data": {
        "group": "predict",
        "id": "e564",
        "intn": true,
        "networkGroupId": 23,
        "networkId": 785,
        "rIntnId": 566,
        "source": "605846",
        "target": "610236",
        "weight": 0.7962252
       }
      }
     },
     "14545438599a42ab93e1742f03851898": {
      "model_module": "jupyter-cytoscape",
      "model_module_version": "^0.2.2",
      "model_name": "EdgeModel",
      "state": {
       "_model_module_version": "^0.2.2",
       "_view_module": "jupyter-cytoscape",
       "_view_module_version": "^0.2.2",
       "data": {
        "group": "predict",
        "id": "e545",
        "intn": true,
        "networkGroupId": 23,
        "networkId": 741,
        "rIntnId": 547,
        "source": "610236",
        "target": "603070",
        "weight": 0.2703742
       }
      }
     },
     "1487272470664c33baaa931aab171495": {
      "model_module": "jupyter-cytoscape",
      "model_module_version": "^0.2.2",
      "model_name": "EdgeModel",
      "state": {
       "_model_module_version": "^0.2.2",
       "_view_module": "jupyter-cytoscape",
       "_view_module_version": "^0.2.2",
       "data": {
        "group": "pi",
        "id": "e448",
        "intn": true,
        "networkGroupId": 22,
        "networkId": 909,
        "rIntnId": 450,
        "source": "606768",
        "target": "603700",
        "weight": 0.10404714
       }
      }
     },
     "15a217facaa641fe8ad075e6ace49c41": {
      "model_module": "jupyter-cytoscape",
      "model_module_version": "^0.2.2",
      "model_name": "NodeModel",
      "state": {
       "_model_module_version": "^0.2.2",
       "_view_module_version": "^0.2.2",
       "data": {
        "gene": true,
        "id": "609734",
        "idInt": 609734,
        "name": "POLR3K",
        "query": false,
        "score": 0.001465090467084318
       }
      }
     },
     "1615c070c1d34002b589156e2be5448a": {
      "model_module": "jupyter-cytoscape",
      "model_module_version": "^0.2.2",
      "model_name": "EdgeModel",
      "state": {
       "_model_module_version": "^0.2.2",
       "_view_module": "jupyter-cytoscape",
       "_view_module_version": "^0.2.2",
       "data": {
        "group": "coexp",
        "id": "e40",
        "intn": true,
        "networkGroupId": 18,
        "networkId": 1205,
        "rIntnId": 42,
        "source": "603070",
        "target": "605755",
        "weight": 0.014778332
       }
      }
     },
     "1639de2068594c58864abb7c7a10f6c2": {
      "model_module": "jupyter-cytoscape",
      "model_module_version": "^0.2.2",
      "model_name": "EdgeModel",
      "state": {
       "_model_module_version": "^0.2.2",
       "_view_module": "jupyter-cytoscape",
       "_view_module_version": "^0.2.2",
       "data": {
        "group": "predict",
        "id": "e539",
        "intn": true,
        "networkGroupId": 23,
        "networkId": 918,
        "rIntnId": 541,
        "source": "606768",
        "target": "599889",
        "weight": 0.023919258
       }
      }
     },
     "169af12cf06e4618ba9df25d7919244e": {
      "model_module": "jupyter-cytoscape",
      "model_module_version": "^0.2.2",
      "model_name": "EdgeModel",
      "state": {
       "_model_module_version": "^0.2.2",
       "_view_module": "jupyter-cytoscape",
       "_view_module_version": "^0.2.2",
       "data": {
        "group": "coexp",
        "id": "e168",
        "intn": true,
        "networkGroupId": 18,
        "networkId": 939,
        "rIntnId": 170,
        "source": "602299",
        "target": "605755",
        "weight": 0.005950518
       }
      }
     },
     "169b212666f3489483fb52e72da15ca8": {
      "model_module": "jupyter-cytoscape",
      "model_module_version": "^0.2.2",
      "model_name": "EdgeModel",
      "state": {
       "_model_module_version": "^0.2.2",
       "_view_module": "jupyter-cytoscape",
       "_view_module_version": "^0.2.2",
       "data": {
        "group": "pi",
        "id": "e407",
        "intn": true,
        "networkGroupId": 22,
        "networkId": 901,
        "rIntnId": 409,
        "source": "603070",
        "target": "605755",
        "weight": 0.17140284
       }
      }
     },
     "169dad92c6764e378cbb7f5e81d74b24": {
      "model_module": "jupyter-cytoscape",
      "model_module_version": "^0.2.2",
      "model_name": "EdgeModel",
      "state": {
       "_model_module_version": "^0.2.2",
       "_view_module": "jupyter-cytoscape",
       "_view_module_version": "^0.2.2",
       "data": {
        "group": "coloc",
        "id": "e261",
        "intn": true,
        "networkGroupId": 19,
        "networkId": 1215,
        "rIntnId": 263,
        "source": "605846",
        "target": "611408",
        "weight": 0.0033427116
       }
      }
     },
     "16adc31f83144a3aaaeb46d5b41ae9d6": {
      "model_module": "jupyter-cytoscape",
      "model_module_version": "^0.2.2",
      "model_name": "EdgeModel",
      "state": {
       "_model_module_version": "^0.2.2",
       "_view_module": "jupyter-cytoscape",
       "_view_module_version": "^0.2.2",
       "data": {
        "group": "coexp",
        "id": "e143",
        "intn": true,
        "networkGroupId": 18,
        "networkId": 1160,
        "rIntnId": 145,
        "source": "605846",
        "target": "603700",
        "weight": 0.010403784
       }
      }
     },
     "17104ff5b80943eda83a8df64a4c0a3c": {
      "model_module": "jupyter-cytoscape",
      "model_module_version": "^0.2.2",
      "model_name": "EdgeModel",
      "state": {
       "_model_module_version": "^0.2.2",
       "_view_module": "jupyter-cytoscape",
       "_view_module_version": "^0.2.2",
       "data": {
        "group": "pi",
        "id": "e413",
        "intn": true,
        "networkGroupId": 22,
        "networkId": 901,
        "rIntnId": 415,
        "source": "600046",
        "target": "605755",
        "weight": 0.22489744
       }
      }
     },
     "171d32d9b8754afdb1bf8bb46f69855b": {
      "model_module": "jupyter-cytoscape",
      "model_module_version": "^0.2.2",
      "model_name": "EdgeModel",
      "state": {
       "_model_module_version": "^0.2.2",
       "_view_module": "jupyter-cytoscape",
       "_view_module_version": "^0.2.2",
       "data": {
        "group": "path",
        "id": "e311",
        "intn": true,
        "networkGroupId": 21,
        "networkId": 920,
        "rIntnId": 313,
        "source": "600046",
        "target": "605755",
        "weight": 0.0346906
       }
      }
     },
     "17476d942f3d4c009f5008fba28a2a84": {
      "model_module": "jupyter-cytoscape",
      "model_module_version": "^0.2.2",
      "model_name": "EdgeModel",
      "state": {
       "_model_module_version": "^0.2.2",
       "_view_module": "jupyter-cytoscape",
       "_view_module_version": "^0.2.2",
       "data": {
        "group": "predict",
        "id": "e488",
        "intn": true,
        "networkGroupId": 23,
        "networkId": 746,
        "rIntnId": 490,
        "source": "603070",
        "target": "602299",
        "weight": 0.100114875
       }
      }
     },
     "17601769626047e8a51aaa2297d70b56": {
      "model_module": "jupyter-cytoscape",
      "model_module_version": "^0.2.2",
      "model_name": "EdgeModel",
      "state": {
       "_model_module_version": "^0.2.2",
       "_view_module": "jupyter-cytoscape",
       "_view_module_version": "^0.2.2",
       "data": {
        "group": "pi",
        "id": "e395",
        "intn": true,
        "networkGroupId": 22,
        "networkId": 665,
        "rIntnId": 397,
        "source": "599724",
        "target": "605755",
        "weight": 0.008685797
       }
      }
     },
     "1783682b5d304825bc9c2b7e06d9da07": {
      "model_module": "jupyter-cytoscape",
      "model_module_version": "^0.2.2",
      "model_name": "EdgeModel",
      "state": {
       "_model_module_version": "^0.2.2",
       "_view_module": "jupyter-cytoscape",
       "_view_module_version": "^0.2.2",
       "data": {
        "group": "coexp",
        "id": "e32",
        "intn": true,
        "networkGroupId": 18,
        "networkId": 1094,
        "rIntnId": 34,
        "source": "605846",
        "target": "610236",
        "weight": 0.015419611
       }
      }
     },
     "180ac490ea5d40ff83de61a354d766a3": {
      "model_module": "jupyter-cytoscape",
      "model_module_version": "^0.2.2",
      "model_name": "EdgeModel",
      "state": {
       "_model_module_version": "^0.2.2",
       "_view_module": "jupyter-cytoscape",
       "_view_module_version": "^0.2.2",
       "data": {
        "group": "coexp",
        "id": "e225",
        "intn": true,
        "networkGroupId": 18,
        "networkId": 1221,
        "rIntnId": 227,
        "source": "600046",
        "target": "605846",
        "weight": 0.015404511
       }
      }
     },
     "1817044f2a4042efb92c32ac6d2146af": {
      "model_module": "jupyter-cytoscape",
      "model_module_version": "^0.2.2",
      "model_name": "EdgeModel",
      "state": {
       "_model_module_version": "^0.2.2",
       "_view_module": "jupyter-cytoscape",
       "_view_module_version": "^0.2.2",
       "data": {
        "group": "coexp",
        "id": "e215",
        "intn": true,
        "networkGroupId": 18,
        "networkId": 1221,
        "rIntnId": 217,
        "source": "611408",
        "target": "605755",
        "weight": 0.0032552993
       }
      }
     },
     "182d4721f657450faf61d501b5fe6743": {
      "model_module": "jupyter-cytoscape",
      "model_module_version": "^0.2.2",
      "model_name": "EdgeModel",
      "state": {
       "_model_module_version": "^0.2.2",
       "_view_module": "jupyter-cytoscape",
       "_view_module_version": "^0.2.2",
       "data": {
        "group": "predict",
        "id": "e536",
        "intn": true,
        "networkGroupId": 23,
        "networkId": 918,
        "rIntnId": 538,
        "source": "600535",
        "target": "605846",
        "weight": 0.02506927
       }
      }
     },
     "187bdbbf4dfb4ebdb77554b11dc72c9f": {
      "model_module": "jupyter-cytoscape",
      "model_module_version": "^0.2.2",
      "model_name": "EdgeModel",
      "state": {
       "_model_module_version": "^0.2.2",
       "_view_module": "jupyter-cytoscape",
       "_view_module_version": "^0.2.2",
       "data": {
        "group": "coexp",
        "id": "e179",
        "intn": true,
        "networkGroupId": 18,
        "networkId": 939,
        "rIntnId": 181,
        "source": "605846",
        "target": "602299",
        "weight": 0.010975428
       }
      }
     },
     "187d2ba8d8674de0be2d4bb46182f90c": {
      "model_module": "jupyter-cytoscape",
      "model_module_version": "^0.2.2",
      "model_name": "EdgeModel",
      "state": {
       "_model_module_version": "^0.2.2",
       "_view_module": "jupyter-cytoscape",
       "_view_module_version": "^0.2.2",
       "data": {
        "group": "pi",
        "id": "e465",
        "intn": true,
        "networkGroupId": 22,
        "networkId": 799,
        "rIntnId": 467,
        "source": "600046",
        "target": "605755",
        "weight": 0.034888152
       }
      }
     },
     "18afdae4663442a394c2bd428abed7bc": {
      "model_module": "jupyter-cytoscape",
      "model_module_version": "^0.2.2",
      "model_name": "EdgeModel",
      "state": {
       "_model_module_version": "^0.2.2",
       "_view_module": "jupyter-cytoscape",
       "_view_module_version": "^0.2.2",
       "data": {
        "group": "coexp",
        "id": "e128",
        "intn": true,
        "networkGroupId": 18,
        "networkId": 1160,
        "rIntnId": 130,
        "source": "600585",
        "target": "605755",
        "weight": 0.009075253
       }
      }
     },
     "18b7dd44340546f8ac98c9b04412d7e8": {
      "model_module": "jupyter-cytoscape",
      "model_module_version": "^0.2.2",
      "model_name": "EdgeModel",
      "state": {
       "_model_module_version": "^0.2.2",
       "_view_module": "jupyter-cytoscape",
       "_view_module_version": "^0.2.2",
       "data": {
        "group": "coexp",
        "id": "e52",
        "intn": true,
        "networkGroupId": 18,
        "networkId": 1205,
        "rIntnId": 54,
        "source": "605846",
        "target": "611408",
        "weight": 0.006622242
       }
      }
     },
     "18c9d322d61743139cefa7b5e99cca2e": {
      "model_module": "jupyter-cytoscape",
      "model_module_version": "^0.2.2",
      "model_name": "EdgeModel",
      "state": {
       "_model_module_version": "^0.2.2",
       "_view_module": "jupyter-cytoscape",
       "_view_module_version": "^0.2.2",
       "data": {
        "group": "predict",
        "id": "e530",
        "intn": true,
        "networkGroupId": 23,
        "networkId": 918,
        "rIntnId": 532,
        "source": "603070",
        "target": "605755",
        "weight": 0.05125816
       }
      }
     },
     "18d6a113066c47488a82514d3b6048a7": {
      "model_module": "jupyter-cytoscape",
      "model_module_version": "^0.2.2",
      "model_name": "EdgeModel",
      "state": {
       "_model_module_version": "^0.2.2",
       "_view_module": "jupyter-cytoscape",
       "_view_module_version": "^0.2.2",
       "data": {
        "group": "path",
        "id": "e322",
        "intn": true,
        "networkGroupId": 21,
        "networkId": 920,
        "rIntnId": 324,
        "source": "606768",
        "target": "600046",
        "weight": 0.08151513
       }
      }
     },
     "193c6f0ead834d9d82e22712912de629": {
      "model_module": "jupyter-cytoscape",
      "model_module_version": "^0.2.2",
      "model_name": "EdgeModel",
      "state": {
       "_model_module_version": "^0.2.2",
       "_view_module": "jupyter-cytoscape",
       "_view_module_version": "^0.2.2",
       "data": {
        "group": "coexp",
        "id": "e0",
        "intn": true,
        "networkGroupId": 18,
        "networkId": 1133,
        "rIntnId": 2,
        "source": "611408",
        "target": "605755",
        "weight": 0.0055478187
       }
      }
     },
     "196f77cccf2144d0b624f37a7cfd5453": {
      "model_module": "jupyter-cytoscape",
      "model_module_version": "^0.2.2",
      "model_name": "EdgeModel",
      "state": {
       "_model_module_version": "^0.2.2",
       "_view_module": "jupyter-cytoscape",
       "_view_module_version": "^0.2.2",
       "data": {
        "group": "coexp",
        "id": "e213",
        "intn": true,
        "networkGroupId": 18,
        "networkId": 1211,
        "rIntnId": 215,
        "source": "610236",
        "target": "602299",
        "weight": 0.013894426
       }
      }
     },
     "19a5c921c70b4923a01c9fc8dac97a19": {
      "model_module": "jupyter-cytoscape",
      "model_module_version": "^0.2.2",
      "model_name": "EdgeModel",
      "state": {
       "_model_module_version": "^0.2.2",
       "_view_module": "jupyter-cytoscape",
       "_view_module_version": "^0.2.2",
       "data": {
        "group": "path",
        "id": "e276",
        "intn": true,
        "networkGroupId": 21,
        "networkId": 920,
        "rIntnId": 278,
        "source": "611408",
        "target": "605755",
        "weight": 0.055505108
       }
      }
     },
     "1a8ddd88a5c24d998e0bf9dc1dd4665e": {
      "model_module": "jupyter-cytoscape",
      "model_module_version": "^0.2.2",
      "model_name": "EdgeModel",
      "state": {
       "_model_module_version": "^0.2.2",
       "_view_module": "jupyter-cytoscape",
       "_view_module_version": "^0.2.2",
       "data": {
        "group": "coexp",
        "id": "e212",
        "intn": true,
        "networkGroupId": 18,
        "networkId": 1211,
        "rIntnId": 214,
        "source": "610236",
        "target": "605755",
        "weight": 0.006246549
       }
      }
     },
     "1acc58a61225449ca40fd006797564fc": {
      "model_module": "jupyter-cytoscape",
      "model_module_version": "^0.2.2",
      "model_name": "EdgeModel",
      "state": {
       "_model_module_version": "^0.2.2",
       "_view_module": "jupyter-cytoscape",
       "_view_module_version": "^0.2.2",
       "data": {
        "group": "coexp",
        "id": "e86",
        "intn": true,
        "networkGroupId": 18,
        "networkId": 1219,
        "rIntnId": 88,
        "source": "599889",
        "target": "605755",
        "weight": 0.00786129
       }
      }
     },
     "1ada34d820054a0baa2dacba32cdd524": {
      "model_module": "jupyter-cytoscape",
      "model_module_version": "^0.2.2",
      "model_name": "EdgeModel",
      "state": {
       "_model_module_version": "^0.2.2",
       "_view_module": "jupyter-cytoscape",
       "_view_module_version": "^0.2.2",
       "data": {
        "group": "coexp",
        "id": "e199",
        "intn": true,
        "networkGroupId": 18,
        "networkId": 987,
        "rIntnId": 201,
        "source": "599863",
        "target": "611408",
        "weight": 0.011064748
       }
      }
     },
     "1af00a7c640d4179b6926680c8fde937": {
      "model_module": "jupyter-cytoscape",
      "model_module_version": "^0.2.2",
      "model_name": "EdgeModel",
      "state": {
       "_model_module_version": "^0.2.2",
       "_view_module": "jupyter-cytoscape",
       "_view_module_version": "^0.2.2",
       "data": {
        "group": "pi",
        "id": "e366",
        "intn": true,
        "networkGroupId": 22,
        "networkId": 721,
        "rIntnId": 368,
        "source": "599863",
        "target": "610236",
        "weight": 0.15056042
       }
      }
     },
     "1b380a59945f4566a33683d380ca3e01": {
      "model_module": "jupyter-cytoscape",
      "model_module_version": "^0.2.2",
      "model_name": "EdgeModel",
      "state": {
       "_model_module_version": "^0.2.2",
       "_view_module": "jupyter-cytoscape",
       "_view_module_version": "^0.2.2",
       "data": {
        "group": "coexp",
        "id": "e220",
        "intn": true,
        "networkGroupId": 18,
        "networkId": 1221,
        "rIntnId": 222,
        "source": "600535",
        "target": "605755",
        "weight": 0.0035219863
       }
      }
     },
     "1b8827b2b1e645e88b5be21c1d4c9e7a": {
      "model_module": "jupyter-cytoscape",
      "model_module_version": "^0.2.2",
      "model_name": "EdgeModel",
      "state": {
       "_model_module_version": "^0.2.2",
       "_view_module": "jupyter-cytoscape",
       "_view_module_version": "^0.2.2",
       "data": {
        "group": "predict",
        "id": "e493",
        "intn": true,
        "networkGroupId": 23,
        "networkId": 746,
        "rIntnId": 495,
        "source": "600535",
        "target": "605755",
        "weight": 0.3450272
       }
      }
     },
     "1b89151e49624cc196f56ca62c1ce55c": {
      "model_module": "jupyter-cytoscape",
      "model_module_version": "^0.2.2",
      "model_name": "NodeModel",
      "state": {
       "_model_module_version": "^0.2.2",
       "_view_module_version": "^0.2.2",
       "data": {
        "gene": true,
        "id": "599724",
        "idInt": 599724,
        "name": "RFC1",
        "query": false,
        "score": 0.001740600741472309
       }
      }
     },
     "1c88b5d619dc43958ecdd2ed9f7e0a4b": {
      "model_module": "jupyter-cytoscape",
      "model_module_version": "^0.2.2",
      "model_name": "EdgeModel",
      "state": {
       "_model_module_version": "^0.2.2",
       "_view_module": "jupyter-cytoscape",
       "_view_module_version": "^0.2.2",
       "data": {
        "group": "pi",
        "id": "e367",
        "intn": true,
        "networkGroupId": 22,
        "networkId": 721,
        "rIntnId": 369,
        "source": "603700",
        "target": "605755",
        "weight": 0.17790036
       }
      }
     },
     "1d1c3b7303794704bbec724b378c9775": {
      "model_module": "jupyter-cytoscape",
      "model_module_version": "^0.2.2",
      "model_name": "EdgeModel",
      "state": {
       "_model_module_version": "^0.2.2",
       "_view_module": "jupyter-cytoscape",
       "_view_module_version": "^0.2.2",
       "data": {
        "group": "path",
        "id": "e354",
        "intn": true,
        "networkGroupId": 21,
        "networkId": 916,
        "rIntnId": 356,
        "source": "605846",
        "target": "612341",
        "weight": 0.024917956
       }
      }
     },
     "1d8893a0de4449369c6e0c6dad4cf420": {
      "model_module": "jupyter-cytoscape",
      "model_module_version": "^0.2.2",
      "model_name": "EdgeModel",
      "state": {
       "_model_module_version": "^0.2.2",
       "_view_module": "jupyter-cytoscape",
       "_view_module_version": "^0.2.2",
       "data": {
        "group": "coexp",
        "id": "e207",
        "intn": true,
        "networkGroupId": 18,
        "networkId": 987,
        "rIntnId": 209,
        "source": "605846",
        "target": "603070",
        "weight": 0.019081693
       }
      }
     },
     "1e15e74716ac467cafa712f76ee293b2": {
      "model_module": "jupyter-cytoscape",
      "model_module_version": "^0.2.2",
      "model_name": "EdgeModel",
      "state": {
       "_model_module_version": "^0.2.2",
       "_view_module": "jupyter-cytoscape",
       "_view_module_version": "^0.2.2",
       "data": {
        "group": "predict",
        "id": "e507",
        "intn": true,
        "networkGroupId": 23,
        "networkId": 919,
        "rIntnId": 509,
        "source": "611560",
        "target": "605755",
        "weight": 0.24656044
       }
      }
     },
     "1e4d87b996ae4423801ef6f1e46389c9": {
      "model_module": "jupyter-cytoscape",
      "model_module_version": "^0.2.2",
      "model_name": "EdgeModel",
      "state": {
       "_model_module_version": "^0.2.2",
       "_view_module": "jupyter-cytoscape",
       "_view_module_version": "^0.2.2",
       "data": {
        "group": "coloc",
        "id": "e257",
        "intn": true,
        "networkGroupId": 19,
        "networkId": 1215,
        "rIntnId": 259,
        "source": "610236",
        "target": "599889",
        "weight": 0.005680255
       }
      }
     },
     "1e701939208b480888915991230244d1": {
      "model_module": "jupyter-cytoscape",
      "model_module_version": "^0.2.2",
      "model_name": "EdgeModel",
      "state": {
       "_model_module_version": "^0.2.2",
       "_view_module": "jupyter-cytoscape",
       "_view_module_version": "^0.2.2",
       "data": {
        "group": "coexp",
        "id": "e222",
        "intn": true,
        "networkGroupId": 18,
        "networkId": 1221,
        "rIntnId": 224,
        "source": "599724",
        "target": "602299",
        "weight": 0.021771252
       }
      }
     },
     "1ed206c206e54515b86f1c6b707b9dbe": {
      "model_module": "jupyter-cytoscape",
      "model_module_version": "^0.2.2",
      "model_name": "EdgeModel",
      "state": {
       "_model_module_version": "^0.2.2",
       "_view_module": "jupyter-cytoscape",
       "_view_module_version": "^0.2.2",
       "data": {
        "group": "predict",
        "id": "e482",
        "intn": true,
        "networkGroupId": 23,
        "networkId": 784,
        "rIntnId": 484,
        "source": "609734",
        "target": "605755",
        "weight": 0.2623583
       }
      }
     },
     "1f3295b8b3954af6ba05e4b8475851d7": {
      "model_module": "jupyter-cytoscape",
      "model_module_version": "^0.2.2",
      "model_name": "EdgeModel",
      "state": {
       "_model_module_version": "^0.2.2",
       "_view_module": "jupyter-cytoscape",
       "_view_module_version": "^0.2.2",
       "data": {
        "group": "coexp",
        "id": "e60",
        "intn": true,
        "networkGroupId": 18,
        "networkId": 1205,
        "rIntnId": 62,
        "source": "600535",
        "target": "603700",
        "weight": 0.01120258
       }
      }
     },
     "1f969edefd4540d8992af788c62fd37a": {
      "model_module": "jupyter-cytoscape",
      "model_module_version": "^0.2.2",
      "model_name": "EdgeModel",
      "state": {
       "_model_module_version": "^0.2.2",
       "_view_module": "jupyter-cytoscape",
       "_view_module_version": "^0.2.2",
       "data": {
        "group": "coexp",
        "id": "e216",
        "intn": true,
        "networkGroupId": 18,
        "networkId": 1221,
        "rIntnId": 218,
        "source": "610236",
        "target": "605755",
        "weight": 0.0023748495
       }
      }
     },
     "1fa949c709ad40ef803e10298bb0df45": {
      "model_module": "jupyter-cytoscape",
      "model_module_version": "^0.2.2",
      "model_name": "EdgeModel",
      "state": {
       "_model_module_version": "^0.2.2",
       "_view_module": "jupyter-cytoscape",
       "_view_module_version": "^0.2.2",
       "data": {
        "group": "coexp",
        "id": "e229",
        "intn": true,
        "networkGroupId": 18,
        "networkId": 1141,
        "rIntnId": 231,
        "source": "603070",
        "target": "605755",
        "weight": 0.020896556
       }
      }
     },
     "1fef96d4b53a4630a92d567b9094720a": {
      "model_module": "jupyter-cytoscape",
      "model_module_version": "^0.2.2",
      "model_name": "EdgeModel",
      "state": {
       "_model_module_version": "^0.2.2",
       "_view_module": "jupyter-cytoscape",
       "_view_module_version": "^0.2.2",
       "data": {
        "group": "coexp",
        "id": "e241",
        "intn": true,
        "networkGroupId": 18,
        "networkId": 1213,
        "rIntnId": 243,
        "source": "610236",
        "target": "605755",
        "weight": 0.0035941477
       }
      }
     },
     "2109fad9f16b4c2788847bc2a2d3b678": {
      "model_module": "jupyter-cytoscape",
      "model_module_version": "^0.2.2",
      "model_name": "EdgeModel",
      "state": {
       "_model_module_version": "^0.2.2",
       "_view_module": "jupyter-cytoscape",
       "_view_module_version": "^0.2.2",
       "data": {
        "group": "coexp",
        "id": "e170",
        "intn": true,
        "networkGroupId": 18,
        "networkId": 939,
        "rIntnId": 172,
        "source": "603070",
        "target": "605755",
        "weight": 0.0073932544
       }
      }
     },
     "2147f5d3ac0045c0afad12bb438411ab": {
      "model_module": "jupyter-cytoscape",
      "model_module_version": "^0.2.2",
      "model_name": "EdgeModel",
      "state": {
       "_model_module_version": "^0.2.2",
       "_view_module": "jupyter-cytoscape",
       "_view_module_version": "^0.2.2",
       "data": {
        "group": "path",
        "id": "e306",
        "intn": true,
        "networkGroupId": 21,
        "networkId": 920,
        "rIntnId": 308,
        "source": "599724",
        "target": "600585",
        "weight": 0.059705
       }
      }
     },
     "2170b28ac00842b284142287a9be0347": {
      "model_module": "jupyter-cytoscape",
      "model_module_version": "^0.2.2",
      "model_name": "EdgeModel",
      "state": {
       "_model_module_version": "^0.2.2",
       "_view_module": "jupyter-cytoscape",
       "_view_module_version": "^0.2.2",
       "data": {
        "group": "coexp",
        "id": "e12",
        "intn": true,
        "networkGroupId": 18,
        "networkId": 1133,
        "rIntnId": 14,
        "source": "600535",
        "target": "603700",
        "weight": 0.00814378
       }
      }
     },
     "2178c764f17d4a8689516d5e62f61a39": {
      "model_module": "jupyter-cytoscape",
      "model_module_version": "^0.2.2",
      "model_name": "EdgeModel",
      "state": {
       "_model_module_version": "^0.2.2",
       "_view_module": "jupyter-cytoscape",
       "_view_module_version": "^0.2.2",
       "data": {
        "group": "pi",
        "id": "e457",
        "intn": true,
        "networkGroupId": 22,
        "networkId": 799,
        "rIntnId": 459,
        "source": "599863",
        "target": "610236",
        "weight": 0.036919616
       }
      }
     },
     "22e787c6c1e943198ab8f6dc0a99da88": {
      "model_module": "jupyter-cytoscape",
      "model_module_version": "^0.2.2",
      "model_name": "EdgeModel",
      "state": {
       "_model_module_version": "^0.2.2",
       "_view_module": "jupyter-cytoscape",
       "_view_module_version": "^0.2.2",
       "data": {
        "group": "coexp",
        "id": "e192",
        "intn": true,
        "networkGroupId": 18,
        "networkId": 987,
        "rIntnId": 194,
        "source": "602299",
        "target": "612341",
        "weight": 0.021436332
       }
      }
     },
     "22f2e647e8c147df829691fa3cd4496c": {
      "model_module": "@jupyter-widgets/controls",
      "model_module_version": "1.4.0",
      "model_name": "SliderStyleModel",
      "state": {
       "description_width": ""
      }
     },
     "23073d32628643d1a9c4402c3df4fcfc": {
      "model_module": "jupyter-cytoscape",
      "model_module_version": "^0.2.2",
      "model_name": "EdgeModel",
      "state": {
       "_model_module_version": "^0.2.2",
       "_view_module": "jupyter-cytoscape",
       "_view_module_version": "^0.2.2",
       "data": {
        "group": "coexp",
        "id": "e208",
        "intn": true,
        "networkGroupId": 18,
        "networkId": 987,
        "rIntnId": 210,
        "source": "605846",
        "target": "610236",
        "weight": 0.013073517
       }
      }
     },
     "234bbcc8f5d749529cdad67af3143dbd": {
      "model_module": "jupyter-cytoscape",
      "model_module_version": "^0.2.2",
      "model_name": "EdgeModel",
      "state": {
       "_model_module_version": "^0.2.2",
       "_view_module": "jupyter-cytoscape",
       "_view_module_version": "^0.2.2",
       "data": {
        "group": "pi",
        "id": "e382",
        "intn": true,
        "networkGroupId": 22,
        "networkId": 665,
        "rIntnId": 384,
        "source": "602299",
        "target": "605755",
        "weight": 0.063570626
       }
      }
     },
     "23942f091a014da7a892acc3a4b30676": {
      "model_module": "jupyter-cytoscape",
      "model_module_version": "^0.2.2",
      "model_name": "EdgeModel",
      "state": {
       "_model_module_version": "^0.2.2",
       "_view_module": "jupyter-cytoscape",
       "_view_module_version": "^0.2.2",
       "data": {
        "group": "path",
        "id": "e307",
        "intn": true,
        "networkGroupId": 21,
        "networkId": 920,
        "rIntnId": 309,
        "source": "599724",
        "target": "603070",
        "weight": 0.057087615
       }
      }
     },
     "23c9a7c508de46d686bb6bc6b6189086": {
      "model_module": "jupyter-cytoscape",
      "model_module_version": "^0.2.2",
      "model_name": "EdgeModel",
      "state": {
       "_model_module_version": "^0.2.2",
       "_view_module": "jupyter-cytoscape",
       "_view_module_version": "^0.2.2",
       "data": {
        "group": "path",
        "id": "e309",
        "intn": true,
        "networkGroupId": 21,
        "networkId": 920,
        "rIntnId": 311,
        "source": "599724",
        "target": "599863",
        "weight": 0.057087615
       }
      }
     },
     "23e3fd0318804b4fb57e11cd0baeeaf4": {
      "model_module": "jupyter-cytoscape",
      "model_module_version": "^0.2.2",
      "model_name": "EdgeModel",
      "state": {
       "_model_module_version": "^0.2.2",
       "_view_module": "jupyter-cytoscape",
       "_view_module_version": "^0.2.2",
       "data": {
        "group": "coexp",
        "id": "e65",
        "intn": true,
        "networkGroupId": 18,
        "networkId": 1103,
        "rIntnId": 67,
        "source": "610236",
        "target": "611408",
        "weight": 0.0054441774
       }
      }
     },
     "2405b4e2008b4cd187126ebe713e82d6": {
      "model_module": "jupyter-cytoscape",
      "model_module_version": "^0.2.2",
      "model_name": "EdgeModel",
      "state": {
       "_model_module_version": "^0.2.2",
       "_view_module": "jupyter-cytoscape",
       "_view_module_version": "^0.2.2",
       "data": {
        "group": "coexp",
        "id": "e153",
        "intn": true,
        "networkGroupId": 18,
        "networkId": 1112,
        "rIntnId": 155,
        "source": "610236",
        "target": "605755",
        "weight": 0.0065593245
       }
      }
     },
     "24df7f042fdb4b3797e7b03c06b34062": {
      "model_module": "@jupyter-widgets/output",
      "model_module_version": "1.0.0",
      "model_name": "OutputModel",
      "state": {
       "layout": "IPY_MODEL_6bb573e4af3742bd92836f1442a68f8c"
      }
     },
     "24f82ff6d00f4b78b05676d5cff57e56": {
      "model_module": "jupyter-cytoscape",
      "model_module_version": "^0.2.2",
      "model_name": "EdgeModel",
      "state": {
       "_model_module_version": "^0.2.2",
       "_view_module": "jupyter-cytoscape",
       "_view_module_version": "^0.2.2",
       "data": {
        "group": "predict",
        "id": "e521",
        "intn": true,
        "networkGroupId": 23,
        "networkId": 760,
        "rIntnId": 523,
        "source": "599724",
        "target": "603070",
        "weight": 0.55178285
       }
      }
     },
     "2503f51b1a7c471ea0c568bc2b1a5999": {
      "model_module": "jupyter-cytoscape",
      "model_module_version": "^0.2.2",
      "model_name": "EdgeModel",
      "state": {
       "_model_module_version": "^0.2.2",
       "_view_module": "jupyter-cytoscape",
       "_view_module_version": "^0.2.2",
       "data": {
        "group": "coexp",
        "id": "e20",
        "intn": true,
        "networkGroupId": 18,
        "networkId": 1133,
        "rIntnId": 22,
        "source": "606768",
        "target": "605846",
        "weight": 0.013474658
       }
      }
     },
     "255efb3655584d48a0abe7095dbe86b0": {
      "model_module": "jupyter-cytoscape",
      "model_module_version": "^0.2.2",
      "model_name": "EdgeModel",
      "state": {
       "_model_module_version": "^0.2.2",
       "_view_module": "jupyter-cytoscape",
       "_view_module_version": "^0.2.2",
       "data": {
        "group": "predict",
        "id": "e548",
        "intn": true,
        "networkGroupId": 23,
        "networkId": 741,
        "rIntnId": 550,
        "source": "603700",
        "target": "605755",
        "weight": 0.51404154
       }
      }
     },
     "2574a88e5e42402286f890bc3a142cb7": {
      "model_module": "jupyter-cytoscape",
      "model_module_version": "^0.2.2",
      "model_name": "EdgeModel",
      "state": {
       "_model_module_version": "^0.2.2",
       "_view_module": "jupyter-cytoscape",
       "_view_module_version": "^0.2.2",
       "data": {
        "group": "pi",
        "id": "e434",
        "intn": true,
        "networkGroupId": 22,
        "networkId": 909,
        "rIntnId": 436,
        "source": "603700",
        "target": "605755",
        "weight": 0.016653417
       }
      }
     },
     "261df35fcad74be8a691c89aebbacbbc": {
      "model_module": "jupyter-cytoscape",
      "model_module_version": "^0.2.2",
      "model_name": "EdgeModel",
      "state": {
       "_model_module_version": "^0.2.2",
       "_view_module": "jupyter-cytoscape",
       "_view_module_version": "^0.2.2",
       "data": {
        "group": "path",
        "id": "e313",
        "intn": true,
        "networkGroupId": 21,
        "networkId": 920,
        "rIntnId": 315,
        "source": "600046",
        "target": "600585",
        "weight": 0.048355326
       }
      }
     },
     "266798e566cf47f3b5903e1ef80e7b66": {
      "model_module": "jupyter-cytoscape",
      "model_module_version": "^0.2.2",
      "model_name": "EdgeModel",
      "state": {
       "_model_module_version": "^0.2.2",
       "_view_module": "jupyter-cytoscape",
       "_view_module_version": "^0.2.2",
       "data": {
        "group": "coexp",
        "id": "e230",
        "intn": true,
        "networkGroupId": 18,
        "networkId": 1141,
        "rIntnId": 232,
        "source": "603070",
        "target": "611408",
        "weight": 0.020604162
       }
      }
     },
     "26b5b4f681af49eebe717878ccc6351e": {
      "model_module": "jupyter-cytoscape",
      "model_module_version": "^0.2.2",
      "model_name": "EdgeModel",
      "state": {
       "_model_module_version": "^0.2.2",
       "_view_module": "jupyter-cytoscape",
       "_view_module_version": "^0.2.2",
       "data": {
        "group": "predict",
        "id": "e538",
        "intn": true,
        "networkGroupId": 23,
        "networkId": 918,
        "rIntnId": 540,
        "source": "600046",
        "target": "605755",
        "weight": 0.07048574
       }
      }
     },
     "26c5abc43fe8432faa0a27eabb36945f": {
      "model_module": "jupyter-cytoscape",
      "model_module_version": "^0.2.2",
      "model_name": "EdgeModel",
      "state": {
       "_model_module_version": "^0.2.2",
       "_view_module": "jupyter-cytoscape",
       "_view_module_version": "^0.2.2",
       "data": {
        "group": "pi",
        "id": "e404",
        "intn": true,
        "networkGroupId": 22,
        "networkId": 901,
        "rIntnId": 406,
        "source": "611560",
        "target": "605755",
        "weight": 0.22489744
       }
      }
     },
     "27b77e3faa6e4297970e858d5a6f8ba4": {
      "model_module": "jupyter-cytoscape",
      "model_module_version": "^0.2.2",
      "model_name": "EdgeModel",
      "state": {
       "_model_module_version": "^0.2.2",
       "_view_module": "jupyter-cytoscape",
       "_view_module_version": "^0.2.2",
       "data": {
        "group": "coexp",
        "id": "e49",
        "intn": true,
        "networkGroupId": 18,
        "networkId": 1205,
        "rIntnId": 51,
        "source": "599863",
        "target": "610236",
        "weight": 0.014548145
       }
      }
     },
     "27e7f7a238c54a70a3d992d029756ae8": {
      "model_module": "jupyter-cytoscape",
      "model_module_version": "^0.2.2",
      "model_name": "EdgeModel",
      "state": {
       "_model_module_version": "^0.2.2",
       "_view_module": "jupyter-cytoscape",
       "_view_module_version": "^0.2.2",
       "data": {
        "group": "coexp",
        "id": "e242",
        "intn": true,
        "networkGroupId": 18,
        "networkId": 1213,
        "rIntnId": 244,
        "source": "610236",
        "target": "611408",
        "weight": 0.0022027155
       }
      }
     },
     "27f9988c95914693b0547dafbd9fc8cf": {
      "model_module": "jupyter-cytoscape",
      "model_module_version": "^0.2.2",
      "model_name": "EdgeModel",
      "state": {
       "_model_module_version": "^0.2.2",
       "_view_module": "jupyter-cytoscape",
       "_view_module_version": "^0.2.2",
       "data": {
        "group": "path",
        "id": "e328",
        "intn": true,
        "networkGroupId": 21,
        "networkId": 917,
        "rIntnId": 330,
        "source": "603070",
        "target": "600585",
        "weight": 0.078957625
       }
      }
     },
     "27feafc4143b494a91601ae62cfcd573": {
      "model_module": "jupyter-cytoscape",
      "model_module_version": "^0.2.2",
      "model_name": "EdgeModel",
      "state": {
       "_model_module_version": "^0.2.2",
       "_view_module": "jupyter-cytoscape",
       "_view_module_version": "^0.2.2",
       "data": {
        "group": "coexp",
        "id": "e134",
        "intn": true,
        "networkGroupId": 18,
        "networkId": 1160,
        "rIntnId": 136,
        "source": "610236",
        "target": "599889",
        "weight": 0.008408555
       }
      }
     },
     "2831f51f921c467aa6775cbbf03b0c57": {
      "model_module": "jupyter-cytoscape",
      "model_module_version": "^0.2.2",
      "model_name": "EdgeModel",
      "state": {
       "_model_module_version": "^0.2.2",
       "_view_module": "jupyter-cytoscape",
       "_view_module_version": "^0.2.2",
       "data": {
        "group": "coexp",
        "id": "e113",
        "intn": true,
        "networkGroupId": 18,
        "networkId": 948,
        "rIntnId": 115,
        "source": "599863",
        "target": "599889",
        "weight": 0.02020582
       }
      }
     },
     "2839482d90c2425380dd383b0deb7110": {
      "model_module": "jupyter-cytoscape",
      "model_module_version": "^0.2.2",
      "model_name": "EdgeModel",
      "state": {
       "_model_module_version": "^0.2.2",
       "_view_module": "jupyter-cytoscape",
       "_view_module_version": "^0.2.2",
       "data": {
        "group": "predict",
        "id": "e475",
        "intn": true,
        "networkGroupId": 23,
        "networkId": 782,
        "rIntnId": 477,
        "source": "605846",
        "target": "603070",
        "weight": 0.36602542
       }
      }
     },
     "291d85d97d4d4f20b8875029055b512b": {
      "model_module": "jupyter-cytoscape",
      "model_module_version": "^0.2.2",
      "model_name": "EdgeModel",
      "state": {
       "_model_module_version": "^0.2.2",
       "_view_module": "jupyter-cytoscape",
       "_view_module_version": "^0.2.2",
       "data": {
        "group": "predict",
        "id": "e514",
        "intn": true,
        "networkGroupId": 23,
        "networkId": 765,
        "rIntnId": 516,
        "source": "605846",
        "target": "603070",
        "weight": 0.34595153
       }
      }
     },
     "2a0c376bdda4416f83c8448c3a669005": {
      "model_module": "jupyter-cytoscape",
      "model_module_version": "^0.2.2",
      "model_name": "EdgeModel",
      "state": {
       "_model_module_version": "^0.2.2",
       "_view_module": "jupyter-cytoscape",
       "_view_module_version": "^0.2.2",
       "data": {
        "group": "predict",
        "id": "e511",
        "intn": true,
        "networkGroupId": 23,
        "networkId": 919,
        "rIntnId": 513,
        "source": "600535",
        "target": "605755",
        "weight": 0.07400977
       }
      }
     },
     "2a141048a9614a81abb8ea6bb538bc46": {
      "model_module": "jupyter-cytoscape",
      "model_module_version": "^0.2.2",
      "model_name": "EdgeModel",
      "state": {
       "_model_module_version": "^0.2.2",
       "_view_module": "jupyter-cytoscape",
       "_view_module_version": "^0.2.2",
       "data": {
        "group": "path",
        "id": "e321",
        "intn": true,
        "networkGroupId": 21,
        "networkId": 920,
        "rIntnId": 323,
        "source": "606768",
        "target": "600585",
        "weight": 0.08561569
       }
      }
     },
     "2a6c036905614333a4ba2cf65ace2a54": {
      "model_module": "jupyter-cytoscape",
      "model_module_version": "^0.2.2",
      "model_name": "NodeModel",
      "state": {
       "_model_module_version": "^0.2.2",
       "_view_module_version": "^0.2.2",
       "data": {
        "gene": true,
        "id": "606768",
        "idInt": 606768,
        "name": "DNA2",
        "query": false,
        "score": 0.0014194334373996975
       }
      }
     },
     "2af2c783a78642d6a6e2ec29cbc9041b": {
      "model_module": "jupyter-cytoscape",
      "model_module_version": "^0.2.2",
      "model_name": "EdgeModel",
      "state": {
       "_model_module_version": "^0.2.2",
       "_view_module": "jupyter-cytoscape",
       "_view_module_version": "^0.2.2",
       "data": {
        "group": "pi",
        "id": "e369",
        "intn": true,
        "networkGroupId": 22,
        "networkId": 721,
        "rIntnId": 371,
        "source": "605846",
        "target": "610236",
        "weight": 0.13995422
       }
      }
     },
     "2b2638368b874e80a2e996fe3ab2bf6e": {
      "model_module": "jupyter-cytoscape",
      "model_module_version": "^0.2.2",
      "model_name": "EdgeModel",
      "state": {
       "_model_module_version": "^0.2.2",
       "_view_module": "jupyter-cytoscape",
       "_view_module_version": "^0.2.2",
       "data": {
        "group": "coexp",
        "id": "e232",
        "intn": true,
        "networkGroupId": 18,
        "networkId": 1141,
        "rIntnId": 234,
        "source": "600046",
        "target": "611408",
        "weight": 0.018530738
       }
      }
     },
     "2c5b538bc3f64501bb3b25b1d8774fcd": {
      "model_module": "jupyter-cytoscape",
      "model_module_version": "^0.2.2",
      "model_name": "EdgeModel",
      "state": {
       "_model_module_version": "^0.2.2",
       "_view_module": "jupyter-cytoscape",
       "_view_module_version": "^0.2.2",
       "data": {
        "group": "coexp",
        "id": "e92",
        "intn": true,
        "networkGroupId": 18,
        "networkId": 1219,
        "rIntnId": 94,
        "source": "606768",
        "target": "610236",
        "weight": 0.0067964033
       }
      }
     },
     "2cebaf3e196c45bab640429117966cf6": {
      "model_module": "jupyter-cytoscape",
      "model_module_version": "^0.2.2",
      "model_name": "EdgeModel",
      "state": {
       "_model_module_version": "^0.2.2",
       "_view_module": "jupyter-cytoscape",
       "_view_module_version": "^0.2.2",
       "data": {
        "group": "coexp",
        "id": "e38",
        "intn": true,
        "networkGroupId": 18,
        "networkId": 1205,
        "rIntnId": 40,
        "source": "602299",
        "target": "605755",
        "weight": 0.008944319
       }
      }
     },
     "2d5a2ca6729046a9b1ed698132aa9ec5": {
      "model_module": "jupyter-cytoscape",
      "model_module_version": "^0.2.2",
      "model_name": "EdgeModel",
      "state": {
       "_model_module_version": "^0.2.2",
       "_view_module": "jupyter-cytoscape",
       "_view_module_version": "^0.2.2",
       "data": {
        "group": "coexp",
        "id": "e8",
        "intn": true,
        "networkGroupId": 18,
        "networkId": 1133,
        "rIntnId": 10,
        "source": "605846",
        "target": "611408",
        "weight": 0.009477927
       }
      }
     },
     "2e0555c1d10747248251df8303ff341e": {
      "model_module": "jupyter-cytoscape",
      "model_module_version": "^0.2.2",
      "model_name": "EdgeModel",
      "state": {
       "_model_module_version": "^0.2.2",
       "_view_module": "jupyter-cytoscape",
       "_view_module_version": "^0.2.2",
       "data": {
        "group": "path",
        "id": "e351",
        "intn": true,
        "networkGroupId": 21,
        "networkId": 916,
        "rIntnId": 353,
        "source": "599863",
        "target": "612341",
        "weight": 0.024917956
       }
      }
     },
     "2e3bf902624d41948ae258ee9fefaeb1": {
      "model_module": "jupyter-cytoscape",
      "model_module_version": "^0.2.2",
      "model_name": "EdgeModel",
      "state": {
       "_model_module_version": "^0.2.2",
       "_view_module": "jupyter-cytoscape",
       "_view_module_version": "^0.2.2",
       "data": {
        "group": "pi",
        "id": "e380",
        "intn": true,
        "networkGroupId": 22,
        "networkId": 665,
        "rIntnId": 382,
        "source": "611560",
        "target": "605755",
        "weight": 0.1572818
       }
      }
     },
     "2e55b827727c47e185cc9a74d9f61378": {
      "model_module": "jupyter-cytoscape",
      "model_module_version": "^0.2.2",
      "model_name": "EdgeModel",
      "state": {
       "_model_module_version": "^0.2.2",
       "_view_module": "jupyter-cytoscape",
       "_view_module_version": "^0.2.2",
       "data": {
        "group": "coexp",
        "id": "e64",
        "intn": true,
        "networkGroupId": 18,
        "networkId": 1103,
        "rIntnId": 66,
        "source": "610236",
        "target": "605755",
        "weight": 0.0046327286
       }
      }
     },
     "2ecccbb543184b1aa13d9795fded25cd": {
      "model_module": "jupyter-cytoscape",
      "model_module_version": "^0.2.2",
      "model_name": "EdgeModel",
      "state": {
       "_model_module_version": "^0.2.2",
       "_view_module": "jupyter-cytoscape",
       "_view_module_version": "^0.2.2",
       "data": {
        "group": "coexp",
        "id": "e129",
        "intn": true,
        "networkGroupId": 18,
        "networkId": 1160,
        "rIntnId": 131,
        "source": "600585",
        "target": "611408",
        "weight": 0.013036429
       }
      }
     },
     "2f12a1fc98124f999b0d97866794c0f2": {
      "model_module": "jupyter-cytoscape",
      "model_module_version": "^0.2.2",
      "model_name": "EdgeModel",
      "state": {
       "_model_module_version": "^0.2.2",
       "_view_module": "jupyter-cytoscape",
       "_view_module_version": "^0.2.2",
       "data": {
        "group": "coexp",
        "id": "e3",
        "intn": true,
        "networkGroupId": 18,
        "networkId": 1133,
        "rIntnId": 5,
        "source": "610236",
        "target": "605755",
        "weight": 0.0055292076
       }
      }
     },
     "2f3a3c4a8fa94baea675d31444165e68": {
      "model_module": "jupyter-cytoscape",
      "model_module_version": "^0.2.2",
      "model_name": "EdgeModel",
      "state": {
       "_model_module_version": "^0.2.2",
       "_view_module": "jupyter-cytoscape",
       "_view_module_version": "^0.2.2",
       "data": {
        "group": "path",
        "id": "e284",
        "intn": true,
        "networkGroupId": 21,
        "networkId": 920,
        "rIntnId": 286,
        "source": "603070",
        "target": "608473",
        "weight": 0.087010026
       }
      }
     },
     "2f8b95e5e562494e9bc66098b9979a0d": {
      "model_module": "jupyter-cytoscape",
      "model_module_version": "^0.2.2",
      "model_name": "CytoscapeModel",
      "state": {
       "_model_module_version": "^0.2.2",
       "_view_module_version": "^0.2.2",
       "cytoscape_layout": {
        "animate": true,
        "edgeLengthVal": 45,
        "maxSimulationTime": 1500,
        "name": "cola",
        "nodeSpacing": 57,
        "randomize": false
       },
       "cytoscape_style": [
        {
         "selector": "core",
         "style": {
          "selection-box-border-color": "#8BB0D0",
          "selection-box-color": "#AAD8FF",
          "selection-box-opacity": "0.5"
         }
        },
        {
         "selector": "node",
         "style": {
          "background-color": "#555",
          "color": "#fff",
          "content": "data(name)",
          "font-size": "12px",
          "height": "mapData(score, 0, 0.006769776522008331, 20, 60)",
          "overlay-padding": "6px",
          "text-halign": "center",
          "text-outline-color": "#555",
          "text-outline-width": "2px",
          "text-valign": "center",
          "width": "mapData(score, 0, 0.006769776522008331, 20, 60)",
          "z-index": "10"
         }
        },
        {
         "selector": "node[?attr]",
         "style": {
          "background-color": "#aaa",
          "font-size": "6px",
          "height": "16px",
          "shape": "rectangle",
          "text-outline-color": "#aaa",
          "width": "16px",
          "z-index": "1"
         }
        },
        {
         "selector": "node[?query]",
         "style": {
          "background-clip": "none",
          "background-fit": "contain"
         }
        },
        {
         "selector": "node:selected",
         "style": {
          "background-color": "#77828C",
          "border-color": "#AAD8FF",
          "border-opacity": "0.5",
          "border-width": "6px",
          "text-outline-color": "#77828C"
         }
        },
        {
         "selector": "edge",
         "style": {
          "curve-style": "haystack",
          "haystack-radius": "0.5",
          "line-color": "#bbb",
          "opacity": "0.4",
          "overlay-padding": "3px",
          "width": "mapData(weight, 0, 1, 1, 8)"
         }
        },
        {
         "selector": "node.unhighlighted",
         "style": {
          "opacity": "0.2"
         }
        },
        {
         "selector": "edge.unhighlighted",
         "style": {
          "opacity": "0.05"
         }
        },
        {
         "selector": ".highlighted",
         "style": {
          "z-index": "999999"
         }
        },
        {
         "selector": "node.highlighted",
         "style": {
          "background-color": "#394855",
          "border-color": "#AAD8FF",
          "border-opacity": "0.5",
          "border-width": "6px",
          "text-outline-color": "#394855"
         }
        },
        {
         "selector": "edge.filtered",
         "style": {
          "opacity": "0"
         }
        },
        {
         "selector": "edge[group=\"coexp\"]",
         "style": {
          "line-color": "#d0b7d5"
         }
        },
        {
         "selector": "edge[group=\"coloc\"]",
         "style": {
          "line-color": "#a0b3dc"
         }
        },
        {
         "selector": "edge[group=\"gi\"]",
         "style": {
          "line-color": "#90e190"
         }
        },
        {
         "selector": "edge[group=\"path\"]",
         "style": {
          "line-color": "#9bd8de"
         }
        },
        {
         "selector": "edge[group=\"pi\"]",
         "style": {
          "line-color": "#eaa2a2"
         }
        },
        {
         "selector": "edge[group=\"predict\"]",
         "style": {
          "line-color": "#f6c384"
         }
        },
        {
         "selector": "edge[group=\"spd\"]",
         "style": {
          "line-color": "#dad4a2"
         }
        },
        {
         "selector": "edge[group=\"spd_attr\"]",
         "style": {
          "line-color": "#D0D0D0"
         }
        },
        {
         "selector": "edge[group=\"reg\"]",
         "style": {
          "line-color": "#D0D0D0"
         }
        },
        {
         "selector": "edge[group=\"reg_attr\"]",
         "style": {
          "line-color": "#D0D0D0"
         }
        },
        {
         "selector": "edge[group=\"user\"]",
         "style": {
          "line-color": "#f0ec86"
         }
        }
       ],
       "graph": "IPY_MODEL_d51cdd9640ed4c0bbd28063b6ce17e99",
       "layout": "IPY_MODEL_4f18bc9c5cbb49e59dfdd22f0b045be3",
       "rendered_position": {
        "renderedPosition": {
         "x": 100,
         "y": 100
        }
       },
       "zoom": 2
      }
     },
     "31ac98b995b143d69cbeeccf891a7c84": {
      "model_module": "jupyter-cytoscape",
      "model_module_version": "^0.2.2",
      "model_name": "EdgeModel",
      "state": {
       "_model_module_version": "^0.2.2",
       "_view_module": "jupyter-cytoscape",
       "_view_module_version": "^0.2.2",
       "data": {
        "group": "coexp",
        "id": "e137",
        "intn": true,
        "networkGroupId": 18,
        "networkId": 1160,
        "rIntnId": 139,
        "source": "599863",
        "target": "611408",
        "weight": 0.00612881
       }
      }
     },
     "31ba923591774f1c8d7f91f45208020b": {
      "model_module": "jupyter-cytoscape",
      "model_module_version": "^0.2.2",
      "model_name": "EdgeModel",
      "state": {
       "_model_module_version": "^0.2.2",
       "_view_module": "jupyter-cytoscape",
       "_view_module_version": "^0.2.2",
       "data": {
        "group": "coloc",
        "id": "e258",
        "intn": true,
        "networkGroupId": 19,
        "networkId": 1215,
        "rIntnId": 260,
        "source": "599863",
        "target": "610236",
        "weight": 0.0038152228
       }
      }
     },
     "3216070d2cc4462a89b0ce41aa5fe98e": {
      "model_module": "jupyter-cytoscape",
      "model_module_version": "^0.2.2",
      "model_name": "EdgeModel",
      "state": {
       "_model_module_version": "^0.2.2",
       "_view_module": "jupyter-cytoscape",
       "_view_module_version": "^0.2.2",
       "data": {
        "group": "coexp",
        "id": "e83",
        "intn": true,
        "networkGroupId": 18,
        "networkId": 1147,
        "rIntnId": 85,
        "source": "610236",
        "target": "603070",
        "weight": 0.0065878476
       }
      }
     },
     "3382af8640644abcbaed35d933e8bc6f": {
      "model_module": "jupyter-cytoscape",
      "model_module_version": "^0.2.2",
      "model_name": "EdgeModel",
      "state": {
       "_model_module_version": "^0.2.2",
       "_view_module": "jupyter-cytoscape",
       "_view_module_version": "^0.2.2",
       "data": {
        "group": "predict",
        "id": "e491",
        "intn": true,
        "networkGroupId": 23,
        "networkId": 746,
        "rIntnId": 493,
        "source": "599863",
        "target": "603070",
        "weight": 0.08485871
       }
      }
     },
     "338a70ccf0244b32b1312d9f660206db": {
      "model_module": "jupyter-cytoscape",
      "model_module_version": "^0.2.2",
      "model_name": "EdgeModel",
      "state": {
       "_model_module_version": "^0.2.2",
       "_view_module": "jupyter-cytoscape",
       "_view_module_version": "^0.2.2",
       "data": {
        "group": "pi",
        "id": "e368",
        "intn": true,
        "networkGroupId": 22,
        "networkId": 721,
        "rIntnId": 370,
        "source": "605846",
        "target": "603070",
        "weight": 0.15458822
       }
      }
     },
     "342002a24fec4c86bcb2e41882297bdc": {
      "model_module": "jupyter-cytoscape",
      "model_module_version": "^0.2.2",
      "model_name": "EdgeModel",
      "state": {
       "_model_module_version": "^0.2.2",
       "_view_module": "jupyter-cytoscape",
       "_view_module_version": "^0.2.2",
       "data": {
        "group": "spd",
        "id": "e589",
        "intn": true,
        "networkGroupId": 24,
        "networkId": 1230,
        "rIntnId": 591,
        "source": "599724",
        "target": "603070",
        "weight": 0.012506178
       }
      }
     },
     "343134940bcd44dfad9242cb0bba8eac": {
      "model_module": "jupyter-cytoscape",
      "model_module_version": "^0.2.2",
      "model_name": "EdgeModel",
      "state": {
       "_model_module_version": "^0.2.2",
       "_view_module": "jupyter-cytoscape",
       "_view_module_version": "^0.2.2",
       "data": {
        "group": "path",
        "id": "e280",
        "intn": true,
        "networkGroupId": 21,
        "networkId": 920,
        "rIntnId": 282,
        "source": "602299",
        "target": "611408",
        "weight": 0.15814601
       }
      }
     },
     "344517c1f66e4cfeb9251b23d6271acf": {
      "model_module": "jupyter-cytoscape",
      "model_module_version": "^0.2.2",
      "model_name": "EdgeModel",
      "state": {
       "_model_module_version": "^0.2.2",
       "_view_module": "jupyter-cytoscape",
       "_view_module_version": "^0.2.2",
       "data": {
        "group": "coexp",
        "id": "e106",
        "intn": true,
        "networkGroupId": 18,
        "networkId": 948,
        "rIntnId": 108,
        "source": "603070",
        "target": "611408",
        "weight": 0.018245377
       }
      }
     },
     "348a68a92b7541e990d7d40d9615fa74": {
      "model_module": "jupyter-cytoscape",
      "model_module_version": "^0.2.2",
      "model_name": "EdgeModel",
      "state": {
       "_model_module_version": "^0.2.2",
       "_view_module": "jupyter-cytoscape",
       "_view_module_version": "^0.2.2",
       "data": {
        "group": "path",
        "id": "e295",
        "intn": true,
        "networkGroupId": 21,
        "networkId": 920,
        "rIntnId": 297,
        "source": "599863",
        "target": "600585",
        "weight": 0.048561342
       }
      }
     },
     "352507ede9214d2999d30f1b8ec385b0": {
      "model_module": "jupyter-cytoscape",
      "model_module_version": "^0.2.2",
      "model_name": "EdgeModel",
      "state": {
       "_model_module_version": "^0.2.2",
       "_view_module": "jupyter-cytoscape",
       "_view_module_version": "^0.2.2",
       "data": {
        "group": "coexp",
        "id": "e151",
        "intn": true,
        "networkGroupId": 18,
        "networkId": 1160,
        "rIntnId": 153,
        "source": "606768",
        "target": "610236",
        "weight": 0.0045933793
       }
      }
     },
     "3573574b1f9140078350e5bc1ff542e7": {
      "model_module": "jupyter-cytoscape",
      "model_module_version": "^0.2.2",
      "model_name": "EdgeModel",
      "state": {
       "_model_module_version": "^0.2.2",
       "_view_module": "jupyter-cytoscape",
       "_view_module_version": "^0.2.2",
       "data": {
        "group": "coexp",
        "id": "e56",
        "intn": true,
        "networkGroupId": 18,
        "networkId": 1205,
        "rIntnId": 58,
        "source": "600535",
        "target": "611408",
        "weight": 0.00589999
       }
      }
     },
     "359062dad6b649348db9786a3fd6a5e0": {
      "model_module": "jupyter-cytoscape",
      "model_module_version": "^0.2.2",
      "model_name": "EdgeModel",
      "state": {
       "_model_module_version": "^0.2.2",
       "_view_module": "jupyter-cytoscape",
       "_view_module_version": "^0.2.2",
       "data": {
        "group": "pi",
        "id": "e424",
        "intn": true,
        "networkGroupId": 22,
        "networkId": 909,
        "rIntnId": 426,
        "source": "600585",
        "target": "605755",
        "weight": 0.19306615
       }
      }
     },
     "366c87f85f884592bc27c9b03122bc20": {
      "model_module": "jupyter-cytoscape",
      "model_module_version": "^0.2.2",
      "model_name": "EdgeModel",
      "state": {
       "_model_module_version": "^0.2.2",
       "_view_module": "jupyter-cytoscape",
       "_view_module_version": "^0.2.2",
       "data": {
        "group": "pi",
        "id": "e450",
        "intn": true,
        "networkGroupId": 22,
        "networkId": 799,
        "rIntnId": 452,
        "source": "600585",
        "target": "605755",
        "weight": 0.20640743
       }
      }
     },
     "3691fbc6d494486a8d594acd27ec1839": {
      "model_module": "jupyter-cytoscape",
      "model_module_version": "^0.2.2",
      "model_name": "EdgeModel",
      "state": {
       "_model_module_version": "^0.2.2",
       "_view_module": "jupyter-cytoscape",
       "_view_module_version": "^0.2.2",
       "data": {
        "group": "pi",
        "id": "e427",
        "intn": true,
        "networkGroupId": 22,
        "networkId": 909,
        "rIntnId": 429,
        "source": "603070",
        "target": "605755",
        "weight": 0.009584128
       }
      }
     },
     "37d0f34fb9904691b49697a214d5a553": {
      "model_module": "jupyter-cytoscape",
      "model_module_version": "^0.2.2",
      "model_name": "EdgeModel",
      "state": {
       "_model_module_version": "^0.2.2",
       "_view_module": "jupyter-cytoscape",
       "_view_module_version": "^0.2.2",
       "data": {
        "group": "coexp",
        "id": "e196",
        "intn": true,
        "networkGroupId": 18,
        "networkId": 987,
        "rIntnId": 198,
        "source": "610236",
        "target": "611408",
        "weight": 0.005706919
       }
      }
     },
     "37f63590a57c4fb2904ea54f01c00835": {
      "model_module": "jupyter-cytoscape",
      "model_module_version": "^0.2.2",
      "model_name": "EdgeModel",
      "state": {
       "_model_module_version": "^0.2.2",
       "_view_module": "jupyter-cytoscape",
       "_view_module_version": "^0.2.2",
       "data": {
        "group": "coexp",
        "id": "e96",
        "intn": true,
        "networkGroupId": 18,
        "networkId": 991,
        "rIntnId": 98,
        "source": "602299",
        "target": "599889",
        "weight": 0.0139607005
       }
      }
     },
     "381b856ca69b42f9bcbe98d856684411": {
      "model_module": "jupyter-cytoscape",
      "model_module_version": "^0.2.2",
      "model_name": "EdgeModel",
      "state": {
       "_model_module_version": "^0.2.2",
       "_view_module": "jupyter-cytoscape",
       "_view_module_version": "^0.2.2",
       "data": {
        "group": "coexp",
        "id": "e107",
        "intn": true,
        "networkGroupId": 18,
        "networkId": 948,
        "rIntnId": 109,
        "source": "603070",
        "target": "600585",
        "weight": 0.013878305
       }
      }
     },
     "38a38479f1f74adca7c16dca473f889f": {
      "model_module": "jupyter-cytoscape",
      "model_module_version": "^0.2.2",
      "model_name": "EdgeModel",
      "state": {
       "_model_module_version": "^0.2.2",
       "_view_module": "jupyter-cytoscape",
       "_view_module_version": "^0.2.2",
       "data": {
        "group": "coloc",
        "id": "e265",
        "intn": true,
        "networkGroupId": 19,
        "networkId": 1215,
        "rIntnId": 267,
        "source": "600535",
        "target": "610236",
        "weight": 0.0049493727
       }
      }
     },
     "38db2917febd496c95b01e87a0df5e4a": {
      "model_module": "jupyter-cytoscape",
      "model_module_version": "^0.2.2",
      "model_name": "EdgeModel",
      "state": {
       "_model_module_version": "^0.2.2",
       "_view_module": "jupyter-cytoscape",
       "_view_module_version": "^0.2.2",
       "data": {
        "group": "coexp",
        "id": "e194",
        "intn": true,
        "networkGroupId": 18,
        "networkId": 987,
        "rIntnId": 196,
        "source": "603070",
        "target": "611408",
        "weight": 0.008533838
       }
      }
     },
     "390031502eaa454ba1ba3c59587a435c": {
      "model_module": "jupyter-cytoscape",
      "model_module_version": "^0.2.2",
      "model_name": "EdgeModel",
      "state": {
       "_model_module_version": "^0.2.2",
       "_view_module": "jupyter-cytoscape",
       "_view_module_version": "^0.2.2",
       "data": {
        "group": "predict",
        "id": "e518",
        "intn": true,
        "networkGroupId": 23,
        "networkId": 765,
        "rIntnId": 520,
        "source": "599724",
        "target": "599863",
        "weight": 0.57922876
       }
      }
     },
     "39b4ae166f8f42e687623fd932e72fd1": {
      "model_module": "jupyter-cytoscape",
      "model_module_version": "^0.2.2",
      "model_name": "NodeModel",
      "state": {
       "_model_module_version": "^0.2.2",
       "_view_module_version": "^0.2.2",
       "data": {
        "gene": true,
        "id": "612341",
        "idInt": 612341,
        "name": "RAD9A",
        "query": false,
        "score": 0.0028974131563619387
       }
      }
     },
     "3a9d2e0f91ce4197b92941ce546368b4": {
      "model_module": "jupyter-cytoscape",
      "model_module_version": "^0.2.2",
      "model_name": "EdgeModel",
      "state": {
       "_model_module_version": "^0.2.2",
       "_view_module": "jupyter-cytoscape",
       "_view_module_version": "^0.2.2",
       "data": {
        "group": "pi",
        "id": "e446",
        "intn": true,
        "networkGroupId": 22,
        "networkId": 909,
        "rIntnId": 448,
        "source": "609734",
        "target": "605755",
        "weight": 0.021811811
       }
      }
     },
     "3b17d4a7dd8d4aa8ac082aae5335d487": {
      "model_module": "jupyter-cytoscape",
      "model_module_version": "^0.2.2",
      "model_name": "EdgeModel",
      "state": {
       "_model_module_version": "^0.2.2",
       "_view_module": "jupyter-cytoscape",
       "_view_module_version": "^0.2.2",
       "data": {
        "group": "path",
        "id": "e315",
        "intn": true,
        "networkGroupId": 21,
        "networkId": 920,
        "rIntnId": 317,
        "source": "600046",
        "target": "603070",
        "weight": 0.0462355
       }
      }
     },
     "3b9d49a0ba8d4a0eb379cc110c129397": {
      "model_module": "jupyter-cytoscape",
      "model_module_version": "^0.2.2",
      "model_name": "EdgeModel",
      "state": {
       "_model_module_version": "^0.2.2",
       "_view_module": "jupyter-cytoscape",
       "_view_module_version": "^0.2.2",
       "data": {
        "group": "spd",
        "id": "e580",
        "intn": true,
        "networkGroupId": 24,
        "networkId": 1230,
        "rIntnId": 582,
        "source": "612341",
        "target": "605755",
        "weight": 0.49999872
       }
      }
     },
     "3bcaa43d75b943a6a5f38a876f3030d9": {
      "model_module": "jupyter-cytoscape",
      "model_module_version": "^0.2.2",
      "model_name": "EdgeModel",
      "state": {
       "_model_module_version": "^0.2.2",
       "_view_module": "jupyter-cytoscape",
       "_view_module_version": "^0.2.2",
       "data": {
        "group": "spd",
        "id": "e582",
        "intn": true,
        "networkGroupId": 24,
        "networkId": 1230,
        "rIntnId": 584,
        "source": "608473",
        "target": "612341",
        "weight": 0.50000256
       }
      }
     },
     "3c09ff1b21dd43b2920597dfd00185db": {
      "model_module": "jupyter-cytoscape",
      "model_module_version": "^0.2.2",
      "model_name": "EdgeModel",
      "state": {
       "_model_module_version": "^0.2.2",
       "_view_module": "jupyter-cytoscape",
       "_view_module_version": "^0.2.2",
       "data": {
        "group": "path",
        "id": "e278",
        "intn": true,
        "networkGroupId": 21,
        "networkId": 920,
        "rIntnId": 280,
        "source": "600585",
        "target": "611408",
        "weight": 0.07736873
       }
      }
     },
     "3c210cc98bbd466a9b334fee66c819c9": {
      "model_module": "jupyter-cytoscape",
      "model_module_version": "^0.2.2",
      "model_name": "EdgeModel",
      "state": {
       "_model_module_version": "^0.2.2",
       "_view_module": "jupyter-cytoscape",
       "_view_module_version": "^0.2.2",
       "data": {
        "group": "spd",
        "id": "e592",
        "intn": true,
        "networkGroupId": 24,
        "networkId": 1230,
        "rIntnId": 594,
        "source": "599724",
        "target": "605846",
        "weight": 0.019493334
       }
      }
     },
     "3c7a353f37254694b8952f97bea8f317": {
      "model_module": "jupyter-cytoscape",
      "model_module_version": "^0.2.2",
      "model_name": "EdgeModel",
      "state": {
       "_model_module_version": "^0.2.2",
       "_view_module": "jupyter-cytoscape",
       "_view_module_version": "^0.2.2",
       "data": {
        "group": "coexp",
        "id": "e184",
        "intn": true,
        "networkGroupId": 18,
        "networkId": 939,
        "rIntnId": 186,
        "source": "600535",
        "target": "610236",
        "weight": 0.0058537833
       }
      }
     },
     "3cb8ef18ba8b41aaa1d97f889457c126": {
      "model_module": "jupyter-cytoscape",
      "model_module_version": "^0.2.2",
      "model_name": "EdgeModel",
      "state": {
       "_model_module_version": "^0.2.2",
       "_view_module": "jupyter-cytoscape",
       "_view_module_version": "^0.2.2",
       "data": {
        "group": "pi",
        "id": "e386",
        "intn": true,
        "networkGroupId": 22,
        "networkId": 665,
        "rIntnId": 388,
        "source": "605365",
        "target": "605755",
        "weight": 0.01062005
       }
      }
     },
     "3ccd657be5d346edb26b9c338f3e4054": {
      "model_module": "jupyter-cytoscape",
      "model_module_version": "^0.2.2",
      "model_name": "EdgeModel",
      "state": {
       "_model_module_version": "^0.2.2",
       "_view_module": "jupyter-cytoscape",
       "_view_module_version": "^0.2.2",
       "data": {
        "group": "path",
        "id": "e355",
        "intn": true,
        "networkGroupId": 21,
        "networkId": 916,
        "rIntnId": 357,
        "source": "605846",
        "target": "603070",
        "weight": 0.029156813
       }
      }
     },
     "3dd77e93712544f29f68da612cc15a6e": {
      "model_module": "jupyter-cytoscape",
      "model_module_version": "^0.2.2",
      "model_name": "EdgeModel",
      "state": {
       "_model_module_version": "^0.2.2",
       "_view_module": "jupyter-cytoscape",
       "_view_module_version": "^0.2.2",
       "data": {
        "group": "predict",
        "id": "e522",
        "intn": true,
        "networkGroupId": 23,
        "networkId": 760,
        "rIntnId": 524,
        "source": "599724",
        "target": "610236",
        "weight": 0.421463
       }
      }
     },
     "3e7d243e601b460c925e957a02b026d5": {
      "model_module": "jupyter-cytoscape",
      "model_module_version": "^0.2.2",
      "model_name": "EdgeModel",
      "state": {
       "_model_module_version": "^0.2.2",
       "_view_module": "jupyter-cytoscape",
       "_view_module_version": "^0.2.2",
       "data": {
        "group": "coexp",
        "id": "e167",
        "intn": true,
        "networkGroupId": 18,
        "networkId": 1058,
        "rIntnId": 169,
        "source": "606768",
        "target": "600535",
        "weight": 0.0084955385
       }
      }
     },
     "3ef85de71bbf4795a00de7a5a400de98": {
      "model_module": "jupyter-cytoscape",
      "model_module_version": "^0.2.2",
      "model_name": "EdgeModel",
      "state": {
       "_model_module_version": "^0.2.2",
       "_view_module": "jupyter-cytoscape",
       "_view_module_version": "^0.2.2",
       "data": {
        "group": "coexp",
        "id": "e235",
        "intn": true,
        "networkGroupId": 18,
        "networkId": 1141,
        "rIntnId": 237,
        "source": "612326",
        "target": "599863",
        "weight": 0.012389051
       }
      }
     },
     "3f8a606485e84260856d4b4becfdd429": {
      "model_module": "jupyter-cytoscape",
      "model_module_version": "^0.2.2",
      "model_name": "EdgeModel",
      "state": {
       "_model_module_version": "^0.2.2",
       "_view_module": "jupyter-cytoscape",
       "_view_module_version": "^0.2.2",
       "data": {
        "group": "coexp",
        "id": "e82",
        "intn": true,
        "networkGroupId": 18,
        "networkId": 1147,
        "rIntnId": 84,
        "source": "610236",
        "target": "605755",
        "weight": 0.00930929
       }
      }
     },
     "3fb09e9b0dd84e15b22885704abf30b4": {
      "model_module": "jupyter-cytoscape",
      "model_module_version": "^0.2.2",
      "model_name": "EdgeModel",
      "state": {
       "_model_module_version": "^0.2.2",
       "_view_module": "jupyter-cytoscape",
       "_view_module_version": "^0.2.2",
       "data": {
        "group": "predict",
        "id": "e523",
        "intn": true,
        "networkGroupId": 23,
        "networkId": 760,
        "rIntnId": 525,
        "source": "599724",
        "target": "599863",
        "weight": 0.55178285
       }
      }
     },
     "3fb6af00910e4a4fb28f2c1fa2cb4de2": {
      "model_module": "jupyter-cytoscape",
      "model_module_version": "^0.2.2",
      "model_name": "EdgeModel",
      "state": {
       "_model_module_version": "^0.2.2",
       "_view_module": "jupyter-cytoscape",
       "_view_module_version": "^0.2.2",
       "data": {
        "group": "coexp",
        "id": "e176",
        "intn": true,
        "networkGroupId": 18,
        "networkId": 939,
        "rIntnId": 178,
        "source": "599863",
        "target": "610236",
        "weight": 0.006380608
       }
      }
     },
     "3fde950ffdd34b9db928347440566143": {
      "model_module": "jupyter-cytoscape",
      "model_module_version": "^0.2.2",
      "model_name": "EdgeModel",
      "state": {
       "_model_module_version": "^0.2.2",
       "_view_module": "jupyter-cytoscape",
       "_view_module_version": "^0.2.2",
       "data": {
        "group": "predict",
        "id": "e558",
        "intn": true,
        "networkGroupId": 23,
        "networkId": 785,
        "rIntnId": 560,
        "source": "611408",
        "target": "605755",
        "weight": 0.46783587
       }
      }
     },
     "4140ecb9eca24b12b32f1770d17cf194": {
      "model_module": "jupyter-cytoscape",
      "model_module_version": "^0.2.2",
      "model_name": "EdgeModel",
      "state": {
       "_model_module_version": "^0.2.2",
       "_view_module": "jupyter-cytoscape",
       "_view_module_version": "^0.2.2",
       "data": {
        "group": "coloc",
        "id": "e267",
        "intn": true,
        "networkGroupId": 19,
        "networkId": 1215,
        "rIntnId": 269,
        "source": "599724",
        "target": "610236",
        "weight": 0.0033406042
       }
      }
     },
     "41bd13994290453aa1baf31ad99f4582": {
      "model_module": "jupyter-cytoscape",
      "model_module_version": "^0.2.2",
      "model_name": "EdgeModel",
      "state": {
       "_model_module_version": "^0.2.2",
       "_view_module": "jupyter-cytoscape",
       "_view_module_version": "^0.2.2",
       "data": {
        "group": "coexp",
        "id": "e158",
        "intn": true,
        "networkGroupId": 18,
        "networkId": 1112,
        "rIntnId": 160,
        "source": "600046",
        "target": "599889",
        "weight": 0.014151318
       }
      }
     },
     "42a77f3cfa394e43a4aa42a6dd89dcbc": {
      "model_module": "jupyter-cytoscape",
      "model_module_version": "^0.2.2",
      "model_name": "EdgeModel",
      "state": {
       "_model_module_version": "^0.2.2",
       "_view_module": "jupyter-cytoscape",
       "_view_module_version": "^0.2.2",
       "data": {
        "group": "predict",
        "id": "e547",
        "intn": true,
        "networkGroupId": 23,
        "networkId": 741,
        "rIntnId": 549,
        "source": "599863",
        "target": "603070",
        "weight": 0.31522512
       }
      }
     },
     "42d435cece85499c9126a31c25c3543e": {
      "model_module": "jupyter-cytoscape",
      "model_module_version": "^0.2.2",
      "model_name": "EdgeModel",
      "state": {
       "_model_module_version": "^0.2.2",
       "_view_module": "jupyter-cytoscape",
       "_view_module_version": "^0.2.2",
       "data": {
        "group": "pi",
        "id": "e379",
        "intn": true,
        "networkGroupId": 22,
        "networkId": 665,
        "rIntnId": 381,
        "source": "612341",
        "target": "611408",
        "weight": 0.0539502
       }
      }
     },
     "42f5fcd242ef44089e2d27f3440994fb": {
      "model_module": "jupyter-cytoscape",
      "model_module_version": "^0.2.2",
      "model_name": "EdgeModel",
      "state": {
       "_model_module_version": "^0.2.2",
       "_view_module": "jupyter-cytoscape",
       "_view_module_version": "^0.2.2",
       "data": {
        "group": "coloc",
        "id": "e264",
        "intn": true,
        "networkGroupId": 19,
        "networkId": 1215,
        "rIntnId": 266,
        "source": "600535",
        "target": "605755",
        "weight": 0.008979472
       }
      }
     },
     "431189f9bca54f4991dc2cf6cae1128c": {
      "model_module": "jupyter-cytoscape",
      "model_module_version": "^0.2.2",
      "model_name": "EdgeModel",
      "state": {
       "_model_module_version": "^0.2.2",
       "_view_module": "jupyter-cytoscape",
       "_view_module_version": "^0.2.2",
       "data": {
        "group": "coexp",
        "id": "e50",
        "intn": true,
        "networkGroupId": 18,
        "networkId": 1205,
        "rIntnId": 52,
        "source": "603700",
        "target": "602299",
        "weight": 0.018761018
       }
      }
     },
     "438978906f38430d94fd5a70aea5b81d": {
      "model_module": "jupyter-cytoscape",
      "model_module_version": "^0.2.2",
      "model_name": "GraphModel",
      "state": {
       "_model_module_version": "^0.2.2",
       "_view_module": "jupyter-cytoscape",
       "_view_module_version": "^0.2.2"
      }
     },
     "43be73e692174784b35fcacabd9e3464": {
      "model_module": "jupyter-cytoscape",
      "model_module_version": "^0.2.2",
      "model_name": "EdgeModel",
      "state": {
       "_model_module_version": "^0.2.2",
       "_view_module": "jupyter-cytoscape",
       "_view_module_version": "^0.2.2",
       "data": {
        "group": "coexp",
        "id": "e37",
        "intn": true,
        "networkGroupId": 18,
        "networkId": 1205,
        "rIntnId": 39,
        "source": "600585",
        "target": "611408",
        "weight": 0.009036004
       }
      }
     },
     "443647188b9742fdb488490026d1679d": {
      "model_module": "jupyter-cytoscape",
      "model_module_version": "^0.2.2",
      "model_name": "EdgeModel",
      "state": {
       "_model_module_version": "^0.2.2",
       "_view_module": "jupyter-cytoscape",
       "_view_module_version": "^0.2.2",
       "data": {
        "group": "pi",
        "id": "e387",
        "intn": true,
        "networkGroupId": 22,
        "networkId": 665,
        "rIntnId": 389,
        "source": "599863",
        "target": "605755",
        "weight": 0.010721097
       }
      }
     },
     "4477f7fd75f34cd28bdc068d957a8c76": {
      "model_module": "jupyter-cytoscape",
      "model_module_version": "^0.2.2",
      "model_name": "EdgeModel",
      "state": {
       "_model_module_version": "^0.2.2",
       "_view_module": "jupyter-cytoscape",
       "_view_module_version": "^0.2.2",
       "data": {
        "group": "coexp",
        "id": "e182",
        "intn": true,
        "networkGroupId": 18,
        "networkId": 939,
        "rIntnId": 184,
        "source": "600535",
        "target": "611408",
        "weight": 0.009832912
       }
      }
     },
     "44a3ca93219d4c1c808c51f01f32b36e": {
      "model_module": "jupyter-cytoscape",
      "model_module_version": "^0.2.2",
      "model_name": "EdgeModel",
      "state": {
       "_model_module_version": "^0.2.2",
       "_view_module": "jupyter-cytoscape",
       "_view_module_version": "^0.2.2",
       "data": {
        "group": "coexp",
        "id": "e204",
        "intn": true,
        "networkGroupId": 18,
        "networkId": 987,
        "rIntnId": 206,
        "source": "603700",
        "target": "610236",
        "weight": 0.011809003
       }
      }
     },
     "456292ab7a444fad9c904dc4307a5e96": {
      "model_module": "jupyter-cytoscape",
      "model_module_version": "^0.2.2",
      "model_name": "EdgeModel",
      "state": {
       "_model_module_version": "^0.2.2",
       "_view_module": "jupyter-cytoscape",
       "_view_module_version": "^0.2.2",
       "data": {
        "group": "pi",
        "id": "e453",
        "intn": true,
        "networkGroupId": 22,
        "networkId": 799,
        "rIntnId": 455,
        "source": "603070",
        "target": "605755",
        "weight": 0.010636279
       }
      }
     },
     "459c1efd6b7842a086b21333ec03b1e9": {
      "model_module": "jupyter-cytoscape",
      "model_module_version": "^0.2.2",
      "model_name": "EdgeModel",
      "state": {
       "_model_module_version": "^0.2.2",
       "_view_module": "jupyter-cytoscape",
       "_view_module_version": "^0.2.2",
       "data": {
        "group": "coexp",
        "id": "e45",
        "intn": true,
        "networkGroupId": 18,
        "networkId": 1205,
        "rIntnId": 47,
        "source": "610236",
        "target": "600585",
        "weight": 0.011782279
       }
      }
     },
     "45ef3d4fca9b4e51862bbfa5344678c6": {
      "model_module": "jupyter-cytoscape",
      "model_module_version": "^0.2.2",
      "model_name": "EdgeModel",
      "state": {
       "_model_module_version": "^0.2.2",
       "_view_module": "jupyter-cytoscape",
       "_view_module_version": "^0.2.2",
       "data": {
        "group": "coexp",
        "id": "e115",
        "intn": true,
        "networkGroupId": 18,
        "networkId": 948,
        "rIntnId": 117,
        "source": "605846",
        "target": "603070",
        "weight": 0.011845588
       }
      }
     },
     "4644f198e8b74ade91e4b7d18a6bb59c": {
      "model_module": "jupyter-cytoscape",
      "model_module_version": "^0.2.2",
      "model_name": "EdgeModel",
      "state": {
       "_model_module_version": "^0.2.2",
       "_view_module": "jupyter-cytoscape",
       "_view_module_version": "^0.2.2",
       "data": {
        "group": "predict",
        "id": "e517",
        "intn": true,
        "networkGroupId": 23,
        "networkId": 765,
        "rIntnId": 519,
        "source": "599724",
        "target": "610236",
        "weight": 0.33467722
       }
      }
     },
     "468ce21f73634384a6833e45e43df0d8": {
      "model_module": "jupyter-cytoscape",
      "model_module_version": "^0.2.2",
      "model_name": "EdgeModel",
      "state": {
       "_model_module_version": "^0.2.2",
       "_view_module": "jupyter-cytoscape",
       "_view_module_version": "^0.2.2",
       "data": {
        "group": "predict",
        "id": "e549",
        "intn": true,
        "networkGroupId": 23,
        "networkId": 741,
        "rIntnId": 551,
        "source": "605846",
        "target": "610236",
        "weight": 0.44492677
       }
      }
     },
     "46a56547ba3f4f25a12f458511c0f711": {
      "model_module": "jupyter-cytoscape",
      "model_module_version": "^0.2.2",
      "model_name": "EdgeModel",
      "state": {
       "_model_module_version": "^0.2.2",
       "_view_module": "jupyter-cytoscape",
       "_view_module_version": "^0.2.2",
       "data": {
        "group": "coexp",
        "id": "e246",
        "intn": true,
        "networkGroupId": 18,
        "networkId": 1213,
        "rIntnId": 248,
        "source": "600535",
        "target": "610236",
        "weight": 0.004649519
       }
      }
     },
     "46ca03e0dcd64be18d3117d475838448": {
      "model_module": "jupyter-cytoscape",
      "model_module_version": "^0.2.2",
      "model_name": "EdgeModel",
      "state": {
       "_model_module_version": "^0.2.2",
       "_view_module": "jupyter-cytoscape",
       "_view_module_version": "^0.2.2",
       "data": {
        "group": "pi",
        "id": "e402",
        "intn": true,
        "networkGroupId": 22,
        "networkId": 665,
        "rIntnId": 404,
        "source": "600046",
        "target": "600585",
        "weight": 0.0649295
       }
      }
     },
     "471bf6b0024e44499884aa9ae8f2c619": {
      "model_module": "jupyter-cytoscape",
      "model_module_version": "^0.2.2",
      "model_name": "EdgeModel",
      "state": {
       "_model_module_version": "^0.2.2",
       "_view_module": "jupyter-cytoscape",
       "_view_module_version": "^0.2.2",
       "data": {
        "group": "coexp",
        "id": "e13",
        "intn": true,
        "networkGroupId": 18,
        "networkId": 1133,
        "rIntnId": 15,
        "source": "600046",
        "target": "600585",
        "weight": 0.0065156803
       }
      }
     },
     "4739e229983d4b048d643e2d1c83fe32": {
      "model_module": "jupyter-cytoscape",
      "model_module_version": "^0.2.2",
      "model_name": "EdgeModel",
      "state": {
       "_model_module_version": "^0.2.2",
       "_view_module": "jupyter-cytoscape",
       "_view_module_version": "^0.2.2",
       "data": {
        "group": "pi",
        "id": "e358",
        "intn": true,
        "networkGroupId": 22,
        "networkId": 903,
        "rIntnId": 360,
        "source": "611408",
        "target": "605755",
        "weight": 0.32122406
       }
      }
     },
     "48570507fac14593bb4e4c369d5e99cd": {
      "model_module": "jupyter-cytoscape",
      "model_module_version": "^0.2.2",
      "model_name": "EdgeModel",
      "state": {
       "_model_module_version": "^0.2.2",
       "_view_module": "jupyter-cytoscape",
       "_view_module_version": "^0.2.2",
       "data": {
        "group": "predict",
        "id": "e556",
        "intn": true,
        "networkGroupId": 23,
        "networkId": 768,
        "rIntnId": 558,
        "source": "605365",
        "target": "605755",
        "weight": 0.2739886
       }
      }
     },
     "48b98901bf5f4454b322892eb64f9d74": {
      "model_module": "jupyter-cytoscape",
      "model_module_version": "^0.2.2",
      "model_name": "EdgeModel",
      "state": {
       "_model_module_version": "^0.2.2",
       "_view_module": "jupyter-cytoscape",
       "_view_module_version": "^0.2.2",
       "data": {
        "group": "coloc",
        "id": "e256",
        "intn": true,
        "networkGroupId": 19,
        "networkId": 1215,
        "rIntnId": 258,
        "source": "610236",
        "target": "611560",
        "weight": 0.004504783
       }
      }
     },
     "48c3d453d52d477592239fdea7571fc6": {
      "model_module": "jupyter-cytoscape",
      "model_module_version": "^0.2.2",
      "model_name": "EdgeModel",
      "state": {
       "_model_module_version": "^0.2.2",
       "_view_module": "jupyter-cytoscape",
       "_view_module_version": "^0.2.2",
       "data": {
        "group": "predict",
        "id": "e555",
        "intn": true,
        "networkGroupId": 23,
        "networkId": 766,
        "rIntnId": 557,
        "source": "603700",
        "target": "605755",
        "weight": 0.77163714
       }
      }
     },
     "491d055a6da24eb887cacc9a7dddb752": {
      "model_module": "jupyter-cytoscape",
      "model_module_version": "^0.2.2",
      "model_name": "EdgeModel",
      "state": {
       "_model_module_version": "^0.2.2",
       "_view_module": "jupyter-cytoscape",
       "_view_module_version": "^0.2.2",
       "data": {
        "group": "coexp",
        "id": "e22",
        "intn": true,
        "networkGroupId": 18,
        "networkId": 1228,
        "rIntnId": 24,
        "source": "605846",
        "target": "605755",
        "weight": 0.02157121
       }
      }
     },
     "496d4a56edaf4071b3a04dd8b4de1b4a": {
      "model_module": "jupyter-cytoscape",
      "model_module_version": "^0.2.2",
      "model_name": "EdgeModel",
      "state": {
       "_model_module_version": "^0.2.2",
       "_view_module": "jupyter-cytoscape",
       "_view_module_version": "^0.2.2",
       "data": {
        "group": "predict",
        "id": "e501",
        "intn": true,
        "networkGroupId": 23,
        "networkId": 783,
        "rIntnId": 503,
        "source": "599724",
        "target": "603070",
        "weight": 0.0774635
       }
      }
     },
     "49aa7e7381b640f39db30ae257fb2a90": {
      "model_module": "jupyter-cytoscape",
      "model_module_version": "^0.2.2",
      "model_name": "EdgeModel",
      "state": {
       "_model_module_version": "^0.2.2",
       "_view_module": "jupyter-cytoscape",
       "_view_module_version": "^0.2.2",
       "data": {
        "group": "coexp",
        "id": "e51",
        "intn": true,
        "networkGroupId": 18,
        "networkId": 1205,
        "rIntnId": 53,
        "source": "605846",
        "target": "605755",
        "weight": 0.009776375
       }
      }
     },
     "49ce30302f134c9c9f00f6aff6b60e7c": {
      "model_module": "jupyter-cytoscape",
      "model_module_version": "^0.2.2",
      "model_name": "EdgeModel",
      "state": {
       "_model_module_version": "^0.2.2",
       "_view_module": "jupyter-cytoscape",
       "_view_module_version": "^0.2.2",
       "data": {
        "group": "spd",
        "id": "e587",
        "intn": true,
        "networkGroupId": 24,
        "networkId": 1230,
        "rIntnId": 589,
        "source": "605846",
        "target": "610236",
        "weight": 0.020485014
       }
      }
     },
     "4abd5a96683142c48bd66ff373f335ef": {
      "model_module": "jupyter-cytoscape",
      "model_module_version": "^0.2.2",
      "model_name": "EdgeModel",
      "state": {
       "_model_module_version": "^0.2.2",
       "_view_module": "jupyter-cytoscape",
       "_view_module_version": "^0.2.2",
       "data": {
        "group": "coexp",
        "id": "e233",
        "intn": true,
        "networkGroupId": 18,
        "networkId": 1141,
        "rIntnId": 235,
        "source": "600046",
        "target": "602299",
        "weight": 0.025947532
       }
      }
     },
     "4ad90376963d4bfab2fe9000d78f3756": {
      "model_module": "jupyter-cytoscape",
      "model_module_version": "^0.2.2",
      "model_name": "EdgeModel",
      "state": {
       "_model_module_version": "^0.2.2",
       "_view_module": "jupyter-cytoscape",
       "_view_module_version": "^0.2.2",
       "data": {
        "group": "predict",
        "id": "e506",
        "intn": true,
        "networkGroupId": 23,
        "networkId": 919,
        "rIntnId": 508,
        "source": "612341",
        "target": "611408",
        "weight": 0.15931912
       }
      }
     },
     "4adebc08b12948a1bb898f9a6cb16c92": {
      "model_module": "jupyter-cytoscape",
      "model_module_version": "^0.2.2",
      "model_name": "EdgeModel",
      "state": {
       "_model_module_version": "^0.2.2",
       "_view_module": "jupyter-cytoscape",
       "_view_module_version": "^0.2.2",
       "data": {
        "group": "coexp",
        "id": "e163",
        "intn": true,
        "networkGroupId": 18,
        "networkId": 1058,
        "rIntnId": 165,
        "source": "610236",
        "target": "605755",
        "weight": 0.010584534
       }
      }
     },
     "4b3bcccc33094517a9e18ce3555d7f32": {
      "model_module": "jupyter-cytoscape",
      "model_module_version": "^0.2.2",
      "model_name": "EdgeModel",
      "state": {
       "_model_module_version": "^0.2.2",
       "_view_module": "jupyter-cytoscape",
       "_view_module_version": "^0.2.2",
       "data": {
        "group": "coexp",
        "id": "e250",
        "intn": true,
        "networkGroupId": 18,
        "networkId": 1213,
        "rIntnId": 252,
        "source": "600046",
        "target": "600585",
        "weight": 0.013092303
       }
      }
     },
     "4ce8ea806077475fb5d0460113f198d4": {
      "model_module": "jupyter-cytoscape",
      "model_module_version": "^0.2.2",
      "model_name": "EdgeModel",
      "state": {
       "_model_module_version": "^0.2.2",
       "_view_module": "jupyter-cytoscape",
       "_view_module_version": "^0.2.2",
       "data": {
        "group": "coexp",
        "id": "e57",
        "intn": true,
        "networkGroupId": 18,
        "networkId": 1205,
        "rIntnId": 59,
        "source": "600535",
        "target": "600585",
        "weight": 0.011810116
       }
      }
     },
     "4d214d433e6b405fbf004a8da554ed66": {
      "model_module": "jupyter-cytoscape",
      "model_module_version": "^0.2.2",
      "model_name": "EdgeModel",
      "state": {
       "_model_module_version": "^0.2.2",
       "_view_module": "jupyter-cytoscape",
       "_view_module_version": "^0.2.2",
       "data": {
        "group": "spd",
        "id": "e568",
        "intn": true,
        "networkGroupId": 24,
        "networkId": 1229,
        "rIntnId": 570,
        "source": "608473",
        "target": "612341",
        "weight": 0.62736636
       }
      }
     },
     "4de3b4caedc74b14b6a3af9ab001c543": {
      "model_module": "jupyter-cytoscape",
      "model_module_version": "^0.2.2",
      "model_name": "NodeModel",
      "state": {
       "_model_module_version": "^0.2.2",
       "_view_module_version": "^0.2.2",
       "data": {
        "gene": true,
        "id": "605365",
        "idInt": 605365,
        "name": "GADD45G",
        "query": false,
        "score": 0.0021779529408011977
       }
      }
     },
     "4f18bc9c5cbb49e59dfdd22f0b045be3": {
      "model_module": "@jupyter-widgets/base",
      "model_module_version": "1.1.0",
      "model_name": "LayoutModel",
      "state": {}
     },
     "4f81cdc11ef3411cbed5e648d48f8fbb": {
      "model_module": "jupyter-cytoscape",
      "model_module_version": "^0.2.2",
      "model_name": "EdgeModel",
      "state": {
       "_model_module_version": "^0.2.2",
       "_view_module": "jupyter-cytoscape",
       "_view_module_version": "^0.2.2",
       "data": {
        "group": "coexp",
        "id": "e228",
        "intn": true,
        "networkGroupId": 18,
        "networkId": 1141,
        "rIntnId": 230,
        "source": "602299",
        "target": "611408",
        "weight": 0.01921773
       }
      }
     },
     "4f96ead6aeee4e79a5e19d3c34dd9394": {
      "model_module": "jupyter-cytoscape",
      "model_module_version": "^0.2.2",
      "model_name": "EdgeModel",
      "state": {
       "_model_module_version": "^0.2.2",
       "_view_module": "jupyter-cytoscape",
       "_view_module_version": "^0.2.2",
       "data": {
        "group": "coexp",
        "id": "e185",
        "intn": true,
        "networkGroupId": 18,
        "networkId": 939,
        "rIntnId": 187,
        "source": "600535",
        "target": "603700",
        "weight": 0.01664277
       }
      }
     },
     "505abd609ebb4341907be8478266ff54": {
      "model_module": "jupyter-cytoscape",
      "model_module_version": "^0.2.2",
      "model_name": "EdgeModel",
      "state": {
       "_model_module_version": "^0.2.2",
       "_view_module": "jupyter-cytoscape",
       "_view_module_version": "^0.2.2",
       "data": {
        "group": "coexp",
        "id": "e102",
        "intn": true,
        "networkGroupId": 18,
        "networkId": 991,
        "rIntnId": 104,
        "source": "600046",
        "target": "611408",
        "weight": 0.0031254988
       }
      }
     },
     "511999a2c0ad499587dab609654eae68": {
      "model_module": "jupyter-cytoscape",
      "model_module_version": "^0.2.2",
      "model_name": "EdgeModel",
      "state": {
       "_model_module_version": "^0.2.2",
       "_view_module": "jupyter-cytoscape",
       "_view_module_version": "^0.2.2",
       "data": {
        "group": "coexp",
        "id": "e94",
        "intn": true,
        "networkGroupId": 18,
        "networkId": 991,
        "rIntnId": 96,
        "source": "600585",
        "target": "611408",
        "weight": 0.0050337426
       }
      }
     },
     "5119b3e8fea84855bee316243f41bee3": {
      "model_module": "jupyter-cytoscape",
      "model_module_version": "^0.2.2",
      "model_name": "EdgeModel",
      "state": {
       "_model_module_version": "^0.2.2",
       "_view_module": "jupyter-cytoscape",
       "_view_module_version": "^0.2.2",
       "data": {
        "group": "path",
        "id": "e283",
        "intn": true,
        "networkGroupId": 21,
        "networkId": 920,
        "rIntnId": 285,
        "source": "603070",
        "target": "612341",
        "weight": 0.06087656
       }
      }
     },
     "518c625ef9eb432d8c093606cfa712a4": {
      "model_module": "jupyter-cytoscape",
      "model_module_version": "^0.2.2",
      "model_name": "EdgeModel",
      "state": {
       "_model_module_version": "^0.2.2",
       "_view_module": "jupyter-cytoscape",
       "_view_module_version": "^0.2.2",
       "data": {
        "group": "coexp",
        "id": "e236",
        "intn": true,
        "networkGroupId": 18,
        "networkId": 1040,
        "rIntnId": 238,
        "source": "610236",
        "target": "599889",
        "weight": 0.013262892
       }
      }
     },
     "51979b0591a04298aba0818eefa3645c": {
      "model_module": "jupyter-cytoscape",
      "model_module_version": "^0.2.2",
      "model_name": "EdgeModel",
      "state": {
       "_model_module_version": "^0.2.2",
       "_view_module": "jupyter-cytoscape",
       "_view_module_version": "^0.2.2",
       "data": {
        "group": "coexp",
        "id": "e210",
        "intn": true,
        "networkGroupId": 18,
        "networkId": 987,
        "rIntnId": 212,
        "source": "606768",
        "target": "610236",
        "weight": 0.009314968
       }
      }
     },
     "51ef4fb24f624d72bf229ee30c83c747": {
      "model_module": "jupyter-cytoscape",
      "model_module_version": "^0.2.2",
      "model_name": "EdgeModel",
      "state": {
       "_model_module_version": "^0.2.2",
       "_view_module": "jupyter-cytoscape",
       "_view_module_version": "^0.2.2",
       "data": {
        "group": "pi",
        "id": "e456",
        "intn": true,
        "networkGroupId": 22,
        "networkId": 799,
        "rIntnId": 458,
        "source": "599863",
        "target": "603070",
        "weight": 0.026700707
       }
      }
     },
     "51f8c811929148a0846392fcdac9ab2b": {
      "model_module": "jupyter-cytoscape",
      "model_module_version": "^0.2.2",
      "model_name": "EdgeModel",
      "state": {
       "_model_module_version": "^0.2.2",
       "_view_module": "jupyter-cytoscape",
       "_view_module_version": "^0.2.2",
       "data": {
        "group": "pi",
        "id": "e420",
        "intn": true,
        "networkGroupId": 22,
        "networkId": 906,
        "rIntnId": 422,
        "source": "600046",
        "target": "605755",
        "weight": 0.036951467
       }
      }
     },
     "524e696f61384186915f05c58493947b": {
      "model_module": "jupyter-cytoscape",
      "model_module_version": "^0.2.2",
      "model_name": "EdgeModel",
      "state": {
       "_model_module_version": "^0.2.2",
       "_view_module": "jupyter-cytoscape",
       "_view_module_version": "^0.2.2",
       "data": {
        "group": "coexp",
        "id": "e98",
        "intn": true,
        "networkGroupId": 18,
        "networkId": 991,
        "rIntnId": 100,
        "source": "610236",
        "target": "611408",
        "weight": 0.006611009
       }
      }
     },
     "532b02001b6645fab56bc99b4a92831e": {
      "model_module": "jupyter-cytoscape",
      "model_module_version": "^0.2.2",
      "model_name": "EdgeModel",
      "state": {
       "_model_module_version": "^0.2.2",
       "_view_module": "jupyter-cytoscape",
       "_view_module_version": "^0.2.2",
       "data": {
        "group": "coexp",
        "id": "e160",
        "intn": true,
        "networkGroupId": 18,
        "networkId": 1112,
        "rIntnId": 162,
        "source": "612326",
        "target": "611560",
        "weight": 0.0070169745
       }
      }
     },
     "53a2a9d0f3e949f1b33a989540298348": {
      "model_module": "jupyter-cytoscape",
      "model_module_version": "^0.2.2",
      "model_name": "EdgeModel",
      "state": {
       "_model_module_version": "^0.2.2",
       "_view_module": "jupyter-cytoscape",
       "_view_module_version": "^0.2.2",
       "data": {
        "group": "predict",
        "id": "e497",
        "intn": true,
        "networkGroupId": 23,
        "networkId": 746,
        "rIntnId": 499,
        "source": "599724",
        "target": "599863",
        "weight": 0.10912455
       }
      }
     },
     "54616c8acb9d4116a9db628cce7afd9c": {
      "model_module": "jupyter-cytoscape",
      "model_module_version": "^0.2.2",
      "model_name": "EdgeModel",
      "state": {
       "_model_module_version": "^0.2.2",
       "_view_module": "jupyter-cytoscape",
       "_view_module_version": "^0.2.2",
       "data": {
        "group": "coloc",
        "id": "e274",
        "intn": true,
        "networkGroupId": 19,
        "networkId": 1215,
        "rIntnId": 276,
        "source": "609734",
        "target": "599724",
        "weight": 0.0042498824
       }
      }
     },
     "557b9840e9a64a35a65b26a39b76ff40": {
      "model_module": "jupyter-cytoscape",
      "model_module_version": "^0.2.2",
      "model_name": "EdgeModel",
      "state": {
       "_model_module_version": "^0.2.2",
       "_view_module": "jupyter-cytoscape",
       "_view_module_version": "^0.2.2",
       "data": {
        "group": "coloc",
        "id": "e272",
        "intn": true,
        "networkGroupId": 19,
        "networkId": 1215,
        "rIntnId": 274,
        "source": "609734",
        "target": "603700",
        "weight": 0.0070924386
       }
      }
     },
     "56580ee6d2574434b5ec495c7975bc58": {
      "model_module": "jupyter-cytoscape",
      "model_module_version": "^0.2.2",
      "model_name": "EdgeModel",
      "state": {
       "_model_module_version": "^0.2.2",
       "_view_module": "jupyter-cytoscape",
       "_view_module_version": "^0.2.2",
       "data": {
        "group": "pi",
        "id": "e360",
        "intn": true,
        "networkGroupId": 22,
        "networkId": 903,
        "rIntnId": 362,
        "source": "600585",
        "target": "605755",
        "weight": 0.32122406
       }
      }
     },
     "573a98eb1bca44478d300f6adb43ace0": {
      "model_module": "jupyter-cytoscape",
      "model_module_version": "^0.2.2",
      "model_name": "EdgeModel",
      "state": {
       "_model_module_version": "^0.2.2",
       "_view_module": "jupyter-cytoscape",
       "_view_module_version": "^0.2.2",
       "data": {
        "group": "path",
        "id": "e353",
        "intn": true,
        "networkGroupId": 21,
        "networkId": 916,
        "rIntnId": 355,
        "source": "599863",
        "target": "610236",
        "weight": 0.029834377
       }
      }
     },
     "5740ea4d6aed47ea9bdc80d4bd960a6c": {
      "model_module": "jupyter-cytoscape",
      "model_module_version": "^0.2.2",
      "model_name": "EdgeModel",
      "state": {
       "_model_module_version": "^0.2.2",
       "_view_module": "jupyter-cytoscape",
       "_view_module_version": "^0.2.2",
       "data": {
        "group": "coexp",
        "id": "e85",
        "intn": true,
        "networkGroupId": 18,
        "networkId": 1147,
        "rIntnId": 87,
        "source": "612326",
        "target": "602279",
        "weight": 0.0027737948
       }
      }
     },
     "57bec09c453f4b81af925bb3122a7424": {
      "model_module": "jupyter-cytoscape",
      "model_module_version": "^0.2.2",
      "model_name": "EdgeModel",
      "state": {
       "_model_module_version": "^0.2.2",
       "_view_module": "jupyter-cytoscape",
       "_view_module_version": "^0.2.2",
       "data": {
        "group": "coexp",
        "id": "e76",
        "intn": true,
        "networkGroupId": 18,
        "networkId": 1103,
        "rIntnId": 78,
        "source": "600046",
        "target": "602299",
        "weight": 0.007548246
       }
      }
     },
     "5973d74ce6c8463e9f39cd4b30a2c72a": {
      "model_module": "jupyter-cytoscape",
      "model_module_version": "^0.2.2",
      "model_name": "EdgeModel",
      "state": {
       "_model_module_version": "^0.2.2",
       "_view_module": "jupyter-cytoscape",
       "_view_module_version": "^0.2.2",
       "data": {
        "group": "path",
        "id": "e324",
        "intn": true,
        "networkGroupId": 21,
        "networkId": 917,
        "rIntnId": 326,
        "source": "600585",
        "target": "605755",
        "weight": 0.033336625
       }
      }
     },
     "5a10fdaa9fa44f26a4757f2bec630d85": {
      "model_module": "jupyter-cytoscape",
      "model_module_version": "^0.2.2",
      "model_name": "EdgeModel",
      "state": {
       "_model_module_version": "^0.2.2",
       "_view_module": "jupyter-cytoscape",
       "_view_module_version": "^0.2.2",
       "data": {
        "group": "coexp",
        "id": "e70",
        "intn": true,
        "networkGroupId": 18,
        "networkId": 1103,
        "rIntnId": 72,
        "source": "599863",
        "target": "611408",
        "weight": 0.010832426
       }
      }
     },
     "5a3c9733b675422587e73dd5caa69c1a": {
      "model_module": "jupyter-cytoscape",
      "model_module_version": "^0.2.2",
      "model_name": "EdgeModel",
      "state": {
       "_model_module_version": "^0.2.2",
       "_view_module": "jupyter-cytoscape",
       "_view_module_version": "^0.2.2",
       "data": {
        "group": "pi",
        "id": "e377",
        "intn": true,
        "networkGroupId": 22,
        "networkId": 665,
        "rIntnId": 379,
        "source": "611408",
        "target": "605755",
        "weight": 0.011314526
       }
      }
     },
     "5a6ace277e214dfcaa78c6f9f63e8328": {
      "model_module": "jupyter-cytoscape",
      "model_module_version": "^0.2.2",
      "model_name": "EdgeModel",
      "state": {
       "_model_module_version": "^0.2.2",
       "_view_module": "jupyter-cytoscape",
       "_view_module_version": "^0.2.2",
       "data": {
        "group": "coexp",
        "id": "e23",
        "intn": true,
        "networkGroupId": 18,
        "networkId": 1228,
        "rIntnId": 25,
        "source": "600535",
        "target": "605846",
        "weight": 0.01614795
       }
      }
     },
     "5a75e2189c7f49eabfd4134fc26e049d": {
      "model_module": "jupyter-cytoscape",
      "model_module_version": "^0.2.2",
      "model_name": "EdgeModel",
      "state": {
       "_model_module_version": "^0.2.2",
       "_view_module": "jupyter-cytoscape",
       "_view_module_version": "^0.2.2",
       "data": {
        "group": "coexp",
        "id": "e187",
        "intn": true,
        "networkGroupId": 18,
        "networkId": 939,
        "rIntnId": 189,
        "source": "600046",
        "target": "602299",
        "weight": 0.009031323
       }
      }
     },
     "5b1884a7d16946c688a9633910040027": {
      "model_module": "jupyter-cytoscape",
      "model_module_version": "^0.2.2",
      "model_name": "EdgeModel",
      "state": {
       "_model_module_version": "^0.2.2",
       "_view_module": "jupyter-cytoscape",
       "_view_module_version": "^0.2.2",
       "data": {
        "group": "coexp",
        "id": "e58",
        "intn": true,
        "networkGroupId": 18,
        "networkId": 1205,
        "rIntnId": 60,
        "source": "600535",
        "target": "602299",
        "weight": 0.008160093
       }
      }
     },
     "5bb0033498a04331b4e62e4757c4a9dd": {
      "model_module": "jupyter-cytoscape",
      "model_module_version": "^0.2.2",
      "model_name": "EdgeModel",
      "state": {
       "_model_module_version": "^0.2.2",
       "_view_module": "jupyter-cytoscape",
       "_view_module_version": "^0.2.2",
       "data": {
        "group": "coexp",
        "id": "e42",
        "intn": true,
        "networkGroupId": 18,
        "networkId": 1205,
        "rIntnId": 44,
        "source": "603070",
        "target": "602299",
        "weight": 0.013864683
       }
      }
     },
     "5c90be653ba749bd87d598ff75242827": {
      "model_module": "jupyter-cytoscape",
      "model_module_version": "^0.2.2",
      "model_name": "EdgeModel",
      "state": {
       "_model_module_version": "^0.2.2",
       "_view_module": "jupyter-cytoscape",
       "_view_module_version": "^0.2.2",
       "data": {
        "group": "pi",
        "id": "e439",
        "intn": true,
        "networkGroupId": 22,
        "networkId": 909,
        "rIntnId": 441,
        "source": "600535",
        "target": "605755",
        "weight": 0.026817428
       }
      }
     },
     "5d45ae0f283246f7a81cf8c78aa67bcc": {
      "model_module": "jupyter-cytoscape",
      "model_module_version": "^0.2.2",
      "model_name": "EdgeModel",
      "state": {
       "_model_module_version": "^0.2.2",
       "_view_module": "jupyter-cytoscape",
       "_view_module_version": "^0.2.2",
       "data": {
        "group": "coexp",
        "id": "e130",
        "intn": true,
        "networkGroupId": 18,
        "networkId": 1160,
        "rIntnId": 132,
        "source": "603070",
        "target": "605755",
        "weight": 0.005474452
       }
      }
     },
     "5d48cecad9694033a0899a68054cf52d": {
      "model_module": "jupyter-cytoscape",
      "model_module_version": "^0.2.2",
      "model_name": "EdgeModel",
      "state": {
       "_model_module_version": "^0.2.2",
       "_view_module": "jupyter-cytoscape",
       "_view_module_version": "^0.2.2",
       "data": {
        "group": "predict",
        "id": "e560",
        "intn": true,
        "networkGroupId": 23,
        "networkId": 785,
        "rIntnId": 562,
        "source": "610236",
        "target": "603070",
        "weight": 0.37685034
       }
      }
     },
     "5da4b524a038427085cc0c42ec34f7bf": {
      "model_module": "jupyter-cytoscape",
      "model_module_version": "^0.2.2",
      "model_name": "EdgeModel",
      "state": {
       "_model_module_version": "^0.2.2",
       "_view_module": "jupyter-cytoscape",
       "_view_module_version": "^0.2.2",
       "data": {
        "group": "coexp",
        "id": "e71",
        "intn": true,
        "networkGroupId": 18,
        "networkId": 1103,
        "rIntnId": 73,
        "source": "599863",
        "target": "599889",
        "weight": 0.010297667
       }
      }
     },
     "5db29085f1524e63b7bca16069b018d9": {
      "model_module": "jupyter-cytoscape",
      "model_module_version": "^0.2.2",
      "model_name": "EdgeModel",
      "state": {
       "_model_module_version": "^0.2.2",
       "_view_module": "jupyter-cytoscape",
       "_view_module_version": "^0.2.2",
       "data": {
        "group": "pi",
        "id": "e441",
        "intn": true,
        "networkGroupId": 22,
        "networkId": 909,
        "rIntnId": 443,
        "source": "599724",
        "target": "599863",
        "weight": 0.05395785
       }
      }
     },
     "5dbbc81cbd344a5eac995d482988f409": {
      "model_module": "jupyter-cytoscape",
      "model_module_version": "^0.2.2",
      "model_name": "EdgeModel",
      "state": {
       "_model_module_version": "^0.2.2",
       "_view_module": "jupyter-cytoscape",
       "_view_module_version": "^0.2.2",
       "data": {
        "group": "path",
        "id": "e331",
        "intn": true,
        "networkGroupId": 21,
        "networkId": 917,
        "rIntnId": 333,
        "source": "599863",
        "target": "605755",
        "weight": 0.06335889
       }
      }
     },
     "5ecce6cb68034ff49fed642acf1d21b0": {
      "model_module": "jupyter-cytoscape",
      "model_module_version": "^0.2.2",
      "model_name": "EdgeModel",
      "state": {
       "_model_module_version": "^0.2.2",
       "_view_module": "jupyter-cytoscape",
       "_view_module_version": "^0.2.2",
       "data": {
        "group": "coexp",
        "id": "e35",
        "intn": true,
        "networkGroupId": 18,
        "networkId": 1205,
        "rIntnId": 37,
        "source": "611408",
        "target": "605755",
        "weight": 0.007181677
       }
      }
     },
     "5f18a7be665348b6a773a72394121319": {
      "model_module": "jupyter-cytoscape",
      "model_module_version": "^0.2.2",
      "model_name": "EdgeModel",
      "state": {
       "_model_module_version": "^0.2.2",
       "_view_module": "jupyter-cytoscape",
       "_view_module_version": "^0.2.2",
       "data": {
        "group": "pi",
        "id": "e381",
        "intn": true,
        "networkGroupId": 22,
        "networkId": 665,
        "rIntnId": 383,
        "source": "600585",
        "target": "605755",
        "weight": 0.013491094
       }
      }
     },
     "5f274a0496d44f20a0a45547424a887d": {
      "model_module": "jupyter-cytoscape",
      "model_module_version": "^0.2.2",
      "model_name": "EdgeModel",
      "state": {
       "_model_module_version": "^0.2.2",
       "_view_module": "jupyter-cytoscape",
       "_view_module_version": "^0.2.2",
       "data": {
        "group": "coexp",
        "id": "e33",
        "intn": true,
        "networkGroupId": 18,
        "networkId": 1094,
        "rIntnId": 35,
        "source": "605846",
        "target": "599863",
        "weight": 0.018117689
       }
      }
     },
     "5f733b92342947ceae8e18b63dc731f4": {
      "model_module": "jupyter-cytoscape",
      "model_module_version": "^0.2.2",
      "model_name": "EdgeModel",
      "state": {
       "_model_module_version": "^0.2.2",
       "_view_module": "jupyter-cytoscape",
       "_view_module_version": "^0.2.2",
       "data": {
        "group": "coexp",
        "id": "e75",
        "intn": true,
        "networkGroupId": 18,
        "networkId": 1103,
        "rIntnId": 77,
        "source": "599724",
        "target": "610236",
        "weight": 0.011675352
       }
      }
     },
     "5fa01e604ede41a3acd0b28fe6413d29": {
      "model_module": "jupyter-cytoscape",
      "model_module_version": "^0.2.2",
      "model_name": "EdgeModel",
      "state": {
       "_model_module_version": "^0.2.2",
       "_view_module": "jupyter-cytoscape",
       "_view_module_version": "^0.2.2",
       "data": {
        "group": "pi",
        "id": "e461",
        "intn": true,
        "networkGroupId": 22,
        "networkId": 799,
        "rIntnId": 463,
        "source": "605846",
        "target": "599863",
        "weight": 0.03477486
       }
      }
     },
     "5fb99be78d224af79b46cdefeff1148f": {
      "model_module": "jupyter-cytoscape",
      "model_module_version": "^0.2.2",
      "model_name": "EdgeModel",
      "state": {
       "_model_module_version": "^0.2.2",
       "_view_module": "jupyter-cytoscape",
       "_view_module_version": "^0.2.2",
       "data": {
        "group": "path",
        "id": "e343",
        "intn": true,
        "networkGroupId": 21,
        "networkId": 917,
        "rIntnId": 345,
        "source": "600046",
        "target": "602299",
        "weight": 0.14017196
       }
      }
     },
     "609aa1f014f1442aa7be78326d4ce6f4": {
      "model_module": "jupyter-cytoscape",
      "model_module_version": "^0.2.2",
      "model_name": "EdgeModel",
      "state": {
       "_model_module_version": "^0.2.2",
       "_view_module": "jupyter-cytoscape",
       "_view_module_version": "^0.2.2",
       "data": {
        "group": "coexp",
        "id": "e201",
        "intn": true,
        "networkGroupId": 18,
        "networkId": 987,
        "rIntnId": 203,
        "source": "599863",
        "target": "610236",
        "weight": 0.010782314
       }
      }
     },
     "613c9cfe5d024b7587cfa9ab015584ec": {
      "model_module": "jupyter-cytoscape",
      "model_module_version": "^0.2.2",
      "model_name": "EdgeModel",
      "state": {
       "_model_module_version": "^0.2.2",
       "_view_module": "jupyter-cytoscape",
       "_view_module_version": "^0.2.2",
       "data": {
        "group": "predict",
        "id": "e471",
        "intn": true,
        "networkGroupId": 23,
        "networkId": 764,
        "rIntnId": 473,
        "source": "610236",
        "target": "603070",
        "weight": 1
       }
      }
     },
     "61566c9ab5b241c2b9104c824d8480e3": {
      "model_module": "jupyter-cytoscape",
      "model_module_version": "^0.2.2",
      "model_name": "EdgeModel",
      "state": {
       "_model_module_version": "^0.2.2",
       "_view_module": "jupyter-cytoscape",
       "_view_module_version": "^0.2.2",
       "data": {
        "group": "pi",
        "id": "e452",
        "intn": true,
        "networkGroupId": 22,
        "networkId": 799,
        "rIntnId": 454,
        "source": "602299",
        "target": "605755",
        "weight": 0.028223297
       }
      }
     },
     "6210bc124b2c45b6b81d6746fbf27913": {
      "model_module": "jupyter-cytoscape",
      "model_module_version": "^0.2.2",
      "model_name": "EdgeModel",
      "state": {
       "_model_module_version": "^0.2.2",
       "_view_module": "jupyter-cytoscape",
       "_view_module_version": "^0.2.2",
       "data": {
        "group": "predict",
        "id": "e554",
        "intn": true,
        "networkGroupId": 23,
        "networkId": 772,
        "rIntnId": 556,
        "source": "610236",
        "target": "603070",
        "weight": 0.42620838
       }
      }
     },
     "6233bbb6ae334588b3f249de8d65a80a": {
      "model_module": "jupyter-cytoscape",
      "model_module_version": "^0.2.2",
      "model_name": "EdgeModel",
      "state": {
       "_model_module_version": "^0.2.2",
       "_view_module": "jupyter-cytoscape",
       "_view_module_version": "^0.2.2",
       "data": {
        "group": "pi",
        "id": "e372",
        "intn": true,
        "networkGroupId": 22,
        "networkId": 721,
        "rIntnId": 374,
        "source": "599724",
        "target": "603070",
        "weight": 0.15802538
       }
      }
     },
     "6242c650e87d4179827814076919c93e": {
      "model_module": "jupyter-cytoscape",
      "model_module_version": "^0.2.2",
      "model_name": "EdgeModel",
      "state": {
       "_model_module_version": "^0.2.2",
       "_view_module": "jupyter-cytoscape",
       "_view_module_version": "^0.2.2",
       "data": {
        "group": "coexp",
        "id": "e157",
        "intn": true,
        "networkGroupId": 18,
        "networkId": 1112,
        "rIntnId": 159,
        "source": "605846",
        "target": "605755",
        "weight": 0.009827839
       }
      }
     },
     "629feafbdedb4cb6a1d2ca70b278bd1d": {
      "model_module": "jupyter-cytoscape",
      "model_module_version": "^0.2.2",
      "model_name": "EdgeModel",
      "state": {
       "_model_module_version": "^0.2.2",
       "_view_module": "jupyter-cytoscape",
       "_view_module_version": "^0.2.2",
       "data": {
        "group": "coexp",
        "id": "e103",
        "intn": true,
        "networkGroupId": 18,
        "networkId": 991,
        "rIntnId": 105,
        "source": "600046",
        "target": "612341",
        "weight": 0.0068017747
       }
      }
     },
     "62b6be2e5b3745f2b7ee18f801875823": {
      "model_module": "jupyter-cytoscape",
      "model_module_version": "^0.2.2",
      "model_name": "EdgeModel",
      "state": {
       "_model_module_version": "^0.2.2",
       "_view_module": "jupyter-cytoscape",
       "_view_module_version": "^0.2.2",
       "data": {
        "group": "predict",
        "id": "e540",
        "intn": true,
        "networkGroupId": 23,
        "networkId": 918,
        "rIntnId": 542,
        "source": "606768",
        "target": "600046",
        "weight": 0.10478503
       }
      }
     },
     "634cd7fa122848f499d9c248d9984a05": {
      "model_module": "jupyter-cytoscape",
      "model_module_version": "^0.2.2",
      "model_name": "EdgeModel",
      "state": {
       "_model_module_version": "^0.2.2",
       "_view_module": "jupyter-cytoscape",
       "_view_module_version": "^0.2.2",
       "data": {
        "group": "coexp",
        "id": "e226",
        "intn": true,
        "networkGroupId": 18,
        "networkId": 1141,
        "rIntnId": 228,
        "source": "611408",
        "target": "605755",
        "weight": 0.015407894
       }
      }
     },
     "639d6171c80443eb9a915f997ec5f91c": {
      "model_module": "jupyter-cytoscape",
      "model_module_version": "^0.2.2",
      "model_name": "EdgeModel",
      "state": {
       "_model_module_version": "^0.2.2",
       "_view_module": "jupyter-cytoscape",
       "_view_module_version": "^0.2.2",
       "data": {
        "group": "path",
        "id": "e323",
        "intn": true,
        "networkGroupId": 21,
        "networkId": 917,
        "rIntnId": 325,
        "source": "611408",
        "target": "605755",
        "weight": 0.08421734
       }
      }
     },
     "639e5dd4ba774e8cb4081bd6b61d42c8": {
      "model_module": "jupyter-cytoscape",
      "model_module_version": "^0.2.2",
      "model_name": "EdgeModel",
      "state": {
       "_model_module_version": "^0.2.2",
       "_view_module": "jupyter-cytoscape",
       "_view_module_version": "^0.2.2",
       "data": {
        "group": "path",
        "id": "e335",
        "intn": true,
        "networkGroupId": 21,
        "networkId": 917,
        "rIntnId": 337,
        "source": "599724",
        "target": "605755",
        "weight": 0.043610524
       }
      }
     },
     "6419114c6d364259851fafcd3854630b": {
      "model_module": "jupyter-cytoscape",
      "model_module_version": "^0.2.2",
      "model_name": "EdgeModel",
      "state": {
       "_model_module_version": "^0.2.2",
       "_view_module": "jupyter-cytoscape",
       "_view_module_version": "^0.2.2",
       "data": {
        "group": "pi",
        "id": "e392",
        "intn": true,
        "networkGroupId": 22,
        "networkId": 665,
        "rIntnId": 394,
        "source": "603700",
        "target": "599889",
        "weight": 0.018539928
       }
      }
     },
     "647e3d6a10884aeb8de1c729855fdd93": {
      "model_module": "jupyter-cytoscape",
      "model_module_version": "^0.2.2",
      "model_name": "NodeModel",
      "state": {
       "_model_module_version": "^0.2.2",
       "_view_module_version": "^0.2.2",
       "data": {
        "gene": true,
        "id": "603070",
        "idInt": 603070,
        "name": "RFC5",
        "query": false,
        "score": 0.0022841757103715943
       }
      }
     },
     "649ff2a6dc9b40a9ba11ace8fbd6c4fc": {
      "model_module": "jupyter-cytoscape",
      "model_module_version": "^0.2.2",
      "model_name": "EdgeModel",
      "state": {
       "_model_module_version": "^0.2.2",
       "_view_module": "jupyter-cytoscape",
       "_view_module_version": "^0.2.2",
       "data": {
        "group": "predict",
        "id": "e529",
        "intn": true,
        "networkGroupId": 23,
        "networkId": 918,
        "rIntnId": 531,
        "source": "602299",
        "target": "605755",
        "weight": 0.073155984
       }
      }
     },
     "64b7e63c390948409955b5b248350f76": {
      "model_module": "jupyter-cytoscape",
      "model_module_version": "^0.2.2",
      "model_name": "EdgeModel",
      "state": {
       "_model_module_version": "^0.2.2",
       "_view_module": "jupyter-cytoscape",
       "_view_module_version": "^0.2.2",
       "data": {
        "group": "pi",
        "id": "e411",
        "intn": true,
        "networkGroupId": 22,
        "networkId": 901,
        "rIntnId": 413,
        "source": "605846",
        "target": "605755",
        "weight": 0.17140284
       }
      }
     },
     "64c2ad66f48e4b49a0328b0e3af69434": {
      "model_module": "jupyter-cytoscape",
      "model_module_version": "^0.2.2",
      "model_name": "NodeModel",
      "state": {
       "_model_module_version": "^0.2.2",
       "_view_module_version": "^0.2.2",
       "data": {
        "gene": true,
        "id": "600046",
        "idInt": 600046,
        "name": "POLD1",
        "query": false,
        "score": 0.0014783091464922182
       }
      }
     },
     "651ac11379b84f1fae89c887c2d88ec6": {
      "model_module": "jupyter-cytoscape",
      "model_module_version": "^0.2.2",
      "model_name": "EdgeModel",
      "state": {
       "_model_module_version": "^0.2.2",
       "_view_module": "jupyter-cytoscape",
       "_view_module_version": "^0.2.2",
       "data": {
        "group": "coexp",
        "id": "e123",
        "intn": true,
        "networkGroupId": 18,
        "networkId": 948,
        "rIntnId": 125,
        "source": "600046",
        "target": "602299",
        "weight": 0.0019770851
       }
      }
     },
     "6522db4cf8044666bde57bf164d878f5": {
      "model_module": "jupyter-cytoscape",
      "model_module_version": "^0.2.2",
      "model_name": "EdgeModel",
      "state": {
       "_model_module_version": "^0.2.2",
       "_view_module": "jupyter-cytoscape",
       "_view_module_version": "^0.2.2",
       "data": {
        "group": "pi",
        "id": "e394",
        "intn": true,
        "networkGroupId": 22,
        "networkId": 665,
        "rIntnId": 396,
        "source": "605846",
        "target": "610236",
        "weight": 0.12539954
       }
      }
     },
     "6570afe522854c0d8a8dd8c97c83accf": {
      "model_module": "jupyter-cytoscape",
      "model_module_version": "^0.2.2",
      "model_name": "EdgeModel",
      "state": {
       "_model_module_version": "^0.2.2",
       "_view_module": "jupyter-cytoscape",
       "_view_module_version": "^0.2.2",
       "data": {
        "group": "spd",
        "id": "e567",
        "intn": true,
        "networkGroupId": 24,
        "networkId": 1229,
        "rIntnId": 569,
        "source": "608473",
        "target": "605755",
        "weight": 0.43164432
       }
      }
     },
     "664744e0c07c48b485344ac4cceaf588": {
      "model_module": "jupyter-cytoscape",
      "model_module_version": "^0.2.2",
      "model_name": "EdgeModel",
      "state": {
       "_model_module_version": "^0.2.2",
       "_view_module": "jupyter-cytoscape",
       "_view_module_version": "^0.2.2",
       "data": {
        "group": "predict",
        "id": "e541",
        "intn": true,
        "networkGroupId": 23,
        "networkId": 743,
        "rIntnId": 543,
        "source": "612326",
        "target": "605755",
        "weight": 0.03964701
       }
      }
     },
     "66957d34ebf04b5d8a61eefd8d2b3e65": {
      "model_module": "jupyter-cytoscape",
      "model_module_version": "^0.2.2",
      "model_name": "EdgeModel",
      "state": {
       "_model_module_version": "^0.2.2",
       "_view_module": "jupyter-cytoscape",
       "_view_module_version": "^0.2.2",
       "data": {
        "group": "coexp",
        "id": "e156",
        "intn": true,
        "networkGroupId": 18,
        "networkId": 1112,
        "rIntnId": 158,
        "source": "599863",
        "target": "611560",
        "weight": 0.011177457
       }
      }
     },
     "669e70a1e39f4bf88828cfd9703817ac": {
      "model_module": "jupyter-cytoscape",
      "model_module_version": "^0.2.2",
      "model_name": "EdgeModel",
      "state": {
       "_model_module_version": "^0.2.2",
       "_view_module": "jupyter-cytoscape",
       "_view_module_version": "^0.2.2",
       "data": {
        "group": "coexp",
        "id": "e9",
        "intn": true,
        "networkGroupId": 18,
        "networkId": 1133,
        "rIntnId": 11,
        "source": "605846",
        "target": "610236",
        "weight": 0.009086159
       }
      }
     },
     "67db10eecb394cfd96475c74bd55f5d7": {
      "model_module": "jupyter-cytoscape",
      "model_module_version": "^0.2.2",
      "model_name": "EdgeModel",
      "state": {
       "_model_module_version": "^0.2.2",
       "_view_module": "jupyter-cytoscape",
       "_view_module_version": "^0.2.2",
       "data": {
        "group": "pi",
        "id": "e419",
        "intn": true,
        "networkGroupId": 22,
        "networkId": 906,
        "rIntnId": 421,
        "source": "599724",
        "target": "599863",
        "weight": 0.40359056
       }
      }
     },
     "680e92a47c8543dfb7b343740d1d4b3d": {
      "model_module": "jupyter-cytoscape",
      "model_module_version": "^0.2.2",
      "model_name": "EdgeModel",
      "state": {
       "_model_module_version": "^0.2.2",
       "_view_module": "jupyter-cytoscape",
       "_view_module_version": "^0.2.2",
       "data": {
        "group": "pi",
        "id": "e467",
        "intn": true,
        "networkGroupId": 22,
        "networkId": 799,
        "rIntnId": 469,
        "source": "600046",
        "target": "599724",
        "weight": 0.22932594
       }
      }
     },
     "685e8b0035e845c2bb164b2f0b1b74bf": {
      "model_module": "jupyter-cytoscape",
      "model_module_version": "^0.2.2",
      "model_name": "EdgeModel",
      "state": {
       "_model_module_version": "^0.2.2",
       "_view_module": "jupyter-cytoscape",
       "_view_module_version": "^0.2.2",
       "data": {
        "group": "path",
        "id": "e298",
        "intn": true,
        "networkGroupId": 21,
        "networkId": 920,
        "rIntnId": 300,
        "source": "605846",
        "target": "605755",
        "weight": 0.034838397
       }
      }
     },
     "68923ed243604c0c958cd22b585af986": {
      "model_module": "jupyter-cytoscape",
      "model_module_version": "^0.2.2",
      "model_name": "EdgeModel",
      "state": {
       "_model_module_version": "^0.2.2",
       "_view_module": "jupyter-cytoscape",
       "_view_module_version": "^0.2.2",
       "data": {
        "group": "pi",
        "id": "e426",
        "intn": true,
        "networkGroupId": 22,
        "networkId": 909,
        "rIntnId": 428,
        "source": "602299",
        "target": "605755",
        "weight": 0.025042696
       }
      }
     },
     "68a02d6779cb41a9876603d990ed9701": {
      "model_module": "jupyter-cytoscape",
      "model_module_version": "^0.2.2",
      "model_name": "EdgeModel",
      "state": {
       "_model_module_version": "^0.2.2",
       "_view_module": "jupyter-cytoscape",
       "_view_module_version": "^0.2.2",
       "data": {
        "group": "coexp",
        "id": "e111",
        "intn": true,
        "networkGroupId": 18,
        "networkId": 948,
        "rIntnId": 113,
        "source": "610236",
        "target": "603070",
        "weight": 0.008862467
       }
      }
     },
     "68f004c7d8e04805a5cdb77fc9d0a7c6": {
      "model_module": "jupyter-cytoscape",
      "model_module_version": "^0.2.2",
      "model_name": "EdgeModel",
      "state": {
       "_model_module_version": "^0.2.2",
       "_view_module": "jupyter-cytoscape",
       "_view_module_version": "^0.2.2",
       "data": {
        "group": "pi",
        "id": "e389",
        "intn": true,
        "networkGroupId": 22,
        "networkId": 665,
        "rIntnId": 391,
        "source": "599863",
        "target": "610236",
        "weight": 0.0645995
       }
      }
     },
     "69f7329b587a458c9de1cc4cad9f4dd8": {
      "model_module": "jupyter-cytoscape",
      "model_module_version": "^0.2.2",
      "model_name": "EdgeModel",
      "state": {
       "_model_module_version": "^0.2.2",
       "_view_module": "jupyter-cytoscape",
       "_view_module_version": "^0.2.2",
       "data": {
        "group": "pi",
        "id": "e371",
        "intn": true,
        "networkGroupId": 22,
        "networkId": 721,
        "rIntnId": 373,
        "source": "599724",
        "target": "605755",
        "weight": 0.10097788
       }
      }
     },
     "6a5b64ae784945d393649af7e23e0622": {
      "model_module": "jupyter-cytoscape",
      "model_module_version": "^0.2.2",
      "model_name": "EdgeModel",
      "state": {
       "_model_module_version": "^0.2.2",
       "_view_module": "jupyter-cytoscape",
       "_view_module_version": "^0.2.2",
       "data": {
        "group": "predict",
        "id": "e526",
        "intn": true,
        "networkGroupId": 23,
        "networkId": 760,
        "rIntnId": 528,
        "source": "612326",
        "target": "605755",
        "weight": 0.09839025
       }
      }
     },
     "6a9e45a44a524895b95f278dbae99f8b": {
      "model_module": "jupyter-cytoscape",
      "model_module_version": "^0.2.2",
      "model_name": "EdgeModel",
      "state": {
       "_model_module_version": "^0.2.2",
       "_view_module": "jupyter-cytoscape",
       "_view_module_version": "^0.2.2",
       "data": {
        "group": "coexp",
        "id": "e119",
        "intn": true,
        "networkGroupId": 18,
        "networkId": 948,
        "rIntnId": 121,
        "source": "600535",
        "target": "603700",
        "weight": 0.009681167
       }
      }
     },
     "6af6d80968874c7bbb08d3911650fbc6": {
      "model_module": "jupyter-cytoscape",
      "model_module_version": "^0.2.2",
      "model_name": "EdgeModel",
      "state": {
       "_model_module_version": "^0.2.2",
       "_view_module": "jupyter-cytoscape",
       "_view_module_version": "^0.2.2",
       "data": {
        "group": "pi",
        "id": "e444",
        "intn": true,
        "networkGroupId": 22,
        "networkId": 909,
        "rIntnId": 446,
        "source": "600046",
        "target": "610236",
        "weight": 0.09682117
       }
      }
     },
     "6b9d8ece047147b1b20b56ed12af2d0f": {
      "model_module": "jupyter-cytoscape",
      "model_module_version": "^0.2.2",
      "model_name": "EdgeModel",
      "state": {
       "_model_module_version": "^0.2.2",
       "_view_module": "jupyter-cytoscape",
       "_view_module_version": "^0.2.2",
       "data": {
        "group": "coexp",
        "id": "e177",
        "intn": true,
        "networkGroupId": 18,
        "networkId": 939,
        "rIntnId": 179,
        "source": "603700",
        "target": "605755",
        "weight": 0.010436626
       }
      }
     },
     "6bb573e4af3742bd92836f1442a68f8c": {
      "model_module": "@jupyter-widgets/base",
      "model_module_version": "1.1.0",
      "model_name": "LayoutModel",
      "state": {}
     },
     "6bedfc5daef2427eac0131ef1dcef144": {
      "model_module": "jupyter-cytoscape",
      "model_module_version": "^0.2.2",
      "model_name": "EdgeModel",
      "state": {
       "_model_module_version": "^0.2.2",
       "_view_module": "jupyter-cytoscape",
       "_view_module_version": "^0.2.2",
       "data": {
        "group": "path",
        "id": "e305",
        "intn": true,
        "networkGroupId": 21,
        "networkId": 920,
        "rIntnId": 307,
        "source": "599724",
        "target": "605755",
        "weight": 0.04283297
       }
      }
     },
     "6c4c36b46e6a426db7b07d4ec6d7aa4e": {
      "model_module": "jupyter-cytoscape",
      "model_module_version": "^0.2.2",
      "model_name": "EdgeModel",
      "state": {
       "_model_module_version": "^0.2.2",
       "_view_module": "jupyter-cytoscape",
       "_view_module_version": "^0.2.2",
       "data": {
        "group": "predict",
        "id": "e509",
        "intn": true,
        "networkGroupId": 23,
        "networkId": 919,
        "rIntnId": 511,
        "source": "602299",
        "target": "612341",
        "weight": 0.1758101
       }
      }
     },
     "6c5baf74b17e4c2a86e5eb0cefd89b1e": {
      "model_module": "jupyter-cytoscape",
      "model_module_version": "^0.2.2",
      "model_name": "EdgeModel",
      "state": {
       "_model_module_version": "^0.2.2",
       "_view_module": "jupyter-cytoscape",
       "_view_module_version": "^0.2.2",
       "data": {
        "group": "spd",
        "id": "e590",
        "intn": true,
        "networkGroupId": 24,
        "networkId": 1230,
        "rIntnId": 592,
        "source": "599724",
        "target": "610236",
        "weight": 0.016794344
       }
      }
     },
     "6d4196d23efc43b2865886b474cc3825": {
      "model_module": "jupyter-cytoscape",
      "model_module_version": "^0.2.2",
      "model_name": "EdgeModel",
      "state": {
       "_model_module_version": "^0.2.2",
       "_view_module": "jupyter-cytoscape",
       "_view_module_version": "^0.2.2",
       "data": {
        "group": "pi",
        "id": "e393",
        "intn": true,
        "networkGroupId": 22,
        "networkId": 665,
        "rIntnId": 395,
        "source": "605846",
        "target": "605755",
        "weight": 0.020811629
       }
      }
     },
     "6dfe77977cbe4ab5acc35dde87610fc5": {
      "model_module": "jupyter-cytoscape",
      "model_module_version": "^0.2.2",
      "model_name": "EdgeModel",
      "state": {
       "_model_module_version": "^0.2.2",
       "_view_module": "jupyter-cytoscape",
       "_view_module_version": "^0.2.2",
       "data": {
        "group": "predict",
        "id": "e512",
        "intn": true,
        "networkGroupId": 23,
        "networkId": 758,
        "rIntnId": 514,
        "source": "612326",
        "target": "605755",
        "weight": 0.6170411
       }
      }
     },
     "6e18bc9e34d4473fb847f920ecedf862": {
      "model_module": "jupyter-cytoscape",
      "model_module_version": "^0.2.2",
      "model_name": "EdgeModel",
      "state": {
       "_model_module_version": "^0.2.2",
       "_view_module": "jupyter-cytoscape",
       "_view_module_version": "^0.2.2",
       "data": {
        "group": "predict",
        "id": "e499",
        "intn": true,
        "networkGroupId": 23,
        "networkId": 783,
        "rIntnId": 501,
        "source": "611408",
        "target": "605755",
        "weight": 0.504208
       }
      }
     },
     "6e431ac964a644a3a8ed125d4b28b041": {
      "model_module": "jupyter-cytoscape",
      "model_module_version": "^0.2.2",
      "model_name": "EdgeModel",
      "state": {
       "_model_module_version": "^0.2.2",
       "_view_module": "jupyter-cytoscape",
       "_view_module_version": "^0.2.2",
       "data": {
        "group": "pi",
        "id": "e390",
        "intn": true,
        "networkGroupId": 22,
        "networkId": 665,
        "rIntnId": 392,
        "source": "603700",
        "target": "605755",
        "weight": 0.007422314
       }
      }
     },
     "6e833272be2b438495542cad02e2e4d3": {
      "model_module": "jupyter-cytoscape",
      "model_module_version": "^0.2.2",
      "model_name": "EdgeModel",
      "state": {
       "_model_module_version": "^0.2.2",
       "_view_module": "jupyter-cytoscape",
       "_view_module_version": "^0.2.2",
       "data": {
        "group": "coexp",
        "id": "e149",
        "intn": true,
        "networkGroupId": 18,
        "networkId": 1160,
        "rIntnId": 151,
        "source": "606768",
        "target": "611408",
        "weight": 0.007974974
       }
      }
     },
     "6eafba62eb8b45d390a280fbee2f7495": {
      "model_module": "jupyter-cytoscape",
      "model_module_version": "^0.2.2",
      "model_name": "EdgeModel",
      "state": {
       "_model_module_version": "^0.2.2",
       "_view_module": "jupyter-cytoscape",
       "_view_module_version": "^0.2.2",
       "data": {
        "group": "path",
        "id": "e332",
        "intn": true,
        "networkGroupId": 21,
        "networkId": 917,
        "rIntnId": 334,
        "source": "599863",
        "target": "600585",
        "weight": 0.078957625
       }
      }
     },
     "6ed136cb2a37497c9cd5c14af0c85903": {
      "model_module": "jupyter-cytoscape",
      "model_module_version": "^0.2.2",
      "model_name": "EdgeModel",
      "state": {
       "_model_module_version": "^0.2.2",
       "_view_module": "jupyter-cytoscape",
       "_view_module_version": "^0.2.2",
       "data": {
        "group": "path",
        "id": "e337",
        "intn": true,
        "networkGroupId": 21,
        "networkId": 917,
        "rIntnId": 339,
        "source": "599724",
        "target": "603070",
        "weight": 0.1032913
       }
      }
     },
     "6eeba214795d4f27b50275e426d6e08f": {
      "model_module": "jupyter-cytoscape",
      "model_module_version": "^0.2.2",
      "model_name": "EdgeModel",
      "state": {
       "_model_module_version": "^0.2.2",
       "_view_module": "jupyter-cytoscape",
       "_view_module_version": "^0.2.2",
       "data": {
        "group": "predict",
        "id": "e486",
        "intn": true,
        "networkGroupId": 23,
        "networkId": 746,
        "rIntnId": 488,
        "source": "602299",
        "target": "611408",
        "weight": 0.17054899
       }
      }
     },
     "6f1a64c5f4404352b7ad4033c2b00443": {
      "model_module": "jupyter-cytoscape",
      "model_module_version": "^0.2.2",
      "model_name": "EdgeModel",
      "state": {
       "_model_module_version": "^0.2.2",
       "_view_module": "jupyter-cytoscape",
       "_view_module_version": "^0.2.2",
       "data": {
        "group": "coexp",
        "id": "e203",
        "intn": true,
        "networkGroupId": 18,
        "networkId": 987,
        "rIntnId": 205,
        "source": "603700",
        "target": "611408",
        "weight": 0.009551385
       }
      }
     },
     "70285f43a482428b828af08b873a3e69": {
      "model_module": "jupyter-cytoscape",
      "model_module_version": "^0.2.2",
      "model_name": "EdgeModel",
      "state": {
       "_model_module_version": "^0.2.2",
       "_view_module": "jupyter-cytoscape",
       "_view_module_version": "^0.2.2",
       "data": {
        "group": "predict",
        "id": "e478",
        "intn": true,
        "networkGroupId": 23,
        "networkId": 782,
        "rIntnId": 480,
        "source": "599724",
        "target": "610236",
        "weight": 0.38690582
       }
      }
     },
     "704754bbe1764f6fa7e572dd72021091": {
      "model_module": "jupyter-cytoscape",
      "model_module_version": "^0.2.2",
      "model_name": "EdgeModel",
      "state": {
       "_model_module_version": "^0.2.2",
       "_view_module": "jupyter-cytoscape",
       "_view_module_version": "^0.2.2",
       "data": {
        "group": "predict",
        "id": "e479",
        "intn": true,
        "networkGroupId": 23,
        "networkId": 782,
        "rIntnId": 481,
        "source": "599724",
        "target": "599863",
        "weight": 0.38690582
       }
      }
     },
     "72fc14ea97834151985fe9eaf020b4d2": {
      "model_module": "jupyter-cytoscape",
      "model_module_version": "^0.2.2",
      "model_name": "EdgeModel",
      "state": {
       "_model_module_version": "^0.2.2",
       "_view_module": "jupyter-cytoscape",
       "_view_module_version": "^0.2.2",
       "data": {
        "group": "coexp",
        "id": "e144",
        "intn": true,
        "networkGroupId": 18,
        "networkId": 1160,
        "rIntnId": 146,
        "source": "600046",
        "target": "612341",
        "weight": 0.0098648025
       }
      }
     },
     "7448fa9db16d45c7be9fe92595742d50": {
      "model_module": "jupyter-cytoscape",
      "model_module_version": "^0.2.2",
      "model_name": "EdgeModel",
      "state": {
       "_model_module_version": "^0.2.2",
       "_view_module": "jupyter-cytoscape",
       "_view_module_version": "^0.2.2",
       "data": {
        "group": "coexp",
        "id": "e214",
        "intn": true,
        "networkGroupId": 18,
        "networkId": 1211,
        "rIntnId": 216,
        "source": "603700",
        "target": "610236",
        "weight": 0.017061198
       }
      }
     },
     "74565c1864fa4db38fe4cec942790b04": {
      "model_module": "jupyter-cytoscape",
      "model_module_version": "^0.2.2",
      "model_name": "EdgeModel",
      "state": {
       "_model_module_version": "^0.2.2",
       "_view_module": "jupyter-cytoscape",
       "_view_module_version": "^0.2.2",
       "data": {
        "group": "coexp",
        "id": "e79",
        "intn": true,
        "networkGroupId": 18,
        "networkId": 1103,
        "rIntnId": 81,
        "source": "606768",
        "target": "605846",
        "weight": 0.015214647
       }
      }
     },
     "74aa3250daef4c64beb739b068aafd2a": {
      "model_module": "jupyter-cytoscape",
      "model_module_version": "^0.2.2",
      "model_name": "EdgeModel",
      "state": {
       "_model_module_version": "^0.2.2",
       "_view_module": "jupyter-cytoscape",
       "_view_module_version": "^0.2.2",
       "data": {
        "group": "coloc",
        "id": "e273",
        "intn": true,
        "networkGroupId": 19,
        "networkId": 1215,
        "rIntnId": 275,
        "source": "609734",
        "target": "605846",
        "weight": 0.0013620426
       }
      }
     },
     "74b749ea03544f79b2a0ed4b84af6e75": {
      "model_module": "jupyter-cytoscape",
      "model_module_version": "^0.2.2",
      "model_name": "EdgeModel",
      "state": {
       "_model_module_version": "^0.2.2",
       "_view_module": "jupyter-cytoscape",
       "_view_module_version": "^0.2.2",
       "data": {
        "group": "predict",
        "id": "e535",
        "intn": true,
        "networkGroupId": 23,
        "networkId": 918,
        "rIntnId": 537,
        "source": "600535",
        "target": "610236",
        "weight": 0.058483012
       }
      }
     },
     "74e4703b6b2b4534b42f4c0cbf1335e0": {
      "model_module": "jupyter-cytoscape",
      "model_module_version": "^0.2.2",
      "model_name": "EdgeModel",
      "state": {
       "_model_module_version": "^0.2.2",
       "_view_module": "jupyter-cytoscape",
       "_view_module_version": "^0.2.2",
       "data": {
        "group": "coexp",
        "id": "e202",
        "intn": true,
        "networkGroupId": 18,
        "networkId": 987,
        "rIntnId": 204,
        "source": "603700",
        "target": "605755",
        "weight": 0.009000187
       }
      }
     },
     "7537404e3de94e56802f4788da7fdd72": {
      "model_module": "jupyter-cytoscape",
      "model_module_version": "^0.2.2",
      "model_name": "EdgeModel",
      "state": {
       "_model_module_version": "^0.2.2",
       "_view_module": "jupyter-cytoscape",
       "_view_module_version": "^0.2.2",
       "data": {
        "group": "pi",
        "id": "e359",
        "intn": true,
        "networkGroupId": 22,
        "networkId": 903,
        "rIntnId": 361,
        "source": "612341",
        "target": "605755",
        "weight": 0.106598906
       }
      }
     },
     "753cb794fd4e4c5a8591fb92787e21bc": {
      "model_module": "jupyter-cytoscape",
      "model_module_version": "^0.2.2",
      "model_name": "EdgeModel",
      "state": {
       "_model_module_version": "^0.2.2",
       "_view_module": "jupyter-cytoscape",
       "_view_module_version": "^0.2.2",
       "data": {
        "group": "coexp",
        "id": "e61",
        "intn": true,
        "networkGroupId": 18,
        "networkId": 1205,
        "rIntnId": 63,
        "source": "600046",
        "target": "611560",
        "weight": 0.012538481
       }
      }
     },
     "754d249b00b24f55831e1d0415fa8370": {
      "model_module": "jupyter-cytoscape",
      "model_module_version": "^0.2.2",
      "model_name": "EdgeModel",
      "state": {
       "_model_module_version": "^0.2.2",
       "_view_module": "jupyter-cytoscape",
       "_view_module_version": "^0.2.2",
       "data": {
        "group": "predict",
        "id": "e516",
        "intn": true,
        "networkGroupId": 23,
        "networkId": 765,
        "rIntnId": 518,
        "source": "599724",
        "target": "603070",
        "weight": 0.27525902
       }
      }
     },
     "75a82b7ab53c4b6084c1017aab90720c": {
      "model_module": "jupyter-cytoscape",
      "model_module_version": "^0.2.2",
      "model_name": "EdgeModel",
      "state": {
       "_model_module_version": "^0.2.2",
       "_view_module": "jupyter-cytoscape",
       "_view_module_version": "^0.2.2",
       "data": {
        "group": "path",
        "id": "e302",
        "intn": true,
        "networkGroupId": 21,
        "networkId": 920,
        "rIntnId": 304,
        "source": "605846",
        "target": "603070",
        "weight": 0.046432484
       }
      }
     },
     "765d29d8ba5b4f3ab9a812e60b89ebc4": {
      "model_module": "jupyter-cytoscape",
      "model_module_version": "^0.2.2",
      "model_name": "EdgeModel",
      "state": {
       "_model_module_version": "^0.2.2",
       "_view_module": "jupyter-cytoscape",
       "_view_module_version": "^0.2.2",
       "data": {
        "group": "coexp",
        "id": "e133",
        "intn": true,
        "networkGroupId": 18,
        "networkId": 1160,
        "rIntnId": 135,
        "source": "610236",
        "target": "611408",
        "weight": 0.0048849517
       }
      }
     },
     "77d01bcb2c9d4fefaefc3c5ce2edfafe": {
      "model_module": "jupyter-cytoscape",
      "model_module_version": "^0.2.2",
      "model_name": "EdgeModel",
      "state": {
       "_model_module_version": "^0.2.2",
       "_view_module": "jupyter-cytoscape",
       "_view_module_version": "^0.2.2",
       "data": {
        "group": "coloc",
        "id": "e254",
        "intn": true,
        "networkGroupId": 19,
        "networkId": 1215,
        "rIntnId": 256,
        "source": "610236",
        "target": "605755",
        "weight": 0.0019825348
       }
      }
     },
     "78503dccea624d148439057f109622b1": {
      "model_module": "jupyter-cytoscape",
      "model_module_version": "^0.2.2",
      "model_name": "EdgeModel",
      "state": {
       "_model_module_version": "^0.2.2",
       "_view_module": "jupyter-cytoscape",
       "_view_module_version": "^0.2.2",
       "data": {
        "group": "coexp",
        "id": "e175",
        "intn": true,
        "networkGroupId": 18,
        "networkId": 939,
        "rIntnId": 177,
        "source": "610236",
        "target": "603070",
        "weight": 0.00446657
       }
      }
     },
     "785984b7ecc5465aa074736b1534b255": {
      "model_module": "jupyter-cytoscape",
      "model_module_version": "^0.2.2",
      "model_name": "EdgeModel",
      "state": {
       "_model_module_version": "^0.2.2",
       "_view_module": "jupyter-cytoscape",
       "_view_module_version": "^0.2.2",
       "data": {
        "group": "predict",
        "id": "e562",
        "intn": true,
        "networkGroupId": 23,
        "networkId": 785,
        "rIntnId": 564,
        "source": "599863",
        "target": "603070",
        "weight": 0.4767415
       }
      }
     },
     "786f5b7a0bef48d29f2df2d485614cd9": {
      "model_module": "jupyter-cytoscape",
      "model_module_version": "^0.2.2",
      "model_name": "EdgeModel",
      "state": {
       "_model_module_version": "^0.2.2",
       "_view_module": "jupyter-cytoscape",
       "_view_module_version": "^0.2.2",
       "data": {
        "group": "predict",
        "id": "e490",
        "intn": true,
        "networkGroupId": 23,
        "networkId": 746,
        "rIntnId": 492,
        "source": "599863",
        "target": "602299",
        "weight": 0.12704994
       }
      }
     },
     "789ec95cef4d41a6af6bcde87c5ec643": {
      "model_module": "jupyter-cytoscape",
      "model_module_version": "^0.2.2",
      "model_name": "EdgeModel",
      "state": {
       "_model_module_version": "^0.2.2",
       "_view_module": "jupyter-cytoscape",
       "_view_module_version": "^0.2.2",
       "data": {
        "group": "coexp",
        "id": "e59",
        "intn": true,
        "networkGroupId": 18,
        "networkId": 1205,
        "rIntnId": 61,
        "source": "600535",
        "target": "610236",
        "weight": 0.007695786
       }
      }
     },
     "7a4ff51da761428b8e9c56a143574f45": {
      "model_module": "jupyter-cytoscape",
      "model_module_version": "^0.2.2",
      "model_name": "EdgeModel",
      "state": {
       "_model_module_version": "^0.2.2",
       "_view_module": "jupyter-cytoscape",
       "_view_module_version": "^0.2.2",
       "data": {
        "group": "coexp",
        "id": "e121",
        "intn": true,
        "networkGroupId": 18,
        "networkId": 948,
        "rIntnId": 123,
        "source": "602279",
        "target": "611560",
        "weight": 0.0072178333
       }
      }
     },
     "7a97226ec7114dc1b8ac26d257b7d3ac": {
      "model_module": "jupyter-cytoscape",
      "model_module_version": "^0.2.2",
      "model_name": "EdgeModel",
      "state": {
       "_model_module_version": "^0.2.2",
       "_view_module": "jupyter-cytoscape",
       "_view_module_version": "^0.2.2",
       "data": {
        "group": "path",
        "id": "e289",
        "intn": true,
        "networkGroupId": 21,
        "networkId": 920,
        "rIntnId": 291,
        "source": "610236",
        "target": "600585",
        "weight": 0.048561342
       }
      }
     },
     "7bd5597a89ca43d5a85366d9b683bda7": {
      "model_module": "jupyter-cytoscape",
      "model_module_version": "^0.2.2",
      "model_name": "EdgeModel",
      "state": {
       "_model_module_version": "^0.2.2",
       "_view_module": "jupyter-cytoscape",
       "_view_module_version": "^0.2.2",
       "data": {
        "group": "coexp",
        "id": "e189",
        "intn": true,
        "networkGroupId": 18,
        "networkId": 987,
        "rIntnId": 191,
        "source": "611408",
        "target": "605755",
        "weight": 0.0046684104
       }
      }
     },
     "7c023c4a88db4242be3a6e1dc78dcd6b": {
      "model_module": "jupyter-cytoscape",
      "model_module_version": "^0.2.2",
      "model_name": "EdgeModel",
      "state": {
       "_model_module_version": "^0.2.2",
       "_view_module": "jupyter-cytoscape",
       "_view_module_version": "^0.2.2",
       "data": {
        "group": "coexp",
        "id": "e211",
        "intn": true,
        "networkGroupId": 18,
        "networkId": 1211,
        "rIntnId": 213,
        "source": "599889",
        "target": "605755",
        "weight": 0.0062426035
       }
      }
     },
     "7c03ee85a7d8422d89d87c5f1d120217": {
      "model_module": "jupyter-cytoscape",
      "model_module_version": "^0.2.2",
      "model_name": "EdgeModel",
      "state": {
       "_model_module_version": "^0.2.2",
       "_view_module": "jupyter-cytoscape",
       "_view_module_version": "^0.2.2",
       "data": {
        "group": "coexp",
        "id": "e183",
        "intn": true,
        "networkGroupId": 18,
        "networkId": 939,
        "rIntnId": 185,
        "source": "600535",
        "target": "602299",
        "weight": 0.008797756
       }
      }
     },
     "7c3f259e22ea41c89df2bb722a52a48a": {
      "model_module": "jupyter-cytoscape",
      "model_module_version": "^0.2.2",
      "model_name": "EdgeModel",
      "state": {
       "_model_module_version": "^0.2.2",
       "_view_module": "jupyter-cytoscape",
       "_view_module_version": "^0.2.2",
       "data": {
        "group": "coexp",
        "id": "e122",
        "intn": true,
        "networkGroupId": 18,
        "networkId": 948,
        "rIntnId": 124,
        "source": "600046",
        "target": "612341",
        "weight": 0.0019152164
       }
      }
     },
     "7c517fd1a82d4698921c8867544cbecb": {
      "model_module": "jupyter-cytoscape",
      "model_module_version": "^0.2.2",
      "model_name": "EdgeModel",
      "state": {
       "_model_module_version": "^0.2.2",
       "_view_module": "jupyter-cytoscape",
       "_view_module_version": "^0.2.2",
       "data": {
        "group": "pi",
        "id": "e435",
        "intn": true,
        "networkGroupId": 22,
        "networkId": 909,
        "rIntnId": 437,
        "source": "605846",
        "target": "605755",
        "weight": 0.011947335
       }
      }
     },
     "7c5acb99e0764f3eb42be9c6fec0d76c": {
      "model_module": "jupyter-cytoscape",
      "model_module_version": "^0.2.2",
      "model_name": "EdgeModel",
      "state": {
       "_model_module_version": "^0.2.2",
       "_view_module": "jupyter-cytoscape",
       "_view_module_version": "^0.2.2",
       "data": {
        "group": "coexp",
        "id": "e237",
        "intn": true,
        "networkGroupId": 18,
        "networkId": 1213,
        "rIntnId": 239,
        "source": "611408",
        "target": "605755",
        "weight": 0.0032305722
       }
      }
     },
     "7c9bb6ec48a34113a501edc9d6fe2400": {
      "model_module": "jupyter-cytoscape",
      "model_module_version": "^0.2.2",
      "model_name": "EdgeModel",
      "state": {
       "_model_module_version": "^0.2.2",
       "_view_module": "jupyter-cytoscape",
       "_view_module_version": "^0.2.2",
       "data": {
        "group": "coexp",
        "id": "e147",
        "intn": true,
        "networkGroupId": 18,
        "networkId": 1160,
        "rIntnId": 149,
        "source": "600046",
        "target": "605846",
        "weight": 0.0061014947
       }
      }
     },
     "7cd2a9f92c514d3d85dd1db636dbd762": {
      "model_module": "jupyter-cytoscape",
      "model_module_version": "^0.2.2",
      "model_name": "EdgeModel",
      "state": {
       "_model_module_version": "^0.2.2",
       "_view_module": "jupyter-cytoscape",
       "_view_module_version": "^0.2.2",
       "data": {
        "group": "pi",
        "id": "e442",
        "intn": true,
        "networkGroupId": 22,
        "networkId": 909,
        "rIntnId": 444,
        "source": "599724",
        "target": "605846",
        "weight": 0.061247163
       }
      }
     },
     "7d854bf28e5e49c3a3313be02df1ac62": {
      "model_module": "jupyter-cytoscape",
      "model_module_version": "^0.2.2",
      "model_name": "EdgeModel",
      "state": {
       "_model_module_version": "^0.2.2",
       "_view_module": "jupyter-cytoscape",
       "_view_module_version": "^0.2.2",
       "data": {
        "group": "coexp",
        "id": "e243",
        "intn": true,
        "networkGroupId": 18,
        "networkId": 1213,
        "rIntnId": 245,
        "source": "610236",
        "target": "600585",
        "weight": 0.006635881
       }
      }
     },
     "7dc3494d456e4ac1ad4107d67198e60b": {
      "model_module": "jupyter-cytoscape",
      "model_module_version": "^0.2.2",
      "model_name": "EdgeModel",
      "state": {
       "_model_module_version": "^0.2.2",
       "_view_module": "jupyter-cytoscape",
       "_view_module_version": "^0.2.2",
       "data": {
        "group": "pi",
        "id": "e364",
        "intn": true,
        "networkGroupId": 22,
        "networkId": 721,
        "rIntnId": 366,
        "source": "610236",
        "target": "603070",
        "weight": 0.16238527
       }
      }
     },
     "7e32769956e64cddb9fc4d989a43556d": {
      "model_module": "jupyter-cytoscape",
      "model_module_version": "^0.2.2",
      "model_name": "EdgeModel",
      "state": {
       "_model_module_version": "^0.2.2",
       "_view_module": "jupyter-cytoscape",
       "_view_module_version": "^0.2.2",
       "data": {
        "group": "coexp",
        "id": "e162",
        "intn": true,
        "networkGroupId": 18,
        "networkId": 1058,
        "rIntnId": 164,
        "source": "602299",
        "target": "599889",
        "weight": 0.006426068
       }
      }
     },
     "7e44bdda0ca64fe79d6915ef0054ba5e": {
      "model_module": "jupyter-cytoscape",
      "model_module_version": "^0.2.2",
      "model_name": "EdgeModel",
      "state": {
       "_model_module_version": "^0.2.2",
       "_view_module": "jupyter-cytoscape",
       "_view_module_version": "^0.2.2",
       "data": {
        "group": "predict",
        "id": "e520",
        "intn": true,
        "networkGroupId": 23,
        "networkId": 760,
        "rIntnId": 522,
        "source": "605365",
        "target": "605755",
        "weight": 0.52660257
       }
      }
     },
     "7ecee40a5d4f4937abd8b51dd39df42d": {
      "model_module": "jupyter-cytoscape",
      "model_module_version": "^0.2.2",
      "model_name": "EdgeModel",
      "state": {
       "_model_module_version": "^0.2.2",
       "_view_module": "jupyter-cytoscape",
       "_view_module_version": "^0.2.2",
       "data": {
        "group": "spd",
        "id": "e584",
        "intn": true,
        "networkGroupId": 24,
        "networkId": 1230,
        "rIntnId": 586,
        "source": "599863",
        "target": "603070",
        "weight": 0.0419809
       }
      }
     },
     "7f83de13f2da4ddd85b6af4b5db5d0fe": {
      "model_module": "jupyter-cytoscape",
      "model_module_version": "^0.2.2",
      "model_name": "EdgeModel",
      "state": {
       "_model_module_version": "^0.2.2",
       "_view_module": "jupyter-cytoscape",
       "_view_module_version": "^0.2.2",
       "data": {
        "group": "coexp",
        "id": "e29",
        "intn": true,
        "networkGroupId": 18,
        "networkId": 1094,
        "rIntnId": 31,
        "source": "599863",
        "target": "605755",
        "weight": 0.01798934
       }
      }
     },
     "8058dd42c34647f5996ac71a21560e53": {
      "model_module": "jupyter-cytoscape",
      "model_module_version": "^0.2.2",
      "model_name": "EdgeModel",
      "state": {
       "_model_module_version": "^0.2.2",
       "_view_module": "jupyter-cytoscape",
       "_view_module_version": "^0.2.2",
       "data": {
        "group": "pi",
        "id": "e365",
        "intn": true,
        "networkGroupId": 22,
        "networkId": 721,
        "rIntnId": 367,
        "source": "599863",
        "target": "603070",
        "weight": 0.16630344
       }
      }
     },
     "808a3d81edcb48f7855c0aa79d52918c": {
      "model_module": "jupyter-cytoscape",
      "model_module_version": "^0.2.2",
      "model_name": "EdgeModel",
      "state": {
       "_model_module_version": "^0.2.2",
       "_view_module": "jupyter-cytoscape",
       "_view_module_version": "^0.2.2",
       "data": {
        "group": "pi",
        "id": "e454",
        "intn": true,
        "networkGroupId": 22,
        "networkId": 799,
        "rIntnId": 456,
        "source": "610236",
        "target": "603070",
        "weight": 0.030938013
       }
      }
     },
     "809c27beea4645019853c63efd506800": {
      "model_module": "jupyter-cytoscape",
      "model_module_version": "^0.2.2",
      "model_name": "EdgeModel",
      "state": {
       "_model_module_version": "^0.2.2",
       "_view_module": "jupyter-cytoscape",
       "_view_module_version": "^0.2.2",
       "data": {
        "group": "predict",
        "id": "e498",
        "intn": true,
        "networkGroupId": 23,
        "networkId": 746,
        "rIntnId": 500,
        "source": "606768",
        "target": "611408",
        "weight": 0.20272742
       }
      }
     },
     "80e63a4aa95c401a863e93c184673538": {
      "model_module": "jupyter-cytoscape",
      "model_module_version": "^0.2.2",
      "model_name": "EdgeModel",
      "state": {
       "_model_module_version": "^0.2.2",
       "_view_module": "jupyter-cytoscape",
       "_view_module_version": "^0.2.2",
       "data": {
        "group": "coexp",
        "id": "e244",
        "intn": true,
        "networkGroupId": 18,
        "networkId": 1213,
        "rIntnId": 246,
        "source": "600535",
        "target": "605755",
        "weight": 0.007493106
       }
      }
     },
     "8144ffa6dc9248c9babbdf338c5e3bca": {
      "model_module": "jupyter-cytoscape",
      "model_module_version": "^0.2.2",
      "model_name": "EdgeModel",
      "state": {
       "_model_module_version": "^0.2.2",
       "_view_module": "jupyter-cytoscape",
       "_view_module_version": "^0.2.2",
       "data": {
        "group": "spd",
        "id": "e569",
        "intn": true,
        "networkGroupId": 24,
        "networkId": 1229,
        "rIntnId": 571,
        "source": "610236",
        "target": "603070",
        "weight": 0.0605611
       }
      }
     },
     "81989f0b01ed4401abb73e2b56cf1084": {
      "model_module": "jupyter-cytoscape",
      "model_module_version": "^0.2.2",
      "model_name": "EdgeModel",
      "state": {
       "_model_module_version": "^0.2.2",
       "_view_module": "jupyter-cytoscape",
       "_view_module_version": "^0.2.2",
       "data": {
        "group": "coexp",
        "id": "e105",
        "intn": true,
        "networkGroupId": 18,
        "networkId": 948,
        "rIntnId": 107,
        "source": "602299",
        "target": "612341",
        "weight": 0.0029230819
       }
      }
     },
     "81a543334c1a4d3e86f76ca82b9e8fb4": {
      "model_module": "jupyter-cytoscape",
      "model_module_version": "^0.2.2",
      "model_name": "EdgeModel",
      "state": {
       "_model_module_version": "^0.2.2",
       "_view_module": "jupyter-cytoscape",
       "_view_module_version": "^0.2.2",
       "data": {
        "group": "coexp",
        "id": "e81",
        "intn": true,
        "networkGroupId": 18,
        "networkId": 1147,
        "rIntnId": 83,
        "source": "603070",
        "target": "605755",
        "weight": 0.0071786125
       }
      }
     },
     "81d8d080cff74d95a0857d1be3f519e6": {
      "model_module": "jupyter-cytoscape",
      "model_module_version": "^0.2.2",
      "model_name": "EdgeModel",
      "state": {
       "_model_module_version": "^0.2.2",
       "_view_module": "jupyter-cytoscape",
       "_view_module_version": "^0.2.2",
       "data": {
        "group": "pi",
        "id": "e399",
        "intn": true,
        "networkGroupId": 22,
        "networkId": 665,
        "rIntnId": 401,
        "source": "599724",
        "target": "603700",
        "weight": 0.034277976
       }
      }
     },
     "81f1217f81174843a91141408702e221": {
      "model_module": "jupyter-cytoscape",
      "model_module_version": "^0.2.2",
      "model_name": "EdgeModel",
      "state": {
       "_model_module_version": "^0.2.2",
       "_view_module": "jupyter-cytoscape",
       "_view_module_version": "^0.2.2",
       "data": {
        "group": "path",
        "id": "e356",
        "intn": true,
        "networkGroupId": 21,
        "networkId": 916,
        "rIntnId": 358,
        "source": "605846",
        "target": "610236",
        "weight": 0.029834377
       }
      }
     },
     "828c243a494849bf937fd80b394fd88a": {
      "model_module": "jupyter-cytoscape",
      "model_module_version": "^0.2.2",
      "model_name": "EdgeModel",
      "state": {
       "_model_module_version": "^0.2.2",
       "_view_module": "jupyter-cytoscape",
       "_view_module_version": "^0.2.2",
       "data": {
        "group": "coexp",
        "id": "e117",
        "intn": true,
        "networkGroupId": 18,
        "networkId": 948,
        "rIntnId": 119,
        "source": "605846",
        "target": "603700",
        "weight": 0.016939284
       }
      }
     },
     "84dd78d5b8c742baae415e7f54660157": {
      "model_module": "jupyter-cytoscape",
      "model_module_version": "^0.2.2",
      "model_name": "EdgeModel",
      "state": {
       "_model_module_version": "^0.2.2",
       "_view_module": "jupyter-cytoscape",
       "_view_module_version": "^0.2.2",
       "data": {
        "group": "spd",
        "id": "e581",
        "intn": true,
        "networkGroupId": 24,
        "networkId": 1230,
        "rIntnId": 583,
        "source": "608473",
        "target": "605755",
        "weight": 0.49999872
       }
      }
     },
     "86547be5d538474d9f5c4adafd7d1e82": {
      "model_module": "jupyter-cytoscape",
      "model_module_version": "^0.2.2",
      "model_name": "NodeModel",
      "state": {
       "_model_module_version": "^0.2.2",
       "_view_module_version": "^0.2.2",
       "data": {
        "gene": true,
        "id": "610236",
        "idInt": 610236,
        "name": "RFC4",
        "query": false,
        "score": 0.002235382441847178
       }
      }
     },
     "86e8f450cf1248dd8eef052ba047b670": {
      "model_module": "jupyter-cytoscape",
      "model_module_version": "^0.2.2",
      "model_name": "EdgeModel",
      "state": {
       "_model_module_version": "^0.2.2",
       "_view_module": "jupyter-cytoscape",
       "_view_module_version": "^0.2.2",
       "data": {
        "group": "coexp",
        "id": "e239",
        "intn": true,
        "networkGroupId": 18,
        "networkId": 1213,
        "rIntnId": 241,
        "source": "600585",
        "target": "611408",
        "weight": 0.0047838143
       }
      }
     },
     "87329d23e7ce4164a74398426d8bab8e": {
      "model_module": "jupyter-cytoscape",
      "model_module_version": "^0.2.2",
      "model_name": "EdgeModel",
      "state": {
       "_model_module_version": "^0.2.2",
       "_view_module": "jupyter-cytoscape",
       "_view_module_version": "^0.2.2",
       "data": {
        "group": "coexp",
        "id": "e173",
        "intn": true,
        "networkGroupId": 18,
        "networkId": 939,
        "rIntnId": 175,
        "source": "610236",
        "target": "599889",
        "weight": 0.0070424364
       }
      }
     },
     "8759c0a56947458bb73aa53a0211cfa3": {
      "model_module": "jupyter-cytoscape",
      "model_module_version": "^0.2.2",
      "model_name": "EdgeModel",
      "state": {
       "_model_module_version": "^0.2.2",
       "_view_module": "jupyter-cytoscape",
       "_view_module_version": "^0.2.2",
       "data": {
        "group": "coexp",
        "id": "e89",
        "intn": true,
        "networkGroupId": 18,
        "networkId": 1219,
        "rIntnId": 91,
        "source": "605846",
        "target": "605755",
        "weight": 0.0083115185
       }
      }
     },
     "88152a3539074f1e819407da27b4f48e": {
      "model_module": "jupyter-cytoscape",
      "model_module_version": "^0.2.2",
      "model_name": "EdgeModel",
      "state": {
       "_model_module_version": "^0.2.2",
       "_view_module": "jupyter-cytoscape",
       "_view_module_version": "^0.2.2",
       "data": {
        "group": "coexp",
        "id": "e69",
        "intn": true,
        "networkGroupId": 18,
        "networkId": 1103,
        "rIntnId": 71,
        "source": "599863",
        "target": "605755",
        "weight": 0.008839407
       }
      }
     },
     "885f437633654dd4bf70e1ccf721fa1d": {
      "model_module": "jupyter-cytoscape",
      "model_module_version": "^0.2.2",
      "model_name": "EdgeModel",
      "state": {
       "_model_module_version": "^0.2.2",
       "_view_module": "jupyter-cytoscape",
       "_view_module_version": "^0.2.2",
       "data": {
        "group": "pi",
        "id": "e391",
        "intn": true,
        "networkGroupId": 22,
        "networkId": 665,
        "rIntnId": 393,
        "source": "603700",
        "target": "612341",
        "weight": 0.03539126
       }
      }
     },
     "88e1e14fd1644605b3074b5483b60101": {
      "model_module": "jupyter-cytoscape",
      "model_module_version": "^0.2.2",
      "model_name": "EdgeModel",
      "state": {
       "_model_module_version": "^0.2.2",
       "_view_module": "jupyter-cytoscape",
       "_view_module_version": "^0.2.2",
       "data": {
        "group": "coexp",
        "id": "e99",
        "intn": true,
        "networkGroupId": 18,
        "networkId": 991,
        "rIntnId": 101,
        "source": "599863",
        "target": "611408",
        "weight": 0.004236914
       }
      }
     },
     "8933735a6ad54026bd2307e3c51fb76e": {
      "model_module": "jupyter-cytoscape",
      "model_module_version": "^0.2.2",
      "model_name": "EdgeModel",
      "state": {
       "_model_module_version": "^0.2.2",
       "_view_module": "jupyter-cytoscape",
       "_view_module_version": "^0.2.2",
       "data": {
        "group": "coexp",
        "id": "e164",
        "intn": true,
        "networkGroupId": 18,
        "networkId": 1058,
        "rIntnId": 166,
        "source": "610236",
        "target": "611408",
        "weight": 0.01746872
       }
      }
     },
     "89d33eab340a445ab06c2404650491c1": {
      "model_module": "jupyter-cytoscape",
      "model_module_version": "^0.2.2",
      "model_name": "EdgeModel",
      "state": {
       "_model_module_version": "^0.2.2",
       "_view_module": "jupyter-cytoscape",
       "_view_module_version": "^0.2.2",
       "data": {
        "group": "coexp",
        "id": "e148",
        "intn": true,
        "networkGroupId": 18,
        "networkId": 1160,
        "rIntnId": 150,
        "source": "606768",
        "target": "605755",
        "weight": 0.0063784183
       }
      }
     },
     "8a90cd4791a845d9b99a8dff7ab9d9a8": {
      "model_module": "jupyter-cytoscape",
      "model_module_version": "^0.2.2",
      "model_name": "EdgeModel",
      "state": {
       "_model_module_version": "^0.2.2",
       "_view_module": "jupyter-cytoscape",
       "_view_module_version": "^0.2.2",
       "data": {
        "group": "coexp",
        "id": "e48",
        "intn": true,
        "networkGroupId": 18,
        "networkId": 1205,
        "rIntnId": 50,
        "source": "599863",
        "target": "603070",
        "weight": 0.02076845
       }
      }
     },
     "8b3ac67524714e1993775a940bffed62": {
      "model_module": "jupyter-cytoscape",
      "model_module_version": "^0.2.2",
      "model_name": "EdgeModel",
      "state": {
       "_model_module_version": "^0.2.2",
       "_view_module": "jupyter-cytoscape",
       "_view_module_version": "^0.2.2",
       "data": {
        "group": "predict",
        "id": "e505",
        "intn": true,
        "networkGroupId": 23,
        "networkId": 919,
        "rIntnId": 507,
        "source": "612341",
        "target": "605755",
        "weight": 0.034121912
       }
      }
     },
     "8baeea0b3a264633b7cbe09cfd47ea29": {
      "model_module": "jupyter-cytoscape",
      "model_module_version": "^0.2.2",
      "model_name": "EdgeModel",
      "state": {
       "_model_module_version": "^0.2.2",
       "_view_module": "jupyter-cytoscape",
       "_view_module_version": "^0.2.2",
       "data": {
        "group": "coexp",
        "id": "e16",
        "intn": true,
        "networkGroupId": 18,
        "networkId": 1133,
        "rIntnId": 18,
        "source": "612326",
        "target": "611408",
        "weight": 0.0069189603
       }
      }
     },
     "8c00126b847f4b9ab2037470a7fd25f3": {
      "model_module": "jupyter-cytoscape",
      "model_module_version": "^0.2.2",
      "model_name": "EdgeModel",
      "state": {
       "_model_module_version": "^0.2.2",
       "_view_module": "jupyter-cytoscape",
       "_view_module_version": "^0.2.2",
       "data": {
        "group": "coexp",
        "id": "e127",
        "intn": true,
        "networkGroupId": 18,
        "networkId": 1160,
        "rIntnId": 129,
        "source": "611408",
        "target": "605755",
        "weight": 0.006425211
       }
      }
     },
     "8c46779488a4435bb1687f5e4d26615d": {
      "model_module": "jupyter-cytoscape",
      "model_module_version": "^0.2.2",
      "model_name": "EdgeModel",
      "state": {
       "_model_module_version": "^0.2.2",
       "_view_module": "jupyter-cytoscape",
       "_view_module_version": "^0.2.2",
       "data": {
        "group": "pi",
        "id": "e433",
        "intn": true,
        "networkGroupId": 22,
        "networkId": 909,
        "rIntnId": 435,
        "source": "599863",
        "target": "610236",
        "weight": 0.032100502
       }
      }
     },
     "8c820fa5642641bcbce5850ba06d98c2": {
      "model_module": "jupyter-cytoscape",
      "model_module_version": "^0.2.2",
      "model_name": "EdgeModel",
      "state": {
       "_model_module_version": "^0.2.2",
       "_view_module": "jupyter-cytoscape",
       "_view_module_version": "^0.2.2",
       "data": {
        "group": "coexp",
        "id": "e190",
        "intn": true,
        "networkGroupId": 18,
        "networkId": 987,
        "rIntnId": 192,
        "source": "599889",
        "target": "611408",
        "weight": 0.010843052
       }
      }
     },
     "8c99250afead4ab98faa81f5aea8f0d6": {
      "model_module": "jupyter-cytoscape",
      "model_module_version": "^0.2.2",
      "model_name": "NodeModel",
      "state": {
       "_model_module_version": "^0.2.2",
       "_view_module_version": "^0.2.2",
       "data": {
        "gene": true,
        "id": "605755",
        "idInt": 605755,
        "name": "PCNA",
        "query": true,
        "score": 0.006769776522008331
       }
      }
     },
     "8cb03a69861a4f69a7b9d7cd5c4abbc9": {
      "model_module": "jupyter-cytoscape",
      "model_module_version": "^0.2.2",
      "model_name": "EdgeModel",
      "state": {
       "_model_module_version": "^0.2.2",
       "_view_module": "jupyter-cytoscape",
       "_view_module_version": "^0.2.2",
       "data": {
        "group": "pi",
        "id": "e384",
        "intn": true,
        "networkGroupId": 22,
        "networkId": 665,
        "rIntnId": 386,
        "source": "610236",
        "target": "605755",
        "weight": 0.0113324495
       }
      }
     },
     "8e30d981d29c4a7594265adf4150d0bc": {
      "model_module": "@jupyter-widgets/controls",
      "model_module_version": "1.4.0",
      "model_name": "IntSliderModel",
      "state": {
       "layout": "IPY_MODEL_b1f40c91a99e4eb5bd0e80205a085d41",
       "style": "IPY_MODEL_22f2e647e8c147df829691fa3cd4496c",
       "value": 57
      }
     },
     "8e528f7e42534357a6bab686ce6a2f6a": {
      "model_module": "jupyter-cytoscape",
      "model_module_version": "^0.2.2",
      "model_name": "EdgeModel",
      "state": {
       "_model_module_version": "^0.2.2",
       "_view_module": "jupyter-cytoscape",
       "_view_module_version": "^0.2.2",
       "data": {
        "group": "pi",
        "id": "e408",
        "intn": true,
        "networkGroupId": 22,
        "networkId": 901,
        "rIntnId": 410,
        "source": "605365",
        "target": "605755",
        "weight": 0.015279513
       }
      }
     },
     "8e61b772034b4749805aa96a5853f0b3": {
      "model_module": "jupyter-cytoscape",
      "model_module_version": "^0.2.2",
      "model_name": "EdgeModel",
      "state": {
       "_model_module_version": "^0.2.2",
       "_view_module": "jupyter-cytoscape",
       "_view_module_version": "^0.2.2",
       "data": {
        "group": "coloc",
        "id": "e271",
        "intn": true,
        "networkGroupId": 19,
        "networkId": 1215,
        "rIntnId": 273,
        "source": "609734",
        "target": "605755",
        "weight": 0.0020831665
       }
      }
     },
     "8e893f5a0c114f7bb88a363bd51ea8c9": {
      "model_module": "jupyter-cytoscape",
      "model_module_version": "^0.2.2",
      "model_name": "EdgeModel",
      "state": {
       "_model_module_version": "^0.2.2",
       "_view_module": "jupyter-cytoscape",
       "_view_module_version": "^0.2.2",
       "data": {
        "group": "pi",
        "id": "e383",
        "intn": true,
        "networkGroupId": 22,
        "networkId": 665,
        "rIntnId": 385,
        "source": "603070",
        "target": "605755",
        "weight": 0.019299628
       }
      }
     },
     "8ecce21d61c241a1a347aa8e71a55b86": {
      "model_module": "jupyter-cytoscape",
      "model_module_version": "^0.2.2",
      "model_name": "EdgeModel",
      "state": {
       "_model_module_version": "^0.2.2",
       "_view_module": "jupyter-cytoscape",
       "_view_module_version": "^0.2.2",
       "data": {
        "group": "predict",
        "id": "e510",
        "intn": true,
        "networkGroupId": 23,
        "networkId": 919,
        "rIntnId": 512,
        "source": "603700",
        "target": "605755",
        "weight": 0.022712024
       }
      }
     },
     "8eebcdf09c814add8533940c6ce0e1ed": {
      "model_module": "jupyter-cytoscape",
      "model_module_version": "^0.2.2",
      "model_name": "EdgeModel",
      "state": {
       "_model_module_version": "^0.2.2",
       "_view_module": "jupyter-cytoscape",
       "_view_module_version": "^0.2.2",
       "data": {
        "group": "coexp",
        "id": "e166",
        "intn": true,
        "networkGroupId": 18,
        "networkId": 1058,
        "rIntnId": 168,
        "source": "603700",
        "target": "610236",
        "weight": 0.015010853
       }
      }
     },
     "8f3d055972c64e3e94cfbc81a367bc41": {
      "model_module": "jupyter-cytoscape",
      "model_module_version": "^0.2.2",
      "model_name": "EdgeModel",
      "state": {
       "_model_module_version": "^0.2.2",
       "_view_module": "jupyter-cytoscape",
       "_view_module_version": "^0.2.2",
       "data": {
        "group": "pi",
        "id": "e436",
        "intn": true,
        "networkGroupId": 22,
        "networkId": 909,
        "rIntnId": 438,
        "source": "605846",
        "target": "603070",
        "weight": 0.029142892
       }
      }
     },
     "8f87824aca954027931a359c21315a48": {
      "model_module": "jupyter-cytoscape",
      "model_module_version": "^0.2.2",
      "model_name": "EdgeModel",
      "state": {
       "_model_module_version": "^0.2.2",
       "_view_module": "jupyter-cytoscape",
       "_view_module_version": "^0.2.2",
       "data": {
        "group": "spd",
        "id": "e573",
        "intn": true,
        "networkGroupId": 24,
        "networkId": 1229,
        "rIntnId": 575,
        "source": "605846",
        "target": "610236",
        "weight": 0.03308156
       }
      }
     },
     "8f9032e8337b4b2495ade3cfd786e92b": {
      "model_module": "jupyter-cytoscape",
      "model_module_version": "^0.2.2",
      "model_name": "EdgeModel",
      "state": {
       "_model_module_version": "^0.2.2",
       "_view_module": "jupyter-cytoscape",
       "_view_module_version": "^0.2.2",
       "data": {
        "group": "pi",
        "id": "e430",
        "intn": true,
        "networkGroupId": 22,
        "networkId": 909,
        "rIntnId": 432,
        "source": "605365",
        "target": "605755",
        "weight": 0.016807556
       }
      }
     },
     "8ff0fe312e184f909c8143c41960c652": {
      "model_module": "jupyter-cytoscape",
      "model_module_version": "^0.2.2",
      "model_name": "EdgeModel",
      "state": {
       "_model_module_version": "^0.2.2",
       "_view_module": "jupyter-cytoscape",
       "_view_module_version": "^0.2.2",
       "data": {
        "group": "path",
        "id": "e288",
        "intn": true,
        "networkGroupId": 21,
        "networkId": 920,
        "rIntnId": 290,
        "source": "610236",
        "target": "608473",
        "weight": 0.087010026
       }
      }
     },
     "900b47fff6fc46f28283df8f80681d22": {
      "model_module": "jupyter-cytoscape",
      "model_module_version": "^0.2.2",
      "model_name": "EdgeModel",
      "state": {
       "_model_module_version": "^0.2.2",
       "_view_module": "jupyter-cytoscape",
       "_view_module_version": "^0.2.2",
       "data": {
        "group": "coexp",
        "id": "e41",
        "intn": true,
        "networkGroupId": 18,
        "networkId": 1205,
        "rIntnId": 43,
        "source": "603070",
        "target": "599889",
        "weight": 0.023106916
       }
      }
     },
     "90f3a6df20dd43d5b9537f321fb18d9a": {
      "model_module": "jupyter-cytoscape",
      "model_module_version": "^0.2.2",
      "model_name": "EdgeModel",
      "state": {
       "_model_module_version": "^0.2.2",
       "_view_module": "jupyter-cytoscape",
       "_view_module_version": "^0.2.2",
       "data": {
        "group": "path",
        "id": "e317",
        "intn": true,
        "networkGroupId": 21,
        "networkId": 920,
        "rIntnId": 319,
        "source": "600046",
        "target": "599863",
        "weight": 0.0462355
       }
      }
     },
     "911c1d88b47241cfb7dd87bfb4890f98": {
      "model_module": "jupyter-cytoscape",
      "model_module_version": "^0.2.2",
      "model_name": "EdgeModel",
      "state": {
       "_model_module_version": "^0.2.2",
       "_view_module": "jupyter-cytoscape",
       "_view_module_version": "^0.2.2",
       "data": {
        "group": "coexp",
        "id": "e219",
        "intn": true,
        "networkGroupId": 18,
        "networkId": 1221,
        "rIntnId": 221,
        "source": "605846",
        "target": "610236",
        "weight": 0.005550344
       }
      }
     },
     "91c552ef4b7646c1a78a3d7d74e106aa": {
      "model_module": "jupyter-cytoscape",
      "model_module_version": "^0.2.2",
      "model_name": "EdgeModel",
      "state": {
       "_model_module_version": "^0.2.2",
       "_view_module": "jupyter-cytoscape",
       "_view_module_version": "^0.2.2",
       "data": {
        "group": "predict",
        "id": "e550",
        "intn": true,
        "networkGroupId": 23,
        "networkId": 741,
        "rIntnId": 552,
        "source": "599724",
        "target": "605755",
        "weight": 0.15683943
       }
      }
     },
     "91e94d2e584a456fb722edeb43ea8a17": {
      "model_module": "jupyter-cytoscape",
      "model_module_version": "^0.2.2",
      "model_name": "EdgeModel",
      "state": {
       "_model_module_version": "^0.2.2",
       "_view_module": "jupyter-cytoscape",
       "_view_module_version": "^0.2.2",
       "data": {
        "group": "coexp",
        "id": "e47",
        "intn": true,
        "networkGroupId": 18,
        "networkId": 1205,
        "rIntnId": 49,
        "source": "599863",
        "target": "605755",
        "weight": 0.013767981
       }
      }
     },
     "924dc834499d47abb121c0e6121d9a49": {
      "model_module": "jupyter-cytoscape",
      "model_module_version": "^0.2.2",
      "model_name": "EdgeModel",
      "state": {
       "_model_module_version": "^0.2.2",
       "_view_module": "jupyter-cytoscape",
       "_view_module_version": "^0.2.2",
       "data": {
        "group": "spd",
        "id": "e583",
        "intn": true,
        "networkGroupId": 24,
        "networkId": 1230,
        "rIntnId": 585,
        "source": "610236",
        "target": "603070",
        "weight": 0.07193713
       }
      }
     },
     "9255e98cf69541688ec5bde57f21d159": {
      "model_module": "jupyter-cytoscape",
      "model_module_version": "^0.2.2",
      "model_name": "EdgeModel",
      "state": {
       "_model_module_version": "^0.2.2",
       "_view_module": "jupyter-cytoscape",
       "_view_module_version": "^0.2.2",
       "data": {
        "group": "path",
        "id": "e325",
        "intn": true,
        "networkGroupId": 21,
        "networkId": 917,
        "rIntnId": 327,
        "source": "600585",
        "target": "611408",
        "weight": 0.10495135
       }
      }
     },
     "925a2f0d822643c6ab62734753634ea7": {
      "model_module": "jupyter-cytoscape",
      "model_module_version": "^0.2.2",
      "model_name": "EdgeModel",
      "state": {
       "_model_module_version": "^0.2.2",
       "_view_module": "jupyter-cytoscape",
       "_view_module_version": "^0.2.2",
       "data": {
        "group": "coexp",
        "id": "e138",
        "intn": true,
        "networkGroupId": 18,
        "networkId": 1160,
        "rIntnId": 140,
        "source": "599863",
        "target": "603070",
        "weight": 0.0054722885
       }
      }
     },
     "9278dbfa8ccd4744be0e7c8ef118aa50": {
      "model_module": "jupyter-cytoscape",
      "model_module_version": "^0.2.2",
      "model_name": "EdgeModel",
      "state": {
       "_model_module_version": "^0.2.2",
       "_view_module": "jupyter-cytoscape",
       "_view_module_version": "^0.2.2",
       "data": {
        "group": "coexp",
        "id": "e6",
        "intn": true,
        "networkGroupId": 18,
        "networkId": 1133,
        "rIntnId": 8,
        "source": "610236",
        "target": "603070",
        "weight": 0.0073378147
       }
      }
     },
     "92d5f7ac441f48ecb422435cb3c05d7c": {
      "model_module": "jupyter-cytoscape",
      "model_module_version": "^0.2.2",
      "model_name": "EdgeModel",
      "state": {
       "_model_module_version": "^0.2.2",
       "_view_module": "jupyter-cytoscape",
       "_view_module_version": "^0.2.2",
       "data": {
        "group": "path",
        "id": "e291",
        "intn": true,
        "networkGroupId": 21,
        "networkId": 920,
        "rIntnId": 293,
        "source": "605365",
        "target": "605755",
        "weight": 0.06039332
       }
      }
     },
     "92ea9e8a14174254b1269718b213ccb0": {
      "model_module": "jupyter-cytoscape",
      "model_module_version": "^0.2.2",
      "model_name": "EdgeModel",
      "state": {
       "_model_module_version": "^0.2.2",
       "_view_module": "jupyter-cytoscape",
       "_view_module_version": "^0.2.2",
       "data": {
        "group": "pi",
        "id": "e403",
        "intn": true,
        "networkGroupId": 22,
        "networkId": 901,
        "rIntnId": 405,
        "source": "611408",
        "target": "605755",
        "weight": 0.15316014
       }
      }
     },
     "93061d7c8fe0445f9bafa64bb044dabb": {
      "model_module": "jupyter-cytoscape",
      "model_module_version": "^0.2.2",
      "model_name": "EdgeModel",
      "state": {
       "_model_module_version": "^0.2.2",
       "_view_module": "jupyter-cytoscape",
       "_view_module_version": "^0.2.2",
       "data": {
        "group": "coexp",
        "id": "e140",
        "intn": true,
        "networkGroupId": 18,
        "networkId": 1160,
        "rIntnId": 142,
        "source": "605846",
        "target": "611408",
        "weight": 0.006252843
       }
      }
     },
     "9351c1a9930e4ca9a22496b8f60f19e1": {
      "model_module": "jupyter-cytoscape",
      "model_module_version": "^0.2.2",
      "model_name": "EdgeModel",
      "state": {
       "_model_module_version": "^0.2.2",
       "_view_module": "jupyter-cytoscape",
       "_view_module_version": "^0.2.2",
       "data": {
        "group": "pi",
        "id": "e432",
        "intn": true,
        "networkGroupId": 22,
        "networkId": 909,
        "rIntnId": 434,
        "source": "599863",
        "target": "603070",
        "weight": 0.025674459
       }
      }
     },
     "935ba2a2b3e0405e9d16ec92b31835bc": {
      "model_module": "jupyter-cytoscape",
      "model_module_version": "^0.2.2",
      "model_name": "EdgeModel",
      "state": {
       "_model_module_version": "^0.2.2",
       "_view_module": "jupyter-cytoscape",
       "_view_module_version": "^0.2.2",
       "data": {
        "group": "coexp",
        "id": "e55",
        "intn": true,
        "networkGroupId": 18,
        "networkId": 1205,
        "rIntnId": 57,
        "source": "600535",
        "target": "605755",
        "weight": 0.007519171
       }
      }
     },
     "93cbe6ae05644236910a69f1b028762a": {
      "model_module": "jupyter-cytoscape",
      "model_module_version": "^0.2.2",
      "model_name": "EdgeModel",
      "state": {
       "_model_module_version": "^0.2.2",
       "_view_module": "jupyter-cytoscape",
       "_view_module_version": "^0.2.2",
       "data": {
        "group": "predict",
        "id": "e561",
        "intn": true,
        "networkGroupId": 23,
        "networkId": 785,
        "rIntnId": 563,
        "source": "599863",
        "target": "605755",
        "weight": 0.25319093
       }
      }
     },
     "94140a49e0684f7db521494a5158753e": {
      "model_module": "jupyter-cytoscape",
      "model_module_version": "^0.2.2",
      "model_name": "EdgeModel",
      "state": {
       "_model_module_version": "^0.2.2",
       "_view_module": "jupyter-cytoscape",
       "_view_module_version": "^0.2.2",
       "data": {
        "group": "coexp",
        "id": "e172",
        "intn": true,
        "networkGroupId": 18,
        "networkId": 939,
        "rIntnId": 174,
        "source": "610236",
        "target": "611408",
        "weight": 0.003859972
       }
      }
     },
     "949aab36fb1a485ea7b973cb981699bd": {
      "model_module": "jupyter-cytoscape",
      "model_module_version": "^0.2.2",
      "model_name": "EdgeModel",
      "state": {
       "_model_module_version": "^0.2.2",
       "_view_module": "jupyter-cytoscape",
       "_view_module_version": "^0.2.2",
       "data": {
        "group": "coloc",
        "id": "e253",
        "intn": true,
        "networkGroupId": 19,
        "networkId": 1215,
        "rIntnId": 255,
        "source": "599889",
        "target": "605755",
        "weight": 0.01022965
       }
      }
     },
     "94f7ea6e3f854debb04290076e86d31c": {
      "model_module": "jupyter-cytoscape",
      "model_module_version": "^0.2.2",
      "model_name": "EdgeModel",
      "state": {
       "_model_module_version": "^0.2.2",
       "_view_module": "jupyter-cytoscape",
       "_view_module_version": "^0.2.2",
       "data": {
        "group": "predict",
        "id": "e533",
        "intn": true,
        "networkGroupId": 23,
        "networkId": 918,
        "rIntnId": 535,
        "source": "600535",
        "target": "605755",
        "weight": 0.02453422
       }
      }
     },
     "961a16d9648243d9ba4902b30f912641": {
      "model_module": "jupyter-cytoscape",
      "model_module_version": "^0.2.2",
      "model_name": "EdgeModel",
      "state": {
       "_model_module_version": "^0.2.2",
       "_view_module": "jupyter-cytoscape",
       "_view_module_version": "^0.2.2",
       "data": {
        "group": "pi",
        "id": "e375",
        "intn": true,
        "networkGroupId": 22,
        "networkId": 721,
        "rIntnId": 377,
        "source": "599724",
        "target": "605846",
        "weight": 0.13619658
       }
      }
     },
     "9698175ce117430a825cb5ee38dce509": {
      "model_module": "jupyter-cytoscape",
      "model_module_version": "^0.2.2",
      "model_name": "EdgeModel",
      "state": {
       "_model_module_version": "^0.2.2",
       "_view_module": "jupyter-cytoscape",
       "_view_module_version": "^0.2.2",
       "data": {
        "group": "coexp",
        "id": "e247",
        "intn": true,
        "networkGroupId": 18,
        "networkId": 1213,
        "rIntnId": 249,
        "source": "599724",
        "target": "610236",
        "weight": 0.0040052356
       }
      }
     },
     "96d61fc225b44c34b4a1ae2b012bfdab": {
      "model_module": "jupyter-cytoscape",
      "model_module_version": "^0.2.2",
      "model_name": "EdgeModel",
      "state": {
       "_model_module_version": "^0.2.2",
       "_view_module": "jupyter-cytoscape",
       "_view_module_version": "^0.2.2",
       "data": {
        "group": "pi",
        "id": "e405",
        "intn": true,
        "networkGroupId": 22,
        "networkId": 901,
        "rIntnId": 407,
        "source": "600585",
        "target": "605755",
        "weight": 0.22489744
       }
      }
     },
     "97a80e08c5b8474499460d3e2c54ab4c": {
      "model_module": "jupyter-cytoscape",
      "model_module_version": "^0.2.2",
      "model_name": "EdgeModel",
      "state": {
       "_model_module_version": "^0.2.2",
       "_view_module": "jupyter-cytoscape",
       "_view_module_version": "^0.2.2",
       "data": {
        "group": "pi",
        "id": "e362",
        "intn": true,
        "networkGroupId": 22,
        "networkId": 903,
        "rIntnId": 364,
        "source": "605365",
        "target": "605755",
        "weight": 0.11347918
       }
      }
     },
     "9857a446cc044e64a0df826f312ccf46": {
      "model_module": "jupyter-cytoscape",
      "model_module_version": "^0.2.2",
      "model_name": "EdgeModel",
      "state": {
       "_model_module_version": "^0.2.2",
       "_view_module": "jupyter-cytoscape",
       "_view_module_version": "^0.2.2",
       "data": {
        "group": "path",
        "id": "e282",
        "intn": true,
        "networkGroupId": 21,
        "networkId": 920,
        "rIntnId": 284,
        "source": "603070",
        "target": "605755",
        "weight": 0.034838397
       }
      }
     },
     "99246a01993b4bdea2501a5d4757cb89": {
      "model_module": "jupyter-cytoscape",
      "model_module_version": "^0.2.2",
      "model_name": "EdgeModel",
      "state": {
       "_model_module_version": "^0.2.2",
       "_view_module": "jupyter-cytoscape",
       "_view_module_version": "^0.2.2",
       "data": {
        "group": "coexp",
        "id": "e104",
        "intn": true,
        "networkGroupId": 18,
        "networkId": 991,
        "rIntnId": 106,
        "source": "600046",
        "target": "605846",
        "weight": 0.0078691505
       }
      }
     },
     "994a110989c642d883b14f34f0e4f860": {
      "model_module": "jupyter-cytoscape",
      "model_module_version": "^0.2.2",
      "model_name": "EdgeModel",
      "state": {
       "_model_module_version": "^0.2.2",
       "_view_module": "jupyter-cytoscape",
       "_view_module_version": "^0.2.2",
       "data": {
        "group": "spd",
        "id": "e579",
        "intn": true,
        "networkGroupId": 24,
        "networkId": 1229,
        "rIntnId": 581,
        "source": "606768",
        "target": "603700",
        "weight": 0.0036671148
       }
      }
     },
     "99ea81df94fc4e0881fd1960fde96542": {
      "model_module": "jupyter-cytoscape",
      "model_module_version": "^0.2.2",
      "model_name": "NodeModel",
      "state": {
       "_model_module_version": "^0.2.2",
       "_view_module_version": "^0.2.2",
       "data": {
        "gene": true,
        "id": "611408",
        "idInt": 611408,
        "name": "FEN1",
        "query": false,
        "score": 0.006769776522008331
       }
      }
     },
     "9a15d64b4298495281a796da8f0e4964": {
      "model_module": "jupyter-cytoscape",
      "model_module_version": "^0.2.2",
      "model_name": "EdgeModel",
      "state": {
       "_model_module_version": "^0.2.2",
       "_view_module": "jupyter-cytoscape",
       "_view_module_version": "^0.2.2",
       "data": {
        "group": "path",
        "id": "e285",
        "intn": true,
        "networkGroupId": 21,
        "networkId": 920,
        "rIntnId": 287,
        "source": "603070",
        "target": "600585",
        "weight": 0.048561342
       }
      }
     },
     "9a247607669b443984f22efc7ec5fab4": {
      "model_module": "jupyter-cytoscape",
      "model_module_version": "^0.2.2",
      "model_name": "EdgeModel",
      "state": {
       "_model_module_version": "^0.2.2",
       "_view_module": "jupyter-cytoscape",
       "_view_module_version": "^0.2.2",
       "data": {
        "group": "path",
        "id": "e333",
        "intn": true,
        "networkGroupId": 21,
        "networkId": 917,
        "rIntnId": 335,
        "source": "605846",
        "target": "605755",
        "weight": 0.06335889
       }
      }
     },
     "9a4f0aa3980c44e2aac8c8e3c4655f06": {
      "model_module": "jupyter-cytoscape",
      "model_module_version": "^0.2.2",
      "model_name": "EdgeModel",
      "state": {
       "_model_module_version": "^0.2.2",
       "_view_module": "jupyter-cytoscape",
       "_view_module_version": "^0.2.2",
       "data": {
        "group": "pi",
        "id": "e418",
        "intn": true,
        "networkGroupId": 22,
        "networkId": 906,
        "rIntnId": 420,
        "source": "605846",
        "target": "610236",
        "weight": 0.32172158
       }
      }
     },
     "9c333fcb27624775934520605110449d": {
      "model_module": "jupyter-cytoscape",
      "model_module_version": "^0.2.2",
      "model_name": "EdgeModel",
      "state": {
       "_model_module_version": "^0.2.2",
       "_view_module": "jupyter-cytoscape",
       "_view_module_version": "^0.2.2",
       "data": {
        "group": "pi",
        "id": "e409",
        "intn": true,
        "networkGroupId": 22,
        "networkId": 901,
        "rIntnId": 411,
        "source": "599863",
        "target": "605755",
        "weight": 0.17140284
       }
      }
     },
     "9d73ee1a7fdc4bd091a54d5b160d0811": {
      "model_module": "jupyter-cytoscape",
      "model_module_version": "^0.2.2",
      "model_name": "EdgeModel",
      "state": {
       "_model_module_version": "^0.2.2",
       "_view_module": "jupyter-cytoscape",
       "_view_module_version": "^0.2.2",
       "data": {
        "group": "path",
        "id": "e339",
        "intn": true,
        "networkGroupId": 21,
        "networkId": 917,
        "rIntnId": 341,
        "source": "599724",
        "target": "599863",
        "weight": 0.1032913
       }
      }
     },
     "9e5189ce3b2246e1b8a09c03f2eb5579": {
      "model_module": "jupyter-cytoscape",
      "model_module_version": "^0.2.2",
      "model_name": "EdgeModel",
      "state": {
       "_model_module_version": "^0.2.2",
       "_view_module": "jupyter-cytoscape",
       "_view_module_version": "^0.2.2",
       "data": {
        "group": "path",
        "id": "e292",
        "intn": true,
        "networkGroupId": 21,
        "networkId": 920,
        "rIntnId": 294,
        "source": "599863",
        "target": "605755",
        "weight": 0.034838397
       }
      }
     },
     "9ed3dbe4d7224a048e1946986bcbec51": {
      "model_module": "jupyter-cytoscape",
      "model_module_version": "^0.2.2",
      "model_name": "EdgeModel",
      "state": {
       "_model_module_version": "^0.2.2",
       "_view_module": "jupyter-cytoscape",
       "_view_module_version": "^0.2.2",
       "data": {
        "group": "path",
        "id": "e347",
        "intn": true,
        "networkGroupId": 21,
        "networkId": 916,
        "rIntnId": 349,
        "source": "599889",
        "target": "605755",
        "weight": 0.3670512
       }
      }
     },
     "9ed716297c09454ca39b18935f48ec30": {
      "model_module": "jupyter-cytoscape",
      "model_module_version": "^0.2.2",
      "model_name": "EdgeModel",
      "state": {
       "_model_module_version": "^0.2.2",
       "_view_module": "jupyter-cytoscape",
       "_view_module_version": "^0.2.2",
       "data": {
        "group": "coexp",
        "id": "e131",
        "intn": true,
        "networkGroupId": 18,
        "networkId": 1160,
        "rIntnId": 133,
        "source": "603070",
        "target": "611408",
        "weight": 0.0068840934
       }
      }
     },
     "9ef2330703094c4a88cf892aaa4e8800": {
      "model_module": "jupyter-cytoscape",
      "model_module_version": "^0.2.2",
      "model_name": "EdgeModel",
      "state": {
       "_model_module_version": "^0.2.2",
       "_view_module": "jupyter-cytoscape",
       "_view_module_version": "^0.2.2",
       "data": {
        "group": "spd",
        "id": "e585",
        "intn": true,
        "networkGroupId": 24,
        "networkId": 1230,
        "rIntnId": 587,
        "source": "599863",
        "target": "610236",
        "weight": 0.056363728
       }
      }
     },
     "9f3074ac1a7c45368caf887436c49ec1": {
      "model_module": "jupyter-cytoscape",
      "model_module_version": "^0.2.2",
      "model_name": "EdgeModel",
      "state": {
       "_model_module_version": "^0.2.2",
       "_view_module": "jupyter-cytoscape",
       "_view_module_version": "^0.2.2",
       "data": {
        "group": "path",
        "id": "e346",
        "intn": true,
        "networkGroupId": 21,
        "networkId": 917,
        "rIntnId": 348,
        "source": "606768",
        "target": "600046",
        "weight": 0.103383265
       }
      }
     },
     "9f34c593e9ae4191bae48636bf558fa2": {
      "model_module": "jupyter-cytoscape",
      "model_module_version": "^0.2.2",
      "model_name": "EdgeModel",
      "state": {
       "_model_module_version": "^0.2.2",
       "_view_module": "jupyter-cytoscape",
       "_view_module_version": "^0.2.2",
       "data": {
        "group": "coexp",
        "id": "e169",
        "intn": true,
        "networkGroupId": 18,
        "networkId": 939,
        "rIntnId": 171,
        "source": "602299",
        "target": "599889",
        "weight": 0.010287272
       }
      }
     },
     "a0399555357c46a8a7c20e396d3f8c7e": {
      "model_module": "jupyter-cytoscape",
      "model_module_version": "^0.2.2",
      "model_name": "EdgeModel",
      "state": {
       "_model_module_version": "^0.2.2",
       "_view_module": "jupyter-cytoscape",
       "_view_module_version": "^0.2.2",
       "data": {
        "group": "coexp",
        "id": "e101",
        "intn": true,
        "networkGroupId": 18,
        "networkId": 991,
        "rIntnId": 103,
        "source": "605846",
        "target": "611408",
        "weight": 0.0073252246
       }
      }
     },
     "a05b4f9c9ec8451e9bdf817c64723da2": {
      "model_module": "jupyter-cytoscape",
      "model_module_version": "^0.2.2",
      "model_name": "EdgeModel",
      "state": {
       "_model_module_version": "^0.2.2",
       "_view_module": "jupyter-cytoscape",
       "_view_module_version": "^0.2.2",
       "data": {
        "group": "coexp",
        "id": "e186",
        "intn": true,
        "networkGroupId": 18,
        "networkId": 939,
        "rIntnId": 188,
        "source": "602279",
        "target": "599863",
        "weight": 0.0048371204
       }
      }
     },
     "a0c44cc8fa1b44ecb967828abdce6a5d": {
      "model_module": "jupyter-cytoscape",
      "model_module_version": "^0.2.2",
      "model_name": "EdgeModel",
      "state": {
       "_model_module_version": "^0.2.2",
       "_view_module": "jupyter-cytoscape",
       "_view_module_version": "^0.2.2",
       "data": {
        "group": "spd",
        "id": "e586",
        "intn": true,
        "networkGroupId": 24,
        "networkId": 1230,
        "rIntnId": 588,
        "source": "605846",
        "target": "603070",
        "weight": 0.015254494
       }
      }
     },
     "a0dcaf3e3312439abbfe820a6b933929": {
      "model_module": "jupyter-cytoscape",
      "model_module_version": "^0.2.2",
      "model_name": "EdgeModel",
      "state": {
       "_model_module_version": "^0.2.2",
       "_view_module": "jupyter-cytoscape",
       "_view_module_version": "^0.2.2",
       "data": {
        "group": "pi",
        "id": "e463",
        "intn": true,
        "networkGroupId": 22,
        "networkId": 799,
        "rIntnId": 465,
        "source": "599724",
        "target": "605755",
        "weight": 0.033235077
       }
      }
     },
     "a115601cb6ff47d3a4fb0632afa1eede": {
      "model_module": "jupyter-cytoscape",
      "model_module_version": "^0.2.2",
      "model_name": "EdgeModel",
      "state": {
       "_model_module_version": "^0.2.2",
       "_view_module": "jupyter-cytoscape",
       "_view_module_version": "^0.2.2",
       "data": {
        "group": "coexp",
        "id": "e136",
        "intn": true,
        "networkGroupId": 18,
        "networkId": 1160,
        "rIntnId": 138,
        "source": "599863",
        "target": "605755",
        "weight": 0.005101607
       }
      }
     },
     "a13413f07ec94ecf8191320ceffa0373": {
      "model_module": "jupyter-cytoscape",
      "model_module_version": "^0.2.2",
      "model_name": "EdgeModel",
      "state": {
       "_model_module_version": "^0.2.2",
       "_view_module": "jupyter-cytoscape",
       "_view_module_version": "^0.2.2",
       "data": {
        "group": "predict",
        "id": "e480",
        "intn": true,
        "networkGroupId": 23,
        "networkId": 784,
        "rIntnId": 482,
        "source": "599889",
        "target": "611408",
        "weight": 0.091978155
       }
      }
     },
     "a14c94aca20240b4a0e0554fc32e41cb": {
      "model_module": "jupyter-cytoscape",
      "model_module_version": "^0.2.2",
      "model_name": "EdgeModel",
      "state": {
       "_model_module_version": "^0.2.2",
       "_view_module": "jupyter-cytoscape",
       "_view_module_version": "^0.2.2",
       "data": {
        "group": "predict",
        "id": "e472",
        "intn": true,
        "networkGroupId": 23,
        "networkId": 782,
        "rIntnId": 474,
        "source": "610236",
        "target": "603070",
        "weight": 0.2783674
       }
      }
     },
     "a1c4c8f8425b49149d3f18d0cb2bae3a": {
      "model_module": "jupyter-cytoscape",
      "model_module_version": "^0.2.2",
      "model_name": "EdgeModel",
      "state": {
       "_model_module_version": "^0.2.2",
       "_view_module": "jupyter-cytoscape",
       "_view_module_version": "^0.2.2",
       "data": {
        "group": "predict",
        "id": "e565",
        "intn": true,
        "networkGroupId": 23,
        "networkId": 785,
        "rIntnId": 567,
        "source": "599724",
        "target": "605755",
        "weight": 0.46783587
       }
      }
     },
     "a20175ac48234487a8b9a979e0600cf2": {
      "model_module": "jupyter-cytoscape",
      "model_module_version": "^0.2.2",
      "model_name": "EdgeModel",
      "state": {
       "_model_module_version": "^0.2.2",
       "_view_module": "jupyter-cytoscape",
       "_view_module_version": "^0.2.2",
       "data": {
        "group": "coexp",
        "id": "e87",
        "intn": true,
        "networkGroupId": 18,
        "networkId": 1219,
        "rIntnId": 89,
        "source": "610236",
        "target": "602299",
        "weight": 0.0057260455
       }
      }
     },
     "a288c8ab93ff4452b438710cb3b95450": {
      "model_module": "jupyter-cytoscape",
      "model_module_version": "^0.2.2",
      "model_name": "EdgeModel",
      "state": {
       "_model_module_version": "^0.2.2",
       "_view_module": "jupyter-cytoscape",
       "_view_module_version": "^0.2.2",
       "data": {
        "group": "pi",
        "id": "e458",
        "intn": true,
        "networkGroupId": 22,
        "networkId": 799,
        "rIntnId": 460,
        "source": "605846",
        "target": "605755",
        "weight": 0.013852634
       }
      }
     },
     "a3279cc8a9d2435abc847448f8b17e78": {
      "model_module": "jupyter-cytoscape",
      "model_module_version": "^0.2.2",
      "model_name": "EdgeModel",
      "state": {
       "_model_module_version": "^0.2.2",
       "_view_module": "jupyter-cytoscape",
       "_view_module_version": "^0.2.2",
       "data": {
        "group": "predict",
        "id": "e487",
        "intn": true,
        "networkGroupId": 23,
        "networkId": 746,
        "rIntnId": 489,
        "source": "603070",
        "target": "605755",
        "weight": 0.039900523
       }
      }
     },
     "a3303835f32143cb82ac12a035898d1e": {
      "model_module": "jupyter-cytoscape",
      "model_module_version": "^0.2.2",
      "model_name": "EdgeModel",
      "state": {
       "_model_module_version": "^0.2.2",
       "_view_module": "jupyter-cytoscape",
       "_view_module_version": "^0.2.2",
       "data": {
        "group": "pi",
        "id": "e440",
        "intn": true,
        "networkGroupId": 22,
        "networkId": 909,
        "rIntnId": 442,
        "source": "599724",
        "target": "605755",
        "weight": 0.020142157
       }
      }
     },
     "a39eac82e5db48449106af9131c7460e": {
      "model_module": "jupyter-cytoscape",
      "model_module_version": "^0.2.2",
      "model_name": "EdgeModel",
      "state": {
       "_model_module_version": "^0.2.2",
       "_view_module": "jupyter-cytoscape",
       "_view_module_version": "^0.2.2",
       "data": {
        "group": "coloc",
        "id": "e266",
        "intn": true,
        "networkGroupId": 19,
        "networkId": 1215,
        "rIntnId": 268,
        "source": "599724",
        "target": "605755",
        "weight": 0.0066200355
       }
      }
     },
     "a3a07046cff642fcb5be4248617dc713": {
      "model_module": "jupyter-cytoscape",
      "model_module_version": "^0.2.2",
      "model_name": "EdgeModel",
      "state": {
       "_model_module_version": "^0.2.2",
       "_view_module": "jupyter-cytoscape",
       "_view_module_version": "^0.2.2",
       "data": {
        "group": "pi",
        "id": "e406",
        "intn": true,
        "networkGroupId": 22,
        "networkId": 901,
        "rIntnId": 408,
        "source": "602299",
        "target": "605755",
        "weight": 0.22489744
       }
      }
     },
     "a3c5c61da1ae435e8629ae3baac82f2f": {
      "model_module": "jupyter-cytoscape",
      "model_module_version": "^0.2.2",
      "model_name": "EdgeModel",
      "state": {
       "_model_module_version": "^0.2.2",
       "_view_module": "jupyter-cytoscape",
       "_view_module_version": "^0.2.2",
       "data": {
        "group": "path",
        "id": "e348",
        "intn": true,
        "networkGroupId": 21,
        "networkId": 916,
        "rIntnId": 350,
        "source": "603070",
        "target": "612341",
        "weight": 0.024917956
       }
      }
     },
     "a3eff23a6a1b4e9d8f2965677d4497c6": {
      "model_module": "jupyter-cytoscape",
      "model_module_version": "^0.2.2",
      "model_name": "EdgeModel",
      "state": {
       "_model_module_version": "^0.2.2",
       "_view_module": "jupyter-cytoscape",
       "_view_module_version": "^0.2.2",
       "data": {
        "group": "coexp",
        "id": "e62",
        "intn": true,
        "networkGroupId": 18,
        "networkId": 1103,
        "rIntnId": 64,
        "source": "611408",
        "target": "605755",
        "weight": 0.006985158
       }
      }
     },
     "a4afe85ba3bb4d31ac7b3e90afdcce4d": {
      "model_module": "jupyter-cytoscape",
      "model_module_version": "^0.2.2",
      "model_name": "EdgeModel",
      "state": {
       "_model_module_version": "^0.2.2",
       "_view_module": "jupyter-cytoscape",
       "_view_module_version": "^0.2.2",
       "data": {
        "group": "coexp",
        "id": "e15",
        "intn": true,
        "networkGroupId": 18,
        "networkId": 1133,
        "rIntnId": 17,
        "source": "600046",
        "target": "600535",
        "weight": 0.0030451824
       }
      }
     },
     "a4b797ca8e334fb6bb2b1a761672b3ff": {
      "model_module": "jupyter-cytoscape",
      "model_module_version": "^0.2.2",
      "model_name": "EdgeModel",
      "state": {
       "_model_module_version": "^0.2.2",
       "_view_module": "jupyter-cytoscape",
       "_view_module_version": "^0.2.2",
       "data": {
        "group": "path",
        "id": "e352",
        "intn": true,
        "networkGroupId": 21,
        "networkId": 916,
        "rIntnId": 354,
        "source": "599863",
        "target": "603070",
        "weight": 0.029156813
       }
      }
     },
     "a641cb148c8e4942a794ccb8e77ef46f": {
      "model_module": "jupyter-cytoscape",
      "model_module_version": "^0.2.2",
      "model_name": "EdgeModel",
      "state": {
       "_model_module_version": "^0.2.2",
       "_view_module": "jupyter-cytoscape",
       "_view_module_version": "^0.2.2",
       "data": {
        "group": "coloc",
        "id": "e263",
        "intn": true,
        "networkGroupId": 19,
        "networkId": 1215,
        "rIntnId": 265,
        "source": "605846",
        "target": "603700",
        "weight": 0.0069493027
       }
      }
     },
     "a68c566720184afb924dfde70175bb38": {
      "model_module": "jupyter-cytoscape",
      "model_module_version": "^0.2.2",
      "model_name": "EdgeModel",
      "state": {
       "_model_module_version": "^0.2.2",
       "_view_module": "jupyter-cytoscape",
       "_view_module_version": "^0.2.2",
       "data": {
        "group": "coexp",
        "id": "e132",
        "intn": true,
        "networkGroupId": 18,
        "networkId": 1160,
        "rIntnId": 134,
        "source": "610236",
        "target": "605755",
        "weight": 0.0038199152
       }
      }
     },
     "a72f215d223e4ca8a7b63c858b8075a1": {
      "model_module": "jupyter-cytoscape",
      "model_module_version": "^0.2.2",
      "model_name": "EdgeModel",
      "state": {
       "_model_module_version": "^0.2.2",
       "_view_module": "jupyter-cytoscape",
       "_view_module_version": "^0.2.2",
       "data": {
        "group": "pi",
        "id": "e361",
        "intn": true,
        "networkGroupId": 22,
        "networkId": 903,
        "rIntnId": 363,
        "source": "610236",
        "target": "605755",
        "weight": 0.16342038
       }
      }
     },
     "a731ba31f66f433a82eb5df220ac2f9f": {
      "model_module": "jupyter-cytoscape",
      "model_module_version": "^0.2.2",
      "model_name": "EdgeModel",
      "state": {
       "_model_module_version": "^0.2.2",
       "_view_module": "jupyter-cytoscape",
       "_view_module_version": "^0.2.2",
       "data": {
        "group": "coexp",
        "id": "e108",
        "intn": true,
        "networkGroupId": 18,
        "networkId": 948,
        "rIntnId": 110,
        "source": "603070",
        "target": "599889",
        "weight": 0.014034339
       }
      }
     },
     "a7989b43de1440bbbab4c62d8c1081a7": {
      "model_module": "jupyter-cytoscape",
      "model_module_version": "^0.2.2",
      "model_name": "EdgeModel",
      "state": {
       "_model_module_version": "^0.2.2",
       "_view_module": "jupyter-cytoscape",
       "_view_module_version": "^0.2.2",
       "data": {
        "group": "coexp",
        "id": "e93",
        "intn": true,
        "networkGroupId": 18,
        "networkId": 1219,
        "rIntnId": 95,
        "source": "606768",
        "target": "605846",
        "weight": 0.008256701
       }
      }
     },
     "a79c126396c7492882a1ed84035a8262": {
      "model_module": "jupyter-cytoscape",
      "model_module_version": "^0.2.2",
      "model_name": "NodeModel",
      "state": {
       "_model_module_version": "^0.2.2",
       "_view_module_version": "^0.2.2",
       "data": {
        "gene": true,
        "id": "612326",
        "idInt": 612326,
        "name": "PPP1CA",
        "query": false,
        "score": 0.001444414413500572
       }
      }
     },
     "a82d50f5295949c4801e59de9231b5d8": {
      "model_module": "jupyter-cytoscape",
      "model_module_version": "^0.2.2",
      "model_name": "EdgeModel",
      "state": {
       "_model_module_version": "^0.2.2",
       "_view_module": "jupyter-cytoscape",
       "_view_module_version": "^0.2.2",
       "data": {
        "group": "path",
        "id": "e336",
        "intn": true,
        "networkGroupId": 21,
        "networkId": 917,
        "rIntnId": 338,
        "source": "599724",
        "target": "600585",
        "weight": 0.054347284
       }
      }
     },
     "a852c9d2b3954f11860bd8b242d744c8": {
      "model_module": "jupyter-cytoscape",
      "model_module_version": "^0.2.2",
      "model_name": "EdgeModel",
      "state": {
       "_model_module_version": "^0.2.2",
       "_view_module": "jupyter-cytoscape",
       "_view_module_version": "^0.2.2",
       "data": {
        "group": "path",
        "id": "e344",
        "intn": true,
        "networkGroupId": 21,
        "networkId": 917,
        "rIntnId": 346,
        "source": "606768",
        "target": "605755",
        "weight": 0.0608564
       }
      }
     },
     "a916cea5b99c45659198e586ce185f9b": {
      "model_module": "jupyter-cytoscape",
      "model_module_version": "^0.2.2",
      "model_name": "EdgeModel",
      "state": {
       "_model_module_version": "^0.2.2",
       "_view_module": "jupyter-cytoscape",
       "_view_module_version": "^0.2.2",
       "data": {
        "group": "pi",
        "id": "e423",
        "intn": true,
        "networkGroupId": 22,
        "networkId": 909,
        "rIntnId": 425,
        "source": "611560",
        "target": "605755",
        "weight": 0.024701266
       }
      }
     },
     "a95a74cbd4084070a41ca45767bfe41a": {
      "model_module": "jupyter-cytoscape",
      "model_module_version": "^0.2.2",
      "model_name": "EdgeModel",
      "state": {
       "_model_module_version": "^0.2.2",
       "_view_module": "jupyter-cytoscape",
       "_view_module_version": "^0.2.2",
       "data": {
        "group": "coexp",
        "id": "e72",
        "intn": true,
        "networkGroupId": 18,
        "networkId": 1103,
        "rIntnId": 74,
        "source": "599863",
        "target": "610236",
        "weight": 0.0069649774
       }
      }
     },
     "aa750d8a49e74f5e99025a00cd008066": {
      "model_module": "jupyter-cytoscape",
      "model_module_version": "^0.2.2",
      "model_name": "EdgeModel",
      "state": {
       "_model_module_version": "^0.2.2",
       "_view_module": "jupyter-cytoscape",
       "_view_module_version": "^0.2.2",
       "data": {
        "group": "coexp",
        "id": "e54",
        "intn": true,
        "networkGroupId": 18,
        "networkId": 1205,
        "rIntnId": 56,
        "source": "605846",
        "target": "603070",
        "weight": 0.013705722
       }
      }
     },
     "aab2e65d24794d1384356b48998898c7": {
      "model_module": "jupyter-cytoscape",
      "model_module_version": "^0.2.2",
      "model_name": "EdgeModel",
      "state": {
       "_model_module_version": "^0.2.2",
       "_view_module": "jupyter-cytoscape",
       "_view_module_version": "^0.2.2",
       "data": {
        "group": "coexp",
        "id": "e188",
        "intn": true,
        "networkGroupId": 18,
        "networkId": 939,
        "rIntnId": 190,
        "source": "606768",
        "target": "610236",
        "weight": 0.0057287826
       }
      }
     },
     "ab19e94647464731b371c9bb8ecab871": {
      "model_module": "jupyter-cytoscape",
      "model_module_version": "^0.2.2",
      "model_name": "EdgeModel",
      "state": {
       "_model_module_version": "^0.2.2",
       "_view_module": "jupyter-cytoscape",
       "_view_module_version": "^0.2.2",
       "data": {
        "group": "coexp",
        "id": "e193",
        "intn": true,
        "networkGroupId": 18,
        "networkId": 987,
        "rIntnId": 195,
        "source": "603070",
        "target": "605755",
        "weight": 0.008355799
       }
      }
     },
     "ab2bff34f5d24b8a9ba80468b1836a83": {
      "model_module": "jupyter-cytoscape",
      "model_module_version": "^0.2.2",
      "model_name": "EdgeModel",
      "state": {
       "_model_module_version": "^0.2.2",
       "_view_module": "jupyter-cytoscape",
       "_view_module_version": "^0.2.2",
       "data": {
        "group": "coexp",
        "id": "e36",
        "intn": true,
        "networkGroupId": 18,
        "networkId": 1205,
        "rIntnId": 38,
        "source": "600585",
        "target": "605755",
        "weight": 0.012193555
       }
      }
     },
     "ab976f696ad344e28b1588f8f9442d58": {
      "model_module": "jupyter-cytoscape",
      "model_module_version": "^0.2.2",
      "model_name": "EdgeModel",
      "state": {
       "_model_module_version": "^0.2.2",
       "_view_module": "jupyter-cytoscape",
       "_view_module_version": "^0.2.2",
       "data": {
        "group": "predict",
        "id": "e524",
        "intn": true,
        "networkGroupId": 23,
        "networkId": 760,
        "rIntnId": 526,
        "source": "599724",
        "target": "605846",
        "weight": 0.34672865
       }
      }
     },
     "ac1174935b214224bd90d1c1887e4c6e": {
      "model_module": "jupyter-cytoscape",
      "model_module_version": "^0.2.2",
      "model_name": "EdgeModel",
      "state": {
       "_model_module_version": "^0.2.2",
       "_view_module": "jupyter-cytoscape",
       "_view_module_version": "^0.2.2",
       "data": {
        "group": "spd",
        "id": "e574",
        "intn": true,
        "networkGroupId": 24,
        "networkId": 1229,
        "rIntnId": 576,
        "source": "605846",
        "target": "599863",
        "weight": 0.033354767
       }
      }
     },
     "ac4e19fe1c614878b1e0d71bfae64364": {
      "model_module": "jupyter-cytoscape",
      "model_module_version": "^0.2.2",
      "model_name": "EdgeModel",
      "state": {
       "_model_module_version": "^0.2.2",
       "_view_module": "jupyter-cytoscape",
       "_view_module_version": "^0.2.2",
       "data": {
        "group": "coloc",
        "id": "e275",
        "intn": true,
        "networkGroupId": 19,
        "networkId": 1215,
        "rIntnId": 277,
        "source": "612326",
        "target": "610236",
        "weight": 0.0031287828
       }
      }
     },
     "ad5e4ff2f709450aa1fa72bdeae68782": {
      "model_module": "jupyter-cytoscape",
      "model_module_version": "^0.2.2",
      "model_name": "NodeModel",
      "state": {
       "_model_module_version": "^0.2.2",
       "_view_module_version": "^0.2.2",
       "data": {
        "gene": true,
        "id": "605846",
        "idInt": 605846,
        "name": "RFC3",
        "query": false,
        "score": 0.0018726190118726893
       }
      }
     },
     "ad63226ce1024f30849cd7fe1bb1d2cc": {
      "model_module": "jupyter-cytoscape",
      "model_module_version": "^0.2.2",
      "model_name": "EdgeModel",
      "state": {
       "_model_module_version": "^0.2.2",
       "_view_module": "jupyter-cytoscape",
       "_view_module_version": "^0.2.2",
       "data": {
        "group": "coexp",
        "id": "e227",
        "intn": true,
        "networkGroupId": 18,
        "networkId": 1141,
        "rIntnId": 229,
        "source": "602299",
        "target": "605755",
        "weight": 0.019584121
       }
      }
     },
     "ad6b1a3c3dfa4a17ba8a10b6688d92c1": {
      "model_module": "jupyter-cytoscape",
      "model_module_version": "^0.2.2",
      "model_name": "EdgeModel",
      "state": {
       "_model_module_version": "^0.2.2",
       "_view_module": "jupyter-cytoscape",
       "_view_module_version": "^0.2.2",
       "data": {
        "group": "coexp",
        "id": "e191",
        "intn": true,
        "networkGroupId": 18,
        "networkId": 987,
        "rIntnId": 193,
        "source": "602299",
        "target": "605755",
        "weight": 0.007012607
       }
      }
     },
     "ae0c41f39c1544f88fc18d14032bb639": {
      "model_module": "jupyter-cytoscape",
      "model_module_version": "^0.2.2",
      "model_name": "EdgeModel",
      "state": {
       "_model_module_version": "^0.2.2",
       "_view_module": "jupyter-cytoscape",
       "_view_module_version": "^0.2.2",
       "data": {
        "group": "predict",
        "id": "e546",
        "intn": true,
        "networkGroupId": 23,
        "networkId": 741,
        "rIntnId": 548,
        "source": "599863",
        "target": "605755",
        "weight": 0.21030058
       }
      }
     },
     "ae1fc289fb3b401e9eb6180dece69899": {
      "model_module": "jupyter-cytoscape",
      "model_module_version": "^0.2.2",
      "model_name": "EdgeModel",
      "state": {
       "_model_module_version": "^0.2.2",
       "_view_module": "jupyter-cytoscape",
       "_view_module_version": "^0.2.2",
       "data": {
        "group": "coexp",
        "id": "e39",
        "intn": true,
        "networkGroupId": 18,
        "networkId": 1205,
        "rIntnId": 41,
        "source": "602299",
        "target": "600585",
        "weight": 0.0140501885
       }
      }
     },
     "af552a42ead04fb49b03382838b4083e": {
      "model_module": "jupyter-cytoscape",
      "model_module_version": "^0.2.2",
      "model_name": "EdgeModel",
      "state": {
       "_model_module_version": "^0.2.2",
       "_view_module": "jupyter-cytoscape",
       "_view_module_version": "^0.2.2",
       "data": {
        "group": "coexp",
        "id": "e251",
        "intn": true,
        "networkGroupId": 18,
        "networkId": 1213,
        "rIntnId": 253,
        "source": "600046",
        "target": "610236",
        "weight": 0.00450646
       }
      }
     },
     "afa245b8bf4d4ca48104ab7fdcab1d46": {
      "model_module": "jupyter-cytoscape",
      "model_module_version": "^0.2.2",
      "model_name": "EdgeModel",
      "state": {
       "_model_module_version": "^0.2.2",
       "_view_module": "jupyter-cytoscape",
       "_view_module_version": "^0.2.2",
       "data": {
        "group": "coexp",
        "id": "e73",
        "intn": true,
        "networkGroupId": 18,
        "networkId": 1103,
        "rIntnId": 75,
        "source": "603700",
        "target": "599889",
        "weight": 0.0030997663
       }
      }
     },
     "aff0d025bfbc4821b49bb6e887889182": {
      "model_module": "jupyter-cytoscape",
      "model_module_version": "^0.2.2",
      "model_name": "EdgeModel",
      "state": {
       "_model_module_version": "^0.2.2",
       "_view_module": "jupyter-cytoscape",
       "_view_module_version": "^0.2.2",
       "data": {
        "group": "predict",
        "id": "e519",
        "intn": true,
        "networkGroupId": 23,
        "networkId": 765,
        "rIntnId": 521,
        "source": "599724",
        "target": "605846",
        "weight": 0.18857709
       }
      }
     },
     "b0647e60a0d34c2fbcbe5fcb6c73522b": {
      "model_module": "jupyter-cytoscape",
      "model_module_version": "^0.2.2",
      "model_name": "EdgeModel",
      "state": {
       "_model_module_version": "^0.2.2",
       "_view_module": "jupyter-cytoscape",
       "_view_module_version": "^0.2.2",
       "data": {
        "group": "coexp",
        "id": "e174",
        "intn": true,
        "networkGroupId": 18,
        "networkId": 939,
        "rIntnId": 176,
        "source": "610236",
        "target": "602299",
        "weight": 0.0033553005
       }
      }
     },
     "b0e50064a3b440559e166cbf3073b406": {
      "model_module": "jupyter-cytoscape",
      "model_module_version": "^0.2.2",
      "model_name": "EdgeModel",
      "state": {
       "_model_module_version": "^0.2.2",
       "_view_module": "jupyter-cytoscape",
       "_view_module_version": "^0.2.2",
       "data": {
        "group": "pi",
        "id": "e470",
        "intn": true,
        "networkGroupId": 22,
        "networkId": 799,
        "rIntnId": 472,
        "source": "606768",
        "target": "603700",
        "weight": 0.105399944
       }
      }
     },
     "b121014ae5894a9eb5e4619e87167da0": {
      "model_module": "jupyter-cytoscape",
      "model_module_version": "^0.2.2",
      "model_name": "EdgeModel",
      "state": {
       "_model_module_version": "^0.2.2",
       "_view_module": "jupyter-cytoscape",
       "_view_module_version": "^0.2.2",
       "data": {
        "group": "coexp",
        "id": "e17",
        "intn": true,
        "networkGroupId": 18,
        "networkId": 1133,
        "rIntnId": 19,
        "source": "606768",
        "target": "605755",
        "weight": 0.007888168
       }
      }
     },
     "b1f40c91a99e4eb5bd0e80205a085d41": {
      "model_module": "@jupyter-widgets/base",
      "model_module_version": "1.1.0",
      "model_name": "LayoutModel",
      "state": {}
     },
     "b359bc42f4f2476fbc74f6e83f72a8cf": {
      "model_module": "jupyter-cytoscape",
      "model_module_version": "^0.2.2",
      "model_name": "EdgeModel",
      "state": {
       "_model_module_version": "^0.2.2",
       "_view_module": "jupyter-cytoscape",
       "_view_module_version": "^0.2.2",
       "data": {
        "group": "predict",
        "id": "e476",
        "intn": true,
        "networkGroupId": 23,
        "networkId": 782,
        "rIntnId": 478,
        "source": "605846",
        "target": "610236",
        "weight": 0.2783674
       }
      }
     },
     "b45d02d4fe664f419b0e30827c4a61ca": {
      "model_module": "jupyter-cytoscape",
      "model_module_version": "^0.2.2",
      "model_name": "EdgeModel",
      "state": {
       "_model_module_version": "^0.2.2",
       "_view_module": "jupyter-cytoscape",
       "_view_module_version": "^0.2.2",
       "data": {
        "group": "coexp",
        "id": "e27",
        "intn": true,
        "networkGroupId": 18,
        "networkId": 1094,
        "rIntnId": 29,
        "source": "610236",
        "target": "605755",
        "weight": 0.01631634
       }
      }
     },
     "b4cbadfdf83245008ab8817ee8a05192": {
      "model_module": "jupyter-cytoscape",
      "model_module_version": "^0.2.2",
      "model_name": "EdgeModel",
      "state": {
       "_model_module_version": "^0.2.2",
       "_view_module": "jupyter-cytoscape",
       "_view_module_version": "^0.2.2",
       "data": {
        "group": "pi",
        "id": "e466",
        "intn": true,
        "networkGroupId": 22,
        "networkId": 799,
        "rIntnId": 468,
        "source": "600046",
        "target": "610236",
        "weight": 0.101480044
       }
      }
     },
     "b547eb2f1e6a46068ae31c49bacbc5d1": {
      "model_module": "jupyter-cytoscape",
      "model_module_version": "^0.2.2",
      "model_name": "EdgeModel",
      "state": {
       "_model_module_version": "^0.2.2",
       "_view_module": "jupyter-cytoscape",
       "_view_module_version": "^0.2.2",
       "data": {
        "group": "coexp",
        "id": "e139",
        "intn": true,
        "networkGroupId": 18,
        "networkId": 1160,
        "rIntnId": 141,
        "source": "599863",
        "target": "610236",
        "weight": 0.0037771827
       }
      }
     },
     "b5c8ee6863d7462eae4bd78d11b197f1": {
      "model_module": "jupyter-cytoscape",
      "model_module_version": "^0.2.2",
      "model_name": "EdgeModel",
      "state": {
       "_model_module_version": "^0.2.2",
       "_view_module": "jupyter-cytoscape",
       "_view_module_version": "^0.2.2",
       "data": {
        "group": "coexp",
        "id": "e116",
        "intn": true,
        "networkGroupId": 18,
        "networkId": 948,
        "rIntnId": 118,
        "source": "605846",
        "target": "610236",
        "weight": 0.008885449
       }
      }
     },
     "b5ce41d9b317444bb48d7e5dcda16f5b": {
      "model_module": "jupyter-cytoscape",
      "model_module_version": "^0.2.2",
      "model_name": "EdgeModel",
      "state": {
       "_model_module_version": "^0.2.2",
       "_view_module": "jupyter-cytoscape",
       "_view_module_version": "^0.2.2",
       "data": {
        "group": "path",
        "id": "e319",
        "intn": true,
        "networkGroupId": 21,
        "networkId": 920,
        "rIntnId": 321,
        "source": "600046",
        "target": "599724",
        "weight": 0.05684543
       }
      }
     },
     "b609888a7bf349e382bee991a97e3fec": {
      "model_module": "jupyter-cytoscape",
      "model_module_version": "^0.2.2",
      "model_name": "EdgeModel",
      "state": {
       "_model_module_version": "^0.2.2",
       "_view_module": "jupyter-cytoscape",
       "_view_module_version": "^0.2.2",
       "data": {
        "group": "predict",
        "id": "e537",
        "intn": true,
        "networkGroupId": 23,
        "networkId": 918,
        "rIntnId": 539,
        "source": "599724",
        "target": "600535",
        "weight": 0.07461657
       }
      }
     },
     "b66e30aaa64f4484a88fcdd62d3ec4f9": {
      "model_module": "jupyter-cytoscape",
      "model_module_version": "^0.2.2",
      "model_name": "EdgeModel",
      "state": {
       "_model_module_version": "^0.2.2",
       "_view_module": "jupyter-cytoscape",
       "_view_module_version": "^0.2.2",
       "data": {
        "group": "path",
        "id": "e320",
        "intn": true,
        "networkGroupId": 21,
        "networkId": 920,
        "rIntnId": 322,
        "source": "606768",
        "target": "605755",
        "weight": 0.06142156
       }
      }
     },
     "b6737c22ec7743059e3b2e2deac73375": {
      "model_module": "jupyter-cytoscape",
      "model_module_version": "^0.2.2",
      "model_name": "EdgeModel",
      "state": {
       "_model_module_version": "^0.2.2",
       "_view_module": "jupyter-cytoscape",
       "_view_module_version": "^0.2.2",
       "data": {
        "group": "predict",
        "id": "e473",
        "intn": true,
        "networkGroupId": 23,
        "networkId": 782,
        "rIntnId": 475,
        "source": "599863",
        "target": "603070",
        "weight": 0.2783674
       }
      }
     },
     "b6a0b76a8ada479aa14ccf06044e58d8": {
      "model_module": "jupyter-cytoscape",
      "model_module_version": "^0.2.2",
      "model_name": "EdgeModel",
      "state": {
       "_model_module_version": "^0.2.2",
       "_view_module": "jupyter-cytoscape",
       "_view_module_version": "^0.2.2",
       "data": {
        "group": "path",
        "id": "e338",
        "intn": true,
        "networkGroupId": 21,
        "networkId": 917,
        "rIntnId": 340,
        "source": "599724",
        "target": "610236",
        "weight": 0.1032913
       }
      }
     },
     "b70a769357c848a0ae40f87f270f54b5": {
      "model_module": "jupyter-cytoscape",
      "model_module_version": "^0.2.2",
      "model_name": "EdgeModel",
      "state": {
       "_model_module_version": "^0.2.2",
       "_view_module": "jupyter-cytoscape",
       "_view_module_version": "^0.2.2",
       "data": {
        "group": "predict",
        "id": "e534",
        "intn": true,
        "networkGroupId": 23,
        "networkId": 918,
        "rIntnId": 536,
        "source": "600535",
        "target": "602299",
        "weight": 0.116195135
       }
      }
     },
     "b73358b717f044358462b96b3c7b91da": {
      "model_module": "jupyter-cytoscape",
      "model_module_version": "^0.2.2",
      "model_name": "EdgeModel",
      "state": {
       "_model_module_version": "^0.2.2",
       "_view_module": "jupyter-cytoscape",
       "_view_module_version": "^0.2.2",
       "data": {
        "group": "spd",
        "id": "e588",
        "intn": true,
        "networkGroupId": 24,
        "networkId": 1230,
        "rIntnId": 590,
        "source": "605846",
        "target": "599863",
        "weight": 0.019407582
       }
      }
     },
     "b75181aeafb64c06938f7af5a7025f90": {
      "model_module": "jupyter-cytoscape",
      "model_module_version": "^0.2.2",
      "model_name": "EdgeModel",
      "state": {
       "_model_module_version": "^0.2.2",
       "_view_module": "jupyter-cytoscape",
       "_view_module_version": "^0.2.2",
       "data": {
        "group": "pi",
        "id": "e447",
        "intn": true,
        "networkGroupId": 22,
        "networkId": 909,
        "rIntnId": 449,
        "source": "606768",
        "target": "611408",
        "weight": 0.074923314
       }
      }
     },
     "b7f177360eaa41749eee047bad365677": {
      "model_module": "jupyter-cytoscape",
      "model_module_version": "^0.2.2",
      "model_name": "EdgeModel",
      "state": {
       "_model_module_version": "^0.2.2",
       "_view_module": "jupyter-cytoscape",
       "_view_module_version": "^0.2.2",
       "data": {
        "group": "coexp",
        "id": "e205",
        "intn": true,
        "networkGroupId": 18,
        "networkId": 987,
        "rIntnId": 207,
        "source": "605846",
        "target": "605755",
        "weight": 0.010237067
       }
      }
     },
     "b83176a782fc48648ffc6e5b38b5972d": {
      "model_module": "jupyter-cytoscape",
      "model_module_version": "^0.2.2",
      "model_name": "EdgeModel",
      "state": {
       "_model_module_version": "^0.2.2",
       "_view_module": "jupyter-cytoscape",
       "_view_module_version": "^0.2.2",
       "data": {
        "group": "coexp",
        "id": "e218",
        "intn": true,
        "networkGroupId": 18,
        "networkId": 1221,
        "rIntnId": 220,
        "source": "605846",
        "target": "611408",
        "weight": 0.0075512826
       }
      }
     },
     "b8c8133755ac4ff3b9b45781267c044d": {
      "model_module": "jupyter-cytoscape",
      "model_module_version": "^0.2.2",
      "model_name": "EdgeModel",
      "state": {
       "_model_module_version": "^0.2.2",
       "_view_module": "jupyter-cytoscape",
       "_view_module_version": "^0.2.2",
       "data": {
        "group": "spd",
        "id": "e571",
        "intn": true,
        "networkGroupId": 24,
        "networkId": 1229,
        "rIntnId": 573,
        "source": "599863",
        "target": "610236",
        "weight": 0.053028025
       }
      }
     },
     "b92dd8dc7e7b42e696cd10aff157ff97": {
      "model_module": "jupyter-cytoscape",
      "model_module_version": "^0.2.2",
      "model_name": "EdgeModel",
      "state": {
       "_model_module_version": "^0.2.2",
       "_view_module": "jupyter-cytoscape",
       "_view_module_version": "^0.2.2",
       "data": {
        "group": "coexp",
        "id": "e181",
        "intn": true,
        "networkGroupId": 18,
        "networkId": 939,
        "rIntnId": 183,
        "source": "600535",
        "target": "605755",
        "weight": 0.010113988
       }
      }
     },
     "b9365334f45c4d4da12de83a0fa699ff": {
      "model_module": "jupyter-cytoscape",
      "model_module_version": "^0.2.2",
      "model_name": "EdgeModel",
      "state": {
       "_model_module_version": "^0.2.2",
       "_view_module": "jupyter-cytoscape",
       "_view_module_version": "^0.2.2",
       "data": {
        "group": "pi",
        "id": "e397",
        "intn": true,
        "networkGroupId": 22,
        "networkId": 665,
        "rIntnId": 399,
        "source": "599724",
        "target": "610236",
        "weight": 0.052335896
       }
      }
     },
     "b9d1597ea0384cb29783e620df8f95ce": {
      "model_module": "jupyter-cytoscape",
      "model_module_version": "^0.2.2",
      "model_name": "EdgeModel",
      "state": {
       "_model_module_version": "^0.2.2",
       "_view_module": "jupyter-cytoscape",
       "_view_module_version": "^0.2.2",
       "data": {
        "group": "coexp",
        "id": "e26",
        "intn": true,
        "networkGroupId": 18,
        "networkId": 1094,
        "rIntnId": 28,
        "source": "603070",
        "target": "605755",
        "weight": 0.014308085
       }
      }
     },
     "ba2870cbaf40455499b70fd41877b9be": {
      "model_module": "jupyter-cytoscape",
      "model_module_version": "^0.2.2",
      "model_name": "EdgeModel",
      "state": {
       "_model_module_version": "^0.2.2",
       "_view_module": "jupyter-cytoscape",
       "_view_module_version": "^0.2.2",
       "data": {
        "group": "coexp",
        "id": "e146",
        "intn": true,
        "networkGroupId": 18,
        "networkId": 1160,
        "rIntnId": 148,
        "source": "600046",
        "target": "603700",
        "weight": 0.014601159
       }
      }
     },
     "ba7343f7db664d22b10118c64cde980a": {
      "model_module": "jupyter-cytoscape",
      "model_module_version": "^0.2.2",
      "model_name": "EdgeModel",
      "state": {
       "_model_module_version": "^0.2.2",
       "_view_module": "jupyter-cytoscape",
       "_view_module_version": "^0.2.2",
       "data": {
        "group": "coexp",
        "id": "e90",
        "intn": true,
        "networkGroupId": 18,
        "networkId": 1219,
        "rIntnId": 92,
        "source": "605846",
        "target": "610236",
        "weight": 0.005608535
       }
      }
     },
     "bab520baf7d84cb599734c198e6f5b04": {
      "model_module": "jupyter-cytoscape",
      "model_module_version": "^0.2.2",
      "model_name": "EdgeModel",
      "state": {
       "_model_module_version": "^0.2.2",
       "_view_module": "jupyter-cytoscape",
       "_view_module_version": "^0.2.2",
       "data": {
        "group": "pi",
        "id": "e438",
        "intn": true,
        "networkGroupId": 22,
        "networkId": 909,
        "rIntnId": 440,
        "source": "605846",
        "target": "599863",
        "weight": 0.03200514
       }
      }
     },
     "bae7072b59ff4ccfa931016fd17c9d23": {
      "model_module": "jupyter-cytoscape",
      "model_module_version": "^0.2.2",
      "model_name": "EdgeModel",
      "state": {
       "_model_module_version": "^0.2.2",
       "_view_module": "jupyter-cytoscape",
       "_view_module_version": "^0.2.2",
       "data": {
        "group": "path",
        "id": "e314",
        "intn": true,
        "networkGroupId": 21,
        "networkId": 920,
        "rIntnId": 316,
        "source": "600046",
        "target": "602299",
        "weight": 0.09884098
       }
      }
     },
     "bb153e0fa61f46019c145a5862a3146a": {
      "model_module": "jupyter-cytoscape",
      "model_module_version": "^0.2.2",
      "model_name": "EdgeModel",
      "state": {
       "_model_module_version": "^0.2.2",
       "_view_module": "jupyter-cytoscape",
       "_view_module_version": "^0.2.2",
       "data": {
        "group": "path",
        "id": "e341",
        "intn": true,
        "networkGroupId": 21,
        "networkId": 917,
        "rIntnId": 343,
        "source": "600046",
        "target": "605755",
        "weight": 0.04544427
       }
      }
     },
     "bb23f11777cc4cd59ce608cea715782a": {
      "model_module": "jupyter-cytoscape",
      "model_module_version": "^0.2.2",
      "model_name": "EdgeModel",
      "state": {
       "_model_module_version": "^0.2.2",
       "_view_module": "jupyter-cytoscape",
       "_view_module_version": "^0.2.2",
       "data": {
        "group": "pi",
        "id": "e374",
        "intn": true,
        "networkGroupId": 22,
        "networkId": 721,
        "rIntnId": 376,
        "source": "599724",
        "target": "599863",
        "weight": 0.14651802
       }
      }
     },
     "bb530a0784814c0f8b2da727e803153f": {
      "model_module": "jupyter-cytoscape",
      "model_module_version": "^0.2.2",
      "model_name": "EdgeModel",
      "state": {
       "_model_module_version": "^0.2.2",
       "_view_module": "jupyter-cytoscape",
       "_view_module_version": "^0.2.2",
       "data": {
        "group": "coexp",
        "id": "e21",
        "intn": true,
        "networkGroupId": 18,
        "networkId": 1228,
        "rIntnId": 23,
        "source": "600585",
        "target": "611408",
        "weight": 0.010655156
       }
      }
     },
     "bb9ac8e712754d50ada739615a27e5b8": {
      "model_module": "jupyter-cytoscape",
      "model_module_version": "^0.2.2",
      "model_name": "EdgeModel",
      "state": {
       "_model_module_version": "^0.2.2",
       "_view_module": "jupyter-cytoscape",
       "_view_module_version": "^0.2.2",
       "data": {
        "group": "path",
        "id": "e340",
        "intn": true,
        "networkGroupId": 21,
        "networkId": 917,
        "rIntnId": 342,
        "source": "599724",
        "target": "605846",
        "weight": 0.1032913
       }
      }
     },
     "bbd98122768a425ca259fedb67018c79": {
      "model_module": "jupyter-cytoscape",
      "model_module_version": "^0.2.2",
      "model_name": "EdgeModel",
      "state": {
       "_model_module_version": "^0.2.2",
       "_view_module": "jupyter-cytoscape",
       "_view_module_version": "^0.2.2",
       "data": {
        "group": "coexp",
        "id": "e150",
        "intn": true,
        "networkGroupId": 18,
        "networkId": 1160,
        "rIntnId": 152,
        "source": "606768",
        "target": "600585",
        "weight": 0.011962807
       }
      }
     },
     "bc82f7319a394d91b9889ebb516d909f": {
      "model_module": "jupyter-cytoscape",
      "model_module_version": "^0.2.2",
      "model_name": "EdgeModel",
      "state": {
       "_model_module_version": "^0.2.2",
       "_view_module": "jupyter-cytoscape",
       "_view_module_version": "^0.2.2",
       "data": {
        "group": "coexp",
        "id": "e1",
        "intn": true,
        "networkGroupId": 18,
        "networkId": 1133,
        "rIntnId": 3,
        "source": "602299",
        "target": "600585",
        "weight": 0.012590342
       }
      }
     },
     "bcb1851c17bb4232b227835cd428bdbe": {
      "model_module": "jupyter-cytoscape",
      "model_module_version": "^0.2.2",
      "model_name": "EdgeModel",
      "state": {
       "_model_module_version": "^0.2.2",
       "_view_module": "jupyter-cytoscape",
       "_view_module_version": "^0.2.2",
       "data": {
        "group": "coloc",
        "id": "e270",
        "intn": true,
        "networkGroupId": 19,
        "networkId": 1215,
        "rIntnId": 272,
        "source": "600046",
        "target": "610236",
        "weight": 0.0046978444
       }
      }
     },
     "bcc1ae6ffde848978e8563fcd8ead4f7": {
      "model_module": "jupyter-cytoscape",
      "model_module_version": "^0.2.2",
      "model_name": "EdgeModel",
      "state": {
       "_model_module_version": "^0.2.2",
       "_view_module": "jupyter-cytoscape",
       "_view_module_version": "^0.2.2",
       "data": {
        "group": "coexp",
        "id": "e109",
        "intn": true,
        "networkGroupId": 18,
        "networkId": 948,
        "rIntnId": 111,
        "source": "610236",
        "target": "611408",
        "weight": 0.011003433
       }
      }
     },
     "bcd6e5b028cf45a9a0fb3cf2fb0aed79": {
      "model_module": "jupyter-cytoscape",
      "model_module_version": "^0.2.2",
      "model_name": "EdgeModel",
      "state": {
       "_model_module_version": "^0.2.2",
       "_view_module": "jupyter-cytoscape",
       "_view_module_version": "^0.2.2",
       "data": {
        "group": "coloc",
        "id": "e269",
        "intn": true,
        "networkGroupId": 19,
        "networkId": 1215,
        "rIntnId": 271,
        "source": "600046",
        "target": "605755",
        "weight": 0.00904533
       }
      }
     },
     "be10b478d17244918734efd1e40cb69f": {
      "model_module": "jupyter-cytoscape",
      "model_module_version": "^0.2.2",
      "model_name": "EdgeModel",
      "state": {
       "_model_module_version": "^0.2.2",
       "_view_module": "jupyter-cytoscape",
       "_view_module_version": "^0.2.2",
       "data": {
        "group": "coexp",
        "id": "e91",
        "intn": true,
        "networkGroupId": 18,
        "networkId": 1219,
        "rIntnId": 93,
        "source": "605846",
        "target": "603700",
        "weight": 0.009317383
       }
      }
     },
     "be3d613031f347f184ee6d3aa6a11ac5": {
      "model_module": "jupyter-cytoscape",
      "model_module_version": "^0.2.2",
      "model_name": "EdgeModel",
      "state": {
       "_model_module_version": "^0.2.2",
       "_view_module": "jupyter-cytoscape",
       "_view_module_version": "^0.2.2",
       "data": {
        "group": "coexp",
        "id": "e53",
        "intn": true,
        "networkGroupId": 18,
        "networkId": 1205,
        "rIntnId": 55,
        "source": "605846",
        "target": "602299",
        "weight": 0.01073685
       }
      }
     },
     "be415dde4d9f4b59a584e486ad39f10a": {
      "model_module": "jupyter-cytoscape",
      "model_module_version": "^0.2.2",
      "model_name": "EdgeModel",
      "state": {
       "_model_module_version": "^0.2.2",
       "_view_module": "jupyter-cytoscape",
       "_view_module_version": "^0.2.2",
       "data": {
        "group": "predict",
        "id": "e474",
        "intn": true,
        "networkGroupId": 23,
        "networkId": 782,
        "rIntnId": 476,
        "source": "599863",
        "target": "610236",
        "weight": 0.21170229
       }
      }
     },
     "be5e5be61b7347e58e04f9f001776c87": {
      "model_module": "jupyter-cytoscape",
      "model_module_version": "^0.2.2",
      "model_name": "EdgeModel",
      "state": {
       "_model_module_version": "^0.2.2",
       "_view_module": "jupyter-cytoscape",
       "_view_module_version": "^0.2.2",
       "data": {
        "group": "path",
        "id": "e299",
        "intn": true,
        "networkGroupId": 21,
        "networkId": 920,
        "rIntnId": 301,
        "source": "605846",
        "target": "612341",
        "weight": 0.06087656
       }
      }
     },
     "bf03933beac643519d4381036bdb3cfb": {
      "model_module": "jupyter-cytoscape",
      "model_module_version": "^0.2.2",
      "model_name": "EdgeModel",
      "state": {
       "_model_module_version": "^0.2.2",
       "_view_module": "jupyter-cytoscape",
       "_view_module_version": "^0.2.2",
       "data": {
        "group": "predict",
        "id": "e553",
        "intn": true,
        "networkGroupId": 23,
        "networkId": 741,
        "rIntnId": 555,
        "source": "599724",
        "target": "605846",
        "weight": 0.3868645
       }
      }
     },
     "c0391fb78bdd47d4a0c3aa3ee50a1d7c": {
      "model_module": "jupyter-cytoscape",
      "model_module_version": "^0.2.2",
      "model_name": "EdgeModel",
      "state": {
       "_model_module_version": "^0.2.2",
       "_view_module": "jupyter-cytoscape",
       "_view_module_version": "^0.2.2",
       "data": {
        "group": "predict",
        "id": "e559",
        "intn": true,
        "networkGroupId": 23,
        "networkId": 785,
        "rIntnId": 561,
        "source": "603070",
        "target": "605755",
        "weight": 0.16824654
       }
      }
     },
     "c1109b2bface491dafee1c977e7a38c1": {
      "model_module": "jupyter-cytoscape",
      "model_module_version": "^0.2.2",
      "model_name": "EdgeModel",
      "state": {
       "_model_module_version": "^0.2.2",
       "_view_module": "jupyter-cytoscape",
       "_view_module_version": "^0.2.2",
       "data": {
        "group": "predict",
        "id": "e543",
        "intn": true,
        "networkGroupId": 23,
        "networkId": 741,
        "rIntnId": 545,
        "source": "611408",
        "target": "605755",
        "weight": 0.33831403
       }
      }
     },
     "c1453dcd13374316aed0c7e98171db0e": {
      "model_module": "jupyter-cytoscape",
      "model_module_version": "^0.2.2",
      "model_name": "EdgeModel",
      "state": {
       "_model_module_version": "^0.2.2",
       "_view_module": "jupyter-cytoscape",
       "_view_module_version": "^0.2.2",
       "data": {
        "group": "coexp",
        "id": "e209",
        "intn": true,
        "networkGroupId": 18,
        "networkId": 987,
        "rIntnId": 211,
        "source": "600535",
        "target": "599889",
        "weight": 0.0078543145
       }
      }
     },
     "c1e3dcf7f5d648debae7d93b70bf6691": {
      "model_module": "jupyter-cytoscape",
      "model_module_version": "^0.2.2",
      "model_name": "EdgeModel",
      "state": {
       "_model_module_version": "^0.2.2",
       "_view_module": "jupyter-cytoscape",
       "_view_module_version": "^0.2.2",
       "data": {
        "group": "coexp",
        "id": "e159",
        "intn": true,
        "networkGroupId": 18,
        "networkId": 1112,
        "rIntnId": 161,
        "source": "600046",
        "target": "602299",
        "weight": 0.010976079
       }
      }
     },
     "c2039a07458d4be7ad84c0ad131b2184": {
      "model_module": "jupyter-cytoscape",
      "model_module_version": "^0.2.2",
      "model_name": "EdgeModel",
      "state": {
       "_model_module_version": "^0.2.2",
       "_view_module": "jupyter-cytoscape",
       "_view_module_version": "^0.2.2",
       "data": {
        "group": "pi",
        "id": "e398",
        "intn": true,
        "networkGroupId": 22,
        "networkId": 665,
        "rIntnId": 400,
        "source": "599724",
        "target": "599863",
        "weight": 0.049512524
       }
      }
     },
     "c2818c681433452db2ce828d80e1245e": {
      "model_module": "jupyter-cytoscape",
      "model_module_version": "^0.2.2",
      "model_name": "EdgeModel",
      "state": {
       "_model_module_version": "^0.2.2",
       "_view_module": "jupyter-cytoscape",
       "_view_module_version": "^0.2.2",
       "data": {
        "group": "path",
        "id": "e342",
        "intn": true,
        "networkGroupId": 21,
        "networkId": 917,
        "rIntnId": 344,
        "source": "600046",
        "target": "600585",
        "weight": 0.056632493
       }
      }
     },
     "c2b5623e4e2d4e359b1e9b44f3936177": {
      "model_module": "jupyter-cytoscape",
      "model_module_version": "^0.2.2",
      "model_name": "EdgeModel",
      "state": {
       "_model_module_version": "^0.2.2",
       "_view_module": "jupyter-cytoscape",
       "_view_module_version": "^0.2.2",
       "data": {
        "group": "coexp",
        "id": "e165",
        "intn": true,
        "networkGroupId": 18,
        "networkId": 1058,
        "rIntnId": 167,
        "source": "610236",
        "target": "599889",
        "weight": 0.0071076
       }
      }
     },
     "c4a963f5578940059f9ddd73926810fa": {
      "model_module": "jupyter-cytoscape",
      "model_module_version": "^0.2.2",
      "model_name": "EdgeModel",
      "state": {
       "_model_module_version": "^0.2.2",
       "_view_module": "jupyter-cytoscape",
       "_view_module_version": "^0.2.2",
       "data": {
        "group": "path",
        "id": "e294",
        "intn": true,
        "networkGroupId": 21,
        "networkId": 920,
        "rIntnId": 296,
        "source": "599863",
        "target": "608473",
        "weight": 0.087010026
       }
      }
     },
     "c65fd9de81664745af6adae15c966675": {
      "model_module": "jupyter-cytoscape",
      "model_module_version": "^0.2.2",
      "model_name": "EdgeModel",
      "state": {
       "_model_module_version": "^0.2.2",
       "_view_module": "jupyter-cytoscape",
       "_view_module_version": "^0.2.2",
       "data": {
        "group": "coloc",
        "id": "e268",
        "intn": true,
        "networkGroupId": 19,
        "networkId": 1215,
        "rIntnId": 270,
        "source": "599724",
        "target": "605846",
        "weight": 0.00455017
       }
      }
     },
     "c6b6d0ade1b949a588993e1a60210ce8": {
      "model_module": "jupyter-cytoscape",
      "model_module_version": "^0.2.2",
      "model_name": "EdgeModel",
      "state": {
       "_model_module_version": "^0.2.2",
       "_view_module": "jupyter-cytoscape",
       "_view_module_version": "^0.2.2",
       "data": {
        "group": "coexp",
        "id": "e141",
        "intn": true,
        "networkGroupId": 18,
        "networkId": 1160,
        "rIntnId": 143,
        "source": "605846",
        "target": "600585",
        "weight": 0.008764523
       }
      }
     },
     "c6d504c641d94ac8bc25ee4c862ab976": {
      "model_module": "jupyter-cytoscape",
      "model_module_version": "^0.2.2",
      "model_name": "EdgeModel",
      "state": {
       "_model_module_version": "^0.2.2",
       "_view_module": "jupyter-cytoscape",
       "_view_module_version": "^0.2.2",
       "data": {
        "group": "predict",
        "id": "e544",
        "intn": true,
        "networkGroupId": 23,
        "networkId": 741,
        "rIntnId": 546,
        "source": "603070",
        "target": "605755",
        "weight": 0.16169672
       }
      }
     },
     "c7091c704be44e7487425d757024595a": {
      "model_module": "jupyter-cytoscape",
      "model_module_version": "^0.2.2",
      "model_name": "EdgeModel",
      "state": {
       "_model_module_version": "^0.2.2",
       "_view_module": "jupyter-cytoscape",
       "_view_module_version": "^0.2.2",
       "data": {
        "group": "predict",
        "id": "e481",
        "intn": true,
        "networkGroupId": 23,
        "networkId": 784,
        "rIntnId": 483,
        "source": "600046",
        "target": "610236",
        "weight": 0.45508987
       }
      }
     },
     "c7256bc8fdab4c52ae00cdb196775ed4": {
      "model_module": "jupyter-cytoscape",
      "model_module_version": "^0.2.2",
      "model_name": "EdgeModel",
      "state": {
       "_model_module_version": "^0.2.2",
       "_view_module": "jupyter-cytoscape",
       "_view_module_version": "^0.2.2",
       "data": {
        "group": "coexp",
        "id": "e125",
        "intn": true,
        "networkGroupId": 18,
        "networkId": 948,
        "rIntnId": 127,
        "source": "612326",
        "target": "602279",
        "weight": 0.008383535
       }
      }
     },
     "c7c170e6847c4dddbb84370cf91a57c6": {
      "model_module": "jupyter-cytoscape",
      "model_module_version": "^0.2.2",
      "model_name": "EdgeModel",
      "state": {
       "_model_module_version": "^0.2.2",
       "_view_module": "jupyter-cytoscape",
       "_view_module_version": "^0.2.2",
       "data": {
        "group": "pi",
        "id": "e431",
        "intn": true,
        "networkGroupId": 22,
        "networkId": 909,
        "rIntnId": 433,
        "source": "599863",
        "target": "605755",
        "weight": 0.010525425
       }
      }
     },
     "c7de3fac9ca04f78a771ae0946564eab": {
      "model_module": "jupyter-cytoscape",
      "model_module_version": "^0.2.2",
      "model_name": "EdgeModel",
      "state": {
       "_model_module_version": "^0.2.2",
       "_view_module": "jupyter-cytoscape",
       "_view_module_version": "^0.2.2",
       "data": {
        "group": "coexp",
        "id": "e171",
        "intn": true,
        "networkGroupId": 18,
        "networkId": 939,
        "rIntnId": 173,
        "source": "610236",
        "target": "605755",
        "weight": 0.0036719772
       }
      }
     },
     "c7fe7d7e9d19448fa2acbeb6a8444cb1": {
      "model_module": "jupyter-cytoscape",
      "model_module_version": "^0.2.2",
      "model_name": "EdgeModel",
      "state": {
       "_model_module_version": "^0.2.2",
       "_view_module": "jupyter-cytoscape",
       "_view_module_version": "^0.2.2",
       "data": {
        "group": "coexp",
        "id": "e245",
        "intn": true,
        "networkGroupId": 18,
        "networkId": 1213,
        "rIntnId": 247,
        "source": "600535",
        "target": "611408",
        "weight": 0.0045459457
       }
      }
     },
     "c8524e4bc4134ec19c91e7887982c8d7": {
      "model_module": "jupyter-cytoscape",
      "model_module_version": "^0.2.2",
      "model_name": "EdgeModel",
      "state": {
       "_model_module_version": "^0.2.2",
       "_view_module": "jupyter-cytoscape",
       "_view_module_version": "^0.2.2",
       "data": {
        "group": "path",
        "id": "e293",
        "intn": true,
        "networkGroupId": 21,
        "networkId": 920,
        "rIntnId": 295,
        "source": "599863",
        "target": "612341",
        "weight": 0.06087656
       }
      }
     },
     "c89a81971d7c400b870ac83c7b9eb7e1": {
      "model_module": "jupyter-cytoscape",
      "model_module_version": "^0.2.2",
      "model_name": "NodeModel",
      "state": {
       "_model_module_version": "^0.2.2",
       "_view_module_version": "^0.2.2",
       "data": {
        "gene": true,
        "id": "600585",
        "idInt": 600585,
        "name": "POLD3",
        "query": false,
        "score": 0.0024938385347587078
       }
      }
     },
     "c92237e91a3a418da7e6943e4882c4f7": {
      "model_module": "jupyter-cytoscape",
      "model_module_version": "^0.2.2",
      "model_name": "EdgeModel",
      "state": {
       "_model_module_version": "^0.2.2",
       "_view_module": "jupyter-cytoscape",
       "_view_module_version": "^0.2.2",
       "data": {
        "group": "path",
        "id": "e334",
        "intn": true,
        "networkGroupId": 21,
        "networkId": 917,
        "rIntnId": 336,
        "source": "605846",
        "target": "600585",
        "weight": 0.078957625
       }
      }
     },
     "c9344fae2c974efca3b1e726472720ff": {
      "model_module": "jupyter-cytoscape",
      "model_module_version": "^0.2.2",
      "model_name": "EdgeModel",
      "state": {
       "_model_module_version": "^0.2.2",
       "_view_module": "jupyter-cytoscape",
       "_view_module_version": "^0.2.2",
       "data": {
        "group": "coexp",
        "id": "e135",
        "intn": true,
        "networkGroupId": 18,
        "networkId": 1160,
        "rIntnId": 137,
        "source": "610236",
        "target": "603070",
        "weight": 0.003905569
       }
      }
     },
     "c945568301c1493689815ef7851cc71b": {
      "model_module": "jupyter-cytoscape",
      "model_module_version": "^0.2.2",
      "model_name": "EdgeModel",
      "state": {
       "_model_module_version": "^0.2.2",
       "_view_module": "jupyter-cytoscape",
       "_view_module_version": "^0.2.2",
       "data": {
        "group": "coexp",
        "id": "e178",
        "intn": true,
        "networkGroupId": 18,
        "networkId": 939,
        "rIntnId": 180,
        "source": "603700",
        "target": "603070",
        "weight": 0.010232103
       }
      }
     },
     "c9a9daadbe4649c8b0b6d3c9805efa0d": {
      "model_module": "jupyter-cytoscape",
      "model_module_version": "^0.2.2",
      "model_name": "EdgeModel",
      "state": {
       "_model_module_version": "^0.2.2",
       "_view_module": "jupyter-cytoscape",
       "_view_module_version": "^0.2.2",
       "data": {
        "group": "spd",
        "id": "e578",
        "intn": true,
        "networkGroupId": 24,
        "networkId": 1229,
        "rIntnId": 580,
        "source": "599724",
        "target": "605846",
        "weight": 0.02917116
       }
      }
     },
     "c9f395abd0f748acba40ebd5305a43a6": {
      "model_module": "jupyter-cytoscape",
      "model_module_version": "^0.2.2",
      "model_name": "EdgeModel",
      "state": {
       "_model_module_version": "^0.2.2",
       "_view_module": "jupyter-cytoscape",
       "_view_module_version": "^0.2.2",
       "data": {
        "group": "coexp",
        "id": "e252",
        "intn": true,
        "networkGroupId": 18,
        "networkId": 1213,
        "rIntnId": 254,
        "source": "609734",
        "target": "605755",
        "weight": 0.0056021707
       }
      }
     },
     "c9fc204fe6f9433a9c86e2bb1bdbf19f": {
      "model_module": "jupyter-cytoscape",
      "model_module_version": "^0.2.2",
      "model_name": "EdgeModel",
      "state": {
       "_model_module_version": "^0.2.2",
       "_view_module": "jupyter-cytoscape",
       "_view_module_version": "^0.2.2",
       "data": {
        "group": "pi",
        "id": "e468",
        "intn": true,
        "networkGroupId": 22,
        "networkId": 799,
        "rIntnId": 470,
        "source": "609734",
        "target": "605755",
        "weight": 0.024592193
       }
      }
     },
     "cb00dd02a73047f18acbb8f59bf7b77a": {
      "model_module": "jupyter-cytoscape",
      "model_module_version": "^0.2.2",
      "model_name": "EdgeModel",
      "state": {
       "_model_module_version": "^0.2.2",
       "_view_module": "jupyter-cytoscape",
       "_view_module_version": "^0.2.2",
       "data": {
        "group": "coexp",
        "id": "e88",
        "intn": true,
        "networkGroupId": 18,
        "networkId": 1219,
        "rIntnId": 90,
        "source": "603700",
        "target": "610236",
        "weight": 0.008558536
       }
      }
     },
     "cc5c11645e004366aba0a7afb866ba91": {
      "model_module": "jupyter-cytoscape",
      "model_module_version": "^0.2.2",
      "model_name": "EdgeModel",
      "state": {
       "_model_module_version": "^0.2.2",
       "_view_module": "jupyter-cytoscape",
       "_view_module_version": "^0.2.2",
       "data": {
        "group": "path",
        "id": "e327",
        "intn": true,
        "networkGroupId": 21,
        "networkId": 917,
        "rIntnId": 329,
        "source": "603070",
        "target": "605755",
        "weight": 0.06335889
       }
      }
     },
     "cd0a9fca3f76459d8bf428b634c958b7": {
      "model_module": "jupyter-cytoscape",
      "model_module_version": "^0.2.2",
      "model_name": "EdgeModel",
      "state": {
       "_model_module_version": "^0.2.2",
       "_view_module": "jupyter-cytoscape",
       "_view_module_version": "^0.2.2",
       "data": {
        "group": "coexp",
        "id": "e126",
        "intn": true,
        "networkGroupId": 18,
        "networkId": 948,
        "rIntnId": 128,
        "source": "606768",
        "target": "600585",
        "weight": 0.012502968
       }
      }
     },
     "cdd955a57c384f3ebe3eafb14087ffc1": {
      "model_module": "jupyter-cytoscape",
      "model_module_version": "^0.2.2",
      "model_name": "EdgeModel",
      "state": {
       "_model_module_version": "^0.2.2",
       "_view_module": "jupyter-cytoscape",
       "_view_module_version": "^0.2.2",
       "data": {
        "group": "predict",
        "id": "e532",
        "intn": true,
        "networkGroupId": 23,
        "networkId": 918,
        "rIntnId": 534,
        "source": "605846",
        "target": "605755",
        "weight": 0.015783511
       }
      }
     },
     "ce1a5113d5e040e4989c8a239c99d628": {
      "model_module": "jupyter-cytoscape",
      "model_module_version": "^0.2.2",
      "model_name": "EdgeModel",
      "state": {
       "_model_module_version": "^0.2.2",
       "_view_module": "jupyter-cytoscape",
       "_view_module_version": "^0.2.2",
       "data": {
        "group": "pi",
        "id": "e363",
        "intn": true,
        "networkGroupId": 22,
        "networkId": 721,
        "rIntnId": 365,
        "source": "610236",
        "target": "605755",
        "weight": 0.10376385
       }
      }
     },
     "ce50df73275c41d89b646d48d80c2cf9": {
      "model_module": "jupyter-cytoscape",
      "model_module_version": "^0.2.2",
      "model_name": "EdgeModel",
      "state": {
       "_model_module_version": "^0.2.2",
       "_view_module": "jupyter-cytoscape",
       "_view_module_version": "^0.2.2",
       "data": {
        "group": "pi",
        "id": "e445",
        "intn": true,
        "networkGroupId": 22,
        "networkId": 909,
        "rIntnId": 447,
        "source": "600046",
        "target": "599724",
        "weight": 0.16274704
       }
      }
     },
     "d0b9522d9b39423ead5e1a085ccc9483": {
      "model_module": "jupyter-cytoscape",
      "model_module_version": "^0.2.2",
      "model_name": "EdgeModel",
      "state": {
       "_model_module_version": "^0.2.2",
       "_view_module": "jupyter-cytoscape",
       "_view_module_version": "^0.2.2",
       "data": {
        "group": "coloc",
        "id": "e260",
        "intn": true,
        "networkGroupId": 19,
        "networkId": 1215,
        "rIntnId": 262,
        "source": "605846",
        "target": "605755",
        "weight": 0.0024976064
       }
      }
     },
     "d0f96361603a4ff6933fa3ac09874ffb": {
      "model_module": "jupyter-cytoscape",
      "model_module_version": "^0.2.2",
      "model_name": "EdgeModel",
      "state": {
       "_model_module_version": "^0.2.2",
       "_view_module": "jupyter-cytoscape",
       "_view_module_version": "^0.2.2",
       "data": {
        "group": "coexp",
        "id": "e7",
        "intn": true,
        "networkGroupId": 18,
        "networkId": 1133,
        "rIntnId": 9,
        "source": "605846",
        "target": "605755",
        "weight": 0.010978148
       }
      }
     },
     "d12efe73b5e6467191debb5aad2166f1": {
      "model_module": "jupyter-cytoscape",
      "model_module_version": "^0.2.2",
      "model_name": "EdgeModel",
      "state": {
       "_model_module_version": "^0.2.2",
       "_view_module": "jupyter-cytoscape",
       "_view_module_version": "^0.2.2",
       "data": {
        "group": "coexp",
        "id": "e221",
        "intn": true,
        "networkGroupId": 18,
        "networkId": 1221,
        "rIntnId": 223,
        "source": "600535",
        "target": "610236",
        "weight": 0.0037936512
       }
      }
     },
     "d1537cd716954522a6678d30b18e576a": {
      "model_module": "jupyter-cytoscape",
      "model_module_version": "^0.2.2",
      "model_name": "EdgeModel",
      "state": {
       "_model_module_version": "^0.2.2",
       "_view_module": "jupyter-cytoscape",
       "_view_module_version": "^0.2.2",
       "data": {
        "group": "pi",
        "id": "e422",
        "intn": true,
        "networkGroupId": 22,
        "networkId": 909,
        "rIntnId": 424,
        "source": "612341",
        "target": "605755",
        "weight": 0.016832655
       }
      }
     },
     "d199c0ed92624877b2c5527e931de588": {
      "model_module": "jupyter-cytoscape",
      "model_module_version": "^0.2.2",
      "model_name": "EdgeModel",
      "state": {
       "_model_module_version": "^0.2.2",
       "_view_module": "jupyter-cytoscape",
       "_view_module_version": "^0.2.2",
       "data": {
        "group": "predict",
        "id": "e500",
        "intn": true,
        "networkGroupId": 23,
        "networkId": 783,
        "rIntnId": 502,
        "source": "602299",
        "target": "605755",
        "weight": 0.34825513
       }
      }
     },
     "d1d9b51b05bd4eddb1e9a7840ceb7ea9": {
      "model_module": "jupyter-cytoscape",
      "model_module_version": "^0.2.2",
      "model_name": "EdgeModel",
      "state": {
       "_model_module_version": "^0.2.2",
       "_view_module": "jupyter-cytoscape",
       "_view_module_version": "^0.2.2",
       "data": {
        "group": "coexp",
        "id": "e95",
        "intn": true,
        "networkGroupId": 18,
        "networkId": 991,
        "rIntnId": 97,
        "source": "602299",
        "target": "605755",
        "weight": 0.013028561
       }
      }
     },
     "d28865c8c4554b01842759fa2de20ce1": {
      "model_module": "jupyter-cytoscape",
      "model_module_version": "^0.2.2",
      "model_name": "EdgeModel",
      "state": {
       "_model_module_version": "^0.2.2",
       "_view_module": "jupyter-cytoscape",
       "_view_module_version": "^0.2.2",
       "data": {
        "group": "predict",
        "id": "e503",
        "intn": true,
        "networkGroupId": 23,
        "networkId": 783,
        "rIntnId": 505,
        "source": "606768",
        "target": "603700",
        "weight": 0.18779339
       }
      }
     },
     "d28cec911e0b4431af428f3e762ed454": {
      "model_module": "jupyter-cytoscape",
      "model_module_version": "^0.2.2",
      "model_name": "EdgeModel",
      "state": {
       "_model_module_version": "^0.2.2",
       "_view_module": "jupyter-cytoscape",
       "_view_module_version": "^0.2.2",
       "data": {
        "group": "coexp",
        "id": "e11",
        "intn": true,
        "networkGroupId": 18,
        "networkId": 1133,
        "rIntnId": 13,
        "source": "600535",
        "target": "602299",
        "weight": 0.0050190594
       }
      }
     },
     "d298a572476a4c5ca89fbea6719eff48": {
      "model_module": "jupyter-cytoscape",
      "model_module_version": "^0.2.2",
      "model_name": "EdgeModel",
      "state": {
       "_model_module_version": "^0.2.2",
       "_view_module": "jupyter-cytoscape",
       "_view_module_version": "^0.2.2",
       "data": {
        "group": "predict",
        "id": "e557",
        "intn": true,
        "networkGroupId": 23,
        "networkId": 761,
        "rIntnId": 559,
        "source": "600046",
        "target": "600585",
        "weight": 0.57735026
       }
      }
     },
     "d299f32f6c624db4aeae0ea677c50127": {
      "model_module": "jupyter-cytoscape",
      "model_module_version": "^0.2.2",
      "model_name": "EdgeModel",
      "state": {
       "_model_module_version": "^0.2.2",
       "_view_module": "jupyter-cytoscape",
       "_view_module_version": "^0.2.2",
       "data": {
        "group": "pi",
        "id": "e459",
        "intn": true,
        "networkGroupId": 22,
        "networkId": 799,
        "rIntnId": 461,
        "source": "605846",
        "target": "603070",
        "weight": 0.029140742
       }
      }
     },
     "d2dcdb8bb07e445a81613aaa10a0c1df": {
      "model_module": "jupyter-cytoscape",
      "model_module_version": "^0.2.2",
      "model_name": "EdgeModel",
      "state": {
       "_model_module_version": "^0.2.2",
       "_view_module": "jupyter-cytoscape",
       "_view_module_version": "^0.2.2",
       "data": {
        "group": "coexp",
        "id": "e161",
        "intn": true,
        "networkGroupId": 18,
        "networkId": 1112,
        "rIntnId": 163,
        "source": "612326",
        "target": "599863",
        "weight": 0.013198467
       }
      }
     },
     "d2f366b8d9f54e5bb83163425d27db73": {
      "model_module": "jupyter-cytoscape",
      "model_module_version": "^0.2.2",
      "model_name": "EdgeModel",
      "state": {
       "_model_module_version": "^0.2.2",
       "_view_module": "jupyter-cytoscape",
       "_view_module_version": "^0.2.2",
       "data": {
        "group": "path",
        "id": "e318",
        "intn": true,
        "networkGroupId": 21,
        "networkId": 920,
        "rIntnId": 320,
        "source": "600046",
        "target": "605846",
        "weight": 0.0462355
       }
      }
     },
     "d34fd4cb24d64524ab21bd9009f57123": {
      "model_module": "jupyter-cytoscape",
      "model_module_version": "^0.2.2",
      "model_name": "EdgeModel",
      "state": {
       "_model_module_version": "^0.2.2",
       "_view_module": "jupyter-cytoscape",
       "_view_module_version": "^0.2.2",
       "data": {
        "group": "pi",
        "id": "e451",
        "intn": true,
        "networkGroupId": 22,
        "networkId": 799,
        "rIntnId": 453,
        "source": "599889",
        "target": "611408",
        "weight": 0.019931292
       }
      }
     },
     "d42e0a12833346b08973e29d83277a56": {
      "model_module": "jupyter-cytoscape",
      "model_module_version": "^0.2.2",
      "model_name": "EdgeModel",
      "state": {
       "_model_module_version": "^0.2.2",
       "_view_module": "jupyter-cytoscape",
       "_view_module_version": "^0.2.2",
       "data": {
        "group": "pi",
        "id": "e400",
        "intn": true,
        "networkGroupId": 22,
        "networkId": 665,
        "rIntnId": 402,
        "source": "599724",
        "target": "605846",
        "weight": 0.096112944
       }
      }
     },
     "d51cdd9640ed4c0bbd28063b6ce17e99": {
      "model_module": "jupyter-cytoscape",
      "model_module_version": "^0.2.2",
      "model_name": "GraphModel",
      "state": {
       "_model_module_version": "^0.2.2",
       "_view_module": "jupyter-cytoscape",
       "_view_module_version": "^0.2.2",
       "edges": [
        "IPY_MODEL_193c6f0ead834d9d82e22712912de629",
        "IPY_MODEL_bc82f7319a394d91b9889ebb516d909f",
        "IPY_MODEL_ed058b8848754648ab00a2cdf53377a3",
        "IPY_MODEL_2f12a1fc98124f999b0d97866794c0f2",
        "IPY_MODEL_fd1994f53ea04c9999b54461d69974aa",
        "IPY_MODEL_da58dd32dbb24b3ca6eaca25eab1ca1a",
        "IPY_MODEL_9278dbfa8ccd4744be0e7c8ef118aa50",
        "IPY_MODEL_d0f96361603a4ff6933fa3ac09874ffb",
        "IPY_MODEL_2d5a2ca6729046a9b1ed698132aa9ec5",
        "IPY_MODEL_669e70a1e39f4bf88828cfd9703817ac",
        "IPY_MODEL_0020f997e5df4c19813e9cc80c8159a8",
        "IPY_MODEL_d28cec911e0b4431af428f3e762ed454",
        "IPY_MODEL_2170b28ac00842b284142287a9be0347",
        "IPY_MODEL_471bf6b0024e44499884aa9ae8f2c619",
        "IPY_MODEL_febc2b46e2d34b3bb22bf0606897a261",
        "IPY_MODEL_a4afe85ba3bb4d31ac7b3e90afdcce4d",
        "IPY_MODEL_8baeea0b3a264633b7cbe09cfd47ea29",
        "IPY_MODEL_b121014ae5894a9eb5e4619e87167da0",
        "IPY_MODEL_f429244d9c80413699b5b8ee2689044d",
        "IPY_MODEL_09c729b46ee04609b5c9b6b0ac7e1c8e",
        "IPY_MODEL_2503f51b1a7c471ea0c568bc2b1a5999",
        "IPY_MODEL_bb530a0784814c0f8b2da727e803153f",
        "IPY_MODEL_491d055a6da24eb887cacc9a7dddb752",
        "IPY_MODEL_5a6ace277e214dfcaa78c6f9f63e8328",
        "IPY_MODEL_0665b5900f274ead8bbe45fcbdfc0598",
        "IPY_MODEL_f8e7bce1ad854de9b2ab132541b1d623",
        "IPY_MODEL_b9d1597ea0384cb29783e620df8f95ce",
        "IPY_MODEL_b45d02d4fe664f419b0e30827c4a61ca",
        "IPY_MODEL_e9b35c9bf87f410dafac03a1ca62be7f",
        "IPY_MODEL_7f83de13f2da4ddd85b6af4b5db5d0fe",
        "IPY_MODEL_e879867a32ef448cad47d295907b476c",
        "IPY_MODEL_f3c852698e0d40be8301db108a2dc416",
        "IPY_MODEL_1783682b5d304825bc9c2b7e06d9da07",
        "IPY_MODEL_5f274a0496d44f20a0a45547424a887d",
        "IPY_MODEL_f8f5daf3476c41bba844e38e724d68e0",
        "IPY_MODEL_5ecce6cb68034ff49fed642acf1d21b0",
        "IPY_MODEL_ab2bff34f5d24b8a9ba80468b1836a83",
        "IPY_MODEL_43be73e692174784b35fcacabd9e3464",
        "IPY_MODEL_2cebaf3e196c45bab640429117966cf6",
        "IPY_MODEL_ae1fc289fb3b401e9eb6180dece69899",
        "IPY_MODEL_1615c070c1d34002b589156e2be5448a",
        "IPY_MODEL_900b47fff6fc46f28283df8f80681d22",
        "IPY_MODEL_5bb0033498a04331b4e62e4757c4a9dd",
        "IPY_MODEL_dd80cc9998174176b79cb9d30c14cd4e",
        "IPY_MODEL_e410fe83ff8d493cb866bf36551f23f0",
        "IPY_MODEL_459c1efd6b7842a086b21333ec03b1e9",
        "IPY_MODEL_0c216d0b75d04602ae9533d81b362a07",
        "IPY_MODEL_91e94d2e584a456fb722edeb43ea8a17",
        "IPY_MODEL_8a90cd4791a845d9b99a8dff7ab9d9a8",
        "IPY_MODEL_27b77e3faa6e4297970e858d5a6f8ba4",
        "IPY_MODEL_431189f9bca54f4991dc2cf6cae1128c",
        "IPY_MODEL_49aa7e7381b640f39db30ae257fb2a90",
        "IPY_MODEL_18b7dd44340546f8ac98c9b04412d7e8",
        "IPY_MODEL_be3d613031f347f184ee6d3aa6a11ac5",
        "IPY_MODEL_aa750d8a49e74f5e99025a00cd008066",
        "IPY_MODEL_935ba2a2b3e0405e9d16ec92b31835bc",
        "IPY_MODEL_3573574b1f9140078350e5bc1ff542e7",
        "IPY_MODEL_4ce8ea806077475fb5d0460113f198d4",
        "IPY_MODEL_5b1884a7d16946c688a9633910040027",
        "IPY_MODEL_789ec95cef4d41a6af6bcde87c5ec643",
        "IPY_MODEL_1f3295b8b3954af6ba05e4b8475851d7",
        "IPY_MODEL_753cb794fd4e4c5a8591fb92787e21bc",
        "IPY_MODEL_a3eff23a6a1b4e9d8f2965677d4497c6",
        "IPY_MODEL_01a22600fda94937bad0cf63f7892932",
        "IPY_MODEL_2e55b827727c47e185cc9a74d9f61378",
        "IPY_MODEL_23e3fd0318804b4fb57e11cd0baeeaf4",
        "IPY_MODEL_d8b9d72cf7a6492893290204428be325",
        "IPY_MODEL_f21ef5f27dae4767afa4978c2c233c10",
        "IPY_MODEL_e63e2ed1eccb4373a5fd271fe9487348",
        "IPY_MODEL_88152a3539074f1e819407da27b4f48e",
        "IPY_MODEL_5a10fdaa9fa44f26a4757f2bec630d85",
        "IPY_MODEL_5da4b524a038427085cc0c42ec34f7bf",
        "IPY_MODEL_a95a74cbd4084070a41ca45767bfe41a",
        "IPY_MODEL_afa245b8bf4d4ca48104ab7fdcab1d46",
        "IPY_MODEL_f02a441983544dcea2980c38430e9f98",
        "IPY_MODEL_5f733b92342947ceae8e18b63dc731f4",
        "IPY_MODEL_57bec09c453f4b81af925bb3122a7424",
        "IPY_MODEL_f2499908eca146da9355b443e1299eb1",
        "IPY_MODEL_0692ca13c41c4628a18bf454a998baab",
        "IPY_MODEL_74565c1864fa4db38fe4cec942790b04",
        "IPY_MODEL_e76229430853425b8d30ae352dd59b06",
        "IPY_MODEL_81a543334c1a4d3e86f76ca82b9e8fb4",
        "IPY_MODEL_3f8a606485e84260856d4b4becfdd429",
        "IPY_MODEL_3216070d2cc4462a89b0ce41aa5fe98e",
        "IPY_MODEL_f4f7323837cb420086c0f42eff6c1915",
        "IPY_MODEL_5740ea4d6aed47ea9bdc80d4bd960a6c",
        "IPY_MODEL_1acc58a61225449ca40fd006797564fc",
        "IPY_MODEL_a20175ac48234487a8b9a979e0600cf2",
        "IPY_MODEL_cb00dd02a73047f18acbb8f59bf7b77a",
        "IPY_MODEL_8759c0a56947458bb73aa53a0211cfa3",
        "IPY_MODEL_ba7343f7db664d22b10118c64cde980a",
        "IPY_MODEL_be10b478d17244918734efd1e40cb69f",
        "IPY_MODEL_2c5b538bc3f64501bb3b25b1d8774fcd",
        "IPY_MODEL_a7989b43de1440bbbab4c62d8c1081a7",
        "IPY_MODEL_511999a2c0ad499587dab609654eae68",
        "IPY_MODEL_d1d9b51b05bd4eddb1e9a7840ceb7ea9",
        "IPY_MODEL_37f63590a57c4fb2904ea54f01c00835",
        "IPY_MODEL_0943d8bfa7ac41f99e23a8eaa9b71043",
        "IPY_MODEL_524e696f61384186915f05c58493947b",
        "IPY_MODEL_88e1e14fd1644605b3074b5483b60101",
        "IPY_MODEL_0308257a8b6e4121954b8067e5031338",
        "IPY_MODEL_a0399555357c46a8a7c20e396d3f8c7e",
        "IPY_MODEL_505abd609ebb4341907be8478266ff54",
        "IPY_MODEL_629feafbdedb4cb6a1d2ca70b278bd1d",
        "IPY_MODEL_99246a01993b4bdea2501a5d4757cb89",
        "IPY_MODEL_81989f0b01ed4401abb73e2b56cf1084",
        "IPY_MODEL_344517c1f66e4cfeb9251b23d6271acf",
        "IPY_MODEL_381b856ca69b42f9bcbe98d856684411",
        "IPY_MODEL_a731ba31f66f433a82eb5df220ac2f9f",
        "IPY_MODEL_bcc1ae6ffde848978e8563fcd8ead4f7",
        "IPY_MODEL_f5a52a61f61b4106b3442a1d3ffc1fda",
        "IPY_MODEL_68a02d6779cb41a9876603d990ed9701",
        "IPY_MODEL_094c33fa011a42018da9942675a47895",
        "IPY_MODEL_2831f51f921c467aa6775cbbf03b0c57",
        "IPY_MODEL_e0a4075e92924e67a838b630f2127e57",
        "IPY_MODEL_45ef3d4fca9b4e51862bbfa5344678c6",
        "IPY_MODEL_b5c8ee6863d7462eae4bd78d11b197f1",
        "IPY_MODEL_828c243a494849bf937fd80b394fd88a",
        "IPY_MODEL_f3443c15841944a298f957864eaf9fa1",
        "IPY_MODEL_6a9e45a44a524895b95f278dbae99f8b",
        "IPY_MODEL_d54afbfdd1fe4b198fb6d6a90331d3af",
        "IPY_MODEL_7a4ff51da761428b8e9c56a143574f45",
        "IPY_MODEL_7c3f259e22ea41c89df2bb722a52a48a",
        "IPY_MODEL_651ac11379b84f1fae89c887c2d88ec6",
        "IPY_MODEL_fd9d99377ea2494d8d34315172ce4c00",
        "IPY_MODEL_c7256bc8fdab4c52ae00cdb196775ed4",
        "IPY_MODEL_cd0a9fca3f76459d8bf428b634c958b7",
        "IPY_MODEL_8c00126b847f4b9ab2037470a7fd25f3",
        "IPY_MODEL_18afdae4663442a394c2bd428abed7bc",
        "IPY_MODEL_2ecccbb543184b1aa13d9795fded25cd",
        "IPY_MODEL_5d45ae0f283246f7a81cf8c78aa67bcc",
        "IPY_MODEL_9ed716297c09454ca39b18935f48ec30",
        "IPY_MODEL_a68c566720184afb924dfde70175bb38",
        "IPY_MODEL_765d29d8ba5b4f3ab9a812e60b89ebc4",
        "IPY_MODEL_27feafc4143b494a91601ae62cfcd573",
        "IPY_MODEL_c9344fae2c974efca3b1e726472720ff",
        "IPY_MODEL_a115601cb6ff47d3a4fb0632afa1eede",
        "IPY_MODEL_31ac98b995b143d69cbeeccf891a7c84",
        "IPY_MODEL_925a2f0d822643c6ab62734753634ea7",
        "IPY_MODEL_b547eb2f1e6a46068ae31c49bacbc5d1",
        "IPY_MODEL_93061d7c8fe0445f9bafa64bb044dabb",
        "IPY_MODEL_c6b6d0ade1b949a588993e1a60210ce8",
        "IPY_MODEL_1199c01efb0f4f74a1316161bd1d17cb",
        "IPY_MODEL_16adc31f83144a3aaaeb46d5b41ae9d6",
        "IPY_MODEL_72fc14ea97834151985fe9eaf020b4d2",
        "IPY_MODEL_fde60d0bdb244afc92014fd35bc86d58",
        "IPY_MODEL_ba2870cbaf40455499b70fd41877b9be",
        "IPY_MODEL_7c9bb6ec48a34113a501edc9d6fe2400",
        "IPY_MODEL_89d33eab340a445ab06c2404650491c1",
        "IPY_MODEL_6e833272be2b438495542cad02e2e4d3",
        "IPY_MODEL_bbd98122768a425ca259fedb67018c79",
        "IPY_MODEL_352507ede9214d2999d30f1b8ec385b0",
        "IPY_MODEL_0189526fcfdd49fab9d5cdb0286dbf79",
        "IPY_MODEL_2405b4e2008b4cd187126ebe713e82d6",
        "IPY_MODEL_100f86277e6440b2ab4b433ab5066b7e",
        "IPY_MODEL_dc85864848554b3189552f1eacb5345c",
        "IPY_MODEL_66957d34ebf04b5d8a61eefd8d2b3e65",
        "IPY_MODEL_6242c650e87d4179827814076919c93e",
        "IPY_MODEL_41bd13994290453aa1baf31ad99f4582",
        "IPY_MODEL_c1e3dcf7f5d648debae7d93b70bf6691",
        "IPY_MODEL_532b02001b6645fab56bc99b4a92831e",
        "IPY_MODEL_d2dcdb8bb07e445a81613aaa10a0c1df",
        "IPY_MODEL_7e32769956e64cddb9fc4d989a43556d",
        "IPY_MODEL_4adebc08b12948a1bb898f9a6cb16c92",
        "IPY_MODEL_8933735a6ad54026bd2307e3c51fb76e",
        "IPY_MODEL_c2b5623e4e2d4e359b1e9b44f3936177",
        "IPY_MODEL_8eebcdf09c814add8533940c6ce0e1ed",
        "IPY_MODEL_3e7d243e601b460c925e957a02b026d5",
        "IPY_MODEL_169af12cf06e4618ba9df25d7919244e",
        "IPY_MODEL_9f34c593e9ae4191bae48636bf558fa2",
        "IPY_MODEL_2109fad9f16b4c2788847bc2a2d3b678",
        "IPY_MODEL_c7de3fac9ca04f78a771ae0946564eab",
        "IPY_MODEL_94140a49e0684f7db521494a5158753e",
        "IPY_MODEL_87329d23e7ce4164a74398426d8bab8e",
        "IPY_MODEL_b0647e60a0d34c2fbcbe5fcb6c73522b",
        "IPY_MODEL_78503dccea624d148439057f109622b1",
        "IPY_MODEL_3fb6af00910e4a4fb28f2c1fa2cb4de2",
        "IPY_MODEL_6b9d8ece047147b1b20b56ed12af2d0f",
        "IPY_MODEL_c945568301c1493689815ef7851cc71b",
        "IPY_MODEL_187bdbbf4dfb4ebdb77554b11dc72c9f",
        "IPY_MODEL_de11bc43bde0444096d7c3051b4708f6",
        "IPY_MODEL_b92dd8dc7e7b42e696cd10aff157ff97",
        "IPY_MODEL_4477f7fd75f34cd28bdc068d957a8c76",
        "IPY_MODEL_7c03ee85a7d8422d89d87c5f1d120217",
        "IPY_MODEL_3c7a353f37254694b8952f97bea8f317",
        "IPY_MODEL_4f96ead6aeee4e79a5e19d3c34dd9394",
        "IPY_MODEL_a05b4f9c9ec8451e9bdf817c64723da2",
        "IPY_MODEL_5a75e2189c7f49eabfd4134fc26e049d",
        "IPY_MODEL_aab2e65d24794d1384356b48998898c7",
        "IPY_MODEL_7bd5597a89ca43d5a85366d9b683bda7",
        "IPY_MODEL_8c820fa5642641bcbce5850ba06d98c2",
        "IPY_MODEL_ad6b1a3c3dfa4a17ba8a10b6688d92c1",
        "IPY_MODEL_22e787c6c1e943198ab8f6dc0a99da88",
        "IPY_MODEL_ab19e94647464731b371c9bb8ecab871",
        "IPY_MODEL_38db2917febd496c95b01e87a0df5e4a",
        "IPY_MODEL_0fbfb704d6ad40888b6940d5a52cae9d",
        "IPY_MODEL_37d0f34fb9904691b49697a214d5a553",
        "IPY_MODEL_e731fbc891244997a0bf0f58c4df818b",
        "IPY_MODEL_d8e11c990daf4e629ecfc02af3ea78bd",
        "IPY_MODEL_1ada34d820054a0baa2dacba32cdd524",
        "IPY_MODEL_d69020cb2952421cacbd57e51ccb1356",
        "IPY_MODEL_609aa1f014f1442aa7be78326d4ce6f4",
        "IPY_MODEL_74e4703b6b2b4534b42f4c0cbf1335e0",
        "IPY_MODEL_6f1a64c5f4404352b7ad4033c2b00443",
        "IPY_MODEL_44a3ca93219d4c1c808c51f01f32b36e",
        "IPY_MODEL_b7f177360eaa41749eee047bad365677",
        "IPY_MODEL_03baca7bf85f4af18d861a3c7003d194",
        "IPY_MODEL_1d8893a0de4449369c6e0c6dad4cf420",
        "IPY_MODEL_23073d32628643d1a9c4402c3df4fcfc",
        "IPY_MODEL_c1453dcd13374316aed0c7e98171db0e",
        "IPY_MODEL_51979b0591a04298aba0818eefa3645c",
        "IPY_MODEL_7c023c4a88db4242be3a6e1dc78dcd6b",
        "IPY_MODEL_1a8ddd88a5c24d998e0bf9dc1dd4665e",
        "IPY_MODEL_196f77cccf2144d0b624f37a7cfd5453",
        "IPY_MODEL_7448fa9db16d45c7be9fe92595742d50",
        "IPY_MODEL_1817044f2a4042efb92c32ac6d2146af",
        "IPY_MODEL_1f969edefd4540d8992af788c62fd37a",
        "IPY_MODEL_e348b06e2b954b479a377ac85665f537",
        "IPY_MODEL_b83176a782fc48648ffc6e5b38b5972d",
        "IPY_MODEL_911c1d88b47241cfb7dd87bfb4890f98",
        "IPY_MODEL_1b380a59945f4566a33683d380ca3e01",
        "IPY_MODEL_d12efe73b5e6467191debb5aad2166f1",
        "IPY_MODEL_1e701939208b480888915991230244d1",
        "IPY_MODEL_d7e2f3f5a1cc44fdaf246d21e9ee0a3d",
        "IPY_MODEL_0d61662bdff040eba99e3ba4f7575000",
        "IPY_MODEL_180ac490ea5d40ff83de61a354d766a3",
        "IPY_MODEL_634cd7fa122848f499d9c248d9984a05",
        "IPY_MODEL_ad63226ce1024f30849cd7fe1bb1d2cc",
        "IPY_MODEL_4f81cdc11ef3411cbed5e648d48f8fbb",
        "IPY_MODEL_1fa949c709ad40ef803e10298bb0df45",
        "IPY_MODEL_266798e566cf47f3b5903e1ef80e7b66",
        "IPY_MODEL_073504681ff94995b85bb177e618eb0d",
        "IPY_MODEL_2b2638368b874e80a2e996fe3ab2bf6e",
        "IPY_MODEL_4abd5a96683142c48bd66ff373f335ef",
        "IPY_MODEL_e539562da23640b183c68dd0627664b9",
        "IPY_MODEL_3ef85de71bbf4795a00de7a5a400de98",
        "IPY_MODEL_518c625ef9eb432d8c093606cfa712a4",
        "IPY_MODEL_7c5acb99e0764f3eb42be9c6fec0d76c",
        "IPY_MODEL_e402f7bb297d45a3a9d202cc94d85f7b",
        "IPY_MODEL_86e8f450cf1248dd8eef052ba047b670",
        "IPY_MODEL_fc450e2a03534a0ab969e5586f5b505c",
        "IPY_MODEL_1fef96d4b53a4630a92d567b9094720a",
        "IPY_MODEL_27e7f7a238c54a70a3d992d029756ae8",
        "IPY_MODEL_7d854bf28e5e49c3a3313be02df1ac62",
        "IPY_MODEL_80e63a4aa95c401a863e93c184673538",
        "IPY_MODEL_c7fe7d7e9d19448fa2acbeb6a8444cb1",
        "IPY_MODEL_46a56547ba3f4f25a12f458511c0f711",
        "IPY_MODEL_9698175ce117430a825cb5ee38dce509",
        "IPY_MODEL_0b0dfbb14c1f4d899cef730949ce5e3f",
        "IPY_MODEL_db583378ad1046e09ff09f5da0fdbb5a",
        "IPY_MODEL_4b3bcccc33094517a9e18ce3555d7f32",
        "IPY_MODEL_af552a42ead04fb49b03382838b4083e",
        "IPY_MODEL_c9f395abd0f748acba40ebd5305a43a6",
        "IPY_MODEL_949aab36fb1a485ea7b973cb981699bd",
        "IPY_MODEL_77d01bcb2c9d4fefaefc3c5ce2edfafe",
        "IPY_MODEL_ed4b4f7ea5a54d25b2efc660e5f0dbf1",
        "IPY_MODEL_48b98901bf5f4454b322892eb64f9d74",
        "IPY_MODEL_1e4d87b996ae4423801ef6f1e46389c9",
        "IPY_MODEL_31ba923591774f1c8d7f91f45208020b",
        "IPY_MODEL_fffc70548e584e239aa94865a6bfdb95",
        "IPY_MODEL_d0b9522d9b39423ead5e1a085ccc9483",
        "IPY_MODEL_169dad92c6764e378cbb7f5e81d74b24",
        "IPY_MODEL_ee58d1b74e8a4e1dae8c084dc9fdddc1",
        "IPY_MODEL_a641cb148c8e4942a794ccb8e77ef46f",
        "IPY_MODEL_42f5fcd242ef44089e2d27f3440994fb",
        "IPY_MODEL_38a38479f1f74adca7c16dca473f889f",
        "IPY_MODEL_a39eac82e5db48449106af9131c7460e",
        "IPY_MODEL_4140ecb9eca24b12b32f1770d17cf194",
        "IPY_MODEL_c65fd9de81664745af6adae15c966675",
        "IPY_MODEL_bcd6e5b028cf45a9a0fb3cf2fb0aed79",
        "IPY_MODEL_bcb1851c17bb4232b227835cd428bdbe",
        "IPY_MODEL_8e61b772034b4749805aa96a5853f0b3",
        "IPY_MODEL_557b9840e9a64a35a65b26a39b76ff40",
        "IPY_MODEL_74aa3250daef4c64beb739b068aafd2a",
        "IPY_MODEL_54616c8acb9d4116a9db628cce7afd9c",
        "IPY_MODEL_ac4e19fe1c614878b1e0d71bfae64364",
        "IPY_MODEL_19a5c921c70b4923a01c9fc8dac97a19",
        "IPY_MODEL_eee22795cc0f4574a448776c008653a4",
        "IPY_MODEL_3c09ff1b21dd43b2920597dfd00185db",
        "IPY_MODEL_0b23c71ee8c045cbb793e99bcfcb33d4",
        "IPY_MODEL_343134940bcd44dfad9242cb0bba8eac",
        "IPY_MODEL_ff05a75b28eb4455a637bd4b3ae20836",
        "IPY_MODEL_9857a446cc044e64a0df826f312ccf46",
        "IPY_MODEL_5119b3e8fea84855bee316243f41bee3",
        "IPY_MODEL_2f3a3c4a8fa94baea675d31444165e68",
        "IPY_MODEL_9a15d64b4298495281a796da8f0e4964",
        "IPY_MODEL_d9ed7c27cf85469f873ee09a7d74764b",
        "IPY_MODEL_e1de3acc412e40079ae895b60f8262ed",
        "IPY_MODEL_8ff0fe312e184f909c8143c41960c652",
        "IPY_MODEL_7a97226ec7114dc1b8ac26d257b7d3ac",
        "IPY_MODEL_eb3bc23dd07848e2901ce2a98a66e8eb",
        "IPY_MODEL_92d5f7ac441f48ecb422435cb3c05d7c",
        "IPY_MODEL_9e5189ce3b2246e1b8a09c03f2eb5579",
        "IPY_MODEL_c8524e4bc4134ec19c91e7887982c8d7",
        "IPY_MODEL_c4a963f5578940059f9ddd73926810fa",
        "IPY_MODEL_348a68a92b7541e990d7d40d9615fa74",
        "IPY_MODEL_e6a563a2335447069421042fde7ee454",
        "IPY_MODEL_dddcc898667541d99d75ccfbc6de0f96",
        "IPY_MODEL_685e8b0035e845c2bb164b2f0b1b74bf",
        "IPY_MODEL_be5e5be61b7347e58e04f9f001776c87",
        "IPY_MODEL_fd8ffd55b7374dfcbb913f8f617ad14a",
        "IPY_MODEL_fb7db8fc746c4336a5c56af54c4dfc99",
        "IPY_MODEL_75a82b7ab53c4b6084c1017aab90720c",
        "IPY_MODEL_ece1582b00a64c3592f079006275320c",
        "IPY_MODEL_0b4c20d235db4799a83126a2783962c1",
        "IPY_MODEL_6bedfc5daef2427eac0131ef1dcef144",
        "IPY_MODEL_2147f5d3ac0045c0afad12bb438411ab",
        "IPY_MODEL_23942f091a014da7a892acc3a4b30676",
        "IPY_MODEL_ea7197d791f64d14b9164e43f44a953e",
        "IPY_MODEL_23c9a7c508de46d686bb6bc6b6189086",
        "IPY_MODEL_0c8d66aed99e4f3a96282c669d6ef3ec",
        "IPY_MODEL_171d32d9b8754afdb1bf8bb46f69855b",
        "IPY_MODEL_0a68c7c3f601443a932e5de437e8a332",
        "IPY_MODEL_261df35fcad74be8a691c89aebbacbbc",
        "IPY_MODEL_bae7072b59ff4ccfa931016fd17c9d23",
        "IPY_MODEL_3b17d4a7dd8d4aa8ac082aae5335d487",
        "IPY_MODEL_df27adf2d69c4e57ba1c2790eef96d7e",
        "IPY_MODEL_90f3a6df20dd43d5b9537f321fb18d9a",
        "IPY_MODEL_d2f366b8d9f54e5bb83163425d27db73",
        "IPY_MODEL_b5ce41d9b317444bb48d7e5dcda16f5b",
        "IPY_MODEL_b66e30aaa64f4484a88fcdd62d3ec4f9",
        "IPY_MODEL_2a141048a9614a81abb8ea6bb538bc46",
        "IPY_MODEL_18d6a113066c47488a82514d3b6048a7",
        "IPY_MODEL_639d6171c80443eb9a915f997ec5f91c",
        "IPY_MODEL_5973d74ce6c8463e9f39cd4b30a2c72a",
        "IPY_MODEL_9255e98cf69541688ec5bde57f21d159",
        "IPY_MODEL_d9439225ad4245b2a1fe55452e73373a",
        "IPY_MODEL_cc5c11645e004366aba0a7afb866ba91",
        "IPY_MODEL_27f9988c95914693b0547dafbd9fc8cf",
        "IPY_MODEL_f7ab8419999747d0b1ee1c90f130d97b",
        "IPY_MODEL_dcb00b5006fc441586639f77c2e49481",
        "IPY_MODEL_5dbbc81cbd344a5eac995d482988f409",
        "IPY_MODEL_6eafba62eb8b45d390a280fbee2f7495",
        "IPY_MODEL_9a247607669b443984f22efc7ec5fab4",
        "IPY_MODEL_c92237e91a3a418da7e6943e4882c4f7",
        "IPY_MODEL_639e5dd4ba774e8cb4081bd6b61d42c8",
        "IPY_MODEL_a82d50f5295949c4801e59de9231b5d8",
        "IPY_MODEL_6ed136cb2a37497c9cd5c14af0c85903",
        "IPY_MODEL_b6a0b76a8ada479aa14ccf06044e58d8",
        "IPY_MODEL_9d73ee1a7fdc4bd091a54d5b160d0811",
        "IPY_MODEL_bb9ac8e712754d50ada739615a27e5b8",
        "IPY_MODEL_bb153e0fa61f46019c145a5862a3146a",
        "IPY_MODEL_c2818c681433452db2ce828d80e1245e",
        "IPY_MODEL_5fb99be78d224af79b46cdefeff1148f",
        "IPY_MODEL_a852c9d2b3954f11860bd8b242d744c8",
        "IPY_MODEL_ff36988f1f3a4fbe84f4960309ddca9b",
        "IPY_MODEL_9f3074ac1a7c45368caf887436c49ec1",
        "IPY_MODEL_9ed3dbe4d7224a048e1946986bcbec51",
        "IPY_MODEL_a3c5c61da1ae435e8629ae3baac82f2f",
        "IPY_MODEL_e0138e70ce264964bfaabeb91f0fe4cf",
        "IPY_MODEL_f6e289c18ace45beb798aa8be32055c2",
        "IPY_MODEL_2e0555c1d10747248251df8303ff341e",
        "IPY_MODEL_a4b797ca8e334fb6bb2b1a761672b3ff",
        "IPY_MODEL_573a98eb1bca44478d300f6adb43ace0",
        "IPY_MODEL_1d1c3b7303794704bbec724b378c9775",
        "IPY_MODEL_3ccd657be5d346edb26b9c338f3e4054",
        "IPY_MODEL_81f1217f81174843a91141408702e221",
        "IPY_MODEL_0b0d6952244f4b199afa6f947241c2d5",
        "IPY_MODEL_4739e229983d4b048d643e2d1c83fe32",
        "IPY_MODEL_7537404e3de94e56802f4788da7fdd72",
        "IPY_MODEL_56580ee6d2574434b5ec495c7975bc58",
        "IPY_MODEL_a72f215d223e4ca8a7b63c858b8075a1",
        "IPY_MODEL_97a80e08c5b8474499460d3e2c54ab4c",
        "IPY_MODEL_ce1a5113d5e040e4989c8a239c99d628",
        "IPY_MODEL_7dc3494d456e4ac1ad4107d67198e60b",
        "IPY_MODEL_8058dd42c34647f5996ac71a21560e53",
        "IPY_MODEL_1af00a7c640d4179b6926680c8fde937",
        "IPY_MODEL_1c88b5d619dc43958ecdd2ed9f7e0a4b",
        "IPY_MODEL_338a70ccf0244b32b1312d9f660206db",
        "IPY_MODEL_2af2c783a78642d6a6e2ec29cbc9041b",
        "IPY_MODEL_df9749279cd740ae879370ce8fce3876",
        "IPY_MODEL_69f7329b587a458c9de1cc4cad9f4dd8",
        "IPY_MODEL_6233bbb6ae334588b3f249de8d65a80a",
        "IPY_MODEL_fe3afc66b66349238e057a8f8d62ec09",
        "IPY_MODEL_bb23f11777cc4cd59ce608cea715782a",
        "IPY_MODEL_961a16d9648243d9ba4902b30f912641",
        "IPY_MODEL_dbabfe7e908b40e9bcc70dfa2020caa1",
        "IPY_MODEL_5a3c9733b675422587e73dd5caa69c1a",
        "IPY_MODEL_dccb50d81d9b4315a780696e65f6e805",
        "IPY_MODEL_42d435cece85499c9126a31c25c3543e",
        "IPY_MODEL_2e3bf902624d41948ae258ee9fefaeb1",
        "IPY_MODEL_5f18a7be665348b6a773a72394121319",
        "IPY_MODEL_234bbcc8f5d749529cdad67af3143dbd",
        "IPY_MODEL_8e893f5a0c114f7bb88a363bd51ea8c9",
        "IPY_MODEL_8cb03a69861a4f69a7b9d7cd5c4abbc9",
        "IPY_MODEL_02b72ee5cea94d7ea1f61dced3b48a44",
        "IPY_MODEL_3cb8ef18ba8b41aaa1d97f889457c126",
        "IPY_MODEL_443647188b9742fdb488490026d1679d",
        "IPY_MODEL_0fba31f700014f2d88f336271596dec5",
        "IPY_MODEL_68f004c7d8e04805a5cdb77fc9d0a7c6",
        "IPY_MODEL_6e431ac964a644a3a8ed125d4b28b041",
        "IPY_MODEL_885f437633654dd4bf70e1ccf721fa1d",
        "IPY_MODEL_6419114c6d364259851fafcd3854630b",
        "IPY_MODEL_6d4196d23efc43b2865886b474cc3825",
        "IPY_MODEL_6522db4cf8044666bde57bf164d878f5",
        "IPY_MODEL_17601769626047e8a51aaa2297d70b56",
        "IPY_MODEL_e9e3d693dce24e23a13c15b29a9094b0",
        "IPY_MODEL_b9365334f45c4d4da12de83a0fa699ff",
        "IPY_MODEL_c2039a07458d4be7ad84c0ad131b2184",
        "IPY_MODEL_81d8d080cff74d95a0857d1be3f519e6",
        "IPY_MODEL_d42e0a12833346b08973e29d83277a56",
        "IPY_MODEL_e52deada3dca43b899f2286a8b78e9d2",
        "IPY_MODEL_46ca03e0dcd64be18d3117d475838448",
        "IPY_MODEL_92ea9e8a14174254b1269718b213ccb0",
        "IPY_MODEL_26c5abc43fe8432faa0a27eabb36945f",
        "IPY_MODEL_96d61fc225b44c34b4a1ae2b012bfdab",
        "IPY_MODEL_a3a07046cff642fcb5be4248617dc713",
        "IPY_MODEL_169b212666f3489483fb52e72da15ca8",
        "IPY_MODEL_8e528f7e42534357a6bab686ce6a2f6a",
        "IPY_MODEL_9c333fcb27624775934520605110449d",
        "IPY_MODEL_fcb491076c704074bd2f8fb3548b8564",
        "IPY_MODEL_64b7e63c390948409955b5b248350f76",
        "IPY_MODEL_da519789a9c34ce1b7140f6a36112c4c",
        "IPY_MODEL_17104ff5b80943eda83a8df64a4c0a3c",
        "IPY_MODEL_e9d4afe981e143da9651b1c6a0516e20",
        "IPY_MODEL_0818e13b79134f578684dc7881591ad5",
        "IPY_MODEL_f62d8a616cc644b2a9bd583936027912",
        "IPY_MODEL_fa40bb500df240fcab817c6858bd863d",
        "IPY_MODEL_9a4f0aa3980c44e2aac8c8e3c4655f06",
        "IPY_MODEL_67db10eecb394cfd96475c74bd55f5d7",
        "IPY_MODEL_51f8c811929148a0846392fcdac9ab2b",
        "IPY_MODEL_022743dba0664ec2a65afa944ff509f6",
        "IPY_MODEL_d1537cd716954522a6678d30b18e576a",
        "IPY_MODEL_a916cea5b99c45659198e586ce185f9b",
        "IPY_MODEL_359062dad6b649348db9786a3fd6a5e0",
        "IPY_MODEL_e0d4a52ebf3548ce8c71bd6a0e18d188",
        "IPY_MODEL_68923ed243604c0c958cd22b585af986",
        "IPY_MODEL_3691fbc6d494486a8d594acd27ec1839",
        "IPY_MODEL_ecc65092f1a94003b3e476c473956183",
        "IPY_MODEL_0463244d32b04ca1a1c5f84d43895365",
        "IPY_MODEL_8f9032e8337b4b2495ade3cfd786e92b",
        "IPY_MODEL_c7c170e6847c4dddbb84370cf91a57c6",
        "IPY_MODEL_9351c1a9930e4ca9a22496b8f60f19e1",
        "IPY_MODEL_8c46779488a4435bb1687f5e4d26615d",
        "IPY_MODEL_2574a88e5e42402286f890bc3a142cb7",
        "IPY_MODEL_7c517fd1a82d4698921c8867544cbecb",
        "IPY_MODEL_8f3d055972c64e3e94cfbc81a367bc41",
        "IPY_MODEL_004322f9e9cf4403a9472c84405f1945",
        "IPY_MODEL_bab520baf7d84cb599734c198e6f5b04",
        "IPY_MODEL_5c90be653ba749bd87d598ff75242827",
        "IPY_MODEL_a3303835f32143cb82ac12a035898d1e",
        "IPY_MODEL_5db29085f1524e63b7bca16069b018d9",
        "IPY_MODEL_7cd2a9f92c514d3d85dd1db636dbd762",
        "IPY_MODEL_f6a2cc9fc6fe4c969a4aff98cee0a0b9",
        "IPY_MODEL_6af6d80968874c7bbb08d3911650fbc6",
        "IPY_MODEL_ce50df73275c41d89b646d48d80c2cf9",
        "IPY_MODEL_3a9d2e0f91ce4197b92941ce546368b4",
        "IPY_MODEL_b75181aeafb64c06938f7af5a7025f90",
        "IPY_MODEL_1487272470664c33baaa931aab171495",
        "IPY_MODEL_0792022ba22c45b0b5fb9ad1bea54e9d",
        "IPY_MODEL_366c87f85f884592bc27c9b03122bc20",
        "IPY_MODEL_d34fd4cb24d64524ab21bd9009f57123",
        "IPY_MODEL_61566c9ab5b241c2b9104c824d8480e3",
        "IPY_MODEL_456292ab7a444fad9c904dc4307a5e96",
        "IPY_MODEL_808a3d81edcb48f7855c0aa79d52918c",
        "IPY_MODEL_d8a5851c0005429e8ee75ff1659bf0bb",
        "IPY_MODEL_51ef4fb24f624d72bf229ee30c83c747",
        "IPY_MODEL_2178c764f17d4a8689516d5e62f61a39",
        "IPY_MODEL_a288c8ab93ff4452b438710cb3b95450",
        "IPY_MODEL_d299f32f6c624db4aeae0ea677c50127",
        "IPY_MODEL_ea3ca53ea61649099cef1857e59da602",
        "IPY_MODEL_5fa01e604ede41a3acd0b28fe6413d29",
        "IPY_MODEL_e945397962ea4901bf916d502fffd666",
        "IPY_MODEL_a0dcaf3e3312439abbfe820a6b933929",
        "IPY_MODEL_f3160d500f0148e4af3b5f439cfe8454",
        "IPY_MODEL_187d2ba8d8674de0be2d4bb46182f90c",
        "IPY_MODEL_b4cbadfdf83245008ab8817ee8a05192",
        "IPY_MODEL_680e92a47c8543dfb7b343740d1d4b3d",
        "IPY_MODEL_c9fc204fe6f9433a9c86e2bb1bdbf19f",
        "IPY_MODEL_08bdb1104996410784a27c16f017d82a",
        "IPY_MODEL_b0e50064a3b440559e166cbf3073b406",
        "IPY_MODEL_613c9cfe5d024b7587cfa9ab015584ec",
        "IPY_MODEL_a14c94aca20240b4a0e0554fc32e41cb",
        "IPY_MODEL_b6737c22ec7743059e3b2e2deac73375",
        "IPY_MODEL_be415dde4d9f4b59a584e486ad39f10a",
        "IPY_MODEL_2839482d90c2425380dd383b0deb7110",
        "IPY_MODEL_b359bc42f4f2476fbc74f6e83f72a8cf",
        "IPY_MODEL_f0966dd253c8444b9f4a4a2284048110",
        "IPY_MODEL_70285f43a482428b828af08b873a3e69",
        "IPY_MODEL_704754bbe1764f6fa7e572dd72021091",
        "IPY_MODEL_a13413f07ec94ecf8191320ceffa0373",
        "IPY_MODEL_c7091c704be44e7487425d757024595a",
        "IPY_MODEL_1ed206c206e54515b86f1c6b707b9dbe",
        "IPY_MODEL_eb93b7829bea4b57aee52de22ca98211",
        "IPY_MODEL_0301337a79584a37831f74403e6c6c67",
        "IPY_MODEL_ff5cba2e159a4123816102cff6378b01",
        "IPY_MODEL_6eeba214795d4f27b50275e426d6e08f",
        "IPY_MODEL_a3279cc8a9d2435abc847448f8b17e78",
        "IPY_MODEL_17476d942f3d4c009f5008fba28a2a84",
        "IPY_MODEL_d6ca36b60a8542048b29d1ef3a383b6e",
        "IPY_MODEL_786f5b7a0bef48d29f2df2d485614cd9",
        "IPY_MODEL_3382af8640644abcbaed35d933e8bc6f",
        "IPY_MODEL_eb46a3f25402405386a815e13e5b52ea",
        "IPY_MODEL_1b8827b2b1e645e88b5be21c1d4c9e7a",
        "IPY_MODEL_f390d95fefe54919a2b9a4560f8c367a",
        "IPY_MODEL_fe9380a3c93e415bb7c178f1c77a4eca",
        "IPY_MODEL_0045456fdd4f4540a22a68cc7c3b5f78",
        "IPY_MODEL_53a2a9d0f3e949f1b33a989540298348",
        "IPY_MODEL_809c27beea4645019853c63efd506800",
        "IPY_MODEL_6e18bc9e34d4473fb847f920ecedf862",
        "IPY_MODEL_d199c0ed92624877b2c5527e931de588",
        "IPY_MODEL_496d4a56edaf4071b3a04dd8b4de1b4a",
        "IPY_MODEL_ee6f72094e69404c8d8c25874d5b49bd",
        "IPY_MODEL_d28865c8c4554b01842759fa2de20ce1",
        "IPY_MODEL_fc517161e8c84845ac5ec1c1e30659fd",
        "IPY_MODEL_8b3ac67524714e1993775a940bffed62",
        "IPY_MODEL_4ad90376963d4bfab2fe9000d78f3756",
        "IPY_MODEL_1e15e74716ac467cafa712f76ee293b2",
        "IPY_MODEL_f5a67e0b84a940d6878f8af94a3ce22b",
        "IPY_MODEL_6c4c36b46e6a426db7b07d4ec6d7aa4e",
        "IPY_MODEL_8ecce21d61c241a1a347aa8e71a55b86",
        "IPY_MODEL_2a0c376bdda4416f83c8448c3a669005",
        "IPY_MODEL_6dfe77977cbe4ab5acc35dde87610fc5",
        "IPY_MODEL_f3d7fe2323284317bae24055020d6c5d",
        "IPY_MODEL_291d85d97d4d4f20b8875029055b512b",
        "IPY_MODEL_058600ccdcf24635bbbd2abea9621cea",
        "IPY_MODEL_754d249b00b24f55831e1d0415fa8370",
        "IPY_MODEL_4644f198e8b74ade91e4b7d18a6bb59c",
        "IPY_MODEL_390031502eaa454ba1ba3c59587a435c",
        "IPY_MODEL_aff0d025bfbc4821b49bb6e887889182",
        "IPY_MODEL_7e44bdda0ca64fe79d6915ef0054ba5e",
        "IPY_MODEL_24f82ff6d00f4b78b05676d5cff57e56",
        "IPY_MODEL_3dd77e93712544f29f68da612cc15a6e",
        "IPY_MODEL_3fb09e9b0dd84e15b22885704abf30b4",
        "IPY_MODEL_ab976f696ad344e28b1588f8f9442d58",
        "IPY_MODEL_f1582589b03c473395524652ac9ed0c4",
        "IPY_MODEL_6a5b64ae784945d393649af7e23e0622",
        "IPY_MODEL_0dce12229c4a43878a7bcc098b5ddea4",
        "IPY_MODEL_ec28054d8bde44b19c43417ee2f7f784",
        "IPY_MODEL_649ff2a6dc9b40a9ba11ace8fbd6c4fc",
        "IPY_MODEL_18c9d322d61743139cefa7b5e99cca2e",
        "IPY_MODEL_0f3fbc8555414c3a8925ed4ef774e7f1",
        "IPY_MODEL_cdd955a57c384f3ebe3eafb14087ffc1",
        "IPY_MODEL_94f7ea6e3f854debb04290076e86d31c",
        "IPY_MODEL_b70a769357c848a0ae40f87f270f54b5",
        "IPY_MODEL_74b749ea03544f79b2a0ed4b84af6e75",
        "IPY_MODEL_182d4721f657450faf61d501b5fe6743",
        "IPY_MODEL_b609888a7bf349e382bee991a97e3fec",
        "IPY_MODEL_26b5b4f681af49eebe717878ccc6351e",
        "IPY_MODEL_1639de2068594c58864abb7c7a10f6c2",
        "IPY_MODEL_62b6be2e5b3745f2b7ee18f801875823",
        "IPY_MODEL_664744e0c07c48b485344ac4cceaf588",
        "IPY_MODEL_dc2bf0777d6d42e19808d3db0d3ff9b0",
        "IPY_MODEL_c1109b2bface491dafee1c977e7a38c1",
        "IPY_MODEL_c6d504c641d94ac8bc25ee4c862ab976",
        "IPY_MODEL_14545438599a42ab93e1742f03851898",
        "IPY_MODEL_ae0c41f39c1544f88fc18d14032bb639",
        "IPY_MODEL_42a77f3cfa394e43a4aa42a6dd89dcbc",
        "IPY_MODEL_255efb3655584d48a0abe7095dbe86b0",
        "IPY_MODEL_468ce21f73634384a6833e45e43df0d8",
        "IPY_MODEL_91c552ef4b7646c1a78a3d7d74e106aa",
        "IPY_MODEL_014b6d0fc6af43138222fac321a569e6",
        "IPY_MODEL_e532e92a5b3149b7bf4a555cbe83824f",
        "IPY_MODEL_bf03933beac643519d4381036bdb3cfb",
        "IPY_MODEL_6210bc124b2c45b6b81d6746fbf27913",
        "IPY_MODEL_48c3d453d52d477592239fdea7571fc6",
        "IPY_MODEL_48570507fac14593bb4e4c369d5e99cd",
        "IPY_MODEL_d298a572476a4c5ca89fbea6719eff48",
        "IPY_MODEL_3fde950ffdd34b9db928347440566143",
        "IPY_MODEL_c0391fb78bdd47d4a0c3aa3ee50a1d7c",
        "IPY_MODEL_5d48cecad9694033a0899a68054cf52d",
        "IPY_MODEL_93cbe6ae05644236910a69f1b028762a",
        "IPY_MODEL_785984b7ecc5465aa074736b1534b255",
        "IPY_MODEL_e8e7dbc6057943f7880b551a8ffce4ad",
        "IPY_MODEL_12ba54d1e8434b99b3fd9f8ec6e32a95",
        "IPY_MODEL_a1c4c8f8425b49149d3f18d0cb2bae3a",
        "IPY_MODEL_0d1aacb8c9c547748e7d81c6f3fdadbc",
        "IPY_MODEL_6570afe522854c0d8a8dd8c97c83accf",
        "IPY_MODEL_4d214d433e6b405fbf004a8da554ed66",
        "IPY_MODEL_8144ffa6dc9248c9babbdf338c5e3bca",
        "IPY_MODEL_f7d29d3fc0d84004b0adebc3c288415d",
        "IPY_MODEL_b8c8133755ac4ff3b9b45781267c044d",
        "IPY_MODEL_0e5dc023f5c2415eb2c4ac1ec135480e",
        "IPY_MODEL_8f87824aca954027931a359c21315a48",
        "IPY_MODEL_ac1174935b214224bd90d1c1887e4c6e",
        "IPY_MODEL_d7c833d5998d4f959278d1a1d23cdf29",
        "IPY_MODEL_e1b8479a9e4243af935c37cb14e18e77",
        "IPY_MODEL_f16190da92834298aee224e9645d13d0",
        "IPY_MODEL_c9a9daadbe4649c8b0b6d3c9805efa0d",
        "IPY_MODEL_994a110989c642d883b14f34f0e4f860",
        "IPY_MODEL_3b9d49a0ba8d4a0eb379cc110c129397",
        "IPY_MODEL_84dd78d5b8c742baae415e7f54660157",
        "IPY_MODEL_3bcaa43d75b943a6a5f38a876f3030d9",
        "IPY_MODEL_924dc834499d47abb121c0e6121d9a49",
        "IPY_MODEL_7ecee40a5d4f4937abd8b51dd39df42d",
        "IPY_MODEL_9ef2330703094c4a88cf892aaa4e8800",
        "IPY_MODEL_a0c44cc8fa1b44ecb967828abdce6a5d",
        "IPY_MODEL_49ce30302f134c9c9f00f6aff6b60e7c",
        "IPY_MODEL_b73358b717f044358462b96b3c7b91da",
        "IPY_MODEL_342002a24fec4c86bcb2e41882297bdc",
        "IPY_MODEL_6c5baf74b17e4c2a86e5eb0cefd89b1e",
        "IPY_MODEL_f7d0e8f6c0474398b7834acdc1172fa3",
        "IPY_MODEL_3c210cc98bbd466a9b334fee66c819c9"
       ],
       "nodes": [
        "IPY_MODEL_8c99250afead4ab98faa81f5aea8f0d6",
        "IPY_MODEL_99ea81df94fc4e0881fd1960fde96542",
        "IPY_MODEL_39b4ae166f8f42e687623fd932e72fd1",
        "IPY_MODEL_0078741390d34553a02277bb21a55363",
        "IPY_MODEL_fe15d6d2f161419694f1285493fcae4c",
        "IPY_MODEL_c89a81971d7c400b870ac83c7b9eb7e1",
        "IPY_MODEL_eec94a7432b04613b89a2eb19ab01e6a",
        "IPY_MODEL_0eb479d656844e5cb3561fb15c3795be",
        "IPY_MODEL_647e3d6a10884aeb8de1c729855fdd93",
        "IPY_MODEL_86547be5d538474d9f5c4adafd7d1e82",
        "IPY_MODEL_4de3b4caedc74b14b6a3af9ab001c543",
        "IPY_MODEL_08428c554fe04a0d80e95f7c47562120",
        "IPY_MODEL_fa9b7d6dbde044b89c8c45ea2741fc9e",
        "IPY_MODEL_ad5e4ff2f709450aa1fa72bdeae68782",
        "IPY_MODEL_0f50b65a434b4e7b9c40bf25a89cfdfa",
        "IPY_MODEL_1b89151e49624cc196f56ca62c1ce55c",
        "IPY_MODEL_e0c77609d64b4d1b98f5aa4a009975ab",
        "IPY_MODEL_64c2ad66f48e4b49a0328b0e3af69434",
        "IPY_MODEL_15a217facaa641fe8ad075e6ace49c41",
        "IPY_MODEL_a79c126396c7492882a1ed84035a8262",
        "IPY_MODEL_2a6c036905614333a4ba2cf65ace2a54"
       ]
      }
     },
     "d54afbfdd1fe4b198fb6d6a90331d3af": {
      "model_module": "jupyter-cytoscape",
      "model_module_version": "^0.2.2",
      "model_name": "EdgeModel",
      "state": {
       "_model_module_version": "^0.2.2",
       "_view_module": "jupyter-cytoscape",
       "_view_module_version": "^0.2.2",
       "data": {
        "group": "coexp",
        "id": "e120",
        "intn": true,
        "networkGroupId": 18,
        "networkId": 948,
        "rIntnId": 122,
        "source": "599724",
        "target": "610236",
        "weight": 0.010009936
       }
      }
     },
     "d69020cb2952421cacbd57e51ccb1356": {
      "model_module": "jupyter-cytoscape",
      "model_module_version": "^0.2.2",
      "model_name": "EdgeModel",
      "state": {
       "_model_module_version": "^0.2.2",
       "_view_module": "jupyter-cytoscape",
       "_view_module_version": "^0.2.2",
       "data": {
        "group": "coexp",
        "id": "e200",
        "intn": true,
        "networkGroupId": 18,
        "networkId": 987,
        "rIntnId": 202,
        "source": "599863",
        "target": "603070",
        "weight": 0.017625364
       }
      }
     },
     "d6ca36b60a8542048b29d1ef3a383b6e": {
      "model_module": "jupyter-cytoscape",
      "model_module_version": "^0.2.2",
      "model_name": "EdgeModel",
      "state": {
       "_model_module_version": "^0.2.2",
       "_view_module": "jupyter-cytoscape",
       "_view_module_version": "^0.2.2",
       "data": {
        "group": "predict",
        "id": "e489",
        "intn": true,
        "networkGroupId": 23,
        "networkId": 746,
        "rIntnId": 491,
        "source": "599863",
        "target": "605755",
        "weight": 0.050635427
       }
      }
     },
     "d7c833d5998d4f959278d1a1d23cdf29": {
      "model_module": "jupyter-cytoscape",
      "model_module_version": "^0.2.2",
      "model_name": "EdgeModel",
      "state": {
       "_model_module_version": "^0.2.2",
       "_view_module": "jupyter-cytoscape",
       "_view_module_version": "^0.2.2",
       "data": {
        "group": "spd",
        "id": "e575",
        "intn": true,
        "networkGroupId": 24,
        "networkId": 1229,
        "rIntnId": 577,
        "source": "599724",
        "target": "603070",
        "weight": 0.025481297
       }
      }
     },
     "d7e2f3f5a1cc44fdaf246d21e9ee0a3d": {
      "model_module": "jupyter-cytoscape",
      "model_module_version": "^0.2.2",
      "model_name": "EdgeModel",
      "state": {
       "_model_module_version": "^0.2.2",
       "_view_module": "jupyter-cytoscape",
       "_view_module_version": "^0.2.2",
       "data": {
        "group": "coexp",
        "id": "e223",
        "intn": true,
        "networkGroupId": 18,
        "networkId": 1221,
        "rIntnId": 225,
        "source": "600046",
        "target": "611408",
        "weight": 0.008810265
       }
      }
     },
     "d8a5851c0005429e8ee75ff1659bf0bb": {
      "model_module": "jupyter-cytoscape",
      "model_module_version": "^0.2.2",
      "model_name": "EdgeModel",
      "state": {
       "_model_module_version": "^0.2.2",
       "_view_module": "jupyter-cytoscape",
       "_view_module_version": "^0.2.2",
       "data": {
        "group": "pi",
        "id": "e455",
        "intn": true,
        "networkGroupId": 22,
        "networkId": 799,
        "rIntnId": 457,
        "source": "599863",
        "target": "605755",
        "weight": 0.012692714
       }
      }
     },
     "d8b9d72cf7a6492893290204428be325": {
      "model_module": "jupyter-cytoscape",
      "model_module_version": "^0.2.2",
      "model_name": "EdgeModel",
      "state": {
       "_model_module_version": "^0.2.2",
       "_view_module": "jupyter-cytoscape",
       "_view_module_version": "^0.2.2",
       "data": {
        "group": "coexp",
        "id": "e66",
        "intn": true,
        "networkGroupId": 18,
        "networkId": 1103,
        "rIntnId": 68,
        "source": "610236",
        "target": "600585",
        "weight": 0.010655146
       }
      }
     },
     "d8e11c990daf4e629ecfc02af3ea78bd": {
      "model_module": "jupyter-cytoscape",
      "model_module_version": "^0.2.2",
      "model_name": "EdgeModel",
      "state": {
       "_model_module_version": "^0.2.2",
       "_view_module": "jupyter-cytoscape",
       "_view_module_version": "^0.2.2",
       "data": {
        "group": "coexp",
        "id": "e198",
        "intn": true,
        "networkGroupId": 18,
        "networkId": 987,
        "rIntnId": 200,
        "source": "599863",
        "target": "605755",
        "weight": 0.010499329
       }
      }
     },
     "d9439225ad4245b2a1fe55452e73373a": {
      "model_module": "jupyter-cytoscape",
      "model_module_version": "^0.2.2",
      "model_name": "EdgeModel",
      "state": {
       "_model_module_version": "^0.2.2",
       "_view_module": "jupyter-cytoscape",
       "_view_module_version": "^0.2.2",
       "data": {
        "group": "path",
        "id": "e326",
        "intn": true,
        "networkGroupId": 21,
        "networkId": 917,
        "rIntnId": 328,
        "source": "602299",
        "target": "600585",
        "weight": 0.10282618
       }
      }
     },
     "d9ed7c27cf85469f873ee09a7d74764b": {
      "model_module": "jupyter-cytoscape",
      "model_module_version": "^0.2.2",
      "model_name": "EdgeModel",
      "state": {
       "_model_module_version": "^0.2.2",
       "_view_module": "jupyter-cytoscape",
       "_view_module_version": "^0.2.2",
       "data": {
        "group": "path",
        "id": "e286",
        "intn": true,
        "networkGroupId": 21,
        "networkId": 920,
        "rIntnId": 288,
        "source": "610236",
        "target": "605755",
        "weight": 0.034838397
       }
      }
     },
     "da519789a9c34ce1b7140f6a36112c4c": {
      "model_module": "jupyter-cytoscape",
      "model_module_version": "^0.2.2",
      "model_name": "EdgeModel",
      "state": {
       "_model_module_version": "^0.2.2",
       "_view_module": "jupyter-cytoscape",
       "_view_module_version": "^0.2.2",
       "data": {
        "group": "pi",
        "id": "e412",
        "intn": true,
        "networkGroupId": 22,
        "networkId": 901,
        "rIntnId": 414,
        "source": "600535",
        "target": "605755",
        "weight": 0.07430747
       }
      }
     },
     "da58dd32dbb24b3ca6eaca25eab1ca1a": {
      "model_module": "jupyter-cytoscape",
      "model_module_version": "^0.2.2",
      "model_name": "EdgeModel",
      "state": {
       "_model_module_version": "^0.2.2",
       "_view_module": "jupyter-cytoscape",
       "_view_module_version": "^0.2.2",
       "data": {
        "group": "coexp",
        "id": "e5",
        "intn": true,
        "networkGroupId": 18,
        "networkId": 1133,
        "rIntnId": 7,
        "source": "610236",
        "target": "612341",
        "weight": 0.008174375
       }
      }
     },
     "db583378ad1046e09ff09f5da0fdbb5a": {
      "model_module": "jupyter-cytoscape",
      "model_module_version": "^0.2.2",
      "model_name": "EdgeModel",
      "state": {
       "_model_module_version": "^0.2.2",
       "_view_module": "jupyter-cytoscape",
       "_view_module_version": "^0.2.2",
       "data": {
        "group": "coexp",
        "id": "e249",
        "intn": true,
        "networkGroupId": 18,
        "networkId": 1213,
        "rIntnId": 251,
        "source": "600046",
        "target": "611408",
        "weight": 0.0035133353
       }
      }
     },
     "dbabfe7e908b40e9bcc70dfa2020caa1": {
      "model_module": "jupyter-cytoscape",
      "model_module_version": "^0.2.2",
      "model_name": "EdgeModel",
      "state": {
       "_model_module_version": "^0.2.2",
       "_view_module": "jupyter-cytoscape",
       "_view_module_version": "^0.2.2",
       "data": {
        "group": "pi",
        "id": "e376",
        "intn": true,
        "networkGroupId": 22,
        "networkId": 721,
        "rIntnId": 378,
        "source": "602279",
        "target": "605755",
        "weight": 0.4812469
       }
      }
     },
     "dc2bf0777d6d42e19808d3db0d3ff9b0": {
      "model_module": "jupyter-cytoscape",
      "model_module_version": "^0.2.2",
      "model_name": "EdgeModel",
      "state": {
       "_model_module_version": "^0.2.2",
       "_view_module": "jupyter-cytoscape",
       "_view_module_version": "^0.2.2",
       "data": {
        "group": "predict",
        "id": "e542",
        "intn": true,
        "networkGroupId": 23,
        "networkId": 742,
        "rIntnId": 544,
        "source": "599724",
        "target": "599863",
        "weight": 0.43922377
       }
      }
     },
     "dc85864848554b3189552f1eacb5345c": {
      "model_module": "jupyter-cytoscape",
      "model_module_version": "^0.2.2",
      "model_name": "EdgeModel",
      "state": {
       "_model_module_version": "^0.2.2",
       "_view_module": "jupyter-cytoscape",
       "_view_module_version": "^0.2.2",
       "data": {
        "group": "coexp",
        "id": "e155",
        "intn": true,
        "networkGroupId": 18,
        "networkId": 1112,
        "rIntnId": 157,
        "source": "610236",
        "target": "603070",
        "weight": 0.0123492405
       }
      }
     },
     "dcb00b5006fc441586639f77c2e49481": {
      "model_module": "jupyter-cytoscape",
      "model_module_version": "^0.2.2",
      "model_name": "EdgeModel",
      "state": {
       "_model_module_version": "^0.2.2",
       "_view_module": "jupyter-cytoscape",
       "_view_module_version": "^0.2.2",
       "data": {
        "group": "path",
        "id": "e330",
        "intn": true,
        "networkGroupId": 21,
        "networkId": 917,
        "rIntnId": 332,
        "source": "610236",
        "target": "600585",
        "weight": 0.078957625
       }
      }
     },
     "dccb50d81d9b4315a780696e65f6e805": {
      "model_module": "jupyter-cytoscape",
      "model_module_version": "^0.2.2",
      "model_name": "EdgeModel",
      "state": {
       "_model_module_version": "^0.2.2",
       "_view_module": "jupyter-cytoscape",
       "_view_module_version": "^0.2.2",
       "data": {
        "group": "pi",
        "id": "e378",
        "intn": true,
        "networkGroupId": 22,
        "networkId": 665,
        "rIntnId": 380,
        "source": "612341",
        "target": "605755",
        "weight": 0.008967896
       }
      }
     },
     "dd80cc9998174176b79cb9d30c14cd4e": {
      "model_module": "jupyter-cytoscape",
      "model_module_version": "^0.2.2",
      "model_name": "EdgeModel",
      "state": {
       "_model_module_version": "^0.2.2",
       "_view_module": "jupyter-cytoscape",
       "_view_module_version": "^0.2.2",
       "data": {
        "group": "coexp",
        "id": "e43",
        "intn": true,
        "networkGroupId": 18,
        "networkId": 1205,
        "rIntnId": 45,
        "source": "610236",
        "target": "605755",
        "weight": 0.009235155
       }
      }
     },
     "dddcc898667541d99d75ccfbc6de0f96": {
      "model_module": "jupyter-cytoscape",
      "model_module_version": "^0.2.2",
      "model_name": "EdgeModel",
      "state": {
       "_model_module_version": "^0.2.2",
       "_view_module": "jupyter-cytoscape",
       "_view_module_version": "^0.2.2",
       "data": {
        "group": "path",
        "id": "e297",
        "intn": true,
        "networkGroupId": 21,
        "networkId": 920,
        "rIntnId": 299,
        "source": "599863",
        "target": "610236",
        "weight": 0.046432484
       }
      }
     },
     "de11bc43bde0444096d7c3051b4708f6": {
      "model_module": "jupyter-cytoscape",
      "model_module_version": "^0.2.2",
      "model_name": "EdgeModel",
      "state": {
       "_model_module_version": "^0.2.2",
       "_view_module": "jupyter-cytoscape",
       "_view_module_version": "^0.2.2",
       "data": {
        "group": "coexp",
        "id": "e180",
        "intn": true,
        "networkGroupId": 18,
        "networkId": 939,
        "rIntnId": 182,
        "source": "605846",
        "target": "610236",
        "weight": 0.007576592
       }
      }
     },
     "df27adf2d69c4e57ba1c2790eef96d7e": {
      "model_module": "jupyter-cytoscape",
      "model_module_version": "^0.2.2",
      "model_name": "EdgeModel",
      "state": {
       "_model_module_version": "^0.2.2",
       "_view_module": "jupyter-cytoscape",
       "_view_module_version": "^0.2.2",
       "data": {
        "group": "path",
        "id": "e316",
        "intn": true,
        "networkGroupId": 21,
        "networkId": 920,
        "rIntnId": 318,
        "source": "600046",
        "target": "610236",
        "weight": 0.0462355
       }
      }
     },
     "df9749279cd740ae879370ce8fce3876": {
      "model_module": "jupyter-cytoscape",
      "model_module_version": "^0.2.2",
      "model_name": "EdgeModel",
      "state": {
       "_model_module_version": "^0.2.2",
       "_view_module": "jupyter-cytoscape",
       "_view_module_version": "^0.2.2",
       "data": {
        "group": "pi",
        "id": "e370",
        "intn": true,
        "networkGroupId": 22,
        "networkId": 721,
        "rIntnId": 372,
        "source": "605846",
        "target": "599863",
        "weight": 0.14333117
       }
      }
     },
     "e0138e70ce264964bfaabeb91f0fe4cf": {
      "model_module": "jupyter-cytoscape",
      "model_module_version": "^0.2.2",
      "model_name": "EdgeModel",
      "state": {
       "_model_module_version": "^0.2.2",
       "_view_module": "jupyter-cytoscape",
       "_view_module_version": "^0.2.2",
       "data": {
        "group": "path",
        "id": "e349",
        "intn": true,
        "networkGroupId": 21,
        "networkId": 916,
        "rIntnId": 351,
        "source": "610236",
        "target": "612341",
        "weight": 0.025497014
       }
      }
     },
     "e0a4075e92924e67a838b630f2127e57": {
      "model_module": "jupyter-cytoscape",
      "model_module_version": "^0.2.2",
      "model_name": "EdgeModel",
      "state": {
       "_model_module_version": "^0.2.2",
       "_view_module": "jupyter-cytoscape",
       "_view_module_version": "^0.2.2",
       "data": {
        "group": "coexp",
        "id": "e114",
        "intn": true,
        "networkGroupId": 18,
        "networkId": 948,
        "rIntnId": 116,
        "source": "599863",
        "target": "603070",
        "weight": 0.01389255
       }
      }
     },
     "e0c77609d64b4d1b98f5aa4a009975ab": {
      "model_module": "jupyter-cytoscape",
      "model_module_version": "^0.2.2",
      "model_name": "NodeModel",
      "state": {
       "_model_module_version": "^0.2.2",
       "_view_module_version": "^0.2.2",
       "data": {
        "gene": true,
        "id": "602279",
        "idInt": 602279,
        "name": "BABAM1",
        "query": false,
        "score": 0.0015192107762236895
       }
      }
     },
     "e0d4a52ebf3548ce8c71bd6a0e18d188": {
      "model_module": "jupyter-cytoscape",
      "model_module_version": "^0.2.2",
      "model_name": "EdgeModel",
      "state": {
       "_model_module_version": "^0.2.2",
       "_view_module": "jupyter-cytoscape",
       "_view_module_version": "^0.2.2",
       "data": {
        "group": "pi",
        "id": "e425",
        "intn": true,
        "networkGroupId": 22,
        "networkId": 909,
        "rIntnId": 427,
        "source": "599889",
        "target": "611408",
        "weight": 0.018942047
       }
      }
     },
     "e1b8479a9e4243af935c37cb14e18e77": {
      "model_module": "jupyter-cytoscape",
      "model_module_version": "^0.2.2",
      "model_name": "EdgeModel",
      "state": {
       "_model_module_version": "^0.2.2",
       "_view_module": "jupyter-cytoscape",
       "_view_module_version": "^0.2.2",
       "data": {
        "group": "spd",
        "id": "e576",
        "intn": true,
        "networkGroupId": 24,
        "networkId": 1229,
        "rIntnId": 578,
        "source": "599724",
        "target": "610236",
        "weight": 0.029341005
       }
      }
     },
     "e1de3acc412e40079ae895b60f8262ed": {
      "model_module": "jupyter-cytoscape",
      "model_module_version": "^0.2.2",
      "model_name": "EdgeModel",
      "state": {
       "_model_module_version": "^0.2.2",
       "_view_module": "jupyter-cytoscape",
       "_view_module_version": "^0.2.2",
       "data": {
        "group": "path",
        "id": "e287",
        "intn": true,
        "networkGroupId": 21,
        "networkId": 920,
        "rIntnId": 289,
        "source": "610236",
        "target": "612341",
        "weight": 0.06087656
       }
      }
     },
     "e348b06e2b954b479a377ac85665f537": {
      "model_module": "jupyter-cytoscape",
      "model_module_version": "^0.2.2",
      "model_name": "EdgeModel",
      "state": {
       "_model_module_version": "^0.2.2",
       "_view_module": "jupyter-cytoscape",
       "_view_module_version": "^0.2.2",
       "data": {
        "group": "coexp",
        "id": "e217",
        "intn": true,
        "networkGroupId": 18,
        "networkId": 1221,
        "rIntnId": 219,
        "source": "610236",
        "target": "611408",
        "weight": 0.003535996
       }
      }
     },
     "e402f7bb297d45a3a9d202cc94d85f7b": {
      "model_module": "jupyter-cytoscape",
      "model_module_version": "^0.2.2",
      "model_name": "EdgeModel",
      "state": {
       "_model_module_version": "^0.2.2",
       "_view_module": "jupyter-cytoscape",
       "_view_module_version": "^0.2.2",
       "data": {
        "group": "coexp",
        "id": "e238",
        "intn": true,
        "networkGroupId": 18,
        "networkId": 1213,
        "rIntnId": 240,
        "source": "600585",
        "target": "605755",
        "weight": 0.008934008
       }
      }
     },
     "e410fe83ff8d493cb866bf36551f23f0": {
      "model_module": "jupyter-cytoscape",
      "model_module_version": "^0.2.2",
      "model_name": "EdgeModel",
      "state": {
       "_model_module_version": "^0.2.2",
       "_view_module": "jupyter-cytoscape",
       "_view_module_version": "^0.2.2",
       "data": {
        "group": "coexp",
        "id": "e44",
        "intn": true,
        "networkGroupId": 18,
        "networkId": 1205,
        "rIntnId": 46,
        "source": "610236",
        "target": "611408",
        "weight": 0.0070685484
       }
      }
     },
     "e52deada3dca43b899f2286a8b78e9d2": {
      "model_module": "jupyter-cytoscape",
      "model_module_version": "^0.2.2",
      "model_name": "EdgeModel",
      "state": {
       "_model_module_version": "^0.2.2",
       "_view_module": "jupyter-cytoscape",
       "_view_module_version": "^0.2.2",
       "data": {
        "group": "pi",
        "id": "e401",
        "intn": true,
        "networkGroupId": 22,
        "networkId": 665,
        "rIntnId": 403,
        "source": "600046",
        "target": "605755",
        "weight": 0.009051671
       }
      }
     },
     "e532e92a5b3149b7bf4a555cbe83824f": {
      "model_module": "jupyter-cytoscape",
      "model_module_version": "^0.2.2",
      "model_name": "EdgeModel",
      "state": {
       "_model_module_version": "^0.2.2",
       "_view_module": "jupyter-cytoscape",
       "_view_module_version": "^0.2.2",
       "data": {
        "group": "predict",
        "id": "e552",
        "intn": true,
        "networkGroupId": 23,
        "networkId": 741,
        "rIntnId": 554,
        "source": "599724",
        "target": "599863",
        "weight": 0.30575597
       }
      }
     },
     "e539562da23640b183c68dd0627664b9": {
      "model_module": "jupyter-cytoscape",
      "model_module_version": "^0.2.2",
      "model_name": "EdgeModel",
      "state": {
       "_model_module_version": "^0.2.2",
       "_view_module": "jupyter-cytoscape",
       "_view_module_version": "^0.2.2",
       "data": {
        "group": "coexp",
        "id": "e234",
        "intn": true,
        "networkGroupId": 18,
        "networkId": 1141,
        "rIntnId": 236,
        "source": "612326",
        "target": "603070",
        "weight": 0.012148044
       }
      }
     },
     "e63e2ed1eccb4373a5fd271fe9487348": {
      "model_module": "jupyter-cytoscape",
      "model_module_version": "^0.2.2",
      "model_name": "EdgeModel",
      "state": {
       "_model_module_version": "^0.2.2",
       "_view_module": "jupyter-cytoscape",
       "_view_module_version": "^0.2.2",
       "data": {
        "group": "coexp",
        "id": "e68",
        "intn": true,
        "networkGroupId": 18,
        "networkId": 1103,
        "rIntnId": 70,
        "source": "610236",
        "target": "603070",
        "weight": 0.005323636
       }
      }
     },
     "e6a563a2335447069421042fde7ee454": {
      "model_module": "jupyter-cytoscape",
      "model_module_version": "^0.2.2",
      "model_name": "EdgeModel",
      "state": {
       "_model_module_version": "^0.2.2",
       "_view_module": "jupyter-cytoscape",
       "_view_module_version": "^0.2.2",
       "data": {
        "group": "path",
        "id": "e296",
        "intn": true,
        "networkGroupId": 21,
        "networkId": 920,
        "rIntnId": 298,
        "source": "599863",
        "target": "603070",
        "weight": 0.046432484
       }
      }
     },
     "e731fbc891244997a0bf0f58c4df818b": {
      "model_module": "jupyter-cytoscape",
      "model_module_version": "^0.2.2",
      "model_name": "EdgeModel",
      "state": {
       "_model_module_version": "^0.2.2",
       "_view_module": "jupyter-cytoscape",
       "_view_module_version": "^0.2.2",
       "data": {
        "group": "coexp",
        "id": "e197",
        "intn": true,
        "networkGroupId": 18,
        "networkId": 987,
        "rIntnId": 199,
        "source": "610236",
        "target": "603070",
        "weight": 0.009086173
       }
      }
     },
     "e76229430853425b8d30ae352dd59b06": {
      "model_module": "jupyter-cytoscape",
      "model_module_version": "^0.2.2",
      "model_name": "EdgeModel",
      "state": {
       "_model_module_version": "^0.2.2",
       "_view_module": "jupyter-cytoscape",
       "_view_module_version": "^0.2.2",
       "data": {
        "group": "coexp",
        "id": "e80",
        "intn": true,
        "networkGroupId": 18,
        "networkId": 1103,
        "rIntnId": 82,
        "source": "606768",
        "target": "600535",
        "weight": 0.007762454
       }
      }
     },
     "e879867a32ef448cad47d295907b476c": {
      "model_module": "jupyter-cytoscape",
      "model_module_version": "^0.2.2",
      "model_name": "EdgeModel",
      "state": {
       "_model_module_version": "^0.2.2",
       "_view_module": "jupyter-cytoscape",
       "_view_module_version": "^0.2.2",
       "data": {
        "group": "coexp",
        "id": "e30",
        "intn": true,
        "networkGroupId": 18,
        "networkId": 1094,
        "rIntnId": 32,
        "source": "599863",
        "target": "611408",
        "weight": 0.014232373
       }
      }
     },
     "e8e7dbc6057943f7880b551a8ffce4ad": {
      "model_module": "jupyter-cytoscape",
      "model_module_version": "^0.2.2",
      "model_name": "EdgeModel",
      "state": {
       "_model_module_version": "^0.2.2",
       "_view_module": "jupyter-cytoscape",
       "_view_module_version": "^0.2.2",
       "data": {
        "group": "predict",
        "id": "e563",
        "intn": true,
        "networkGroupId": 23,
        "networkId": 785,
        "rIntnId": 565,
        "source": "603700",
        "target": "605755",
        "weight": 0.26375207
       }
      }
     },
     "e945397962ea4901bf916d502fffd666": {
      "model_module": "jupyter-cytoscape",
      "model_module_version": "^0.2.2",
      "model_name": "EdgeModel",
      "state": {
       "_model_module_version": "^0.2.2",
       "_view_module": "jupyter-cytoscape",
       "_view_module_version": "^0.2.2",
       "data": {
        "group": "pi",
        "id": "e462",
        "intn": true,
        "networkGroupId": 22,
        "networkId": 799,
        "rIntnId": 464,
        "source": "600535",
        "target": "605755",
        "weight": 0.030285511
       }
      }
     },
     "e9b35c9bf87f410dafac03a1ca62be7f": {
      "model_module": "jupyter-cytoscape",
      "model_module_version": "^0.2.2",
      "model_name": "EdgeModel",
      "state": {
       "_model_module_version": "^0.2.2",
       "_view_module": "jupyter-cytoscape",
       "_view_module_version": "^0.2.2",
       "data": {
        "group": "coexp",
        "id": "e28",
        "intn": true,
        "networkGroupId": 18,
        "networkId": 1094,
        "rIntnId": 30,
        "source": "610236",
        "target": "611408",
        "weight": 0.014722961
       }
      }
     },
     "e9d4afe981e143da9651b1c6a0516e20": {
      "model_module": "jupyter-cytoscape",
      "model_module_version": "^0.2.2",
      "model_name": "EdgeModel",
      "state": {
       "_model_module_version": "^0.2.2",
       "_view_module": "jupyter-cytoscape",
       "_view_module_version": "^0.2.2",
       "data": {
        "group": "pi",
        "id": "e414",
        "intn": true,
        "networkGroupId": 22,
        "networkId": 906,
        "rIntnId": 416,
        "source": "611408",
        "target": "605755",
        "weight": 0.054434802
       }
      }
     },
     "e9e3d693dce24e23a13c15b29a9094b0": {
      "model_module": "jupyter-cytoscape",
      "model_module_version": "^0.2.2",
      "model_name": "EdgeModel",
      "state": {
       "_model_module_version": "^0.2.2",
       "_view_module": "jupyter-cytoscape",
       "_view_module_version": "^0.2.2",
       "data": {
        "group": "pi",
        "id": "e396",
        "intn": true,
        "networkGroupId": 22,
        "networkId": 665,
        "rIntnId": 398,
        "source": "599724",
        "target": "603070",
        "weight": 0.08913017
       }
      }
     },
     "ea3ca53ea61649099cef1857e59da602": {
      "model_module": "jupyter-cytoscape",
      "model_module_version": "^0.2.2",
      "model_name": "EdgeModel",
      "state": {
       "_model_module_version": "^0.2.2",
       "_view_module": "jupyter-cytoscape",
       "_view_module_version": "^0.2.2",
       "data": {
        "group": "pi",
        "id": "e460",
        "intn": true,
        "networkGroupId": 22,
        "networkId": 799,
        "rIntnId": 462,
        "source": "605846",
        "target": "610236",
        "weight": 0.040293504
       }
      }
     },
     "ea7197d791f64d14b9164e43f44a953e": {
      "model_module": "jupyter-cytoscape",
      "model_module_version": "^0.2.2",
      "model_name": "EdgeModel",
      "state": {
       "_model_module_version": "^0.2.2",
       "_view_module": "jupyter-cytoscape",
       "_view_module_version": "^0.2.2",
       "data": {
        "group": "path",
        "id": "e308",
        "intn": true,
        "networkGroupId": 21,
        "networkId": 920,
        "rIntnId": 310,
        "source": "599724",
        "target": "610236",
        "weight": 0.057087615
       }
      }
     },
     "eb3bc23dd07848e2901ce2a98a66e8eb": {
      "model_module": "jupyter-cytoscape",
      "model_module_version": "^0.2.2",
      "model_name": "EdgeModel",
      "state": {
       "_model_module_version": "^0.2.2",
       "_view_module": "jupyter-cytoscape",
       "_view_module_version": "^0.2.2",
       "data": {
        "group": "path",
        "id": "e290",
        "intn": true,
        "networkGroupId": 21,
        "networkId": 920,
        "rIntnId": 292,
        "source": "610236",
        "target": "603070",
        "weight": 0.046432484
       }
      }
     },
     "eb46a3f25402405386a815e13e5b52ea": {
      "model_module": "jupyter-cytoscape",
      "model_module_version": "^0.2.2",
      "model_name": "EdgeModel",
      "state": {
       "_model_module_version": "^0.2.2",
       "_view_module": "jupyter-cytoscape",
       "_view_module_version": "^0.2.2",
       "data": {
        "group": "predict",
        "id": "e492",
        "intn": true,
        "networkGroupId": 23,
        "networkId": 746,
        "rIntnId": 494,
        "source": "603700",
        "target": "605755",
        "weight": 0.057983253
       }
      }
     },
     "eb93b7829bea4b57aee52de22ca98211": {
      "model_module": "jupyter-cytoscape",
      "model_module_version": "^0.2.2",
      "model_name": "EdgeModel",
      "state": {
       "_model_module_version": "^0.2.2",
       "_view_module": "jupyter-cytoscape",
       "_view_module_version": "^0.2.2",
       "data": {
        "group": "predict",
        "id": "e483",
        "intn": true,
        "networkGroupId": 23,
        "networkId": 746,
        "rIntnId": 485,
        "source": "611408",
        "target": "605755",
        "weight": 0.06797186
       }
      }
     },
     "ec28054d8bde44b19c43417ee2f7f784": {
      "model_module": "jupyter-cytoscape",
      "model_module_version": "^0.2.2",
      "model_name": "EdgeModel",
      "state": {
       "_model_module_version": "^0.2.2",
       "_view_module": "jupyter-cytoscape",
       "_view_module_version": "^0.2.2",
       "data": {
        "group": "predict",
        "id": "e528",
        "intn": true,
        "networkGroupId": 23,
        "networkId": 918,
        "rIntnId": 530,
        "source": "599889",
        "target": "611560",
        "weight": 0.012864559
       }
      }
     },
     "ecc65092f1a94003b3e476c473956183": {
      "model_module": "jupyter-cytoscape",
      "model_module_version": "^0.2.2",
      "model_name": "EdgeModel",
      "state": {
       "_model_module_version": "^0.2.2",
       "_view_module": "jupyter-cytoscape",
       "_view_module_version": "^0.2.2",
       "data": {
        "group": "pi",
        "id": "e428",
        "intn": true,
        "networkGroupId": 22,
        "networkId": 909,
        "rIntnId": 430,
        "source": "610236",
        "target": "605755",
        "weight": 0.011982934
       }
      }
     },
     "ece1582b00a64c3592f079006275320c": {
      "model_module": "jupyter-cytoscape",
      "model_module_version": "^0.2.2",
      "model_name": "EdgeModel",
      "state": {
       "_model_module_version": "^0.2.2",
       "_view_module": "jupyter-cytoscape",
       "_view_module_version": "^0.2.2",
       "data": {
        "group": "path",
        "id": "e303",
        "intn": true,
        "networkGroupId": 21,
        "networkId": 920,
        "rIntnId": 305,
        "source": "605846",
        "target": "610236",
        "weight": 0.046432484
       }
      }
     },
     "ed058b8848754648ab00a2cdf53377a3": {
      "model_module": "jupyter-cytoscape",
      "model_module_version": "^0.2.2",
      "model_name": "EdgeModel",
      "state": {
       "_model_module_version": "^0.2.2",
       "_view_module": "jupyter-cytoscape",
       "_view_module_version": "^0.2.2",
       "data": {
        "group": "coexp",
        "id": "e2",
        "intn": true,
        "networkGroupId": 18,
        "networkId": 1133,
        "rIntnId": 4,
        "source": "603070",
        "target": "605755",
        "weight": 0.0089772185
       }
      }
     },
     "ed4b4f7ea5a54d25b2efc660e5f0dbf1": {
      "model_module": "jupyter-cytoscape",
      "model_module_version": "^0.2.2",
      "model_name": "EdgeModel",
      "state": {
       "_model_module_version": "^0.2.2",
       "_view_module": "jupyter-cytoscape",
       "_view_module_version": "^0.2.2",
       "data": {
        "group": "coloc",
        "id": "e255",
        "intn": true,
        "networkGroupId": 19,
        "networkId": 1215,
        "rIntnId": 257,
        "source": "610236",
        "target": "611408",
        "weight": 0.0025504285
       }
      }
     },
     "ee58d1b74e8a4e1dae8c084dc9fdddc1": {
      "model_module": "jupyter-cytoscape",
      "model_module_version": "^0.2.2",
      "model_name": "EdgeModel",
      "state": {
       "_model_module_version": "^0.2.2",
       "_view_module": "jupyter-cytoscape",
       "_view_module_version": "^0.2.2",
       "data": {
        "group": "coloc",
        "id": "e262",
        "intn": true,
        "networkGroupId": 19,
        "networkId": 1215,
        "rIntnId": 264,
        "source": "605846",
        "target": "610236",
        "weight": 0.0012776565
       }
      }
     },
     "ee6f72094e69404c8d8c25874d5b49bd": {
      "model_module": "jupyter-cytoscape",
      "model_module_version": "^0.2.2",
      "model_name": "EdgeModel",
      "state": {
       "_model_module_version": "^0.2.2",
       "_view_module": "jupyter-cytoscape",
       "_view_module_version": "^0.2.2",
       "data": {
        "group": "predict",
        "id": "e502",
        "intn": true,
        "networkGroupId": 23,
        "networkId": 783,
        "rIntnId": 504,
        "source": "599724",
        "target": "605846",
        "weight": 0.098505326
       }
      }
     },
     "eec94a7432b04613b89a2eb19ab01e6a": {
      "model_module": "jupyter-cytoscape",
      "model_module_version": "^0.2.2",
      "model_name": "NodeModel",
      "state": {
       "_model_module_version": "^0.2.2",
       "_view_module_version": "^0.2.2",
       "data": {
        "gene": true,
        "id": "599889",
        "idInt": 599889,
        "name": "RAD51",
        "query": false,
        "score": 0.002453016748286352
       }
      }
     },
     "eee22795cc0f4574a448776c008653a4": {
      "model_module": "jupyter-cytoscape",
      "model_module_version": "^0.2.2",
      "model_name": "EdgeModel",
      "state": {
       "_model_module_version": "^0.2.2",
       "_view_module": "jupyter-cytoscape",
       "_view_module_version": "^0.2.2",
       "data": {
        "group": "path",
        "id": "e277",
        "intn": true,
        "networkGroupId": 21,
        "networkId": 920,
        "rIntnId": 279,
        "source": "600585",
        "target": "605755",
        "weight": 0.036435686
       }
      }
     },
     "f02a441983544dcea2980c38430e9f98": {
      "model_module": "jupyter-cytoscape",
      "model_module_version": "^0.2.2",
      "model_name": "EdgeModel",
      "state": {
       "_model_module_version": "^0.2.2",
       "_view_module": "jupyter-cytoscape",
       "_view_module_version": "^0.2.2",
       "data": {
        "group": "coexp",
        "id": "e74",
        "intn": true,
        "networkGroupId": 18,
        "networkId": 1103,
        "rIntnId": 76,
        "source": "603700",
        "target": "610236",
        "weight": 0.0021416117
       }
      }
     },
     "f0966dd253c8444b9f4a4a2284048110": {
      "model_module": "jupyter-cytoscape",
      "model_module_version": "^0.2.2",
      "model_name": "EdgeModel",
      "state": {
       "_model_module_version": "^0.2.2",
       "_view_module": "jupyter-cytoscape",
       "_view_module_version": "^0.2.2",
       "data": {
        "group": "predict",
        "id": "e477",
        "intn": true,
        "networkGroupId": 23,
        "networkId": 782,
        "rIntnId": 479,
        "source": "605846",
        "target": "599863",
        "weight": 0.2783674
       }
      }
     },
     "f1582589b03c473395524652ac9ed0c4": {
      "model_module": "jupyter-cytoscape",
      "model_module_version": "^0.2.2",
      "model_name": "EdgeModel",
      "state": {
       "_model_module_version": "^0.2.2",
       "_view_module": "jupyter-cytoscape",
       "_view_module_version": "^0.2.2",
       "data": {
        "group": "predict",
        "id": "e525",
        "intn": true,
        "networkGroupId": 23,
        "networkId": 760,
        "rIntnId": 527,
        "source": "600046",
        "target": "600585",
        "weight": 0.5898937
       }
      }
     },
     "f16190da92834298aee224e9645d13d0": {
      "model_module": "jupyter-cytoscape",
      "model_module_version": "^0.2.2",
      "model_name": "EdgeModel",
      "state": {
       "_model_module_version": "^0.2.2",
       "_view_module": "jupyter-cytoscape",
       "_view_module_version": "^0.2.2",
       "data": {
        "group": "spd",
        "id": "e577",
        "intn": true,
        "networkGroupId": 24,
        "networkId": 1229,
        "rIntnId": 579,
        "source": "599724",
        "target": "599863",
        "weight": 0.029583318
       }
      }
     },
     "f21ef5f27dae4767afa4978c2c233c10": {
      "model_module": "jupyter-cytoscape",
      "model_module_version": "^0.2.2",
      "model_name": "EdgeModel",
      "state": {
       "_model_module_version": "^0.2.2",
       "_view_module": "jupyter-cytoscape",
       "_view_module_version": "^0.2.2",
       "data": {
        "group": "coexp",
        "id": "e67",
        "intn": true,
        "networkGroupId": 18,
        "networkId": 1103,
        "rIntnId": 69,
        "source": "610236",
        "target": "599889",
        "weight": 0.0053057605
       }
      }
     },
     "f2499908eca146da9355b443e1299eb1": {
      "model_module": "jupyter-cytoscape",
      "model_module_version": "^0.2.2",
      "model_name": "EdgeModel",
      "state": {
       "_model_module_version": "^0.2.2",
       "_view_module": "jupyter-cytoscape",
       "_view_module_version": "^0.2.2",
       "data": {
        "group": "coexp",
        "id": "e77",
        "intn": true,
        "networkGroupId": 18,
        "networkId": 1103,
        "rIntnId": 79,
        "source": "609734",
        "target": "605755",
        "weight": 0.011033994
       }
      }
     },
     "f3160d500f0148e4af3b5f439cfe8454": {
      "model_module": "jupyter-cytoscape",
      "model_module_version": "^0.2.2",
      "model_name": "EdgeModel",
      "state": {
       "_model_module_version": "^0.2.2",
       "_view_module": "jupyter-cytoscape",
       "_view_module_version": "^0.2.2",
       "data": {
        "group": "pi",
        "id": "e464",
        "intn": true,
        "networkGroupId": 22,
        "networkId": 799,
        "rIntnId": 466,
        "source": "599724",
        "target": "605846",
        "weight": 0.09105578
       }
      }
     },
     "f3443c15841944a298f957864eaf9fa1": {
      "model_module": "jupyter-cytoscape",
      "model_module_version": "^0.2.2",
      "model_name": "EdgeModel",
      "state": {
       "_model_module_version": "^0.2.2",
       "_view_module": "jupyter-cytoscape",
       "_view_module_version": "^0.2.2",
       "data": {
        "group": "coexp",
        "id": "e118",
        "intn": true,
        "networkGroupId": 18,
        "networkId": 948,
        "rIntnId": 120,
        "source": "600535",
        "target": "599863",
        "weight": 0.0065266574
       }
      }
     },
     "f390d95fefe54919a2b9a4560f8c367a": {
      "model_module": "jupyter-cytoscape",
      "model_module_version": "^0.2.2",
      "model_name": "EdgeModel",
      "state": {
       "_model_module_version": "^0.2.2",
       "_view_module": "jupyter-cytoscape",
       "_view_module_version": "^0.2.2",
       "data": {
        "group": "predict",
        "id": "e494",
        "intn": true,
        "networkGroupId": 23,
        "networkId": 746,
        "rIntnId": 496,
        "source": "599724",
        "target": "605755",
        "weight": 0.051310312
       }
      }
     },
     "f3c852698e0d40be8301db108a2dc416": {
      "model_module": "jupyter-cytoscape",
      "model_module_version": "^0.2.2",
      "model_name": "EdgeModel",
      "state": {
       "_model_module_version": "^0.2.2",
       "_view_module": "jupyter-cytoscape",
       "_view_module_version": "^0.2.2",
       "data": {
        "group": "coexp",
        "id": "e31",
        "intn": true,
        "networkGroupId": 18,
        "networkId": 1094,
        "rIntnId": 33,
        "source": "605846",
        "target": "605755",
        "weight": 0.01543053
       }
      }
     },
     "f3d7fe2323284317bae24055020d6c5d": {
      "model_module": "jupyter-cytoscape",
      "model_module_version": "^0.2.2",
      "model_name": "EdgeModel",
      "state": {
       "_model_module_version": "^0.2.2",
       "_view_module": "jupyter-cytoscape",
       "_view_module_version": "^0.2.2",
       "data": {
        "group": "predict",
        "id": "e513",
        "intn": true,
        "networkGroupId": 23,
        "networkId": 765,
        "rIntnId": 515,
        "source": "611408",
        "target": "605755",
        "weight": 0.7692878
       }
      }
     },
     "f429244d9c80413699b5b8ee2689044d": {
      "model_module": "jupyter-cytoscape",
      "model_module_version": "^0.2.2",
      "model_name": "EdgeModel",
      "state": {
       "_model_module_version": "^0.2.2",
       "_view_module": "jupyter-cytoscape",
       "_view_module_version": "^0.2.2",
       "data": {
        "group": "coexp",
        "id": "e18",
        "intn": true,
        "networkGroupId": 18,
        "networkId": 1133,
        "rIntnId": 20,
        "source": "606768",
        "target": "611408",
        "weight": 0.0066891047
       }
      }
     },
     "f4f7323837cb420086c0f42eff6c1915": {
      "model_module": "jupyter-cytoscape",
      "model_module_version": "^0.2.2",
      "model_name": "EdgeModel",
      "state": {
       "_model_module_version": "^0.2.2",
       "_view_module": "jupyter-cytoscape",
       "_view_module_version": "^0.2.2",
       "data": {
        "group": "coexp",
        "id": "e84",
        "intn": true,
        "networkGroupId": 18,
        "networkId": 1147,
        "rIntnId": 86,
        "source": "600535",
        "target": "610236",
        "weight": 0.008354699
       }
      }
     },
     "f5a52a61f61b4106b3442a1d3ffc1fda": {
      "model_module": "jupyter-cytoscape",
      "model_module_version": "^0.2.2",
      "model_name": "EdgeModel",
      "state": {
       "_model_module_version": "^0.2.2",
       "_view_module": "jupyter-cytoscape",
       "_view_module_version": "^0.2.2",
       "data": {
        "group": "coexp",
        "id": "e110",
        "intn": true,
        "networkGroupId": 18,
        "networkId": 948,
        "rIntnId": 112,
        "source": "610236",
        "target": "600585",
        "weight": 0.011568223
       }
      }
     },
     "f5a67e0b84a940d6878f8af94a3ce22b": {
      "model_module": "jupyter-cytoscape",
      "model_module_version": "^0.2.2",
      "model_name": "EdgeModel",
      "state": {
       "_model_module_version": "^0.2.2",
       "_view_module": "jupyter-cytoscape",
       "_view_module_version": "^0.2.2",
       "data": {
        "group": "predict",
        "id": "e508",
        "intn": true,
        "networkGroupId": 23,
        "networkId": 919,
        "rIntnId": 510,
        "source": "602299",
        "target": "605755",
        "weight": 0.04521022
       }
      }
     },
     "f62d8a616cc644b2a9bd583936027912": {
      "model_module": "jupyter-cytoscape",
      "model_module_version": "^0.2.2",
      "model_name": "EdgeModel",
      "state": {
       "_model_module_version": "^0.2.2",
       "_view_module": "jupyter-cytoscape",
       "_view_module_version": "^0.2.2",
       "data": {
        "group": "pi",
        "id": "e416",
        "intn": true,
        "networkGroupId": 22,
        "networkId": 906,
        "rIntnId": 418,
        "source": "610236",
        "target": "603070",
        "weight": 0.2326112
       }
      }
     },
     "f6a2cc9fc6fe4c969a4aff98cee0a0b9": {
      "model_module": "jupyter-cytoscape",
      "model_module_version": "^0.2.2",
      "model_name": "EdgeModel",
      "state": {
       "_model_module_version": "^0.2.2",
       "_view_module": "jupyter-cytoscape",
       "_view_module_version": "^0.2.2",
       "data": {
        "group": "pi",
        "id": "e443",
        "intn": true,
        "networkGroupId": 22,
        "networkId": 909,
        "rIntnId": 445,
        "source": "600046",
        "target": "605755",
        "weight": 0.031746667
       }
      }
     },
     "f6e289c18ace45beb798aa8be32055c2": {
      "model_module": "jupyter-cytoscape",
      "model_module_version": "^0.2.2",
      "model_name": "EdgeModel",
      "state": {
       "_model_module_version": "^0.2.2",
       "_view_module": "jupyter-cytoscape",
       "_view_module_version": "^0.2.2",
       "data": {
        "group": "path",
        "id": "e350",
        "intn": true,
        "networkGroupId": 21,
        "networkId": 916,
        "rIntnId": 352,
        "source": "610236",
        "target": "603070",
        "weight": 0.029834377
       }
      }
     },
     "f7ab8419999747d0b1ee1c90f130d97b": {
      "model_module": "jupyter-cytoscape",
      "model_module_version": "^0.2.2",
      "model_name": "EdgeModel",
      "state": {
       "_model_module_version": "^0.2.2",
       "_view_module": "jupyter-cytoscape",
       "_view_module_version": "^0.2.2",
       "data": {
        "group": "path",
        "id": "e329",
        "intn": true,
        "networkGroupId": 21,
        "networkId": 917,
        "rIntnId": 331,
        "source": "610236",
        "target": "605755",
        "weight": 0.06335889
       }
      }
     },
     "f7d0e8f6c0474398b7834acdc1172fa3": {
      "model_module": "jupyter-cytoscape",
      "model_module_version": "^0.2.2",
      "model_name": "EdgeModel",
      "state": {
       "_model_module_version": "^0.2.2",
       "_view_module": "jupyter-cytoscape",
       "_view_module_version": "^0.2.2",
       "data": {
        "group": "spd",
        "id": "e591",
        "intn": true,
        "networkGroupId": 24,
        "networkId": 1230,
        "rIntnId": 593,
        "source": "599724",
        "target": "599863",
        "weight": 0.015911028
       }
      }
     },
     "f7d29d3fc0d84004b0adebc3c288415d": {
      "model_module": "jupyter-cytoscape",
      "model_module_version": "^0.2.2",
      "model_name": "EdgeModel",
      "state": {
       "_model_module_version": "^0.2.2",
       "_view_module": "jupyter-cytoscape",
       "_view_module_version": "^0.2.2",
       "data": {
        "group": "spd",
        "id": "e570",
        "intn": true,
        "networkGroupId": 24,
        "networkId": 1229,
        "rIntnId": 572,
        "source": "599863",
        "target": "603070",
        "weight": 0.04605353
       }
      }
     },
     "f8e7bce1ad854de9b2ab132541b1d623": {
      "model_module": "jupyter-cytoscape",
      "model_module_version": "^0.2.2",
      "model_name": "EdgeModel",
      "state": {
       "_model_module_version": "^0.2.2",
       "_view_module": "jupyter-cytoscape",
       "_view_module_version": "^0.2.2",
       "data": {
        "group": "coexp",
        "id": "e25",
        "intn": true,
        "networkGroupId": 18,
        "networkId": 1094,
        "rIntnId": 27,
        "source": "602299",
        "target": "611408",
        "weight": 0.013897292
       }
      }
     },
     "f8f5daf3476c41bba844e38e724d68e0": {
      "model_module": "jupyter-cytoscape",
      "model_module_version": "^0.2.2",
      "model_name": "EdgeModel",
      "state": {
       "_model_module_version": "^0.2.2",
       "_view_module": "jupyter-cytoscape",
       "_view_module_version": "^0.2.2",
       "data": {
        "group": "coexp",
        "id": "e34",
        "intn": true,
        "networkGroupId": 18,
        "networkId": 1094,
        "rIntnId": 36,
        "source": "612326",
        "target": "612341",
        "weight": 0.0197734
       }
      }
     },
     "fa40bb500df240fcab817c6858bd863d": {
      "model_module": "jupyter-cytoscape",
      "model_module_version": "^0.2.2",
      "model_name": "EdgeModel",
      "state": {
       "_model_module_version": "^0.2.2",
       "_view_module": "jupyter-cytoscape",
       "_view_module_version": "^0.2.2",
       "data": {
        "group": "pi",
        "id": "e417",
        "intn": true,
        "networkGroupId": 22,
        "networkId": 906,
        "rIntnId": 419,
        "source": "599863",
        "target": "610236",
        "weight": 0.2580584
       }
      }
     },
     "fa9b7d6dbde044b89c8c45ea2741fc9e": {
      "model_module": "jupyter-cytoscape",
      "model_module_version": "^0.2.2",
      "model_name": "NodeModel",
      "state": {
       "_model_module_version": "^0.2.2",
       "_view_module_version": "^0.2.2",
       "data": {
        "gene": true,
        "id": "603700",
        "idInt": 603700,
        "name": "MSH6",
        "query": false,
        "score": 0.001946986634883574
       }
      }
     },
     "fb7db8fc746c4336a5c56af54c4dfc99": {
      "model_module": "jupyter-cytoscape",
      "model_module_version": "^0.2.2",
      "model_name": "EdgeModel",
      "state": {
       "_model_module_version": "^0.2.2",
       "_view_module": "jupyter-cytoscape",
       "_view_module_version": "^0.2.2",
       "data": {
        "group": "path",
        "id": "e301",
        "intn": true,
        "networkGroupId": 21,
        "networkId": 920,
        "rIntnId": 303,
        "source": "605846",
        "target": "600585",
        "weight": 0.048561342
       }
      }
     },
     "fc450e2a03534a0ab969e5586f5b505c": {
      "model_module": "jupyter-cytoscape",
      "model_module_version": "^0.2.2",
      "model_name": "EdgeModel",
      "state": {
       "_model_module_version": "^0.2.2",
       "_view_module": "jupyter-cytoscape",
       "_view_module_version": "^0.2.2",
       "data": {
        "group": "coexp",
        "id": "e240",
        "intn": true,
        "networkGroupId": 18,
        "networkId": 1213,
        "rIntnId": 242,
        "source": "599889",
        "target": "605755",
        "weight": 0.009817743
       }
      }
     },
     "fc517161e8c84845ac5ec1c1e30659fd": {
      "model_module": "jupyter-cytoscape",
      "model_module_version": "^0.2.2",
      "model_name": "EdgeModel",
      "state": {
       "_model_module_version": "^0.2.2",
       "_view_module": "jupyter-cytoscape",
       "_view_module_version": "^0.2.2",
       "data": {
        "group": "predict",
        "id": "e504",
        "intn": true,
        "networkGroupId": 23,
        "networkId": 776,
        "rIntnId": 506,
        "source": "610236",
        "target": "603070",
        "weight": 1
       }
      }
     },
     "fcb491076c704074bd2f8fb3548b8564": {
      "model_module": "jupyter-cytoscape",
      "model_module_version": "^0.2.2",
      "model_name": "EdgeModel",
      "state": {
       "_model_module_version": "^0.2.2",
       "_view_module": "jupyter-cytoscape",
       "_view_module_version": "^0.2.2",
       "data": {
        "group": "pi",
        "id": "e410",
        "intn": true,
        "networkGroupId": 22,
        "networkId": 901,
        "rIntnId": 412,
        "source": "603700",
        "target": "605755",
        "weight": 0.06023315
       }
      }
     },
     "fd1994f53ea04c9999b54461d69974aa": {
      "model_module": "jupyter-cytoscape",
      "model_module_version": "^0.2.2",
      "model_name": "EdgeModel",
      "state": {
       "_model_module_version": "^0.2.2",
       "_view_module": "jupyter-cytoscape",
       "_view_module_version": "^0.2.2",
       "data": {
        "group": "coexp",
        "id": "e4",
        "intn": true,
        "networkGroupId": 18,
        "networkId": 1133,
        "rIntnId": 6,
        "source": "610236",
        "target": "611408",
        "weight": 0.005184464
       }
      }
     },
     "fd8ffd55b7374dfcbb913f8f617ad14a": {
      "model_module": "jupyter-cytoscape",
      "model_module_version": "^0.2.2",
      "model_name": "EdgeModel",
      "state": {
       "_model_module_version": "^0.2.2",
       "_view_module": "jupyter-cytoscape",
       "_view_module_version": "^0.2.2",
       "data": {
        "group": "path",
        "id": "e300",
        "intn": true,
        "networkGroupId": 21,
        "networkId": 920,
        "rIntnId": 302,
        "source": "605846",
        "target": "608473",
        "weight": 0.087010026
       }
      }
     },
     "fd9d99377ea2494d8d34315172ce4c00": {
      "model_module": "jupyter-cytoscape",
      "model_module_version": "^0.2.2",
      "model_name": "EdgeModel",
      "state": {
       "_model_module_version": "^0.2.2",
       "_view_module": "jupyter-cytoscape",
       "_view_module_version": "^0.2.2",
       "data": {
        "group": "coexp",
        "id": "e124",
        "intn": true,
        "networkGroupId": 18,
        "networkId": 948,
        "rIntnId": 126,
        "source": "609734",
        "target": "611408",
        "weight": 0.0074162656
       }
      }
     },
     "fde60d0bdb244afc92014fd35bc86d58": {
      "model_module": "jupyter-cytoscape",
      "model_module_version": "^0.2.2",
      "model_name": "EdgeModel",
      "state": {
       "_model_module_version": "^0.2.2",
       "_view_module": "jupyter-cytoscape",
       "_view_module_version": "^0.2.2",
       "data": {
        "group": "coexp",
        "id": "e145",
        "intn": true,
        "networkGroupId": 18,
        "networkId": 1160,
        "rIntnId": 147,
        "source": "600046",
        "target": "602299",
        "weight": 0.012923219
       }
      }
     },
     "fe15d6d2f161419694f1285493fcae4c": {
      "model_module": "jupyter-cytoscape",
      "model_module_version": "^0.2.2",
      "model_name": "NodeModel",
      "state": {
       "_model_module_version": "^0.2.2",
       "_view_module_version": "^0.2.2",
       "data": {
        "gene": true,
        "id": "611560",
        "idInt": 611560,
        "name": "APEX2",
        "query": false,
        "score": 0.0026215687185565106
       }
      }
     },
     "fe3afc66b66349238e057a8f8d62ec09": {
      "model_module": "jupyter-cytoscape",
      "model_module_version": "^0.2.2",
      "model_name": "EdgeModel",
      "state": {
       "_model_module_version": "^0.2.2",
       "_view_module": "jupyter-cytoscape",
       "_view_module_version": "^0.2.2",
       "data": {
        "group": "pi",
        "id": "e373",
        "intn": true,
        "networkGroupId": 22,
        "networkId": 721,
        "rIntnId": 375,
        "source": "599724",
        "target": "610236",
        "weight": 0.143066
       }
      }
     },
     "fe9380a3c93e415bb7c178f1c77a4eca": {
      "model_module": "jupyter-cytoscape",
      "model_module_version": "^0.2.2",
      "model_name": "EdgeModel",
      "state": {
       "_model_module_version": "^0.2.2",
       "_view_module": "jupyter-cytoscape",
       "_view_module_version": "^0.2.2",
       "data": {
        "group": "predict",
        "id": "e495",
        "intn": true,
        "networkGroupId": 23,
        "networkId": 746,
        "rIntnId": 497,
        "source": "599724",
        "target": "602299",
        "weight": 0.1287433
       }
      }
     },
     "febc2b46e2d34b3bb22bf0606897a261": {
      "model_module": "jupyter-cytoscape",
      "model_module_version": "^0.2.2",
      "model_name": "EdgeModel",
      "state": {
       "_model_module_version": "^0.2.2",
       "_view_module": "jupyter-cytoscape",
       "_view_module_version": "^0.2.2",
       "data": {
        "group": "coexp",
        "id": "e14",
        "intn": true,
        "networkGroupId": 18,
        "networkId": 1133,
        "rIntnId": 16,
        "source": "600046",
        "target": "603700",
        "weight": 0.0066020666
       }
      }
     },
     "ff05a75b28eb4455a637bd4b3ae20836": {
      "model_module": "jupyter-cytoscape",
      "model_module_version": "^0.2.2",
      "model_name": "EdgeModel",
      "state": {
       "_model_module_version": "^0.2.2",
       "_view_module": "jupyter-cytoscape",
       "_view_module_version": "^0.2.2",
       "data": {
        "group": "path",
        "id": "e281",
        "intn": true,
        "networkGroupId": 21,
        "networkId": 920,
        "rIntnId": 283,
        "source": "602299",
        "target": "600585",
        "weight": 0.10381311
       }
      }
     },
     "ff36988f1f3a4fbe84f4960309ddca9b": {
      "model_module": "jupyter-cytoscape",
      "model_module_version": "^0.2.2",
      "model_name": "EdgeModel",
      "state": {
       "_model_module_version": "^0.2.2",
       "_view_module": "jupyter-cytoscape",
       "_view_module_version": "^0.2.2",
       "data": {
        "group": "path",
        "id": "e345",
        "intn": true,
        "networkGroupId": 21,
        "networkId": 917,
        "rIntnId": 347,
        "source": "606768",
        "target": "600585",
        "weight": 0.07583903
       }
      }
     },
     "ff5cba2e159a4123816102cff6378b01": {
      "model_module": "jupyter-cytoscape",
      "model_module_version": "^0.2.2",
      "model_name": "EdgeModel",
      "state": {
       "_model_module_version": "^0.2.2",
       "_view_module": "jupyter-cytoscape",
       "_view_module_version": "^0.2.2",
       "data": {
        "group": "predict",
        "id": "e485",
        "intn": true,
        "networkGroupId": 23,
        "networkId": 746,
        "rIntnId": 487,
        "source": "602299",
        "target": "605755",
        "weight": 0.059738826
       }
      }
     },
     "fffc70548e584e239aa94865a6bfdb95": {
      "model_module": "jupyter-cytoscape",
      "model_module_version": "^0.2.2",
      "model_name": "EdgeModel",
      "state": {
       "_model_module_version": "^0.2.2",
       "_view_module": "jupyter-cytoscape",
       "_view_module_version": "^0.2.2",
       "data": {
        "group": "coloc",
        "id": "e259",
        "intn": true,
        "networkGroupId": 19,
        "networkId": 1215,
        "rIntnId": 261,
        "source": "603700",
        "target": "605755",
        "weight": 0.010831964
       }
      }
     }
    },
    "version_major": 2,
    "version_minor": 0
   }
  }
 },
 "nbformat": 4,
 "nbformat_minor": 2
}
