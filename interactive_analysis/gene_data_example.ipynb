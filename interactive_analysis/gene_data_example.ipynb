{
 "cells": [
  {
   "cell_type": "code",
   "execution_count": 1,
   "metadata": {
    "ExecuteTime": {
     "end_time": "2020-05-11T21:03:37.654281Z",
     "start_time": "2020-05-11T21:03:37.518645Z"
    }
   },
   "outputs": [],
   "source": [
    "import ipycytoscape"
   ]
  },
  {
   "cell_type": "code",
   "execution_count": 2,
   "metadata": {
    "ExecuteTime": {
     "end_time": "2020-05-11T21:03:37.694174Z",
     "start_time": "2020-05-11T21:03:37.658270Z"
    }
   },
   "outputs": [],
   "source": [
    "import json\n",
    "with open(\"geneData.json\") as fi:\n",
    "    json_file = json.load(fi)\n",
    "with open(\"geneStyle.json\") as fi:\n",
    "    s = json.load(fi)"
   ]
  },
  {
   "cell_type": "code",
   "execution_count": 3,
   "metadata": {
    "ExecuteTime": {
     "end_time": "2020-05-11T21:03:38.659384Z",
     "start_time": "2020-05-11T21:03:37.698164Z"
    }
   },
   "outputs": [],
   "source": [
    "from __future__ import print_function, division\n",
    "import pandas as pd"
   ]
  },
  {
   "cell_type": "code",
   "execution_count": 20,
   "metadata": {
    "ExecuteTime": {
     "end_time": "2020-05-11T21:15:54.968202Z",
     "start_time": "2020-05-11T21:15:54.954209Z"
    }
   },
   "outputs": [
    {
     "data": {
      "text/html": [
       "<div>\n",
       "<style scoped>\n",
       "    .dataframe tbody tr th:only-of-type {\n",
       "        vertical-align: middle;\n",
       "    }\n",
       "\n",
       "    .dataframe tbody tr th {\n",
       "        vertical-align: top;\n",
       "    }\n",
       "\n",
       "    .dataframe thead th {\n",
       "        text-align: right;\n",
       "    }\n",
       "</style>\n",
       "<table border=\"1\" class=\"dataframe\">\n",
       "  <thead>\n",
       "    <tr style=\"text-align: right;\">\n",
       "      <th></th>\n",
       "      <th>source</th>\n",
       "      <th>interaction</th>\n",
       "      <th>destination</th>\n",
       "    </tr>\n",
       "  </thead>\n",
       "  <tbody>\n",
       "    <tr>\n",
       "      <th>0</th>\n",
       "      <td>HIPK2_HUMAN</td>\n",
       "      <td>A</td>\n",
       "      <td>DYR1B_HUMAN</td>\n",
       "    </tr>\n",
       "    <tr>\n",
       "      <th>1</th>\n",
       "      <td>NUCL_HUMAN</td>\n",
       "      <td>U</td>\n",
       "      <td>SUMO2_HUMAN</td>\n",
       "    </tr>\n",
       "    <tr>\n",
       "      <th>2</th>\n",
       "      <td>Q6FIE9_HUMAN</td>\n",
       "      <td>U</td>\n",
       "      <td>TM1L1_HUMAN</td>\n",
       "    </tr>\n",
       "    <tr>\n",
       "      <th>3</th>\n",
       "      <td>I2BP1_HUMAN</td>\n",
       "      <td>U</td>\n",
       "      <td>IRF2_HUMAN</td>\n",
       "    </tr>\n",
       "    <tr>\n",
       "      <th>4</th>\n",
       "      <td>GAB1_HUMAN</td>\n",
       "      <td>U</td>\n",
       "      <td>PTN11_HUMAN</td>\n",
       "    </tr>\n",
       "    <tr>\n",
       "      <th>...</th>\n",
       "      <td>...</td>\n",
       "      <td>...</td>\n",
       "      <td>...</td>\n",
       "    </tr>\n",
       "    <tr>\n",
       "      <th>407</th>\n",
       "      <td>CSK21_HUMAN</td>\n",
       "      <td>U</td>\n",
       "      <td>IWS1_HUMAN</td>\n",
       "    </tr>\n",
       "    <tr>\n",
       "      <th>408</th>\n",
       "      <td>SUMO2_HUMAN</td>\n",
       "      <td>N</td>\n",
       "      <td>PHIP_HUMAN</td>\n",
       "    </tr>\n",
       "    <tr>\n",
       "      <th>409</th>\n",
       "      <td>MK01_HUMAN</td>\n",
       "      <td>I</td>\n",
       "      <td>ICK_HUMAN</td>\n",
       "    </tr>\n",
       "    <tr>\n",
       "      <th>410</th>\n",
       "      <td>PNKP_HUMAN</td>\n",
       "      <td>U</td>\n",
       "      <td>UBE2O_HUMAN</td>\n",
       "    </tr>\n",
       "    <tr>\n",
       "      <th>411</th>\n",
       "      <td>ATX2_HUMAN</td>\n",
       "      <td>U</td>\n",
       "      <td>EGFR_HUMAN</td>\n",
       "    </tr>\n",
       "  </tbody>\n",
       "</table>\n",
       "<p>412 rows × 3 columns</p>\n",
       "</div>"
      ],
      "text/plain": [
       "           source interaction  destination\n",
       "0     HIPK2_HUMAN           A  DYR1B_HUMAN\n",
       "1      NUCL_HUMAN           U  SUMO2_HUMAN\n",
       "2    Q6FIE9_HUMAN           U  TM1L1_HUMAN\n",
       "3     I2BP1_HUMAN           U   IRF2_HUMAN\n",
       "4      GAB1_HUMAN           U  PTN11_HUMAN\n",
       "..            ...         ...          ...\n",
       "407   CSK21_HUMAN           U   IWS1_HUMAN\n",
       "408   SUMO2_HUMAN           N   PHIP_HUMAN\n",
       "409    MK01_HUMAN           I    ICK_HUMAN\n",
       "410    PNKP_HUMAN           U  UBE2O_HUMAN\n",
       "411    ATX2_HUMAN           U   EGFR_HUMAN\n",
       "\n",
       "[412 rows x 3 columns]"
      ]
     },
     "execution_count": 20,
     "metadata": {},
     "output_type": "execute_result"
    }
   ],
   "source": [
    "bp_data = pd.read_csv(\"output.sif\",  delim_whitespace=True)\n",
    "bp_data.columns = ['source', 'interaction', 'destination']\n",
    "bp_data\n",
    "# output_json = bp_data.to_json(orient='index')\n",
    "# output_json"
   ]
  },
  {
   "cell_type": "code",
   "execution_count": 25,
   "metadata": {
    "ExecuteTime": {
     "end_time": "2020-05-11T21:18:05.626158Z",
     "start_time": "2020-05-11T21:18:04.435833Z"
    }
   },
   "outputs": [],
   "source": [
    "cytoscapeobj = ipycytoscape.CytoscapeWidget()\n",
    "cytoscapeobj.graph.add_graph_from_df(bp_data, ['source'],('source', 'destination'))\n",
    "# cytoscapeobj.graph.add_graph_from_json(output_json)\n",
    "cytoscapeobj.set_style(s)"
   ]
  },
  {
   "cell_type": "code",
   "execution_count": 11,
   "metadata": {
    "ExecuteTime": {
     "end_time": "2020-05-11T21:07:52.047257Z",
     "start_time": "2020-05-11T21:07:52.043232Z"
    }
   },
   "outputs": [],
   "source": [
    "cytoscapeobj.set_layout(name = 'cola',\n",
    "                      nodeSpacing = 5,\n",
    "                      edgeLengthVal = 45,\n",
    "                      animate = True,\n",
    "                      randomize = False,\n",
    "                      maxSimulationTime = 1500)"
   ]
  },
  {
   "cell_type": "code",
   "execution_count": 26,
   "metadata": {
    "ExecuteTime": {
     "end_time": "2020-05-11T21:18:09.022810Z",
     "start_time": "2020-05-11T21:18:08.960973Z"
    }
   },
   "outputs": [
    {
     "data": {
      "application/vnd.jupyter.widget-view+json": {
       "model_id": "9e244c727cde4a198961fd8044aaf16c",
       "version_major": 2,
       "version_minor": 0
      },
      "text/plain": [
       "CytoscapeWidget(cytoscape_layout={'name': 'cola'}, cytoscape_style=[{'selector': 'core', 'style': {'selection-…"
      ]
     },
     "metadata": {},
     "output_type": "display_data"
    }
   ],
   "source": [
    "cytoscapeobj"
   ]
  },
  {
   "cell_type": "code",
   "execution_count": 8,
   "metadata": {
    "ExecuteTime": {
     "end_time": "2020-05-11T21:03:40.896909Z",
     "start_time": "2020-05-11T21:03:40.887930Z"
    }
   },
   "outputs": [
    {
     "data": {
      "text/plain": [
       "{'name': 'cola',\n",
       " 'nodeSpacing': 100,\n",
       " 'edgeLengthVal': 45,\n",
       " 'animate': True,\n",
       " 'randomize': False,\n",
       " 'maxSimulationTime': 1500}"
      ]
     },
     "execution_count": 8,
     "metadata": {},
     "output_type": "execute_result"
    }
   ],
   "source": [
    "# edits graph directly \n",
    "\n",
    "cytoscapeobj.set_layout(nodeSpacing=100)\n",
    "cytoscapeobj.get_layout()"
   ]
  },
  {
   "cell_type": "code",
   "execution_count": 9,
   "metadata": {
    "ExecuteTime": {
     "end_time": "2020-05-11T21:03:40.922838Z",
     "start_time": "2020-05-11T21:03:40.899897Z"
    }
   },
   "outputs": [
    {
     "data": {
      "application/vnd.jupyter.widget-view+json": {
       "model_id": "e25b864910234f91af36e60b6e424000",
       "version_major": 2,
       "version_minor": 0
      },
      "text/plain": [
       "IntSlider(value=0)"
      ]
     },
     "metadata": {},
     "output_type": "display_data"
    },
    {
     "data": {
      "application/vnd.jupyter.widget-view+json": {
       "model_id": "2c4af49bcfcd4efe8727386888c4c5ba",
       "version_major": 2,
       "version_minor": 0
      },
      "text/plain": [
       "Output()"
      ]
     },
     "metadata": {},
     "output_type": "display_data"
    }
   ],
   "source": [
    "# connects a slider to the nodeSpacing of the graph\n",
    "\n",
    "import ipywidgets as widgets\n",
    "\n",
    "node_range = widgets.IntSlider()\n",
    "output = widgets.Output()\n",
    "display(node_range, output)\n",
    "\n",
    "def on_value_change(change):\n",
    "    with output:\n",
    "        cytoscapeobj.set_layout(nodeSpacing = node_range.value)\n",
    "        cytoscapeobj.get_layout()\n",
    "\n",
    "node_range.observe(on_value_change)"
   ]
  },
  {
   "cell_type": "code",
   "execution_count": null,
   "metadata": {},
   "outputs": [],
   "source": []
  }
 ],
 "metadata": {
  "kernelspec": {
   "display_name": "ipycytoscape",
   "language": "python",
   "name": "ipycytoscape"
  },
  "language_info": {
   "codemirror_mode": {
    "name": "ipython",
    "version": 3
   },
   "file_extension": ".py",
   "mimetype": "text/x-python",
   "name": "python",
   "nbconvert_exporter": "python",
   "pygments_lexer": "ipython3",
   "version": "3.7.1"
  },
  "toc": {
   "base_numbering": 1,
   "nav_menu": {},
   "number_sections": true,
   "sideBar": true,
   "skip_h1_title": false,
   "title_cell": "Table of Contents",
   "title_sidebar": "Contents",
   "toc_cell": false,
   "toc_position": {},
   "toc_section_display": true,
   "toc_window_display": false
  }
 },
 "nbformat": 4,
 "nbformat_minor": 4
}
