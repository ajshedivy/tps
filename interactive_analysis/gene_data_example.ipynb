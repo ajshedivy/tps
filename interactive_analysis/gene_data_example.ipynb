{
 "cells": [
  {
   "cell_type": "code",
   "execution_count": 10,
   "metadata": {
    "ExecuteTime": {
     "end_time": "2020-05-26T21:45:53.005676Z",
     "start_time": "2020-05-26T21:45:53.002682Z"
    }
   },
   "outputs": [],
   "source": [
    "import ipycytoscape"
   ]
  },
  {
   "cell_type": "code",
   "execution_count": 11,
   "metadata": {
    "ExecuteTime": {
     "end_time": "2020-05-26T21:45:53.625692Z",
     "start_time": "2020-05-26T21:45:53.611731Z"
    }
   },
   "outputs": [],
   "source": [
    "import json\n",
    "with open(\"geneData.json\") as fi:\n",
    "    json_file = json.load(fi)\n",
    "with open(\"geneStyle.json\") as fi:\n",
    "    s = json.load(fi)"
   ]
  },
  {
   "cell_type": "code",
   "execution_count": 12,
   "metadata": {
    "ExecuteTime": {
     "end_time": "2020-05-26T21:45:56.330080Z",
     "start_time": "2020-05-26T21:45:54.026227Z"
    }
   },
   "outputs": [],
   "source": [
    "cytoscapeobj = ipycytoscape.CytoscapeWidget()\n",
    "cytoscapeobj.graph.add_graph_from_json(json_file)\n",
    "cytoscapeobj.set_style(s)"
   ]
  },
  {
   "cell_type": "code",
   "execution_count": 13,
   "metadata": {
    "ExecuteTime": {
     "end_time": "2020-05-26T21:45:56.339056Z",
     "start_time": "2020-05-26T21:45:56.334070Z"
    }
   },
   "outputs": [],
   "source": [
    "cytoscapeobj.set_layout(name = 'cola',\n",
    "                      nodeSpacing = 5,\n",
    "                      edgeLengthVal = 45,\n",
    "                      animate = True,\n",
    "                      randomize = False,\n",
    "                      maxSimulationTime = 1500)"
   ]
  },
  {
   "cell_type": "code",
   "execution_count": 15,
   "metadata": {
    "ExecuteTime": {
     "end_time": "2020-05-26T21:46:20.021106Z",
     "start_time": "2020-05-26T21:46:19.949649Z"
    }
   },
   "outputs": [
    {
     "data": {
      "application/vnd.jupyter.widget-view+json": {
       "model_id": "52eb4f50096b4d719859ffef2dbcef05",
       "version_major": 2,
       "version_minor": 0
      },
      "text/plain": [
       "CytoscapeWidget(cytoscape_layout={'name': 'cola', 'nodeSpacing': 5, 'edgeLengthVal': 45, 'animate': True, 'ran…"
      ]
     },
     "metadata": {},
     "output_type": "display_data"
    }
   ],
   "source": [
    "cytoscapeobj"
   ]
  },
  {
   "cell_type": "code",
   "execution_count": 8,
   "metadata": {
    "ExecuteTime": {
     "end_time": "2020-05-26T21:43:52.526184Z",
     "start_time": "2020-05-26T21:43:52.517669Z"
    }
   },
   "outputs": [
    {
     "data": {
      "text/plain": [
       "{'name': 'cola',\n",
       " 'nodeSpacing': 100,\n",
       " 'edgeLengthVal': 45,\n",
       " 'animate': True,\n",
       " 'randomize': False,\n",
       " 'maxSimulationTime': 1500}"
      ]
     },
     "execution_count": 8,
     "metadata": {},
     "output_type": "execute_result"
    }
   ],
   "source": [
    "# edits graph directly \n",
    "\n",
    "cytoscapeobj.set_layout(nodeSpacing=100)\n",
    "cytoscapeobj.get_layout()"
   ]
  },
  {
   "cell_type": "code",
   "execution_count": 9,
   "metadata": {
    "ExecuteTime": {
     "end_time": "2020-05-26T21:43:53.522566Z",
     "start_time": "2020-05-26T21:43:53.502620Z"
    }
   },
   "outputs": [
    {
     "data": {
      "application/vnd.jupyter.widget-view+json": {
       "model_id": "9a475e9c41224b4ea48703cfc2b87cfc",
       "version_major": 2,
       "version_minor": 0
      },
      "text/plain": [
       "IntSlider(value=0)"
      ]
     },
     "metadata": {},
     "output_type": "display_data"
    },
    {
     "data": {
      "application/vnd.jupyter.widget-view+json": {
       "model_id": "a2d2c2c47ff44974b7f11ddbf4087646",
       "version_major": 2,
       "version_minor": 0
      },
      "text/plain": [
       "Output()"
      ]
     },
     "metadata": {},
     "output_type": "display_data"
    }
   ],
   "source": [
    "# connects a slider to the nodeSpacing of the graph\n",
    "\n",
    "import ipywidgets as widgets\n",
    "\n",
    "node_range = widgets.IntSlider()\n",
    "output = widgets.Output()\n",
    "display(node_range, output)\n",
    "\n",
    "def on_value_change(change):\n",
    "    with output:\n",
    "        cytoscapeobj.set_layout(nodeSpacing = node_range.value)\n",
    "        cytoscapeobj.get_layout()\n",
    "\n",
    "node_range.observe(on_value_change)"
   ]
  },
  {
   "cell_type": "code",
   "execution_count": 16,
   "metadata": {
    "ExecuteTime": {
     "end_time": "2020-05-26T21:47:09.459734Z",
     "start_time": "2020-05-26T21:47:09.452753Z"
    }
   },
   "outputs": [],
   "source": [
    "data = {\n",
    "    'nodes': [\n",
    "        { 'data': { 'id': 'desktop', 'name': 'Cytoscape', 'href': 'http://cytoscape.org' } },\n",
    "        { 'data': { 'id': 'a', 'name': 'Grid', 'href': 'http://cytoscape.org' } },\n",
    "        { 'data': { 'id': 'b', 'name': 'Cola', 'href': 'http://cytoscape.org' } },\n",
    "        { 'data': { 'id': 'c', 'name': 'Popper', 'href': 'http://cytoscape.org' } },\n",
    "        { 'data': { 'id': 'js', 'name': 'Cytoscape.js', 'href': 'http://js.cytoscape.org' } }\n",
    "    ],\n",
    "    'edges': [\n",
    "        {'data': { 'source': 'desktop', 'target': 'js' }},\n",
    "        {'data': { 'source': 'a', 'target': 'b' }},\n",
    "        {'data': { 'source': 'a', 'target': 'c' }},\n",
    "        {'data': { 'source': 'b', 'target': 'c' }},\n",
    "        {'data': { 'source': 'js', 'target': 'b' }}\n",
    "    ]\n",
    "}"
   ]
  },
  {
   "cell_type": "code",
   "execution_count": 17,
   "metadata": {
    "ExecuteTime": {
     "end_time": "2020-05-26T21:47:16.816740Z",
     "start_time": "2020-05-26T21:47:16.784828Z"
    }
   },
   "outputs": [],
   "source": [
    "\n",
    "cytoscapeobj = ipycytoscape.CytoscapeWidget()\n",
    "cytoscapeobj.graph.add_graph_from_json(data)"
   ]
  },
  {
   "cell_type": "code",
   "execution_count": 18,
   "metadata": {
    "ExecuteTime": {
     "end_time": "2020-05-26T21:47:24.071090Z",
     "start_time": "2020-05-26T21:47:24.065104Z"
    }
   },
   "outputs": [],
   "source": [
    "cytoscapeobj.set_style([{\n",
    "                        'selector': 'node',\n",
    "                        'css': {\n",
    "                            'content': 'data(name)',\n",
    "                            'text-valign': 'center',\n",
    "                            'color': 'white',\n",
    "                            'text-outline-width': 2,\n",
    "                            'text-outline-color': 'green',\n",
    "                            'background-color': 'green'\n",
    "                        }\n",
    "                        },\n",
    "                        {\n",
    "                        'selector': ':selected',\n",
    "                        'css': {\n",
    "                            'background-color': 'black',\n",
    "                            'line-color': 'black',\n",
    "                            'target-arrow-color': 'black',\n",
    "                            'source-arrow-color': 'black',\n",
    "                            'text-outline-color': 'black'\n",
    "                        }}\n",
    "                        ])"
   ]
  },
  {
   "cell_type": "code",
   "execution_count": 19,
   "metadata": {
    "ExecuteTime": {
     "end_time": "2020-05-26T21:47:30.168675Z",
     "start_time": "2020-05-26T21:47:30.161658Z"
    }
   },
   "outputs": [
    {
     "data": {
      "application/vnd.jupyter.widget-view+json": {
       "model_id": "0e6e6f8cc5ce415899300885acb0d9ba",
       "version_major": 2,
       "version_minor": 0
      },
      "text/plain": [
       "CytoscapeWidget(cytoscape_layout={'name': 'cola'}, cytoscape_style=[{'selector': 'node', 'css': {'content': 'd…"
      ]
     },
     "metadata": {},
     "output_type": "display_data"
    }
   ],
   "source": [
    "cytoscapeobj"
   ]
  },
  {
   "cell_type": "code",
   "execution_count": null,
   "metadata": {},
   "outputs": [],
   "source": []
  }
 ],
 "metadata": {
  "kernelspec": {
   "display_name": "ipycy",
   "language": "python",
   "name": "ipycy"
  },
  "language_info": {
   "codemirror_mode": {
    "name": "ipython",
    "version": 3
   },
   "file_extension": ".py",
   "mimetype": "text/x-python",
   "name": "python",
   "nbconvert_exporter": "python",
   "pygments_lexer": "ipython3",
   "version": "3.7.1"
  },
  "toc": {
   "base_numbering": 1,
   "nav_menu": {},
   "number_sections": true,
   "sideBar": true,
   "skip_h1_title": false,
   "title_cell": "Table of Contents",
   "title_sidebar": "Contents",
   "toc_cell": false,
   "toc_position": {},
   "toc_section_display": true,
   "toc_window_display": false
  }
 },
 "nbformat": 4,
 "nbformat_minor": 4
}
