{
 "cells": [
  {
   "cell_type": "code",
   "execution_count": 1,
   "metadata": {
    "ExecuteTime": {
     "end_time": "2020-07-15T19:46:55.317729Z",
     "start_time": "2020-07-15T19:46:55.313823Z"
    }
   },
   "outputs": [],
   "source": [
    "import yaml\n",
    "import pprint\n",
    "import os"
   ]
  },
  {
   "cell_type": "code",
   "execution_count": 73,
   "metadata": {
    "ExecuteTime": {
     "end_time": "2020-07-15T22:16:58.966911Z",
     "start_time": "2020-07-15T22:16:58.950319Z"
    }
   },
   "outputs": [
    {
     "name": "stdout",
     "output_type": "stream",
     "text": [
      "<class 'list'>\n",
      "[{'Cytoscape': {'path': 'C:\\\\Users\\\\ajshe\\\\OneDrive\\\\Documents\\\\Comp_bio\\\\Cytoscape_v3.7.1',\n",
      "                'session': 'tps_session_test'}},\n",
      " {'TPS': [{'required': {'firstscores': 'data/timeseries/p-values-first.tsv',\n",
      "                        'network': 'data/networks/input-network.tsv',\n",
      "                        'outlabel': 'test4',\n",
      "                        'prevscores': 'data/timeseries/p-values-prev.tsv',\n",
      "                        'source': 'EGF_HUMAN',\n",
      "                        'threshold': 0.01,\n",
      "                        'timeseries': 'data/timeseries/median-time-series.tsv'}},\n",
      "          {'optional': {'bitvect': '',\n",
      "                        'no-connectivity': '',\n",
      "                        'no-monotonicity': '',\n",
      "                        'no-temporality': '',\n",
      "                        'outfolder': '',\n",
      "                        'partialmodel': 'data/resources/kinase-substrate-interactions.sif',\n",
      "                        'peptidemap': 'data/timeseries/peptide-mapping.tsv',\n",
      "                        'slack': '',\n",
      "                        'solver': ''}}]},\n",
      " {'Annotations': {'addZero': True,\n",
      "                  'goldStandardFile': 'data/resources/eight-egfr-reference-all.txt',\n",
      "                  'logTransform': False,\n",
      "                  'networkFile': 'output_placeholder',\n",
      "                  'outAnnotFile': 'annotations_output',\n",
      "                  'outStyleFile': 'style_output.xml',\n",
      "                  'peptideFirstScores': 'data/timeseries/p-values-first.tsv',\n",
      "                  'peptideMapFile': 'data/timeseries/peptide-mapping.tsv',\n",
      "                  'peptidePrevScoreFile': 'data/timeseries/p-values-prev.tsv',\n",
      "                  'pvalTresh': 0.01,\n",
      "                  'styleTemplateFile': 'data/templates/tps_style_template.xml',\n",
      "                  'timeSeriesFile': 'data/timeseries/log2-fold-change.txt',\n",
      "                  'windowsFile': 'output_placeholder'}}]\n"
     ]
    },
    {
     "name": "stderr",
     "output_type": "stream",
     "text": [
      "C:\\Users\\ajshe\\anaconda3\\envs\\py2cyto_environment\\lib\\site-packages\\ipykernel_launcher.py:4: YAMLLoadWarning: calling yaml.load() without Loader=... is deprecated, as the default Loader is unsafe. Please read https://msg.pyyaml.org/load for full details.\n",
      "  after removing the cwd from sys.path.\n"
     ]
    }
   ],
   "source": [
    "config = os.path.abspath(\"config.yml\")\n",
    "\n",
    "with open(config) as c:\n",
    "    params = yaml.load(c)\n",
    "print(type(params))\n",
    "\n",
    "pprint.pprint(params)"
   ]
  },
  {
   "cell_type": "code",
   "execution_count": 49,
   "metadata": {},
   "outputs": [
    {
     "data": {
      "text/plain": [
       "['--network',\n",
       " 'data/networks/input-network.tsv',\n",
       " '--timeseries',\n",
       " 'data/timeseries/median-time-series.tsv',\n",
       " '--firstscores',\n",
       " 'data/timeseries/p-values-first.tsv',\n",
       " '--prevscores',\n",
       " 'data/timeseries/p-values-prev.tsv',\n",
       " '--source',\n",
       " 'EGF_HUMAN',\n",
       " '--threshold',\n",
       " '0.01',\n",
       " '--partialmodel',\n",
       " 'data/resources/kinase-substrate-interactions.sif',\n",
       " '--peptidemap',\n",
       " 'data/timeseries/peptide-mapping.tsv']"
      ]
     },
     "execution_count": 49,
     "metadata": {},
     "output_type": "execute_result"
    }
   ],
   "source": [
    "run = []\n",
    "for key, val in params[1][\"TPS\"][0][\"required\"].items():\n",
    "    k = \"--\" + key\n",
    "    run.extend([k, str(val)])\n",
    "\n",
    "for key, val in params[1][\"TPS\"][1][\"optional\"].items():\n",
    "    if val == \"\":\n",
    "        pass\n",
    "    else:\n",
    "        k = \"--\" + key\n",
    "        run.extend([k, str(val)])\n",
    "        \n",
    "run"
   ]
  },
  {
   "cell_type": "code",
   "execution_count": 67,
   "metadata": {},
   "outputs": [
    {
     "name": "stderr",
     "output_type": "stream",
     "text": [
      "C:\\Users\\ajshe\\anaconda3\\envs\\py2cyto_environment\\lib\\site-packages\\ipykernel_launcher.py:2: YAMLLoadWarning: calling yaml.load() without Loader=... is deprecated, as the default Loader is unsafe. Please read https://msg.pyyaml.org/load for full details.\n",
      "  \n"
     ]
    },
    {
     "name": "stdout",
     "output_type": "stream",
     "text": [
      "<class 'list'>\n",
      "outfolder switch C:\\Users\\ajshe\\OneDrive\\Documents\\GitterLab\\tps\\tps\n",
      "\n"
     ]
    }
   ],
   "source": [
    "with open(config) as c:\n",
    "    params = yaml.load(c)\n",
    "print(type(params))\n",
    "\n",
    "\n",
    "tps_paramS = []\n",
    "\n",
    "# # grab TPS params \n",
    "build = []\n",
    "OUT_FOLDER = os.path.abspath(\"tps\")\n",
    "OUT_LABEL = \"\"\n",
    "build.extend([\"bash\", \"./scripts/run\"])\n",
    "for key, val in params[1][\"TPS\"][0][\"required\"].items():\n",
    "    k = \"--\" + key\n",
    "    build.extend([k, str(val)])\n",
    "\n",
    "for key, val in params[1][\"TPS\"][1][\"optional\"].items():\n",
    "    if key == \"outlabel\":\n",
    "        OUT_LABEL = str(val)\n",
    "        print(OUT_LABEL)\n",
    "    if key == \"outfolder\":\n",
    "        if val == \"\":\n",
    "            pass\n",
    "        else:\n",
    "            OUT_FOLDER = os.path.abspath(val)\n",
    "    if val == \"\":\n",
    "        pass\n",
    "    else:\n",
    "        k = \"--\" + key\n",
    "        build.extend([k, str(val)])\n",
    "        \n",
    "        \n",
    "process = subprocess.run(\n",
    "    build,\n",
    "    stdout=subprocess.PIPE,\n",
    "    stderr=subprocess.PIPE\n",
    ")\n",
    "\n",
    "\n",
    "print(\"outfolder switch {}\".format(OUT_FOLDER))\n",
    "build\n",
    "print(OUT_LABEL)\n",
    "outputs = str(subprocess.check_output([\"ls\", \"-d\", \"test3*\"]), encoding=\"utf-8\").strip().split()\n"
   ]
  },
  {
   "cell_type": "code",
   "execution_count": 68,
   "metadata": {},
   "outputs": [
    {
     "data": {
      "text/plain": [
       "['test3-activity-windows.tsv',\n",
       " 'test3-output.sif',\n",
       " 'test3-output.tsv',\n",
       " 'test3-temporal-interpretation.tsv']"
      ]
     },
     "execution_count": 68,
     "metadata": {},
     "output_type": "execute_result"
    }
   ],
   "source": [
    "outputs"
   ]
  },
  {
   "cell_type": "code",
   "execution_count": 75,
   "metadata": {},
   "outputs": [
    {
     "data": {
      "text/plain": [
       "'tps_session_test'"
      ]
     },
     "execution_count": 75,
     "metadata": {},
     "output_type": "execute_result"
    }
   ],
   "source": [
    "params[0]['Cytoscape'][\"session\"]"
   ]
  },
  {
   "cell_type": "code",
   "execution_count": 14,
   "metadata": {},
   "outputs": [
    {
     "data": {
      "text/plain": [
       "['bash',\n",
       " './scripts/run',\n",
       " '--network',\n",
       " 'data/networks/input-network.tsv',\n",
       " '--timeseries',\n",
       " 'data/timeseries/median-time-series.tsv',\n",
       " '--firstscores',\n",
       " 'data/timeseries/p-values-first.tsv',\n",
       " '--prevscores',\n",
       " 'data/timeseries/p-values-prev.tsv',\n",
       " '--partialmodel',\n",
       " 'data/resources/kinase-substrate-interactions.sif',\n",
       " '--peptidemap',\n",
       " 'data/timeseries/peptide-mapping.tsv',\n",
       " '--source',\n",
       " 'EGF_HUMAN',\n",
       " '--threshold',\n",
       " '0.01']"
      ]
     },
     "execution_count": 14,
     "metadata": {},
     "output_type": "execute_result"
    }
   ],
   "source": [
    "build = []\n",
    "build.append(\"bash\")\n",
    "build.append(\"./scripts/run\")\n",
    "for key, val in params[1][\"TPS\"].items():\n",
    "    k = \"--\" + key\n",
    "    build.extend([k, str(val)])\n",
    "    \n",
    "build"
   ]
  },
  {
   "cell_type": "code",
   "execution_count": 17,
   "metadata": {},
   "outputs": [
    {
     "data": {
      "text/plain": [
       "b'[info] Loading project definition from C:\\\\Users\\\\ajshe\\\\OneDrive\\\\Documents\\\\GitterLab\\\\tps\\\\project\\r\\n[info] Set current project to tps (in build file:/C:/Users/ajshe/OneDrive/Documents/GitterLab/tps/)\\r\\n[info] Set current project to tps-core (in build file:/C:/Users/ajshe/OneDrive/Documents/GitterLab/tps/)\\r\\n[info] Running tps.Main --network data/networks/input-network.tsv --timeseries data/timeseries/median-time-series.tsv --firstscores data/timeseries/p-values-first.tsv --prevscores data/timeseries/p-values-prev.tsv --partialmodel data/resources/kinase-substrate-interactions.sif --peptidemap data/timeseries/peptide-mapping.tsv --source EGF_HUMAN --threshold 0.01\\r\\nRunning solver.\\r\\nWrote file: C:\\\\Users\\\\ajshe\\\\OneDrive\\\\Documents\\\\GitterLab\\\\tps\\\\.\\\\temporal-interpretation.tsv\\r\\nWrote file: C:\\\\Users\\\\ajshe\\\\OneDrive\\\\Documents\\\\GitterLab\\\\tps\\\\.\\\\activity-windows.tsv\\r\\nWrote file: C:\\\\Users\\\\ajshe\\\\OneDrive\\\\Documents\\\\GitterLab\\\\tps\\\\.\\\\output.sif\\r\\nWrote file: C:\\\\Users\\\\ajshe\\\\OneDrive\\\\Documents\\\\GitterLab\\\\tps\\\\.\\\\output.tsv\\r\\n'"
      ]
     },
     "execution_count": 17,
     "metadata": {},
     "output_type": "execute_result"
    }
   ],
   "source": [
    "import subprocess\n",
    "process = subprocess.check_output(\n",
    "        build\n",
    "    )\n",
    "process"
   ]
  },
  {
   "cell_type": "code",
   "execution_count": 27,
   "metadata": {
    "ExecuteTime": {
     "end_time": "2020-07-15T21:47:45.063283Z",
     "start_time": "2020-07-15T21:47:45.053490Z"
    }
   },
   "outputs": [],
   "source": [
    "pass_arg = []\n",
    "a  = params[1]['TPS']['network']\n",
    "b =params[1]['TPS']['timeseries']\n",
    "c =params[1]['TPS']['firstscores']\n",
    "d  = params[1]['TPS']['prevscores']\n",
    "e = params[1]['TPS']['partialmodel']\n",
    "f= params[1]['TPS']['peptidemap']\n",
    "g  = params[1]['TPS']['source']\n",
    "h = params[1]['TPS']['threshold']\n"
   ]
  },
  {
   "cell_type": "code",
   "execution_count": 43,
   "metadata": {
    "ExecuteTime": {
     "end_time": "2020-07-15T21:55:33.993743Z",
     "start_time": "2020-07-15T21:55:20.815228Z"
    }
   },
   "outputs": [
    {
     "ename": "OSError",
     "evalue": "[WinError 193] %1 is not a valid Win32 application",
     "output_type": "error",
     "traceback": [
      "\u001b[1;31m---------------------------------------------------------------------------\u001b[0m",
      "\u001b[1;31mOSError\u001b[0m                                   Traceback (most recent call last)",
      "\u001b[1;32m<ipython-input-43-547075c401f6>\u001b[0m in \u001b[0;36m<module>\u001b[1;34m\u001b[0m\n\u001b[0;32m      6\u001b[0m \u001b[0msubprocess\u001b[0m\u001b[1;33m.\u001b[0m\u001b[0mcheck_call\u001b[0m\u001b[1;33m(\u001b[0m\u001b[1;33m[\u001b[0m\u001b[1;34mr\"C:\\Users\\ajshe\\OneDrive\\Documents\\GitterLab\\tps\\run_tps.sh\"\u001b[0m\u001b[1;33m,\u001b[0m \u001b[0ma\u001b[0m\u001b[1;33m,\u001b[0m \u001b[0mb\u001b[0m\u001b[1;33m,\u001b[0m \u001b[0mc\u001b[0m\u001b[1;33m,\u001b[0m \u001b[0md\u001b[0m\u001b[1;33m,\u001b[0m \u001b[0me\u001b[0m\u001b[1;33m,\u001b[0m \u001b[0mf\u001b[0m\u001b[1;33m,\u001b[0m \u001b[0mg\u001b[0m\u001b[1;33m]\u001b[0m\u001b[1;33m,\u001b[0m \u001b[0mshell\u001b[0m \u001b[1;33m=\u001b[0m \u001b[1;32mTrue\u001b[0m\u001b[1;33m)\u001b[0m\u001b[1;33m\u001b[0m\u001b[1;33m\u001b[0m\u001b[0m\n\u001b[0;32m      7\u001b[0m \u001b[1;33m\u001b[0m\u001b[0m\n\u001b[1;32m----> 8\u001b[1;33m subprocess.check_call([r\"C:\\Users\\ajshe\\OneDrive\\Documents\\GitterLab\\tps\\scripts\\run\", '--network C:\\\\Users\\\\ajshe\\\\Anaconda3\\\\envs\\\\py2cyto\\\\tps\\\\data\\\\networks\\\\input-network.tsv', \n\u001b[0m\u001b[0;32m      9\u001b[0m                         \u001b[1;34m'--timeseries C:\\\\Users\\\\ajshe\\\\Anaconda3\\\\envs\\\\py2cyto\\\\tps\\\\data\\\\timeseries\\\\median-time-series.tsv'\u001b[0m\u001b[1;33m,\u001b[0m\u001b[1;33m\u001b[0m\u001b[1;33m\u001b[0m\u001b[0m\n\u001b[0;32m     10\u001b[0m                         \u001b[1;34m'--firstscores C:\\\\Users\\\\ajshe\\\\Anaconda3\\\\envs\\\\py2cyto\\\\tps\\\\data\\\\timeseries\\\\p-values-first.tsv'\u001b[0m\u001b[1;33m,\u001b[0m\u001b[1;33m\u001b[0m\u001b[1;33m\u001b[0m\u001b[0m\n",
      "\u001b[1;32m~\\anaconda3\\lib\\subprocess.py\u001b[0m in \u001b[0;36mcheck_call\u001b[1;34m(*popenargs, **kwargs)\u001b[0m\n\u001b[0;32m    357\u001b[0m     \u001b[0mcheck_call\u001b[0m\u001b[1;33m(\u001b[0m\u001b[1;33m[\u001b[0m\u001b[1;34m\"ls\"\u001b[0m\u001b[1;33m,\u001b[0m \u001b[1;34m\"-l\"\u001b[0m\u001b[1;33m]\u001b[0m\u001b[1;33m)\u001b[0m\u001b[1;33m\u001b[0m\u001b[1;33m\u001b[0m\u001b[0m\n\u001b[0;32m    358\u001b[0m     \"\"\"\n\u001b[1;32m--> 359\u001b[1;33m     \u001b[0mretcode\u001b[0m \u001b[1;33m=\u001b[0m \u001b[0mcall\u001b[0m\u001b[1;33m(\u001b[0m\u001b[1;33m*\u001b[0m\u001b[0mpopenargs\u001b[0m\u001b[1;33m,\u001b[0m \u001b[1;33m**\u001b[0m\u001b[0mkwargs\u001b[0m\u001b[1;33m)\u001b[0m\u001b[1;33m\u001b[0m\u001b[1;33m\u001b[0m\u001b[0m\n\u001b[0m\u001b[0;32m    360\u001b[0m     \u001b[1;32mif\u001b[0m \u001b[0mretcode\u001b[0m\u001b[1;33m:\u001b[0m\u001b[1;33m\u001b[0m\u001b[1;33m\u001b[0m\u001b[0m\n\u001b[0;32m    361\u001b[0m         \u001b[0mcmd\u001b[0m \u001b[1;33m=\u001b[0m \u001b[0mkwargs\u001b[0m\u001b[1;33m.\u001b[0m\u001b[0mget\u001b[0m\u001b[1;33m(\u001b[0m\u001b[1;34m\"args\"\u001b[0m\u001b[1;33m)\u001b[0m\u001b[1;33m\u001b[0m\u001b[1;33m\u001b[0m\u001b[0m\n",
      "\u001b[1;32m~\\anaconda3\\lib\\subprocess.py\u001b[0m in \u001b[0;36mcall\u001b[1;34m(timeout, *popenargs, **kwargs)\u001b[0m\n\u001b[0;32m    338\u001b[0m     \u001b[0mretcode\u001b[0m \u001b[1;33m=\u001b[0m \u001b[0mcall\u001b[0m\u001b[1;33m(\u001b[0m\u001b[1;33m[\u001b[0m\u001b[1;34m\"ls\"\u001b[0m\u001b[1;33m,\u001b[0m \u001b[1;34m\"-l\"\u001b[0m\u001b[1;33m]\u001b[0m\u001b[1;33m)\u001b[0m\u001b[1;33m\u001b[0m\u001b[1;33m\u001b[0m\u001b[0m\n\u001b[0;32m    339\u001b[0m     \"\"\"\n\u001b[1;32m--> 340\u001b[1;33m     \u001b[1;32mwith\u001b[0m \u001b[0mPopen\u001b[0m\u001b[1;33m(\u001b[0m\u001b[1;33m*\u001b[0m\u001b[0mpopenargs\u001b[0m\u001b[1;33m,\u001b[0m \u001b[1;33m**\u001b[0m\u001b[0mkwargs\u001b[0m\u001b[1;33m)\u001b[0m \u001b[1;32mas\u001b[0m \u001b[0mp\u001b[0m\u001b[1;33m:\u001b[0m\u001b[1;33m\u001b[0m\u001b[1;33m\u001b[0m\u001b[0m\n\u001b[0m\u001b[0;32m    341\u001b[0m         \u001b[1;32mtry\u001b[0m\u001b[1;33m:\u001b[0m\u001b[1;33m\u001b[0m\u001b[1;33m\u001b[0m\u001b[0m\n\u001b[0;32m    342\u001b[0m             \u001b[1;32mreturn\u001b[0m \u001b[0mp\u001b[0m\u001b[1;33m.\u001b[0m\u001b[0mwait\u001b[0m\u001b[1;33m(\u001b[0m\u001b[0mtimeout\u001b[0m\u001b[1;33m=\u001b[0m\u001b[0mtimeout\u001b[0m\u001b[1;33m)\u001b[0m\u001b[1;33m\u001b[0m\u001b[1;33m\u001b[0m\u001b[0m\n",
      "\u001b[1;32m~\\anaconda3\\lib\\subprocess.py\u001b[0m in \u001b[0;36m__init__\u001b[1;34m(self, args, bufsize, executable, stdin, stdout, stderr, preexec_fn, close_fds, shell, cwd, env, universal_newlines, startupinfo, creationflags, restore_signals, start_new_session, pass_fds, encoding, errors, text)\u001b[0m\n\u001b[0;32m    852\u001b[0m                             encoding=encoding, errors=errors)\n\u001b[0;32m    853\u001b[0m \u001b[1;33m\u001b[0m\u001b[0m\n\u001b[1;32m--> 854\u001b[1;33m             self._execute_child(args, executable, preexec_fn, close_fds,\n\u001b[0m\u001b[0;32m    855\u001b[0m                                 \u001b[0mpass_fds\u001b[0m\u001b[1;33m,\u001b[0m \u001b[0mcwd\u001b[0m\u001b[1;33m,\u001b[0m \u001b[0menv\u001b[0m\u001b[1;33m,\u001b[0m\u001b[1;33m\u001b[0m\u001b[1;33m\u001b[0m\u001b[0m\n\u001b[0;32m    856\u001b[0m                                 \u001b[0mstartupinfo\u001b[0m\u001b[1;33m,\u001b[0m \u001b[0mcreationflags\u001b[0m\u001b[1;33m,\u001b[0m \u001b[0mshell\u001b[0m\u001b[1;33m,\u001b[0m\u001b[1;33m\u001b[0m\u001b[1;33m\u001b[0m\u001b[0m\n",
      "\u001b[1;32m~\\anaconda3\\lib\\subprocess.py\u001b[0m in \u001b[0;36m_execute_child\u001b[1;34m(self, args, executable, preexec_fn, close_fds, pass_fds, cwd, env, startupinfo, creationflags, shell, p2cread, p2cwrite, c2pread, c2pwrite, errread, errwrite, unused_restore_signals, unused_start_new_session)\u001b[0m\n\u001b[0;32m   1305\u001b[0m             \u001b[1;31m# Start the process\u001b[0m\u001b[1;33m\u001b[0m\u001b[1;33m\u001b[0m\u001b[1;33m\u001b[0m\u001b[0m\n\u001b[0;32m   1306\u001b[0m             \u001b[1;32mtry\u001b[0m\u001b[1;33m:\u001b[0m\u001b[1;33m\u001b[0m\u001b[1;33m\u001b[0m\u001b[0m\n\u001b[1;32m-> 1307\u001b[1;33m                 hp, ht, pid, tid = _winapi.CreateProcess(executable, args,\n\u001b[0m\u001b[0;32m   1308\u001b[0m                                          \u001b[1;31m# no special security\u001b[0m\u001b[1;33m\u001b[0m\u001b[1;33m\u001b[0m\u001b[1;33m\u001b[0m\u001b[0m\n\u001b[0;32m   1309\u001b[0m                                          \u001b[1;32mNone\u001b[0m\u001b[1;33m,\u001b[0m \u001b[1;32mNone\u001b[0m\u001b[1;33m,\u001b[0m\u001b[1;33m\u001b[0m\u001b[1;33m\u001b[0m\u001b[0m\n",
      "\u001b[1;31mOSError\u001b[0m: [WinError 193] %1 is not a valid Win32 application"
     ]
    }
   ],
   "source": [
    "import subprocess\n",
    "\n",
    "\n",
    "tps = os.path.abspath(\"..\")\n",
    "tps\n",
    "subprocess.check_call([r\"C:\\Users\\ajshe\\OneDrive\\Documents\\GitterLab\\tps\\run_tps.sh\", a, b, c, d, e, f, g], shell = True)\n",
    "\n",
    "subprocess.check_call([r\"C:\\Users\\ajshe\\OneDrive\\Documents\\GitterLab\\tps\\scripts\\run\", '--network C:\\\\Users\\\\ajshe\\\\Anaconda3\\\\envs\\\\py2cyto\\\\tps\\\\data\\\\networks\\\\input-network.tsv', \n",
    "                        '--timeseries C:\\\\Users\\\\ajshe\\\\Anaconda3\\\\envs\\\\py2cyto\\\\tps\\\\data\\\\timeseries\\\\median-time-series.tsv', \n",
    "                        '--firstscores C:\\\\Users\\\\ajshe\\\\Anaconda3\\\\envs\\\\py2cyto\\\\tps\\\\data\\\\timeseries\\\\p-values-first.tsv', \n",
    "                        '--prevscores C:\\\\Users\\\\ajshe\\\\Anaconda3\\\\envs\\\\py2cyto\\\\tps\\\\data\\\\timeseries\\\\p-values-prev.tsv', \n",
    "                        '--partialmodel C:\\\\Users\\\\ajshe\\\\Anaconda3\\\\envs\\\\py2cyto\\\\tps\\\\data\\\\resources\\\\kinase-substrate-interactions.sif', \n",
    "                        '--peptidemap C:\\\\Users\\\\ajshe\\\\Anaconda3\\\\envs\\\\py2cyto\\\\tps\\\\data\\\\timeseries\\\\peptide-mapping.tsv', \n",
    "                        '--source EGF_HUMAN', \n",
    "                        '--threshold 0.01'], cwd = tps)\n",
    "\n",
    "# move files into folders\n",
    "# run annotations scripts"
   ]
  },
  {
   "cell_type": "code",
   "execution_count": 60,
   "metadata": {
    "ExecuteTime": {
     "end_time": "2020-07-15T21:59:15.548655Z",
     "start_time": "2020-07-15T21:59:15.543736Z"
    }
   },
   "outputs": [
    {
     "data": {
      "text/plain": [
       "'C:\\\\Users\\\\ajshe\\\\Anaconda3\\\\envs\\\\py2cyto\\\\tps\\\\data\\\\resources\\\\kinase-substrate-interactions.sif'"
      ]
     },
     "execution_count": 60,
     "metadata": {},
     "output_type": "execute_result"
    }
   ],
   "source": [
    "import os\n",
    "\n",
    "os.path.abspath('data/resources/kinase-substrate-interactions.sif')"
   ]
  },
  {
   "cell_type": "code",
   "execution_count": 73,
   "metadata": {
    "ExecuteTime": {
     "end_time": "2020-07-15T22:23:48.985965Z",
     "start_time": "2020-07-15T22:23:48.979097Z"
    }
   },
   "outputs": [
    {
     "name": "stdout",
     "output_type": "stream",
     "text": [
      "source :  EGF_HUMAN\n",
      "firstscores :  C:\\Users\\ajshe\\Anaconda3\\envs\\py2cyto\\tps\\data\\timeseries\\p-values-first.tsv\n",
      "threshold :  0.01\n",
      "prevscores :  C:\\Users\\ajshe\\Anaconda3\\envs\\py2cyto\\tps\\data\\timeseries\\p-values-prev.tsv\n",
      "timeseries :  C:\\Users\\ajshe\\Anaconda3\\envs\\py2cyto\\tps\\data\\timeseries\\median-time-series.tsv\n",
      "partialmodel :  C:\\Users\\ajshe\\Anaconda3\\envs\\py2cyto\\tps\\data\\resources\\kinase-substrate-interactions.sif\n",
      "network :  C:\\Users\\ajshe\\Anaconda3\\envs\\py2cyto\\tps\\data\\networks\\input-network.tsv\n",
      "peptidemap :  C:\\Users\\ajshe\\Anaconda3\\envs\\py2cyto\\tps\\data\\timeseries\\peptide-mapping.tsv\n",
      "goldStandardFile :  C:\\Users\\ajshe\\Anaconda3\\envs\\py2cyto\\tps\\data\\resources\\eight-egfr-reference-all.txt\n",
      "networkFile :  output_placeholder\n",
      "pvalTresh :  0.01\n",
      "peptideMapFile :  C:\\Users\\ajshe\\Anaconda3\\envs\\py2cyto\\tps\\data\\timeseries\\peptide-mapping.tsv\n",
      "outStyleFile :  style_output\n",
      "timeSeriesFile :  C:\\Users\\ajshe\\Anaconda3\\envs\\py2cyto\\tps\\data\\timeseries\\log2-fold-change.txt\n",
      "styleTemplateFile :  C:\\Users\\ajshe\\Anaconda3\\envs\\py2cyto\\tps\\data\\templates\\tps_style_template.xml\n",
      "peptideFirstScores :  C:\\Users\\ajshe\\Anaconda3\\envs\\py2cyto\\tps\\data\\timeseries\\p-values-first.tsv\n",
      "windowsFile :  output_placeholder\n",
      "peptidePrevScoreFile :  C:\\Users\\ajshe\\Anaconda3\\envs\\py2cyto\\tps\\data\\timeseries\\p-values-prev.tsv\n",
      "outAnnotFile :  annotations_output\n",
      "logTransform :  False\n",
      "addZero :  True\n"
     ]
    }
   ],
   "source": [
    "for i in param_list[1]['TPS']:\n",
    "    print(i, \": \", param_list[1]['TPS'][i])\n",
    "    \n",
    "for j in param_list[2]['Annotations']:\n",
    "    print(j, \": \", param_list[2]['Annotations'][j])"
   ]
  },
  {
   "cell_type": "markdown",
   "metadata": {},
   "source": [
    "# configargparser"
   ]
  },
  {
   "cell_type": "code",
   "execution_count": 9,
   "metadata": {},
   "outputs": [],
   "source": [
    "import configargparse\n",
    "import os "
   ]
  },
  {
   "cell_type": "code",
   "execution_count": 16,
   "metadata": {},
   "outputs": [
    {
     "ename": "AttributeError",
     "evalue": "module 'configargparse' has no attribute 'ConfigParser'",
     "output_type": "error",
     "traceback": [
      "\u001b[1;31m---------------------------------------------------------------------------\u001b[0m",
      "\u001b[1;31mAttributeError\u001b[0m                            Traceback (most recent call last)",
      "\u001b[1;32m<ipython-input-16-74a0004994c0>\u001b[0m in \u001b[0;36m<module>\u001b[1;34m()\u001b[0m\n\u001b[0;32m      1\u001b[0m \u001b[0mconfig\u001b[0m \u001b[1;33m=\u001b[0m \u001b[0mos\u001b[0m\u001b[1;33m.\u001b[0m\u001b[0mpath\u001b[0m\u001b[1;33m.\u001b[0m\u001b[0mabspath\u001b[0m\u001b[1;33m(\u001b[0m\u001b[1;34m\"config.yml\"\u001b[0m\u001b[1;33m)\u001b[0m\u001b[1;33m\u001b[0m\u001b[1;33m\u001b[0m\u001b[0m\n\u001b[1;32m----> 2\u001b[1;33m \u001b[0mparser\u001b[0m \u001b[1;33m=\u001b[0m \u001b[0mconfigargparse\u001b[0m\u001b[1;33m.\u001b[0m\u001b[0mConfigParser\u001b[0m\u001b[1;33m(\u001b[0m\u001b[1;33m)\u001b[0m\u001b[1;33m\u001b[0m\u001b[1;33m\u001b[0m\u001b[0m\n\u001b[0m\u001b[0;32m      3\u001b[0m \u001b[0mparser\u001b[0m\u001b[1;33m.\u001b[0m\u001b[0mparse\u001b[0m\u001b[1;33m(\u001b[0m\u001b[0mconfig\u001b[0m\u001b[1;33m)\u001b[0m\u001b[1;33m\u001b[0m\u001b[1;33m\u001b[0m\u001b[0m\n",
      "\u001b[1;31mAttributeError\u001b[0m: module 'configargparse' has no attribute 'ConfigParser'"
     ]
    }
   ],
   "source": [
    "config = os.path.abspath(\"config.yml\")\n",
    "parser = configargparse.ConfigParser()\n",
    "parser.parse(config)"
   ]
  },
  {
   "cell_type": "code",
   "execution_count": 17,
   "metadata": {},
   "outputs": [],
   "source": [
    "p = configargparse.ArgParser(config)"
   ]
  },
  {
   "cell_type": "code",
   "execution_count": 18,
   "metadata": {},
   "outputs": [
    {
     "data": {
      "text/plain": [
       "ArgumentParser(prog='C:\\\\Users\\\\ajshe\\\\OneDrive\\\\Documents\\\\GitterLab\\\\tps\\\\workflow\\\\config.yml', usage=None, description=None, formatter_class=<class 'argparse.HelpFormatter'>, conflict_handler='error', add_help=True)"
      ]
     },
     "execution_count": 18,
     "metadata": {},
     "output_type": "execute_result"
    }
   ],
   "source": [
    "p"
   ]
  },
  {
   "cell_type": "code",
   "execution_count": 27,
   "metadata": {},
   "outputs": [
    {
     "name": "stderr",
     "output_type": "stream",
     "text": [
      "usage: C:\\Users\\ajshe\\OneDrive\\Documents\\GitterLab\\tps\\workflow\\config.yml\n",
      "       [-h]\n",
      "C:\\Users\\ajshe\\OneDrive\\Documents\\GitterLab\\tps\\workflow\\config.yml: error: unrecognized arguments: -f C:\\Users\\ajshe\\AppData\\Roaming\\jupyter\\runtime\\kernel-51afd69b-b337-4ed4-b530-e8577a9ab488.json\n"
     ]
    },
    {
     "ename": "SystemExit",
     "evalue": "2",
     "output_type": "error",
     "traceback": [
      "An exception has occurred, use %tb to see the full traceback.\n",
      "\u001b[1;31mSystemExit\u001b[0m\u001b[1;31m:\u001b[0m 2\n"
     ]
    },
    {
     "name": "stderr",
     "output_type": "stream",
     "text": [
      "C:\\Users\\ajshe\\anaconda3\\envs\\py2cyto_environment\\lib\\site-packages\\IPython\\core\\interactiveshell.py:2886: UserWarning: To exit: use 'exit', 'quit', or Ctrl-D.\n",
      "  warn(\"To exit: use 'exit', 'quit', or Ctrl-D.\", stacklevel=1)\n"
     ]
    }
   ],
   "source": [
    "o = p.parse_args()"
   ]
  },
  {
   "cell_type": "code",
   "execution_count": 28,
   "metadata": {},
   "outputs": [
    {
     "ename": "SystemExit",
     "evalue": "2",
     "output_type": "error",
     "traceback": [
      "\u001b[1;31m---------------------------------------------------------------------------\u001b[0m",
      "\u001b[1;31mSystemExit\u001b[0m                                Traceback (most recent call last)",
      "\u001b[1;32m<ipython-input-27-506430592cf5>\u001b[0m in \u001b[0;36m<module>\u001b[1;34m()\u001b[0m\n\u001b[1;32m----> 1\u001b[1;33m \u001b[0mo\u001b[0m \u001b[1;33m=\u001b[0m \u001b[0mp\u001b[0m\u001b[1;33m.\u001b[0m\u001b[0mparse_args\u001b[0m\u001b[1;33m(\u001b[0m\u001b[1;33m)\u001b[0m\u001b[1;33m\u001b[0m\u001b[1;33m\u001b[0m\u001b[0m\n\u001b[0m",
      "\u001b[1;32mC:\\Users\\ajshe\\anaconda3\\envs\\py2cyto_environment\\lib\\site-packages\\configargparse.py\u001b[0m in \u001b[0;36mparse_args\u001b[1;34m(self, args, namespace, config_file_contents, env_vars)\u001b[0m\n\u001b[0;32m    454\u001b[0m             env_vars = env_vars)\n\u001b[0;32m    455\u001b[0m         \u001b[1;32mif\u001b[0m \u001b[0margv\u001b[0m\u001b[1;33m:\u001b[0m\u001b[1;33m\u001b[0m\u001b[1;33m\u001b[0m\u001b[0m\n\u001b[1;32m--> 456\u001b[1;33m             \u001b[0mself\u001b[0m\u001b[1;33m.\u001b[0m\u001b[0merror\u001b[0m\u001b[1;33m(\u001b[0m\u001b[1;34m'unrecognized arguments: %s'\u001b[0m \u001b[1;33m%\u001b[0m \u001b[1;34m' '\u001b[0m\u001b[1;33m.\u001b[0m\u001b[0mjoin\u001b[0m\u001b[1;33m(\u001b[0m\u001b[0margv\u001b[0m\u001b[1;33m)\u001b[0m\u001b[1;33m)\u001b[0m\u001b[1;33m\u001b[0m\u001b[1;33m\u001b[0m\u001b[0m\n\u001b[0m\u001b[0;32m    457\u001b[0m         \u001b[1;32mreturn\u001b[0m \u001b[0margs\u001b[0m\u001b[1;33m\u001b[0m\u001b[1;33m\u001b[0m\u001b[0m\n\u001b[0;32m    458\u001b[0m \u001b[1;33m\u001b[0m\u001b[0m\n",
      "\u001b[1;32mC:\\Users\\ajshe\\anaconda3\\envs\\py2cyto_environment\\lib\\argparse.py\u001b[0m in \u001b[0;36merror\u001b[1;34m(self, message)\u001b[0m\n\u001b[0;32m   2391\u001b[0m         \u001b[0mself\u001b[0m\u001b[1;33m.\u001b[0m\u001b[0mprint_usage\u001b[0m\u001b[1;33m(\u001b[0m\u001b[0m_sys\u001b[0m\u001b[1;33m.\u001b[0m\u001b[0mstderr\u001b[0m\u001b[1;33m)\u001b[0m\u001b[1;33m\u001b[0m\u001b[1;33m\u001b[0m\u001b[0m\n\u001b[0;32m   2392\u001b[0m         \u001b[0margs\u001b[0m \u001b[1;33m=\u001b[0m \u001b[1;33m{\u001b[0m\u001b[1;34m'prog'\u001b[0m\u001b[1;33m:\u001b[0m \u001b[0mself\u001b[0m\u001b[1;33m.\u001b[0m\u001b[0mprog\u001b[0m\u001b[1;33m,\u001b[0m \u001b[1;34m'message'\u001b[0m\u001b[1;33m:\u001b[0m \u001b[0mmessage\u001b[0m\u001b[1;33m}\u001b[0m\u001b[1;33m\u001b[0m\u001b[1;33m\u001b[0m\u001b[0m\n\u001b[1;32m-> 2393\u001b[1;33m         \u001b[0mself\u001b[0m\u001b[1;33m.\u001b[0m\u001b[0mexit\u001b[0m\u001b[1;33m(\u001b[0m\u001b[1;36m2\u001b[0m\u001b[1;33m,\u001b[0m \u001b[0m_\u001b[0m\u001b[1;33m(\u001b[0m\u001b[1;34m'%(prog)s: error: %(message)s\\n'\u001b[0m\u001b[1;33m)\u001b[0m \u001b[1;33m%\u001b[0m \u001b[0margs\u001b[0m\u001b[1;33m)\u001b[0m\u001b[1;33m\u001b[0m\u001b[1;33m\u001b[0m\u001b[0m\n\u001b[0m",
      "\u001b[1;32mC:\\Users\\ajshe\\anaconda3\\envs\\py2cyto_environment\\lib\\argparse.py\u001b[0m in \u001b[0;36mexit\u001b[1;34m(self, status, message)\u001b[0m\n\u001b[0;32m   2378\u001b[0m         \u001b[1;32mif\u001b[0m \u001b[0mmessage\u001b[0m\u001b[1;33m:\u001b[0m\u001b[1;33m\u001b[0m\u001b[1;33m\u001b[0m\u001b[0m\n\u001b[0;32m   2379\u001b[0m             \u001b[0mself\u001b[0m\u001b[1;33m.\u001b[0m\u001b[0m_print_message\u001b[0m\u001b[1;33m(\u001b[0m\u001b[0mmessage\u001b[0m\u001b[1;33m,\u001b[0m \u001b[0m_sys\u001b[0m\u001b[1;33m.\u001b[0m\u001b[0mstderr\u001b[0m\u001b[1;33m)\u001b[0m\u001b[1;33m\u001b[0m\u001b[1;33m\u001b[0m\u001b[0m\n\u001b[1;32m-> 2380\u001b[1;33m         \u001b[0m_sys\u001b[0m\u001b[1;33m.\u001b[0m\u001b[0mexit\u001b[0m\u001b[1;33m(\u001b[0m\u001b[0mstatus\u001b[0m\u001b[1;33m)\u001b[0m\u001b[1;33m\u001b[0m\u001b[1;33m\u001b[0m\u001b[0m\n\u001b[0m\u001b[0;32m   2381\u001b[0m \u001b[1;33m\u001b[0m\u001b[0m\n\u001b[0;32m   2382\u001b[0m     \u001b[1;32mdef\u001b[0m \u001b[0merror\u001b[0m\u001b[1;33m(\u001b[0m\u001b[0mself\u001b[0m\u001b[1;33m,\u001b[0m \u001b[0mmessage\u001b[0m\u001b[1;33m)\u001b[0m\u001b[1;33m:\u001b[0m\u001b[1;33m\u001b[0m\u001b[1;33m\u001b[0m\u001b[0m\n",
      "\u001b[1;31mSystemExit\u001b[0m: 2"
     ]
    }
   ],
   "source": [
    "%tb"
   ]
  },
  {
   "cell_type": "code",
   "execution_count": 29,
   "metadata": {},
   "outputs": [],
   "source": [
    "import configparser"
   ]
  },
  {
   "cell_type": "code",
   "execution_count": 30,
   "metadata": {},
   "outputs": [],
   "source": [
    "config = configparser.ConfigParser()\n",
    "config['DEFAULT'] = {'ServerAliveInterval': '45',\n",
    "                    'Compression': 'yes',\n",
    "                      'CompressionLevel': '9'}\n",
    "config['bitbucket.org'] = {}\n",
    "config['bitbucket.org']['User'] = 'hg'\n",
    "config['topsecret.server.com'] = {}\n",
    "topsecret = config['topsecret.server.com']\n",
    "topsecret['Port'] = '50022'     # mutates the parser\n",
    "topsecret['ForwardX11'] = 'no'  # same here\n",
    "config['DEFAULT']['ForwardX11'] = 'yes'\n",
    "with open('example.ini', 'w') as configfile:\n",
    "    config.write(configfile)"
   ]
  },
  {
   "cell_type": "code",
   "execution_count": 31,
   "metadata": {},
   "outputs": [
    {
     "data": {
      "text/plain": [
       "[]"
      ]
     },
     "execution_count": 31,
     "metadata": {},
     "output_type": "execute_result"
    }
   ],
   "source": [
    "con = configparser.ConfigParser()\n",
    "con.read(config)"
   ]
  },
  {
   "cell_type": "code",
   "execution_count": 32,
   "metadata": {},
   "outputs": [
    {
     "data": {
      "text/plain": [
       "<configparser.ConfigParser at 0x1d3009d0ef0>"
      ]
     },
     "execution_count": 32,
     "metadata": {},
     "output_type": "execute_result"
    }
   ],
   "source": [
    "con"
   ]
  },
  {
   "cell_type": "code",
   "execution_count": 33,
   "metadata": {},
   "outputs": [
    {
     "ename": "KeyError",
     "evalue": "'TPS'",
     "output_type": "error",
     "traceback": [
      "\u001b[1;31m---------------------------------------------------------------------------\u001b[0m",
      "\u001b[1;31mKeyError\u001b[0m                                  Traceback (most recent call last)",
      "\u001b[1;32m<ipython-input-33-9d60db9ff4f2>\u001b[0m in \u001b[0;36m<module>\u001b[1;34m()\u001b[0m\n\u001b[1;32m----> 1\u001b[1;33m \u001b[0mcon\u001b[0m\u001b[1;33m[\u001b[0m\u001b[1;34m\"TPS\"\u001b[0m\u001b[1;33m]\u001b[0m\u001b[1;33m\u001b[0m\u001b[1;33m\u001b[0m\u001b[0m\n\u001b[0m",
      "\u001b[1;32mC:\\Users\\ajshe\\anaconda3\\envs\\py2cyto_environment\\lib\\configparser.py\u001b[0m in \u001b[0;36m__getitem__\u001b[1;34m(self, key)\u001b[0m\n\u001b[0;32m    957\u001b[0m     \u001b[1;32mdef\u001b[0m \u001b[0m__getitem__\u001b[0m\u001b[1;33m(\u001b[0m\u001b[0mself\u001b[0m\u001b[1;33m,\u001b[0m \u001b[0mkey\u001b[0m\u001b[1;33m)\u001b[0m\u001b[1;33m:\u001b[0m\u001b[1;33m\u001b[0m\u001b[1;33m\u001b[0m\u001b[0m\n\u001b[0;32m    958\u001b[0m         \u001b[1;32mif\u001b[0m \u001b[0mkey\u001b[0m \u001b[1;33m!=\u001b[0m \u001b[0mself\u001b[0m\u001b[1;33m.\u001b[0m\u001b[0mdefault_section\u001b[0m \u001b[1;32mand\u001b[0m \u001b[1;32mnot\u001b[0m \u001b[0mself\u001b[0m\u001b[1;33m.\u001b[0m\u001b[0mhas_section\u001b[0m\u001b[1;33m(\u001b[0m\u001b[0mkey\u001b[0m\u001b[1;33m)\u001b[0m\u001b[1;33m:\u001b[0m\u001b[1;33m\u001b[0m\u001b[1;33m\u001b[0m\u001b[0m\n\u001b[1;32m--> 959\u001b[1;33m             \u001b[1;32mraise\u001b[0m \u001b[0mKeyError\u001b[0m\u001b[1;33m(\u001b[0m\u001b[0mkey\u001b[0m\u001b[1;33m)\u001b[0m\u001b[1;33m\u001b[0m\u001b[1;33m\u001b[0m\u001b[0m\n\u001b[0m\u001b[0;32m    960\u001b[0m         \u001b[1;32mreturn\u001b[0m \u001b[0mself\u001b[0m\u001b[1;33m.\u001b[0m\u001b[0m_proxies\u001b[0m\u001b[1;33m[\u001b[0m\u001b[0mkey\u001b[0m\u001b[1;33m]\u001b[0m\u001b[1;33m\u001b[0m\u001b[1;33m\u001b[0m\u001b[0m\n\u001b[0;32m    961\u001b[0m \u001b[1;33m\u001b[0m\u001b[0m\n",
      "\u001b[1;31mKeyError\u001b[0m: 'TPS'"
     ]
    }
   ],
   "source": [
    "con[\"TPS\"]"
   ]
  },
  {
   "cell_type": "code",
   "execution_count": 38,
   "metadata": {},
   "outputs": [
    {
     "name": "stdout",
     "output_type": "stream",
     "text": [
      "[{'Cytoscape': 'C:\\\\Users\\\\ajshe\\\\OneDrive\\\\Documents\\\\Comp_bio\\\\Cytoscape_v3.7.1'}, {'TPS': {'network': 'C:\\\\Users\\\\ajshe\\\\OneDrive\\\\Documents\\\\GitterLab\\\\tps\\\\data\\\\networks\\\\input-network.tsv', 'timeseries': 'C:\\\\Users\\\\ajshe\\\\OneDrive\\\\Documents\\\\GitterLab\\\\tps\\\\data\\\\timeseries\\\\median-time-series.tsv', 'firstscores': 'C:\\\\Users\\\\ajshe\\\\OneDrive\\\\Documents\\\\GitterLab\\\\tps\\\\data\\\\timeseries\\\\p-values-first.tsv', 'prevscores': 'C:\\\\Users\\\\ajshe\\\\OneDrive\\\\Documents\\\\GitterLab\\\\tps\\\\data\\\\timeseries\\\\p-values-prev.tsv', 'partialmodel': 'C:\\\\Users\\\\ajshe\\\\OneDrive\\\\Documents\\\\GitterLab\\\\tps\\\\data\\\\resources\\\\kinase-substrate-interactions.sif', 'peptidemap': 'C:\\\\Users\\\\ajshe\\\\OneDrive\\\\Documents\\\\GitterLab\\\\tps\\\\data\\\\timeseries\\\\peptide-mapping.tsv', 'source': 'EGF_HUMAN', 'threshold': 0.01}}, {'Annotations': {'peptideMapFile': 'C:\\\\Users\\\\ajshe\\\\OneDrive\\\\Documents\\\\GitterLab\\\\tps\\\\data\\\\timeseries\\\\peptide-mapping.tsv', 'timeSeriesFile': 'C:\\\\Users\\\\ajshe\\\\OneDrive\\\\Documents\\\\GitterLab\\\\tps\\\\data\\\\timeseries\\\\log2-fold-change.txt', 'peptideFirstScores': 'C:\\\\Users\\\\ajshe\\\\OneDrive\\\\Documents\\\\GitterLab\\\\tps\\\\data\\\\timeseries\\\\p-values-first.tsv', 'peptidePrevScoreFile': 'C:\\\\Users\\\\ajshe\\\\OneDrive\\\\Documents\\\\GitterLab\\\\tps\\\\data\\\\timeseries\\\\p-values-prev.tsv', 'windowsFile': 'output_placeholder', 'networkFile': 'output_placeholder', 'goldStandardFile': 'C:\\\\Users\\\\ajshe\\\\OneDrive\\\\Documents\\\\GitterLab\\\\tps\\\\data\\\\resources\\\\eight-egfr-reference-all.txt', 'pvalTresh': 0.01, 'logTransform': False, 'styleTemplateFile': 'C:\\\\Users\\\\ajshe\\\\OneDrive\\\\Documents\\\\GitterLab\\\\tps\\\\data\\\\templates\\\\tps_style_template.xml', 'outAnnotFile': 'annotations_output', 'outStyleFile': 'style_output', 'addZero': True}}]\n"
     ]
    }
   ],
   "source": [
    "import yaml\n",
    "\n",
    "with open(\"config.yml\", 'r') as stream:\n",
    "    try:\n",
    "        y = yaml.safe_load(stream)\n",
    "        print(y)\n",
    "    except yaml.YAMLError as exc:\n",
    "        print(exc)"
   ]
  },
  {
   "cell_type": "code",
   "execution_count": 41,
   "metadata": {},
   "outputs": [
    {
     "data": {
      "text/plain": [
       "{'TPS': {'network': 'C:\\\\Users\\\\ajshe\\\\OneDrive\\\\Documents\\\\GitterLab\\\\tps\\\\data\\\\networks\\\\input-network.tsv',\n",
       "  'timeseries': 'C:\\\\Users\\\\ajshe\\\\OneDrive\\\\Documents\\\\GitterLab\\\\tps\\\\data\\\\timeseries\\\\median-time-series.tsv',\n",
       "  'firstscores': 'C:\\\\Users\\\\ajshe\\\\OneDrive\\\\Documents\\\\GitterLab\\\\tps\\\\data\\\\timeseries\\\\p-values-first.tsv',\n",
       "  'prevscores': 'C:\\\\Users\\\\ajshe\\\\OneDrive\\\\Documents\\\\GitterLab\\\\tps\\\\data\\\\timeseries\\\\p-values-prev.tsv',\n",
       "  'partialmodel': 'C:\\\\Users\\\\ajshe\\\\OneDrive\\\\Documents\\\\GitterLab\\\\tps\\\\data\\\\resources\\\\kinase-substrate-interactions.sif',\n",
       "  'peptidemap': 'C:\\\\Users\\\\ajshe\\\\OneDrive\\\\Documents\\\\GitterLab\\\\tps\\\\data\\\\timeseries\\\\peptide-mapping.tsv',\n",
       "  'source': 'EGF_HUMAN',\n",
       "  'threshold': 0.01}}"
      ]
     },
     "execution_count": 41,
     "metadata": {},
     "output_type": "execute_result"
    }
   ],
   "source": [
    "y[1]"
   ]
  },
  {
   "cell_type": "code",
   "execution_count": null,
   "metadata": {},
   "outputs": [],
   "source": []
  }
 ],
 "metadata": {
  "kernelspec": {
   "display_name": "py2cyto_environment",
   "language": "python",
   "name": "py2cyto_environment"
  },
  "language_info": {
   "codemirror_mode": {
    "name": "ipython",
    "version": 3
   },
   "file_extension": ".py",
   "mimetype": "text/x-python",
   "name": "python",
   "nbconvert_exporter": "python",
   "pygments_lexer": "ipython3",
   "version": "3.6.11"
  },
  "toc": {
   "base_numbering": 1,
   "nav_menu": {},
   "number_sections": true,
   "sideBar": true,
   "skip_h1_title": false,
   "title_cell": "Table of Contents",
   "title_sidebar": "Contents",
   "toc_cell": false,
   "toc_position": {},
   "toc_section_display": true,
   "toc_window_display": false
  }
 },
 "nbformat": 4,
 "nbformat_minor": 2
}
