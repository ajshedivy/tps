{
 "cells": [
  {
   "cell_type": "code",
   "execution_count": 24,
   "metadata": {
    "ExecuteTime": {
     "end_time": "2020-07-15T19:46:55.317729Z",
     "start_time": "2020-07-15T19:46:55.313823Z"
    }
   },
   "outputs": [],
   "source": [
    "import yaml\n",
    "import pprint"
   ]
  },
  {
   "cell_type": "code",
   "execution_count": 65,
   "metadata": {
    "ExecuteTime": {
     "end_time": "2020-07-15T22:16:58.966911Z",
     "start_time": "2020-07-15T22:16:58.950319Z"
    }
   },
   "outputs": [
    {
     "name": "stdout",
     "output_type": "stream",
     "text": [
      "[{'Cytoscape': 'C:\\\\Users\\\\ajshe\\\\OneDrive\\\\Documents\\\\Comp_bio\\\\Cytoscape_v3.7.1'},\n",
      " {'TPS': {'firstscores': 'C:\\\\Users\\\\ajshe\\\\Anaconda3\\\\envs\\\\py2cyto\\\\tps\\\\data\\\\timeseries\\\\p-values-first.tsv',\n",
      "          'network': 'C:\\\\Users\\\\ajshe\\\\Anaconda3\\\\envs\\\\py2cyto\\\\tps\\\\data\\\\networks\\\\input-network.tsv',\n",
      "          'partialmodel': 'C:\\\\Users\\\\ajshe\\\\Anaconda3\\\\envs\\\\py2cyto\\\\tps\\\\data\\\\resources\\\\kinase-substrate-interactions.sif',\n",
      "          'peptidemap': 'C:\\\\Users\\\\ajshe\\\\Anaconda3\\\\envs\\\\py2cyto\\\\tps\\\\data\\\\timeseries\\\\peptide-mapping.tsv',\n",
      "          'prevscores': 'C:\\\\Users\\\\ajshe\\\\Anaconda3\\\\envs\\\\py2cyto\\\\tps\\\\data\\\\timeseries\\\\p-values-prev.tsv',\n",
      "          'source': 'EGF_HUMAN',\n",
      "          'threshold': 0.01,\n",
      "          'timeseries': 'C:\\\\Users\\\\ajshe\\\\Anaconda3\\\\envs\\\\py2cyto\\\\tps\\\\data\\\\timeseries\\\\median-time-series.tsv'}},\n",
      " {'Annotations': {'addZero': True,\n",
      "                  'goldStandardFile': 'C:\\\\Users\\\\ajshe\\\\Anaconda3\\\\envs\\\\py2cyto\\\\tps\\\\data\\\\resources\\\\eight-egfr-reference-all.txt',\n",
      "                  'logTransform': False,\n",
      "                  'networkFile': 'output_placeholder',\n",
      "                  'outAnnotFile': 'annotations_output',\n",
      "                  'outStyleFile': 'style_output',\n",
      "                  'peptideFirstScores': 'C:\\\\Users\\\\ajshe\\\\Anaconda3\\\\envs\\\\py2cyto\\\\tps\\\\data\\\\timeseries\\\\p-values-first.tsv',\n",
      "                  'peptideMapFile': 'C:\\\\Users\\\\ajshe\\\\Anaconda3\\\\envs\\\\py2cyto\\\\tps\\\\data\\\\timeseries\\\\peptide-mapping.tsv',\n",
      "                  'peptidePrevScoreFile': 'C:\\\\Users\\\\ajshe\\\\Anaconda3\\\\envs\\\\py2cyto\\\\tps\\\\data\\\\timeseries\\\\p-values-prev.tsv',\n",
      "                  'pvalTresh': 0.01,\n",
      "                  'styleTemplateFile': 'C:\\\\Users\\\\ajshe\\\\Anaconda3\\\\envs\\\\py2cyto\\\\tps\\\\data\\\\templates\\\\tps_style_template.xml',\n",
      "                  'timeSeriesFile': 'C:\\\\Users\\\\ajshe\\\\Anaconda3\\\\envs\\\\py2cyto\\\\tps\\\\data\\\\timeseries\\\\log2-fold-change.txt',\n",
      "                  'windowsFile': 'output_placeholder'}}]\n"
     ]
    }
   ],
   "source": [
    "with open(\"config.yaml\") as config:\n",
    "    param_list = yaml.load(config)\n",
    "\n",
    "\n",
    "pprint.pprint(param_list)"
   ]
  },
  {
   "cell_type": "code",
   "execution_count": 52,
   "metadata": {
    "ExecuteTime": {
     "end_time": "2020-07-15T21:47:45.063283Z",
     "start_time": "2020-07-15T21:47:45.053490Z"
    }
   },
   "outputs": [],
   "source": [
    "pass_arg = []\n",
    "a  = param_list[1]['TPS']['network']\n",
    "b =param_list[1]['TPS']['timeseries']\n",
    "c =param_list[1]['TPS']['firstscores']\n",
    "d  = param_list[1]['TPS']['prevscores']\n",
    "e = param_list[1]['TPS']['partialmodel']\n",
    "f= param_list[1]['TPS']['peptidemap']\n",
    "g  = param_list[1]['TPS']['source']\n",
    "h = param_list[1]['TPS']['threshold']\n"
   ]
  },
  {
   "cell_type": "code",
   "execution_count": 57,
   "metadata": {
    "ExecuteTime": {
     "end_time": "2020-07-15T21:55:33.993743Z",
     "start_time": "2020-07-15T21:55:20.815228Z"
    }
   },
   "outputs": [
    {
     "data": {
      "text/plain": [
       "0"
      ]
     },
     "execution_count": 57,
     "metadata": {},
     "output_type": "execute_result"
    }
   ],
   "source": [
    "import subprocess\n",
    "\n",
    "subprocess.check_call([r'C:\\Users\\ajshe\\Anaconda3\\envs\\py2cyto\\tps\\run_tps.sh', a, b, c, d, e, f, g ], shell=True)\n",
    "\n",
    "# move files into folders\n",
    "# run annotations scripts"
   ]
  },
  {
   "cell_type": "code",
   "execution_count": 60,
   "metadata": {
    "ExecuteTime": {
     "end_time": "2020-07-15T21:59:15.548655Z",
     "start_time": "2020-07-15T21:59:15.543736Z"
    }
   },
   "outputs": [
    {
     "data": {
      "text/plain": [
       "'C:\\\\Users\\\\ajshe\\\\Anaconda3\\\\envs\\\\py2cyto\\\\tps\\\\data\\\\resources\\\\kinase-substrate-interactions.sif'"
      ]
     },
     "execution_count": 60,
     "metadata": {},
     "output_type": "execute_result"
    }
   ],
   "source": [
    "import os\n",
    "\n",
    "os.path.abspath('data/resources/kinase-substrate-interactions.sif')"
   ]
  },
  {
   "cell_type": "code",
   "execution_count": 73,
   "metadata": {
    "ExecuteTime": {
     "end_time": "2020-07-15T22:23:48.985965Z",
     "start_time": "2020-07-15T22:23:48.979097Z"
    }
   },
   "outputs": [
    {
     "name": "stdout",
     "output_type": "stream",
     "text": [
      "source :  EGF_HUMAN\n",
      "firstscores :  C:\\Users\\ajshe\\Anaconda3\\envs\\py2cyto\\tps\\data\\timeseries\\p-values-first.tsv\n",
      "threshold :  0.01\n",
      "prevscores :  C:\\Users\\ajshe\\Anaconda3\\envs\\py2cyto\\tps\\data\\timeseries\\p-values-prev.tsv\n",
      "timeseries :  C:\\Users\\ajshe\\Anaconda3\\envs\\py2cyto\\tps\\data\\timeseries\\median-time-series.tsv\n",
      "partialmodel :  C:\\Users\\ajshe\\Anaconda3\\envs\\py2cyto\\tps\\data\\resources\\kinase-substrate-interactions.sif\n",
      "network :  C:\\Users\\ajshe\\Anaconda3\\envs\\py2cyto\\tps\\data\\networks\\input-network.tsv\n",
      "peptidemap :  C:\\Users\\ajshe\\Anaconda3\\envs\\py2cyto\\tps\\data\\timeseries\\peptide-mapping.tsv\n",
      "goldStandardFile :  C:\\Users\\ajshe\\Anaconda3\\envs\\py2cyto\\tps\\data\\resources\\eight-egfr-reference-all.txt\n",
      "networkFile :  output_placeholder\n",
      "pvalTresh :  0.01\n",
      "peptideMapFile :  C:\\Users\\ajshe\\Anaconda3\\envs\\py2cyto\\tps\\data\\timeseries\\peptide-mapping.tsv\n",
      "outStyleFile :  style_output\n",
      "timeSeriesFile :  C:\\Users\\ajshe\\Anaconda3\\envs\\py2cyto\\tps\\data\\timeseries\\log2-fold-change.txt\n",
      "styleTemplateFile :  C:\\Users\\ajshe\\Anaconda3\\envs\\py2cyto\\tps\\data\\templates\\tps_style_template.xml\n",
      "peptideFirstScores :  C:\\Users\\ajshe\\Anaconda3\\envs\\py2cyto\\tps\\data\\timeseries\\p-values-first.tsv\n",
      "windowsFile :  output_placeholder\n",
      "peptidePrevScoreFile :  C:\\Users\\ajshe\\Anaconda3\\envs\\py2cyto\\tps\\data\\timeseries\\p-values-prev.tsv\n",
      "outAnnotFile :  annotations_output\n",
      "logTransform :  False\n",
      "addZero :  True\n"
     ]
    }
   ],
   "source": [
    "for i in param_list[1]['TPS']:\n",
    "    print(i, \": \", param_list[1]['TPS'][i])\n",
    "    \n",
    "for j in param_list[2]['Annotations']:\n",
    "    print(j, \": \", param_list[2]['Annotations'][j])"
   ]
  },
  {
   "cell_type": "code",
   "execution_count": null,
   "metadata": {},
   "outputs": [],
   "source": []
  }
 ],
 "metadata": {
  "kernelspec": {
   "display_name": "py2cyto-sandbox",
   "language": "python",
   "name": "py2cyto-sandbox"
  },
  "language_info": {
   "codemirror_mode": {
    "name": "ipython",
    "version": 3
   },
   "file_extension": ".py",
   "mimetype": "text/x-python",
   "name": "python",
   "nbconvert_exporter": "python",
   "pygments_lexer": "ipython3",
   "version": "3.5.4"
  },
  "toc": {
   "base_numbering": 1,
   "nav_menu": {},
   "number_sections": true,
   "sideBar": true,
   "skip_h1_title": false,
   "title_cell": "Table of Contents",
   "title_sidebar": "Contents",
   "toc_cell": false,
   "toc_position": {},
   "toc_section_display": true,
   "toc_window_display": false
  }
 },
 "nbformat": 4,
 "nbformat_minor": 2
}
