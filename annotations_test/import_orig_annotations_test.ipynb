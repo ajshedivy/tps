{
 "cells": [
  {
   "cell_type": "code",
   "execution_count": 1,
   "metadata": {
    "ExecuteTime": {
     "end_time": "2020-06-05T20:55:11.542970Z",
     "start_time": "2020-06-05T20:55:05.563959Z"
    }
   },
   "outputs": [
    {
     "name": "stderr",
     "output_type": "stream",
     "text": [
      "C:\\Users\\ajshe\\Anaconda3\\envs\\py2cyto_sandbox\\lib\\site-packages\\py2cytoscape\\util\\util_networkx.py:13: UserWarning: \n",
      "\n",
      "\n",
      "**** util.util_networkx will be deprecated in the next py2cytoscape release. ****\n",
      "\n",
      "\n",
      "\n",
      "  '\\n\\n\\n**** util.util_networkx will be deprecated in the next py2cytoscape release. ****\\n\\n\\n')\n",
      "C:\\Users\\ajshe\\Anaconda3\\envs\\py2cyto_sandbox\\lib\\site-packages\\py2cytoscape\\util\\util_graphlab.py:2: UserWarning: \n",
      "\n",
      "\n",
      "**** util.util_graphlab will be deprecated in the next py2cytoscape release. ****\n",
      "\n",
      "\n",
      "\n",
      "  warnings.warn('\\n\\n\\n**** util.util_graphlab will be deprecated in the next py2cytoscape release. ****\\n\\n\\n')\n",
      "C:\\Users\\ajshe\\Anaconda3\\envs\\py2cyto_sandbox\\lib\\site-packages\\py2cytoscape\\util\\util_igraph.py:9: UserWarning: \n",
      "\n",
      "\n",
      "**** util.util_igraph will be deprecated in the next py2cytoscape release. ****\n",
      "\n",
      "\n",
      "\n",
      "  warnings.warn('\\n\\n\\n**** util.util_igraph will be deprecated in the next py2cytoscape release. ****\\n\\n\\n')\n",
      "C:\\Users\\ajshe\\Anaconda3\\envs\\py2cyto_sandbox\\lib\\site-packages\\py2cytoscape\\util\\__init__.py:14: UserWarning: \n",
      "\n",
      "\n",
      "**** util will be deprecated in the next py2cytoscape release. ****\n",
      "\n",
      "\n",
      "\n",
      "  warnings.warn('\\n\\n\\n**** util will be deprecated in the next py2cytoscape release. ****\\n\\n\\n')\n",
      "C:\\Users\\ajshe\\Anaconda3\\envs\\py2cyto_sandbox\\lib\\site-packages\\py2cytoscape\\util\\cytoscapejs.py:5: UserWarning: \n",
      "\n",
      "\n",
      "**** util.cytoscapejs will be deprecated in the next py2cytoscape release. ****\n",
      "\n",
      "\n",
      "\n",
      "  warnings.warn('\\n\\n\\n**** util.cytoscapejs will be deprecated in the next py2cytoscape release. ****\\n\\n\\n')\n",
      "C:\\Users\\ajshe\\Anaconda3\\envs\\py2cyto_sandbox\\lib\\site-packages\\py2cytoscape\\util\\util_dataframe.py:6: UserWarning: \n",
      "\n",
      "\n",
      "**** util.util_dataframe will be deprecated in the next py2cytoscape release. ****\n",
      "\n",
      "\n",
      "\n",
      "  warnings.warn('\\n\\n\\n**** util.util_dataframe will be deprecated in the next py2cytoscape release. ****\\n\\n\\n')\n",
      "C:\\Users\\ajshe\\Anaconda3\\envs\\py2cyto_sandbox\\lib\\site-packages\\py2cytoscape\\util\\util_numpy.py:4: UserWarning: \n",
      "\n",
      "\n",
      "**** util.util_numpy will be deprecated in the next py2cytoscape release. ****\n",
      "\n",
      "\n",
      "\n",
      "  warnings.warn('\\n\\n\\n**** util.util_numpy will be deprecated in the next py2cytoscape release. ****\\n\\n\\n')\n",
      "C:\\Users\\ajshe\\Anaconda3\\envs\\py2cyto_sandbox\\lib\\site-packages\\py2cytoscape\\data\\base_view.py:8: UserWarning: \n",
      "\n",
      "\n",
      "**** data.base_view will be deprecated in the next py2cytoscape release. ****\n",
      "\n",
      "\n",
      "\n",
      "  warnings.warn('\\n\\n\\n**** data.base_view will be deprecated in the next py2cytoscape release. ****\\n\\n\\n')\n",
      "C:\\Users\\ajshe\\Anaconda3\\envs\\py2cyto_sandbox\\lib\\site-packages\\py2cytoscape\\data\\edge_view.py:8: UserWarning: \n",
      "\n",
      "\n",
      "**** data.edge_view will be deprecated in the next py2cytoscape release. ****\n",
      "\n",
      "\n",
      "\n",
      "  warnings.warn('\\n\\n\\n**** data.edge_view will be deprecated in the next py2cytoscape release. ****\\n\\n\\n')\n",
      "C:\\Users\\ajshe\\Anaconda3\\envs\\py2cyto_sandbox\\lib\\site-packages\\py2cytoscape\\data\\node_view.py:10: UserWarning: \n",
      "\n",
      "\n",
      "**** data.node_view will be deprecated in the next py2cytoscape release. ****\n",
      "\n",
      "\n",
      "\n",
      "  warnings.warn('\\n\\n\\n**** data.node_view will be deprecated in the next py2cytoscape release. ****\\n\\n\\n')\n",
      "C:\\Users\\ajshe\\Anaconda3\\envs\\py2cyto_sandbox\\lib\\site-packages\\py2cytoscape\\data\\util_network.py:4: UserWarning: \n",
      "\n",
      "\n",
      "**** data.util_network will be deprecated in the next py2cytoscape release. ****\n",
      "\n",
      "\n",
      "\n",
      "  warnings.warn('\\n\\n\\n**** data.util_network will be deprecated in the next py2cytoscape release. ****\\n\\n\\n')\n",
      "C:\\Users\\ajshe\\Anaconda3\\envs\\py2cyto_sandbox\\lib\\site-packages\\py2cytoscape\\data\\util_http.py:4: UserWarning: \n",
      "\n",
      "\n",
      "**** data.util_http will be deprecated in the next py2cytoscape release. ****\n",
      "\n",
      "\n",
      "\n",
      "  warnings.warn('\\n\\n\\n**** data.util_http will be deprecated in the next py2cytoscape release. ****\\n\\n\\n')\n",
      "C:\\Users\\ajshe\\Anaconda3\\envs\\py2cyto_sandbox\\lib\\site-packages\\py2cytoscape\\data\\network_view.py:17: UserWarning: \n",
      "\n",
      "\n",
      "**** data.network_view will be deprecated in the next py2cytoscape release. ****\n",
      "\n",
      "\n",
      "\n",
      "  warnings.warn('\\n\\n\\n**** data.network_view will be deprecated in the next py2cytoscape release. ****\\n\\n\\n')\n",
      "C:\\Users\\ajshe\\Anaconda3\\envs\\py2cyto_sandbox\\lib\\site-packages\\py2cytoscape\\data\\cynetwork.py:14: UserWarning: \n",
      "\n",
      "\n",
      "**** data.cynetwork will be deprecated in the next py2cytoscape release. ****\n",
      "\n",
      "\n",
      "\n",
      "  warnings.warn('\\n\\n\\n**** data.cynetwork will be deprecated in the next py2cytoscape release. ****\\n\\n\\n')\n",
      "C:\\Users\\ajshe\\Anaconda3\\envs\\py2cyto_sandbox\\lib\\site-packages\\py2cytoscape\\data\\network_client.py:20: UserWarning: \n",
      "\n",
      "\n",
      "**** data.network_client will be deprecated in the next py2cytoscape release. ****\n",
      "\n",
      "\n",
      "\n",
      "  warnings.warn('\\n\\n\\n**** data.network_client will be deprecated in the next py2cytoscape release. ****\\n\\n\\n')\n",
      "C:\\Users\\ajshe\\Anaconda3\\envs\\py2cyto_sandbox\\lib\\site-packages\\py2cytoscape\\data\\style.py:7: UserWarning: \n",
      "\n",
      "\n",
      "**** data.style will be deprecated in the next py2cytoscape release. ****\n",
      "\n",
      "\n",
      "\n",
      "  warnings.warn('\\n\\n\\n**** data.style will be deprecated in the next py2cytoscape release. ****\\n\\n\\n')\n",
      "C:\\Users\\ajshe\\Anaconda3\\envs\\py2cyto_sandbox\\lib\\site-packages\\py2cytoscape\\data\\style_client.py:10: UserWarning: \n",
      "\n",
      "\n",
      "**** data.style_client will be deprecated in the next py2cytoscape release. ****\n",
      "\n",
      "\n",
      "\n",
      "  warnings.warn('\\n\\n\\n**** data.style_client will be deprecated in the next py2cytoscape release. ****\\n\\n\\n')\n",
      "C:\\Users\\ajshe\\Anaconda3\\envs\\py2cyto_sandbox\\lib\\site-packages\\py2cytoscape\\data\\algorithm_client.py:4: UserWarning: \n",
      "\n",
      "\n",
      "**** data.algorithm_client will be deprecated in the next py2cytoscape release. ****\n",
      "\n",
      "\n",
      "\n",
      "  warnings.warn('\\n\\n\\n**** data.algorithm_client will be deprecated in the next py2cytoscape release. ****\\n\\n\\n')\n",
      "C:\\Users\\ajshe\\Anaconda3\\envs\\py2cyto_sandbox\\lib\\site-packages\\py2cytoscape\\data\\session_client.py:4: UserWarning: \n",
      "\n",
      "\n",
      "**** data.session_client will be deprecated in the next py2cytoscape release. ****\n",
      "\n",
      "\n",
      "\n",
      "  warnings.warn('\\n\\n\\n**** data.session_client will be deprecated in the next py2cytoscape release. ****\\n\\n\\n')\n",
      "C:\\Users\\ajshe\\Anaconda3\\envs\\py2cyto_sandbox\\lib\\site-packages\\py2cytoscape\\data\\cyrest_client.py:13: UserWarning: \n",
      "\n",
      "\n",
      "**** data.cyrest_client will be deprecated in the next py2cytoscape release. ****\n",
      "\n",
      "\n",
      "\n",
      "  warnings.warn('\\n\\n\\n**** data.cyrest_client will be deprecated in the next py2cytoscape release. ****\\n\\n\\n')\n"
     ]
    }
   ],
   "source": [
    "import os\n",
    "import sys\n",
    "import time\n",
    "import pandas as pd\n",
    "import numpy as np\n",
    "import matplotlib\n",
    "import matplotlib.pyplot as plt\n",
    "from py2cytoscape import cyrest\n",
    "from py2cytoscape.data.cyrest_client import CyRestClient\n",
    "from IPython.display import Image\n",
    "\n",
    "baseDir = os.path.abspath(os.path.join('..'))\n",
    "visualization_scripts = os.path.join(baseDir, 'visualization_scripts')\n",
    "sys.path.insert(1, visualization_scripts)\n",
    "%matplotlib inline"
   ]
  },
  {
   "cell_type": "code",
   "execution_count": 13,
   "metadata": {
    "ExecuteTime": {
     "end_time": "2020-06-05T20:58:21.051944Z",
     "start_time": "2020-06-05T20:58:21.045961Z"
    }
   },
   "outputs": [
    {
     "name": "stdout",
     "output_type": "stream",
     "text": [
      "C:\\Users\\ajshe\\Anaconda3\\envs\\py2cyto\\tps\n",
      "C:\\Users\\ajshe\\Anaconda3\\envs\\py2cyto\\tps\\htcondor_results\\results_reproduce_egfr_tps_051320\\output.sif\n",
      "C:\\Users\\ajshe\\Anaconda3\\envs\\py2cyto\\tps\\visualization_scripts\\tps_style.xml\n",
      "C:\\Users\\ajshe\\Anaconda3\\envs\\py2cyto\\tps\\annotations_test\\orig_refactored_annotations_0605.txt\n"
     ]
    }
   ],
   "source": [
    "print(baseDir)\n",
    "\n",
    "output = os.path.join(baseDir, 'htcondor_results', 'results_reproduce_egfr_tps_051320', 'output.sif')\n",
    "\n",
    "style = os.path.join(baseDir, 'visualization_scripts', 'tps_style.xml')\n",
    "\n",
    "annotations = r\"C:\\Users\\ajshe\\Anaconda3\\envs\\py2cyto\\tps\\annotations_test\\orig_refactored_annotations.txt\"\n",
    "\n",
    "annotations2 = r\"C:\\Users\\ajshe\\Anaconda3\\envs\\py2cyto\\tps\\annotations_test\\orig_refactored_annotations_0605.txt\"\n",
    "\n",
    "print(output)\n",
    "print(style)\n",
    "print(annotations2)"
   ]
  },
  {
   "cell_type": "code",
   "execution_count": 9,
   "metadata": {
    "ExecuteTime": {
     "end_time": "2020-06-05T20:56:39.177380Z",
     "start_time": "2020-06-05T20:56:31.031092Z"
    }
   },
   "outputs": [
    {
     "name": "stdout",
     "output_type": "stream",
     "text": [
      "---session reset\n",
      "---loading network file\n",
      "---Done\n",
      "---apply style file\n",
      "---style name:  ['TPS']\n",
      "Done! open up cytoscape session\n"
     ]
    },
    {
     "data": {
      "text/plain": [
       "{'mappedTables': [42]}"
      ]
     },
     "execution_count": 9,
     "metadata": {},
     "output_type": "execute_result"
    }
   ],
   "source": [
    "# create cyrest client\n",
    "cyy = cyrest.cyclient()\n",
    "\n",
    "# Step 1: Create py2cytoscape client\n",
    "cy = CyRestClient()\n",
    "\n",
    "# Reset\n",
    "cy.session.delete()\n",
    "print(\"---session reset\")\n",
    "\n",
    "# Step 2: Load network from somewhere\n",
    "print(\"---loading network file\")\n",
    "cy.network.create_from(output)\n",
    "print(\"---Done\")\n",
    "time.sleep(2)\n",
    "\n",
    "# Step 3: Apply layout\n",
    "# list of styles to apply\n",
    "# only contains the one style loaded from style file\n",
    "print(\"---apply style file\")\n",
    "style = cyy.vizmap.load_file(style)\n",
    "print(\"---style name: \", style)\n",
    "cyy.vizmap.apply(style[0])\n",
    "\n",
    "# add annotaions\n",
    "#cyy.table.loadTableData(bp_data, table_key_column='Protein')\n",
    "\n",
    "\n",
    "print(\"Done! open up cytoscape session\")\n",
    "#time.sleep(3)\n",
    "\n",
    "cyy.table.import_file(afile=annotations,\n",
    "                     firstRowAsColumnNames=True,\n",
    "                      keyColumnIndex='1',\n",
    "                      startLoadRow='0',\n",
    "                     dataTypeList=\"s,s,b,dl,dl,dl,dl,dl,dl,dl,dl,dl,dl,dl,dl,dl,dl,dl,dl,f,f,f,f,f,f,f,s,il,il,il,il,il,il\"\n",
    "                     )\n",
    "#cyy.cybrowser.dialog(wid='TPS', title='output', text=r\"C:\\Users\\ajshe\\Anaconda3\\envs\\py2cyto\\tps\\evaluation\\2020-05-12-and-wolf-yadlin-TPS-cytoscape\\2020-05-12-and-wolf-yadlin-TPS-cytoscape\\TPS_web\\web_session\\index.html\")\n"
   ]
  },
  {
   "cell_type": "markdown",
   "metadata": {},
   "source": [
    "## import annotations no heat map"
   ]
  },
  {
   "cell_type": "code",
   "execution_count": 14,
   "metadata": {
    "ExecuteTime": {
     "end_time": "2020-06-05T20:58:26.506189Z",
     "start_time": "2020-06-05T20:58:23.576213Z"
    }
   },
   "outputs": [
    {
     "name": "stdout",
     "output_type": "stream",
     "text": [
      "---session reset\n",
      "---loading network file\n",
      "---Done\n",
      "---apply style file\n",
      "---style name:  ['TPS']\n",
      "Done! open up cytoscape session\n"
     ]
    },
    {
     "data": {
      "text/plain": [
       "{'mappedTables': [4472]}"
      ]
     },
     "execution_count": 14,
     "metadata": {},
     "output_type": "execute_result"
    }
   ],
   "source": [
    "# create cyrest client\n",
    "cyy = cyrest.cyclient()\n",
    "\n",
    "# Step 1: Create py2cytoscape client\n",
    "cy = CyRestClient()\n",
    "\n",
    "# Reset\n",
    "cy.session.delete()\n",
    "print(\"---session reset\")\n",
    "\n",
    "# Step 2: Load network from somewhere\n",
    "print(\"---loading network file\")\n",
    "cy.network.create_from(output)\n",
    "print(\"---Done\")\n",
    "time.sleep(2)\n",
    "\n",
    "# Step 3: Apply layout\n",
    "# list of styles to apply\n",
    "# only contains the one style loaded from style file\n",
    "print(\"---apply style file\")\n",
    "style = cyy.vizmap.load_file(style)\n",
    "print(\"---style name: \", style)\n",
    "cyy.vizmap.apply(style[0])\n",
    "\n",
    "# add annotaions\n",
    "#cyy.table.loadTableData(bp_data, table_key_column='Protein')\n",
    "\n",
    "\n",
    "print(\"Done! open up cytoscape session\")\n",
    "#time.sleep(3)\n",
    "\n",
    "cyy.table.import_file(afile=annotations2,\n",
    "                     firstRowAsColumnNames=True,\n",
    "                      keyColumnIndex='1',\n",
    "                      startLoadRow='0',\n",
    "                     dataTypeList=\"s,s,b,dl,dl,dl,dl,dl,dl,dl,dl,dl,dl,dl,dl,dl,dl,dl,dl\"\n",
    "                     )\n",
    "#cyy.cybrowser.dialog(wid='TPS', title='output', text=r\"C:\\Users\\ajshe\\Anaconda3\\envs\\py2cyto\\tps\\evaluation\\2020-05-12-and-wolf-yadlin-TPS-cytoscape\\2020-05-12-and-wolf-yadlin-TPS-cytoscape\\TPS_web\\web_session\\index.html\")\n"
   ]
  },
  {
   "cell_type": "code",
   "execution_count": null,
   "metadata": {},
   "outputs": [],
   "source": []
  }
 ],
 "metadata": {
  "kernelspec": {
   "display_name": "py2cyto-sandbox",
   "language": "python",
   "name": "py2cyto-sandbox"
  },
  "language_info": {
   "codemirror_mode": {
    "name": "ipython",
    "version": 3
   },
   "file_extension": ".py",
   "mimetype": "text/x-python",
   "name": "python",
   "nbconvert_exporter": "python",
   "pygments_lexer": "ipython3",
   "version": "3.5.4"
  },
  "toc": {
   "base_numbering": 1,
   "nav_menu": {},
   "number_sections": true,
   "sideBar": true,
   "skip_h1_title": false,
   "title_cell": "Table of Contents",
   "title_sidebar": "Contents",
   "toc_cell": false,
   "toc_position": {},
   "toc_section_display": true,
   "toc_window_display": false
  }
 },
 "nbformat": 4,
 "nbformat_minor": 2
}
