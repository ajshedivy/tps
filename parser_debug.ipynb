{
 "cells": [
  {
   "cell_type": "code",
   "execution_count": 1,
   "metadata": {},
   "outputs": [],
   "source": [
    "import confuse\n",
    "import yaml\n",
    "import os"
   ]
  },
  {
   "cell_type": "code",
   "execution_count": 10,
   "metadata": {},
   "outputs": [
    {
     "data": {
      "text/plain": [
       "{'Cytoscape': {'path': 'C:\\\\Users\\\\ajshe\\\\OneDrive\\\\Documents\\\\Comp_bio\\\\Cytoscape_v3.7.1',\n",
       "  'session': 'tps_session_test.cys'},\n",
       " 'TPS': {'required': {'network': 'data/networks/input-network.tsv',\n",
       "   'timeseries': 'data/timeseries/median-time-series.tsv',\n",
       "   'firstscores': 'data/timeseries/p-values-first.tsv',\n",
       "   'prevscores': 'data/timeseries/p-values-prev.tsv',\n",
       "   'source': 'EGF_HUMAN',\n",
       "   'threshold': 0.01,\n",
       "   'outlabel': 'update-table-gen'},\n",
       "  'optional': {'partialmodel': 'data/resources/kinase-substrate-interactions.sif',\n",
       "   'peptidemap': 'data/timeseries/peptide-mapping.tsv',\n",
       "   'outfolder': 'None',\n",
       "   'solver': 'None',\n",
       "   'slack': 'None',\n",
       "   'bitvect': 'None',\n",
       "   'no-connectivity': 'None',\n",
       "   'no-temporality': 'None',\n",
       "   'no-monotonicity': 'None'}},\n",
       " 'Annotations': {'peptideMapFile': 'data/timeseries/peptide-mapping.tsv',\n",
       "  'timeSeriesFile': 'data/timeseries/log2-fold-change.txt',\n",
       "  'peptideFirstScores': 'data/timeseries/p-values-first.tsv',\n",
       "  'peptidePrevScoreFile': 'data/timeseries/p-values-prev.tsv',\n",
       "  'windowsFile': 'output_placeholder',\n",
       "  'networkFile': 'output_placeholder',\n",
       "  'goldStandardFile': 'data/resources/eight-egfr-reference-all.txt',\n",
       "  'pvalThresh': 0.01,\n",
       "  'logTransform': False,\n",
       "  'styleTemplateFile': 'data/templates/tps_style_template.xml',\n",
       "  'outAnnotFile': 'update-table=gen',\n",
       "  'outStyleFile': 'style_output.xml',\n",
       "  'addZero': True,\n",
       "  'logDefault': -1.0,\n",
       "  'repairMissing': False}}"
      ]
     },
     "execution_count": 10,
     "metadata": {},
     "output_type": "execute_result"
    }
   ],
   "source": [
    "conf = os.path.abspath('config.yaml')\n",
    "\n",
    "with open(conf) as c:\n",
    "    params = yaml.load(c, Loader = yaml.FullLoader)\n",
    "params"
   ]
  },
  {
   "cell_type": "code",
   "execution_count": 36,
   "metadata": {},
   "outputs": [
    {
     "data": {
      "text/plain": [
       "'data/networks/input-network.tsv'"
      ]
     },
     "execution_count": 36,
     "metadata": {},
     "output_type": "execute_result"
    }
   ],
   "source": [
    "params['TPS']['required']['network']"
   ]
  },
  {
   "cell_type": "code",
   "execution_count": 40,
   "metadata": {},
   "outputs": [
    {
     "name": "stdout",
     "output_type": "stream",
     "text": [
      "[]\n"
     ]
    }
   ],
   "source": [
    "r = params['TPS']['required']\n",
    "o = params['TPS']['optional']\n",
    "\n",
    "filtered = {**r, **o}\n",
    "args = {key:val for key, val in filtered.items() \n",
    "                if filtered[key] != \"None\"}\n",
    "args\n",
    "\n",
    "# grab out label (required)\n",
    "OUT_LABEL = [str(val) for key, val in args.items() if key == \"outlabel\"][0]\n",
    "\n",
    "# check for out dir (optional)\n",
    "# list will contain one item if path provided, else empty list returned \n",
    "OUT_FOLDER = [str(val) for key, val in args.items() if key == \"outfolder\"]\n",
    "print(OUT_FOLDER)\n"
   ]
  },
  {
   "cell_type": "code",
   "execution_count": 42,
   "metadata": {},
   "outputs": [
    {
     "data": {
      "text/plain": [
       "'update-table=gen'"
      ]
     },
     "execution_count": 42,
     "metadata": {},
     "output_type": "execute_result"
    }
   ],
   "source": [
    "params['Annotations'][\"outAnnotFile\"]"
   ]
  },
  {
   "cell_type": "code",
   "execution_count": null,
   "metadata": {},
   "outputs": [],
   "source": []
  }
 ],
 "metadata": {
  "kernelspec": {
   "display_name": "py2cyto_environment",
   "language": "python",
   "name": "py2cyto_environment"
  },
  "language_info": {
   "codemirror_mode": {
    "name": "ipython",
    "version": 3
   },
   "file_extension": ".py",
   "mimetype": "text/x-python",
   "name": "python",
   "nbconvert_exporter": "python",
   "pygments_lexer": "ipython3",
   "version": "3.6.11"
  },
  "toc": {
   "base_numbering": 1,
   "nav_menu": {},
   "number_sections": true,
   "sideBar": true,
   "skip_h1_title": false,
   "title_cell": "Table of Contents",
   "title_sidebar": "Contents",
   "toc_cell": false,
   "toc_position": {},
   "toc_section_display": true,
   "toc_window_display": false
  }
 },
 "nbformat": 4,
 "nbformat_minor": 4
}
